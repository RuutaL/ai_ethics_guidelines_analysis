{
 "cells": [
  {
   "cell_type": "code",
   "execution_count": 1,
   "metadata": {},
   "outputs": [],
   "source": [
    "import pandas as pd\n",
    "import gensim\n",
    "from gensim.utils import simple_preprocess\n",
    "from gensim.parsing.preprocessing import STOPWORDS\n",
    "\n",
    "from sklearn.decomposition import LatentDirichletAllocation, TruncatedSVD, NMF\n",
    "from sklearn.feature_extraction.text import CountVectorizer, TfidfVectorizer\n",
    "from sklearn.model_selection import GridSearchCV\n",
    "from pprint import pprint\n",
    "\n",
    "# Plotting tools\n",
    "import pyLDAvis\n",
    "import pyLDAvis.sklearn\n",
    "import matplotlib.pyplot as plt\n",
    "%matplotlib inline\n",
    "import numpy as np\n",
    "from gensim import corpora\n",
    "import pickle\n",
    "from gensim.models import CoherenceModel\n",
    "\n",
    "# Plotting tools\n",
    "import pyLDAvis\n",
    "import pyLDAvis.gensim  # don't skip this\n",
    "import matplotlib.pyplot as plt\n",
    "%matplotlib inline\n",
    "\n",
    "# Enable logging for gensim - optional\n",
    "import logging\n",
    "logging.basicConfig(format='%(asctime)s : %(levelname)s : %(message)s', level=logging.ERROR)\n",
    "\n",
    "import warnings\n",
    "warnings.filterwarnings(\"ignore\",category=DeprecationWarning)\n",
    "from gensim import models\n",
    "\n",
    "from gensim.models import LsiModel, HdpModel\n"
   ]
  },
  {
   "cell_type": "code",
   "execution_count": 2,
   "metadata": {},
   "outputs": [],
   "source": [
    "from contextualized_topic_models.models.ctm import CTM\n",
    "#import os\n",
    "#import pickle\n",
    "from contextualized_topic_models.utils.data_preparation import TextHandler\n",
    "from contextualized_topic_models.datasets.dataset import CTMDataset\n",
    "from contextualized_topic_models.utils.data_preparation import bert_embeddings_from_file\n",
    "from contextualized_topic_models.evaluation.measures import CoherenceNPMI"
   ]
  },
  {
   "cell_type": "markdown",
   "metadata": {},
   "source": [
    "## This is the full dataset "
   ]
  },
  {
   "cell_type": "code",
   "execution_count": 3,
   "metadata": {},
   "outputs": [],
   "source": [
    "dataset = pd.read_csv(\"/users/marion1meyers/OneDrive/lawtechlab/ethics_ai_research/full_text_dataset.csv\")"
   ]
  },
  {
   "cell_type": "code",
   "execution_count": 4,
   "metadata": {},
   "outputs": [
    {
     "data": {
      "text/html": [
       "<div>\n",
       "<style scoped>\n",
       "    .dataframe tbody tr th:only-of-type {\n",
       "        vertical-align: middle;\n",
       "    }\n",
       "\n",
       "    .dataframe tbody tr th {\n",
       "        vertical-align: top;\n",
       "    }\n",
       "\n",
       "    .dataframe thead th {\n",
       "        text-align: right;\n",
       "    }\n",
       "</style>\n",
       "<table border=\"1\" class=\"dataframe\">\n",
       "  <thead>\n",
       "    <tr style=\"text-align: right;\">\n",
       "      <th></th>\n",
       "      <th>name</th>\n",
       "      <th>text</th>\n",
       "    </tr>\n",
       "  </thead>\n",
       "  <tbody>\n",
       "    <tr>\n",
       "      <th>0</th>\n",
       "      <td>R12.pdf</td>\n",
       "      <td>DISCUSSION PAPER ON ARTIFICIAL INTELLIGENCE (A...</td>\n",
       "    </tr>\n",
       "    <tr>\n",
       "      <th>1</th>\n",
       "      <td>R13.pdf</td>\n",
       "      <td>DISCUSSION PAPER ON ARTIFICIAL INTELLIGENCE (A...</td>\n",
       "    </tr>\n",
       "    <tr>\n",
       "      <th>2</th>\n",
       "      <td>R39.pdf</td>\n",
       "      <td>Guidance\\n\\nCode of conduct for data-\\ndriven ...</td>\n",
       "    </tr>\n",
       "    <tr>\n",
       "      <th>3</th>\n",
       "      <td>R11.pdf</td>\n",
       "      <td>...</td>\n",
       "    </tr>\n",
       "    <tr>\n",
       "      <th>4</th>\n",
       "      <td>R10.pdf</td>\n",
       "      <td>Privacy and Freedom of Expression in the Age ...</td>\n",
       "    </tr>\n",
       "  </tbody>\n",
       "</table>\n",
       "</div>"
      ],
      "text/plain": [
       "      name                                               text\n",
       "0  R12.pdf  DISCUSSION PAPER ON ARTIFICIAL INTELLIGENCE (A...\n",
       "1  R13.pdf  DISCUSSION PAPER ON ARTIFICIAL INTELLIGENCE (A...\n",
       "2  R39.pdf  Guidance\\n\\nCode of conduct for data-\\ndriven ...\n",
       "3  R11.pdf                                                ...\n",
       "4  R10.pdf   Privacy and Freedom of Expression in the Age ..."
      ]
     },
     "execution_count": 4,
     "metadata": {},
     "output_type": "execute_result"
    }
   ],
   "source": [
    "dataset.head()"
   ]
  },
  {
   "cell_type": "code",
   "execution_count": 5,
   "metadata": {},
   "outputs": [],
   "source": [
    "failed_pdf = dataset[dataset['text'].isnull()]"
   ]
  },
  {
   "cell_type": "code",
   "execution_count": 6,
   "metadata": {},
   "outputs": [
    {
     "data": {
      "text/html": [
       "<div>\n",
       "<style scoped>\n",
       "    .dataframe tbody tr th:only-of-type {\n",
       "        vertical-align: middle;\n",
       "    }\n",
       "\n",
       "    .dataframe tbody tr th {\n",
       "        vertical-align: top;\n",
       "    }\n",
       "\n",
       "    .dataframe thead th {\n",
       "        text-align: right;\n",
       "    }\n",
       "</style>\n",
       "<table border=\"1\" class=\"dataframe\">\n",
       "  <thead>\n",
       "    <tr style=\"text-align: right;\">\n",
       "      <th></th>\n",
       "      <th>name</th>\n",
       "      <th>text</th>\n",
       "    </tr>\n",
       "  </thead>\n",
       "  <tbody>\n",
       "  </tbody>\n",
       "</table>\n",
       "</div>"
      ],
      "text/plain": [
       "Empty DataFrame\n",
       "Columns: [name, text]\n",
       "Index: []"
      ]
     },
     "execution_count": 6,
     "metadata": {},
     "output_type": "execute_result"
    }
   ],
   "source": [
    "failed_pdf.head()"
   ]
  },
  {
   "cell_type": "code",
   "execution_count": 7,
   "metadata": {},
   "outputs": [],
   "source": [
    "dataset = dataset[~dataset['text'].isnull()]"
   ]
  },
  {
   "cell_type": "markdown",
   "metadata": {},
   "source": [
    "## This is the lemmatized version of the data set"
   ]
  },
  {
   "cell_type": "code",
   "execution_count": 15,
   "metadata": {},
   "outputs": [],
   "source": [
    "lemmatized_dataset = pd.read_csv(\"/users/marion1meyers/OneDrive/lawtechlab/ethics_ai_research/lemmatized_dataset.csv\")\n",
    "del lemmatized_dataset['Unnamed: 0']"
   ]
  },
  {
   "cell_type": "code",
   "execution_count": 16,
   "metadata": {},
   "outputs": [
    {
     "data": {
      "text/html": [
       "<div>\n",
       "<style scoped>\n",
       "    .dataframe tbody tr th:only-of-type {\n",
       "        vertical-align: middle;\n",
       "    }\n",
       "\n",
       "    .dataframe tbody tr th {\n",
       "        vertical-align: top;\n",
       "    }\n",
       "\n",
       "    .dataframe thead th {\n",
       "        text-align: right;\n",
       "    }\n",
       "</style>\n",
       "<table border=\"1\" class=\"dataframe\">\n",
       "  <thead>\n",
       "    <tr style=\"text-align: right;\">\n",
       "      <th></th>\n",
       "      <th>name</th>\n",
       "      <th>text</th>\n",
       "    </tr>\n",
       "  </thead>\n",
       "  <tbody>\n",
       "    <tr>\n",
       "      <th>0</th>\n",
       "      <td>R12.pdf</td>\n",
       "      <td>ability ability able able able able acceptance...</td>\n",
       "    </tr>\n",
       "    <tr>\n",
       "      <th>1</th>\n",
       "      <td>R13.pdf</td>\n",
       "      <td>ability ability able able able able acceptance...</td>\n",
       "    </tr>\n",
       "    <tr>\n",
       "      <th>2</th>\n",
       "      <td>R39.pdf</td>\n",
       "      <td>abide ability able academia academic acceptabl...</td>\n",
       "    </tr>\n",
       "    <tr>\n",
       "      <th>3</th>\n",
       "      <td>R11.pdf</td>\n",
       "      <td>able able abuse abuse abuse abuse academic aca...</td>\n",
       "    </tr>\n",
       "    <tr>\n",
       "      <th>4</th>\n",
       "      <td>R10.pdf</td>\n",
       "      <td>ability ability ability ability ability abilit...</td>\n",
       "    </tr>\n",
       "  </tbody>\n",
       "</table>\n",
       "</div>"
      ],
      "text/plain": [
       "      name                                               text\n",
       "0  R12.pdf  ability ability able able able able acceptance...\n",
       "1  R13.pdf  ability ability able able able able acceptance...\n",
       "2  R39.pdf  abide ability able academia academic acceptabl...\n",
       "3  R11.pdf  able able abuse abuse abuse abuse academic aca...\n",
       "4  R10.pdf  ability ability ability ability ability abilit..."
      ]
     },
     "execution_count": 16,
     "metadata": {},
     "output_type": "execute_result"
    }
   ],
   "source": [
    "lemmatized_dataset.head()"
   ]
  },
  {
   "cell_type": "code",
   "execution_count": 17,
   "metadata": {},
   "outputs": [],
   "source": [
    "lemmatized_dataset = lemmatized_dataset[~lemmatized_dataset['text'].isnull()]"
   ]
  },
  {
   "cell_type": "code",
   "execution_count": 18,
   "metadata": {},
   "outputs": [
    {
     "data": {
      "text/plain": [
       "(118, 2)"
      ]
     },
     "execution_count": 18,
     "metadata": {},
     "output_type": "execute_result"
    }
   ],
   "source": [
    "lemmatized_dataset.shape"
   ]
  },
  {
   "cell_type": "markdown",
   "metadata": {},
   "source": [
    "### Helper methods used in the contextualized topic model section"
   ]
  },
  {
   "cell_type": "code",
   "execution_count": 19,
   "metadata": {},
   "outputs": [],
   "source": [
    "def read_dataset(dataset_path, lemm_dataset_path):\n",
    "    # ## This is the full dataset\n",
    "    dataset = pd.read_csv(dataset_path)\n",
    "    dataset = dataset[~dataset['text'].isnull()]\n",
    "\n",
    "    failed_pdf = dataset[dataset['text'].isnull()]\n",
    "    print('failed documents : '+str(failed_pdf.shape))\n",
    "\n",
    "    \n",
    "\n",
    "    # ## This is the lemmatized version of the data set\n",
    "    lemmatized_dataset = pd.read_csv(lemm_dataset_path)\n",
    "\n",
    "    lemmatized_dataset = lemmatized_dataset[~lemmatized_dataset['text'].isnull()]\n",
    "\n",
    "    return dataset, lemmatized_dataset"
   ]
  },
  {
   "cell_type": "code",
   "execution_count": 20,
   "metadata": {},
   "outputs": [],
   "source": [
    "def convert_dataset(dataset):\n",
    "    text_data = []\n",
    "    for text in dataset['text']:\n",
    "        tokens = text.split(\" \")\n",
    "        # print(len(tokens))\n",
    "        new_tokens = []\n",
    "        for token in tokens:\n",
    "            if len(token) >= 3:  # and token not in ['technology', 'artificial', 'intelligence', 'datum']:\n",
    "                new_tokens.append(token)\n",
    "        text_data.append(new_tokens)\n",
    "    \"\"\"with open('dataset.csv') as f:\n",
    "        for line in f:\n",
    "            tokens = prepare_text_for_lda(line)\n",
    "            if random.random() > .99:\n",
    "                print(tokens)\n",
    "                text_data.append(tokens)\"\"\"\n",
    "\n",
    "    dictionary = corpora.Dictionary(text_data)\n",
    "    corpus = [dictionary.doc2bow(text) for text in text_data]\n",
    "    return dictionary, corpus, text_data\n"
   ]
  },
  {
   "cell_type": "markdown",
   "metadata": {},
   "source": [
    "# LDA model using sklearn"
   ]
  },
  {
   "cell_type": "code",
   "execution_count": 21,
   "metadata": {},
   "outputs": [],
   "source": [
    "count_vectorizer_lemm = CountVectorizer()\n",
    "td_idf_vectorizer_lemm = TfidfVectorizer(min_df=1)\n",
    "word_counts_lemm = count_vectorizer_lemm.fit_transform(lemmatized_dataset['text'].values)\n",
    "td_idfs_lemm = td_idf_vectorizer_lemm.fit_transform(lemmatized_dataset['text'].values)"
   ]
  },
  {
   "cell_type": "code",
   "execution_count": 22,
   "metadata": {},
   "outputs": [],
   "source": [
    "td_idfs_feature_names = td_idf_vectorizer_lemm.get_feature_names()\n",
    "word_count_feature_names = count_vectorizer_lemm.get_feature_names()"
   ]
  },
  {
   "cell_type": "markdown",
   "metadata": {},
   "source": [
    "#### here i was trying to delete the words that were appearing either in nearly all documents, either in none. So far, this gave really weird results when running the LDA but it might just be a simple coding mistake. "
   ]
  },
  {
   "cell_type": "code",
   "execution_count": 260,
   "metadata": {},
   "outputs": [],
   "source": [
    "#get tfidf vector for first document\n",
    "#first_document_vector=tf_idf_vector[0]\n",
    "\n",
    "#print the scores\n",
    "#df = pd.DataFrame(td_idfs_lemm.T.todense(), index=td_idfs_feature_names)\n",
    "#df.sort_values(by=[\"tfidf\"],ascending=False)"
   ]
  },
  {
   "cell_type": "code",
   "execution_count": 264,
   "metadata": {},
   "outputs": [],
   "source": [
    "#wc = pd.DataFrame(word_counts_lemm.T.todense(), index=word_count_feature_names)"
   ]
  },
  {
   "cell_type": "code",
   "execution_count": 286,
   "metadata": {},
   "outputs": [],
   "source": [
    "#wc['sums'] = wc.sum(axis=1)\n",
    "#wc[\"non-zero-sums\"] = wc.astype(bool).sum(axis=1)\n",
    "#print(wc.shape)"
   ]
  },
  {
   "cell_type": "code",
   "execution_count": 282,
   "metadata": {},
   "outputs": [],
   "source": [
    "#wc = wc[wc['non-zero-sums']<=93]\n",
    "#wc = wc[wc['non-zero-sums'] >2]"
   ]
  },
  {
   "cell_type": "code",
   "execution_count": 283,
   "metadata": {},
   "outputs": [],
   "source": [
    "#word_count_feature_names = wc.index"
   ]
  },
  {
   "cell_type": "markdown",
   "metadata": {},
   "source": [
    "### Start of the LDA"
   ]
  },
  {
   "cell_type": "code",
   "execution_count": 27,
   "metadata": {},
   "outputs": [],
   "source": [
    "\n",
    "no_topics=10\n",
    "\n",
    "#nmf = NMF(n_components=no_topics, random_state=1, alpha=.1, l1_ratio=.5, init='nndsvd').fit(td_idfs_lemm)\n",
    "\n",
    "# Run LDA \n",
    "#using word counts\n",
    "lda_wc = LatentDirichletAllocation(n_components=no_topics, doc_topic_prior=1, topic_word_prior=1, max_iter=5, learning_method='online', learning_offset=50.,random_state=0).fit(word_counts_lemm)\n",
    "#using td-idfs\n",
    "lda_tdidfs = LatentDirichletAllocation(n_components=no_topics, doc_topic_prior=1, topic_word_prior=1, max_iter=5, learning_method='online', learning_offset=50.,random_state=0).fit(td_idfs_lemm)"
   ]
  },
  {
   "cell_type": "code",
   "execution_count": 28,
   "metadata": {},
   "outputs": [
    {
     "name": "stdout",
     "output_type": "stream",
     "text": [
      "TOPICS WITH WORD COUNTS\n",
      "Topic 0:\n",
      "ai system use datum machine human decision ethical make intelligence\n",
      "Topic 1:\n",
      "ai datum system use human intelligence technology artificial need work\n",
      "Topic 2:\n",
      "ai system datum use human intelligence technology development also data\n",
      "Topic 3:\n",
      "ai datum use system human make technology need may decision\n",
      "Topic 4:\n",
      "ai datum use system human intelligence technology research may need\n",
      "Topic 5:\n",
      "ai datum human machine intelligence system use technology artificial learning\n",
      "Topic 6:\n",
      "ai use datum system human technology intelligence artificial may make\n",
      "Topic 7:\n",
      "ai datum system use human technology decision right may artificial\n",
      "Topic 8:\n",
      "ai system use decision technology datum ethical data design work\n",
      "Topic 9:\n",
      "use ai human datum system technology may artificial intelligence work\n",
      "TOPICS WITH TD-IDFS\n",
      "Topic 0:\n",
      "ai system important use decision machine vera palmanteer aspirin responsible\n",
      "Topic 1:\n",
      "ai datum bulb system tilde nao méditerranée list use lens\n",
      "Topic 2:\n",
      "ai datum system development use sectors bieliková warn part cuccaro\n",
      "Topic 3:\n",
      "ai datum make use social human incoming people mccalman packard\n",
      "Topic 4:\n",
      "ai use datum abuzz bilton human organize muselier intelligence include\n",
      "Topic 5:\n",
      "ai intelligence manchester electronics salvador datum artificial hires kratochwill clone\n",
      "Topic 6:\n",
      "ai use protection technology human obach ethical development intelligent malleable\n",
      "Topic 7:\n",
      "ai datum system use right decision appropriate may skees unionlearn\n",
      "Topic 8:\n",
      "ai system digital iva data process explosion unambiguous decision petaflop\n",
      "Topic 9:\n",
      "ai use may technology artificial reprogrammable human company popularise midst\n"
     ]
    }
   ],
   "source": [
    "def display_topics(model, feature_names, no_top_words):\n",
    "    for topic_idx, topic in enumerate(model.components_):\n",
    "        print(\"Topic %d:\" % (topic_idx))\n",
    "        print(\" \".join([feature_names[i]\n",
    "                        for i in topic.argsort()[:-no_top_words - 1:-1]]))\n",
    "\n",
    "no_top_words = 10\n",
    "print(\"TOPICS WITH WORD COUNTS\")\n",
    "display_topics(lda_wc, word_count_feature_names, no_top_words)\n",
    "print(\"TOPICS WITH TD-IDFS\")\n",
    "display_topics(lda_tdidfs, td_idfs_feature_names, no_top_words)\n",
    "#display_topics(lda, td_idfs_feature_names, no_top_words)"
   ]
  },
  {
   "cell_type": "markdown",
   "metadata": {},
   "source": [
    "from reading the topics above, i observe a few things. \n",
    "1. using word-counts, the topics have words that are very generic to all documents (technology, ai, system, artificial, human ...) which makes the topics look very much alike\n",
    "2. the td-idfs returns more unique words, but that don't necessarily have a meaning"
   ]
  },
  {
   "cell_type": "code",
   "execution_count": 20,
   "metadata": {},
   "outputs": [
    {
     "name": "stdout",
     "output_type": "stream",
     "text": [
      "SCORES WITH WORD COUNT\n",
      "Log Likelihood:  -8105008.894530205\n",
      "Perplexity:  2705.950110559823\n",
      "{'batch_size': 128, 'doc_topic_prior': 1, 'evaluate_every': -1, 'learning_decay': 0.7, 'learning_method': 'online', 'learning_offset': 50.0, 'max_doc_update_iter': 100, 'max_iter': 5, 'mean_change_tol': 0.001, 'n_components': 10, 'n_jobs': None, 'perp_tol': 0.1, 'random_state': 0, 'topic_word_prior': 1, 'total_samples': 1000000.0, 'verbose': 0}\n",
      "SCORES WITH TD-IDFS\n",
      "Log Likelihood:  -21618.037818475197\n",
      "Perplexity:  129161.02447428336\n",
      "{'batch_size': 128, 'doc_topic_prior': 1, 'evaluate_every': -1, 'learning_decay': 0.7, 'learning_method': 'online', 'learning_offset': 50.0, 'max_doc_update_iter': 100, 'max_iter': 5, 'mean_change_tol': 0.001, 'n_components': 10, 'n_jobs': None, 'perp_tol': 0.1, 'random_state': 0, 'topic_word_prior': 1, 'total_samples': 1000000.0, 'verbose': 0}\n"
     ]
    }
   ],
   "source": [
    "print(\"SCORES WITH WORD COUNT\")\n",
    "# Log Likelyhood: Higher the better\n",
    "print(\"Log Likelihood: \", lda_wc.score(word_counts_lemm))\n",
    "\n",
    "# Perplexity: Lower the better. Perplexity = exp(-1. * log-likelihood per word)\n",
    "print(\"Perplexity: \", lda_wc.perplexity(word_counts_lemm))\n",
    "\n",
    "# See model parameters\n",
    "print(lda_wc.get_params())\n",
    "\n",
    "print(\"SCORES WITH TD-IDFS\")\n",
    "# Log Likelyhood: Higher the better\n",
    "print(\"Log Likelihood: \", lda_tdidfs.score(td_idfs_lemm))\n",
    "\n",
    "# Perplexity: Lower the better. Perplexity = exp(-1. * log-likelihood per word)\n",
    "print(\"Perplexity: \", lda_tdidfs.perplexity(td_idfs_lemm))\n",
    "\n",
    "# See model parameters\n",
    "print(lda_tdidfs.get_params())"
   ]
  },
  {
   "cell_type": "markdown",
   "metadata": {},
   "source": [
    "## Try the Grid Search approach in order to find the best model"
   ]
  },
  {
   "cell_type": "markdown",
   "metadata": {},
   "source": [
    "Loads of code taken from : https://www.machinelearningplus.com/nlp/topic-modeling-python-sklearn-examples/ \n",
    "MANY THANKSS!!"
   ]
  },
  {
   "cell_type": "markdown",
   "metadata": {},
   "source": [
    "i saw above that the td-idfs was giving weird results in the sense that it was outputting words that didnt really have a meaning. For now, i am then basing the rest of the word on the word counts measures. "
   ]
  },
  {
   "cell_type": "code",
   "execution_count": 69,
   "metadata": {},
   "outputs": [
    {
     "data": {
      "text/plain": [
       "GridSearchCV(cv=None, error_score=nan,\n",
       "             estimator=LatentDirichletAllocation(batch_size=128,\n",
       "                                                 doc_topic_prior=None,\n",
       "                                                 evaluate_every=-1,\n",
       "                                                 learning_decay=0.7,\n",
       "                                                 learning_method='batch',\n",
       "                                                 learning_offset=10.0,\n",
       "                                                 max_doc_update_iter=100,\n",
       "                                                 max_iter=10,\n",
       "                                                 mean_change_tol=0.001,\n",
       "                                                 n_components=10, n_jobs=None,\n",
       "                                                 perp_tol=0.1,\n",
       "                                                 random_state=None,\n",
       "                                                 topic_word_prior=None,\n",
       "                                                 total_samples=1000000.0,\n",
       "                                                 verbose=0),\n",
       "             iid='deprecated', n_jobs=None,\n",
       "             param_grid={'learning_decay': [0.5, 0.7, 0.9],\n",
       "                         'n_components': [5, 10, 15, 20, 25]},\n",
       "             pre_dispatch='2*n_jobs', refit=True, return_train_score=False,\n",
       "             scoring=None, verbose=0)"
      ]
     },
     "execution_count": 69,
     "metadata": {},
     "output_type": "execute_result"
    }
   ],
   "source": [
    "# Define Search Param\n",
    "search_params = {'n_components': [5, 10, 15, 20, 25], 'learning_decay': [.5, .7, .9]}\n",
    "\n",
    "# Init the Model\n",
    "lda = LatentDirichletAllocation()\n",
    "\n",
    "# Init Grid Search Class\n",
    "model = GridSearchCV(lda, param_grid=search_params)\n",
    "\n",
    "# Do the Grid Search\n",
    "model.fit(word_counts_lemm)"
   ]
  },
  {
   "cell_type": "code",
   "execution_count": 80,
   "metadata": {},
   "outputs": [
    {
     "name": "stdout",
     "output_type": "stream",
     "text": [
      "Best Model's Params:  {'learning_decay': 0.7, 'n_components': 5}\n",
      "Best Log Likelihood Score:  -1752723.216705932\n",
      "Model Perplexity:  2249.1538001198483\n"
     ]
    }
   ],
   "source": [
    "# Best Model\n",
    "best_lda_model = model.best_estimator_\n",
    "\n",
    "# Model Parameters\n",
    "print(\"Best Model's Params: \", model.best_params_)\n",
    "\n",
    "# Log Likelihood Score\n",
    "print(\"Best Log Likelihood Score: \", model.best_score_)\n",
    "\n",
    "# Perplexity\n",
    "print(\"Model Perplexity: \", best_lda_model.perplexity(word_counts_lemm))"
   ]
  },
  {
   "cell_type": "code",
   "execution_count": 82,
   "metadata": {},
   "outputs": [
    {
     "name": "stdout",
     "output_type": "stream",
     "text": [
      "Topic 0:\n",
      "ai human right technology principle use system decision law see\n",
      "Topic 1:\n",
      "ai human use system robot technology ethical may datum intelligence\n",
      "Topic 2:\n",
      "ai datum use system machine decision data model may learning\n",
      "Topic 3:\n",
      "ai report intelligence system use artificial company new datum worker\n",
      "Topic 4:\n",
      "ai intelligence datum artificial research algorithm public use technology also\n"
     ]
    }
   ],
   "source": [
    "display_topics(best_lda_model, word_count_feature_names, no_top_words)"
   ]
  },
  {
   "cell_type": "markdown",
   "metadata": {},
   "source": [
    "It seems like 5 topics is reaching the best result. However, it could also be that the best result would simply 1 single topic, under which all documents would be, and that could be a reason why the n of topics is low. "
   ]
  },
  {
   "cell_type": "code",
   "execution_count": 71,
   "metadata": {},
   "outputs": [],
   "source": [
    "model_results = pd.DataFrame(model.cv_results_)"
   ]
  },
  {
   "cell_type": "code",
   "execution_count": 72,
   "metadata": {},
   "outputs": [
    {
     "data": {
      "text/html": [
       "<div>\n",
       "<style scoped>\n",
       "    .dataframe tbody tr th:only-of-type {\n",
       "        vertical-align: middle;\n",
       "    }\n",
       "\n",
       "    .dataframe tbody tr th {\n",
       "        vertical-align: top;\n",
       "    }\n",
       "\n",
       "    .dataframe thead th {\n",
       "        text-align: right;\n",
       "    }\n",
       "</style>\n",
       "<table border=\"1\" class=\"dataframe\">\n",
       "  <thead>\n",
       "    <tr style=\"text-align: right;\">\n",
       "      <th></th>\n",
       "      <th>mean_fit_time</th>\n",
       "      <th>std_fit_time</th>\n",
       "      <th>mean_score_time</th>\n",
       "      <th>std_score_time</th>\n",
       "      <th>param_learning_decay</th>\n",
       "      <th>param_n_components</th>\n",
       "      <th>params</th>\n",
       "      <th>split0_test_score</th>\n",
       "      <th>split1_test_score</th>\n",
       "      <th>split2_test_score</th>\n",
       "      <th>split3_test_score</th>\n",
       "      <th>split4_test_score</th>\n",
       "      <th>mean_test_score</th>\n",
       "      <th>std_test_score</th>\n",
       "      <th>rank_test_score</th>\n",
       "    </tr>\n",
       "  </thead>\n",
       "  <tbody>\n",
       "    <tr>\n",
       "      <th>0</th>\n",
       "      <td>2.141541</td>\n",
       "      <td>0.088025</td>\n",
       "      <td>0.059444</td>\n",
       "      <td>0.006649</td>\n",
       "      <td>0.5</td>\n",
       "      <td>5</td>\n",
       "      <td>{'learning_decay': 0.5, 'n_components': 5}</td>\n",
       "      <td>-1.183058e+06</td>\n",
       "      <td>-2.131234e+06</td>\n",
       "      <td>-1.698348e+06</td>\n",
       "      <td>-1.584012e+06</td>\n",
       "      <td>-2.192822e+06</td>\n",
       "      <td>-1.757895e+06</td>\n",
       "      <td>372226.579478</td>\n",
       "      <td>2</td>\n",
       "    </tr>\n",
       "    <tr>\n",
       "      <th>1</th>\n",
       "      <td>3.069212</td>\n",
       "      <td>0.111290</td>\n",
       "      <td>0.081563</td>\n",
       "      <td>0.005114</td>\n",
       "      <td>0.5</td>\n",
       "      <td>10</td>\n",
       "      <td>{'learning_decay': 0.5, 'n_components': 10}</td>\n",
       "      <td>-1.230263e+06</td>\n",
       "      <td>-2.183727e+06</td>\n",
       "      <td>-1.795134e+06</td>\n",
       "      <td>-1.634442e+06</td>\n",
       "      <td>-2.256258e+06</td>\n",
       "      <td>-1.819965e+06</td>\n",
       "      <td>375621.527994</td>\n",
       "      <td>6</td>\n",
       "    </tr>\n",
       "    <tr>\n",
       "      <th>2</th>\n",
       "      <td>4.191308</td>\n",
       "      <td>1.293679</td>\n",
       "      <td>0.107251</td>\n",
       "      <td>0.012536</td>\n",
       "      <td>0.5</td>\n",
       "      <td>15</td>\n",
       "      <td>{'learning_decay': 0.5, 'n_components': 15}</td>\n",
       "      <td>-1.250447e+06</td>\n",
       "      <td>-2.234823e+06</td>\n",
       "      <td>-1.830595e+06</td>\n",
       "      <td>-1.681075e+06</td>\n",
       "      <td>-2.311937e+06</td>\n",
       "      <td>-1.861775e+06</td>\n",
       "      <td>387080.659247</td>\n",
       "      <td>8</td>\n",
       "    </tr>\n",
       "    <tr>\n",
       "      <th>3</th>\n",
       "      <td>5.901889</td>\n",
       "      <td>1.392367</td>\n",
       "      <td>0.140530</td>\n",
       "      <td>0.037935</td>\n",
       "      <td>0.5</td>\n",
       "      <td>20</td>\n",
       "      <td>{'learning_decay': 0.5, 'n_components': 20}</td>\n",
       "      <td>-1.295447e+06</td>\n",
       "      <td>-2.268581e+06</td>\n",
       "      <td>-1.892911e+06</td>\n",
       "      <td>-1.688302e+06</td>\n",
       "      <td>-2.368648e+06</td>\n",
       "      <td>-1.902778e+06</td>\n",
       "      <td>391355.135305</td>\n",
       "      <td>12</td>\n",
       "    </tr>\n",
       "    <tr>\n",
       "      <th>4</th>\n",
       "      <td>5.437712</td>\n",
       "      <td>0.483994</td>\n",
       "      <td>0.166646</td>\n",
       "      <td>0.023713</td>\n",
       "      <td>0.5</td>\n",
       "      <td>25</td>\n",
       "      <td>{'learning_decay': 0.5, 'n_components': 25}</td>\n",
       "      <td>-1.301386e+06</td>\n",
       "      <td>-2.318364e+06</td>\n",
       "      <td>-1.929168e+06</td>\n",
       "      <td>-1.743868e+06</td>\n",
       "      <td>-2.419663e+06</td>\n",
       "      <td>-1.942490e+06</td>\n",
       "      <td>404874.899174</td>\n",
       "      <td>15</td>\n",
       "    </tr>\n",
       "  </tbody>\n",
       "</table>\n",
       "</div>"
      ],
      "text/plain": [
       "   mean_fit_time  std_fit_time  mean_score_time  std_score_time  \\\n",
       "0       2.141541      0.088025         0.059444        0.006649   \n",
       "1       3.069212      0.111290         0.081563        0.005114   \n",
       "2       4.191308      1.293679         0.107251        0.012536   \n",
       "3       5.901889      1.392367         0.140530        0.037935   \n",
       "4       5.437712      0.483994         0.166646        0.023713   \n",
       "\n",
       "  param_learning_decay param_n_components  \\\n",
       "0                  0.5                  5   \n",
       "1                  0.5                 10   \n",
       "2                  0.5                 15   \n",
       "3                  0.5                 20   \n",
       "4                  0.5                 25   \n",
       "\n",
       "                                        params  split0_test_score  \\\n",
       "0   {'learning_decay': 0.5, 'n_components': 5}      -1.183058e+06   \n",
       "1  {'learning_decay': 0.5, 'n_components': 10}      -1.230263e+06   \n",
       "2  {'learning_decay': 0.5, 'n_components': 15}      -1.250447e+06   \n",
       "3  {'learning_decay': 0.5, 'n_components': 20}      -1.295447e+06   \n",
       "4  {'learning_decay': 0.5, 'n_components': 25}      -1.301386e+06   \n",
       "\n",
       "   split1_test_score  split2_test_score  split3_test_score  split4_test_score  \\\n",
       "0      -2.131234e+06      -1.698348e+06      -1.584012e+06      -2.192822e+06   \n",
       "1      -2.183727e+06      -1.795134e+06      -1.634442e+06      -2.256258e+06   \n",
       "2      -2.234823e+06      -1.830595e+06      -1.681075e+06      -2.311937e+06   \n",
       "3      -2.268581e+06      -1.892911e+06      -1.688302e+06      -2.368648e+06   \n",
       "4      -2.318364e+06      -1.929168e+06      -1.743868e+06      -2.419663e+06   \n",
       "\n",
       "   mean_test_score  std_test_score  rank_test_score  \n",
       "0    -1.757895e+06   372226.579478                2  \n",
       "1    -1.819965e+06   375621.527994                6  \n",
       "2    -1.861775e+06   387080.659247                8  \n",
       "3    -1.902778e+06   391355.135305               12  \n",
       "4    -1.942490e+06   404874.899174               15  "
      ]
     },
     "execution_count": 72,
     "metadata": {},
     "output_type": "execute_result"
    }
   ],
   "source": [
    "model_results.head()"
   ]
  },
  {
   "cell_type": "markdown",
   "metadata": {},
   "source": [
    "## Plot the models comparison"
   ]
  },
  {
   "cell_type": "code",
   "execution_count": 84,
   "metadata": {},
   "outputs": [
    {
     "data": {
      "image/png": "[encoded data removed]",
      "text/plain": [
       "<Figure size 864x576 with 1 Axes>"
      ]
     },
     "metadata": {
      "needs_background": "light"
     },
     "output_type": "display_data"
    }
   ],
   "source": [
    "# Get Log Likelyhoods from Grid Search Output\n",
    "\n",
    "n_topics = [5, 10, 15, 20, 25]\n",
    "\n",
    "decay_5 =  model_results[model_results['param_learning_decay']==0.5]\n",
    "decay_7 =  model_results[model_results['param_learning_decay']==0.7]\n",
    "decay_9 =  model_results[model_results['param_learning_decay']==0.9]\n",
    "\n",
    "log_likelyhoods_5 = decay_5[['split0_test_score','split1_test_score','split2_test_score','split3_test_score','split4_test_score']]\n",
    "log_likelyhoods_7 = decay_7[['split0_test_score','split1_test_score','split2_test_score','split3_test_score','split4_test_score']]\n",
    "log_likelyhoods_9 = decay_9[['split0_test_score','split1_test_score','split2_test_score','split3_test_score','split4_test_score']]\n",
    "\n",
    "\n",
    "\n",
    "\n",
    "#log_likelyhoods_5 = [round(gscore.mean_validation_score) for gscore in model.cv_results_ if gscore.params['learning_decay']==0.5]\n",
    "#log_likelyhoods_7 = [round(gscore.mean_validation_score) for gscore in model.cv_results_ if gscore.params['learning_decay']==0.7]\n",
    "#log_likelyhoods_9 = [round(gscore.mean_validation_score) for gscore in model.cv_results_ if gscore.params['learning_decay']==0.9]\n",
    "\n",
    "# Show graph\n",
    "plt.figure(figsize=(12, 8))\n",
    "plt.plot(n_topics, log_likelyhoods_5, label='0.5')\n",
    "plt.plot(n_topics, log_likelyhoods_7, label='0.7')\n",
    "plt.plot(n_topics, log_likelyhoods_9, label='0.9')\n",
    "plt.title(\"Choosing Optimal LDA Model\")\n",
    "plt.xlabel(\"Num Topics\")\n",
    "plt.ylabel(\"Log Likelyhood Scores\")\n",
    "plt.legend(title='Learning decay', loc='best')\n",
    "plt.show()"
   ]
  },
  {
   "cell_type": "markdown",
   "metadata": {},
   "source": [
    "## View dominant topics per document"
   ]
  },
  {
   "cell_type": "code",
   "execution_count": 85,
   "metadata": {},
   "outputs": [
    {
     "data": {
      "text/plain": [
       "0     R12.pdf\n",
       "1     R13.pdf\n",
       "2     R39.pdf\n",
       "3     R11.pdf\n",
       "4     R10.pdf\n",
       "       ...   \n",
       "93    R34.pdf\n",
       "94    R22.PDF\n",
       "95    R36.pdf\n",
       "96    R37.pdf\n",
       "97    R23.pdf\n",
       "Name: name, Length: 95, dtype: object"
      ]
     },
     "execution_count": 85,
     "metadata": {},
     "output_type": "execute_result"
    }
   ],
   "source": [
    "lemmatized_dataset['name']"
   ]
  },
  {
   "cell_type": "code",
   "execution_count": 86,
   "metadata": {},
   "outputs": [
    {
     "name": "stdout",
     "output_type": "stream",
     "text": [
      "0     R12.pdf\n",
      "1     R13.pdf\n",
      "2     R39.pdf\n",
      "3     R11.pdf\n",
      "4     R10.pdf\n",
      "       ...   \n",
      "93    R34.pdf\n",
      "94    R22.PDF\n",
      "95    R36.pdf\n",
      "96    R37.pdf\n",
      "97    R23.pdf\n",
      "Name: name, Length: 95, dtype: object\n"
     ]
    },
    {
     "data": {
      "text/html": [
       "<style  type=\"text/css\" >\n",
       "    #T_815bebe0_9f52_11ea_9b92_38f9d35e4251row0_col0 {\n",
       "            color:  black;\n",
       "            font-weight:  400;\n",
       "        }    #T_815bebe0_9f52_11ea_9b92_38f9d35e4251row0_col1 {\n",
       "            color:  black;\n",
       "            font-weight:  400;\n",
       "        }    #T_815bebe0_9f52_11ea_9b92_38f9d35e4251row0_col2 {\n",
       "            color:  green;\n",
       "            font-weight:  700;\n",
       "        }    #T_815bebe0_9f52_11ea_9b92_38f9d35e4251row0_col3 {\n",
       "            color:  black;\n",
       "            font-weight:  400;\n",
       "        }    #T_815bebe0_9f52_11ea_9b92_38f9d35e4251row0_col4 {\n",
       "            color:  black;\n",
       "            font-weight:  400;\n",
       "        }    #T_815bebe0_9f52_11ea_9b92_38f9d35e4251row0_col5 {\n",
       "            color:  green;\n",
       "            font-weight:  700;\n",
       "        }    #T_815bebe0_9f52_11ea_9b92_38f9d35e4251row1_col0 {\n",
       "            color:  black;\n",
       "            font-weight:  400;\n",
       "        }    #T_815bebe0_9f52_11ea_9b92_38f9d35e4251row1_col1 {\n",
       "            color:  black;\n",
       "            font-weight:  400;\n",
       "        }    #T_815bebe0_9f52_11ea_9b92_38f9d35e4251row1_col2 {\n",
       "            color:  green;\n",
       "            font-weight:  700;\n",
       "        }    #T_815bebe0_9f52_11ea_9b92_38f9d35e4251row1_col3 {\n",
       "            color:  black;\n",
       "            font-weight:  400;\n",
       "        }    #T_815bebe0_9f52_11ea_9b92_38f9d35e4251row1_col4 {\n",
       "            color:  black;\n",
       "            font-weight:  400;\n",
       "        }    #T_815bebe0_9f52_11ea_9b92_38f9d35e4251row1_col5 {\n",
       "            color:  green;\n",
       "            font-weight:  700;\n",
       "        }    #T_815bebe0_9f52_11ea_9b92_38f9d35e4251row2_col0 {\n",
       "            color:  black;\n",
       "            font-weight:  400;\n",
       "        }    #T_815bebe0_9f52_11ea_9b92_38f9d35e4251row2_col1 {\n",
       "            color:  black;\n",
       "            font-weight:  400;\n",
       "        }    #T_815bebe0_9f52_11ea_9b92_38f9d35e4251row2_col2 {\n",
       "            color:  green;\n",
       "            font-weight:  700;\n",
       "        }    #T_815bebe0_9f52_11ea_9b92_38f9d35e4251row2_col3 {\n",
       "            color:  black;\n",
       "            font-weight:  400;\n",
       "        }    #T_815bebe0_9f52_11ea_9b92_38f9d35e4251row2_col4 {\n",
       "            color:  black;\n",
       "            font-weight:  400;\n",
       "        }    #T_815bebe0_9f52_11ea_9b92_38f9d35e4251row2_col5 {\n",
       "            color:  green;\n",
       "            font-weight:  700;\n",
       "        }    #T_815bebe0_9f52_11ea_9b92_38f9d35e4251row3_col0 {\n",
       "            color:  green;\n",
       "            font-weight:  700;\n",
       "        }    #T_815bebe0_9f52_11ea_9b92_38f9d35e4251row3_col1 {\n",
       "            color:  black;\n",
       "            font-weight:  400;\n",
       "        }    #T_815bebe0_9f52_11ea_9b92_38f9d35e4251row3_col2 {\n",
       "            color:  black;\n",
       "            font-weight:  400;\n",
       "        }    #T_815bebe0_9f52_11ea_9b92_38f9d35e4251row3_col3 {\n",
       "            color:  black;\n",
       "            font-weight:  400;\n",
       "        }    #T_815bebe0_9f52_11ea_9b92_38f9d35e4251row3_col4 {\n",
       "            color:  black;\n",
       "            font-weight:  400;\n",
       "        }    #T_815bebe0_9f52_11ea_9b92_38f9d35e4251row3_col5 {\n",
       "            color:  black;\n",
       "            font-weight:  400;\n",
       "        }    #T_815bebe0_9f52_11ea_9b92_38f9d35e4251row4_col0 {\n",
       "            color:  green;\n",
       "            font-weight:  700;\n",
       "        }    #T_815bebe0_9f52_11ea_9b92_38f9d35e4251row4_col1 {\n",
       "            color:  green;\n",
       "            font-weight:  700;\n",
       "        }    #T_815bebe0_9f52_11ea_9b92_38f9d35e4251row4_col2 {\n",
       "            color:  black;\n",
       "            font-weight:  400;\n",
       "        }    #T_815bebe0_9f52_11ea_9b92_38f9d35e4251row4_col3 {\n",
       "            color:  black;\n",
       "            font-weight:  400;\n",
       "        }    #T_815bebe0_9f52_11ea_9b92_38f9d35e4251row4_col4 {\n",
       "            color:  black;\n",
       "            font-weight:  400;\n",
       "        }    #T_815bebe0_9f52_11ea_9b92_38f9d35e4251row4_col5 {\n",
       "            color:  black;\n",
       "            font-weight:  400;\n",
       "        }    #T_815bebe0_9f52_11ea_9b92_38f9d35e4251row5_col0 {\n",
       "            color:  black;\n",
       "            font-weight:  400;\n",
       "        }    #T_815bebe0_9f52_11ea_9b92_38f9d35e4251row5_col1 {\n",
       "            color:  black;\n",
       "            font-weight:  400;\n",
       "        }    #T_815bebe0_9f52_11ea_9b92_38f9d35e4251row5_col2 {\n",
       "            color:  green;\n",
       "            font-weight:  700;\n",
       "        }    #T_815bebe0_9f52_11ea_9b92_38f9d35e4251row5_col3 {\n",
       "            color:  black;\n",
       "            font-weight:  400;\n",
       "        }    #T_815bebe0_9f52_11ea_9b92_38f9d35e4251row5_col4 {\n",
       "            color:  black;\n",
       "            font-weight:  400;\n",
       "        }    #T_815bebe0_9f52_11ea_9b92_38f9d35e4251row5_col5 {\n",
       "            color:  green;\n",
       "            font-weight:  700;\n",
       "        }    #T_815bebe0_9f52_11ea_9b92_38f9d35e4251row6_col0 {\n",
       "            color:  black;\n",
       "            font-weight:  400;\n",
       "        }    #T_815bebe0_9f52_11ea_9b92_38f9d35e4251row6_col1 {\n",
       "            color:  green;\n",
       "            font-weight:  700;\n",
       "        }    #T_815bebe0_9f52_11ea_9b92_38f9d35e4251row6_col2 {\n",
       "            color:  green;\n",
       "            font-weight:  700;\n",
       "        }    #T_815bebe0_9f52_11ea_9b92_38f9d35e4251row6_col3 {\n",
       "            color:  black;\n",
       "            font-weight:  400;\n",
       "        }    #T_815bebe0_9f52_11ea_9b92_38f9d35e4251row6_col4 {\n",
       "            color:  black;\n",
       "            font-weight:  400;\n",
       "        }    #T_815bebe0_9f52_11ea_9b92_38f9d35e4251row6_col5 {\n",
       "            color:  green;\n",
       "            font-weight:  700;\n",
       "        }    #T_815bebe0_9f52_11ea_9b92_38f9d35e4251row7_col0 {\n",
       "            color:  green;\n",
       "            font-weight:  700;\n",
       "        }    #T_815bebe0_9f52_11ea_9b92_38f9d35e4251row7_col1 {\n",
       "            color:  green;\n",
       "            font-weight:  700;\n",
       "        }    #T_815bebe0_9f52_11ea_9b92_38f9d35e4251row7_col2 {\n",
       "            color:  green;\n",
       "            font-weight:  700;\n",
       "        }    #T_815bebe0_9f52_11ea_9b92_38f9d35e4251row7_col3 {\n",
       "            color:  black;\n",
       "            font-weight:  400;\n",
       "        }    #T_815bebe0_9f52_11ea_9b92_38f9d35e4251row7_col4 {\n",
       "            color:  black;\n",
       "            font-weight:  400;\n",
       "        }    #T_815bebe0_9f52_11ea_9b92_38f9d35e4251row7_col5 {\n",
       "            color:  black;\n",
       "            font-weight:  400;\n",
       "        }    #T_815bebe0_9f52_11ea_9b92_38f9d35e4251row8_col0 {\n",
       "            color:  green;\n",
       "            font-weight:  700;\n",
       "        }    #T_815bebe0_9f52_11ea_9b92_38f9d35e4251row8_col1 {\n",
       "            color:  black;\n",
       "            font-weight:  400;\n",
       "        }    #T_815bebe0_9f52_11ea_9b92_38f9d35e4251row8_col2 {\n",
       "            color:  black;\n",
       "            font-weight:  400;\n",
       "        }    #T_815bebe0_9f52_11ea_9b92_38f9d35e4251row8_col3 {\n",
       "            color:  green;\n",
       "            font-weight:  700;\n",
       "        }    #T_815bebe0_9f52_11ea_9b92_38f9d35e4251row8_col4 {\n",
       "            color:  black;\n",
       "            font-weight:  400;\n",
       "        }    #T_815bebe0_9f52_11ea_9b92_38f9d35e4251row8_col5 {\n",
       "            color:  black;\n",
       "            font-weight:  400;\n",
       "        }    #T_815bebe0_9f52_11ea_9b92_38f9d35e4251row9_col0 {\n",
       "            color:  black;\n",
       "            font-weight:  400;\n",
       "        }    #T_815bebe0_9f52_11ea_9b92_38f9d35e4251row9_col1 {\n",
       "            color:  green;\n",
       "            font-weight:  700;\n",
       "        }    #T_815bebe0_9f52_11ea_9b92_38f9d35e4251row9_col2 {\n",
       "            color:  black;\n",
       "            font-weight:  400;\n",
       "        }    #T_815bebe0_9f52_11ea_9b92_38f9d35e4251row9_col3 {\n",
       "            color:  black;\n",
       "            font-weight:  400;\n",
       "        }    #T_815bebe0_9f52_11ea_9b92_38f9d35e4251row9_col4 {\n",
       "            color:  black;\n",
       "            font-weight:  400;\n",
       "        }    #T_815bebe0_9f52_11ea_9b92_38f9d35e4251row9_col5 {\n",
       "            color:  green;\n",
       "            font-weight:  700;\n",
       "        }    #T_815bebe0_9f52_11ea_9b92_38f9d35e4251row10_col0 {\n",
       "            color:  black;\n",
       "            font-weight:  400;\n",
       "        }    #T_815bebe0_9f52_11ea_9b92_38f9d35e4251row10_col1 {\n",
       "            color:  green;\n",
       "            font-weight:  700;\n",
       "        }    #T_815bebe0_9f52_11ea_9b92_38f9d35e4251row10_col2 {\n",
       "            color:  black;\n",
       "            font-weight:  400;\n",
       "        }    #T_815bebe0_9f52_11ea_9b92_38f9d35e4251row10_col3 {\n",
       "            color:  black;\n",
       "            font-weight:  400;\n",
       "        }    #T_815bebe0_9f52_11ea_9b92_38f9d35e4251row10_col4 {\n",
       "            color:  black;\n",
       "            font-weight:  400;\n",
       "        }    #T_815bebe0_9f52_11ea_9b92_38f9d35e4251row10_col5 {\n",
       "            color:  green;\n",
       "            font-weight:  700;\n",
       "        }    #T_815bebe0_9f52_11ea_9b92_38f9d35e4251row11_col0 {\n",
       "            color:  black;\n",
       "            font-weight:  400;\n",
       "        }    #T_815bebe0_9f52_11ea_9b92_38f9d35e4251row11_col1 {\n",
       "            color:  black;\n",
       "            font-weight:  400;\n",
       "        }    #T_815bebe0_9f52_11ea_9b92_38f9d35e4251row11_col2 {\n",
       "            color:  green;\n",
       "            font-weight:  700;\n",
       "        }    #T_815bebe0_9f52_11ea_9b92_38f9d35e4251row11_col3 {\n",
       "            color:  black;\n",
       "            font-weight:  400;\n",
       "        }    #T_815bebe0_9f52_11ea_9b92_38f9d35e4251row11_col4 {\n",
       "            color:  black;\n",
       "            font-weight:  400;\n",
       "        }    #T_815bebe0_9f52_11ea_9b92_38f9d35e4251row11_col5 {\n",
       "            color:  green;\n",
       "            font-weight:  700;\n",
       "        }    #T_815bebe0_9f52_11ea_9b92_38f9d35e4251row12_col0 {\n",
       "            color:  black;\n",
       "            font-weight:  400;\n",
       "        }    #T_815bebe0_9f52_11ea_9b92_38f9d35e4251row12_col1 {\n",
       "            color:  black;\n",
       "            font-weight:  400;\n",
       "        }    #T_815bebe0_9f52_11ea_9b92_38f9d35e4251row12_col2 {\n",
       "            color:  green;\n",
       "            font-weight:  700;\n",
       "        }    #T_815bebe0_9f52_11ea_9b92_38f9d35e4251row12_col3 {\n",
       "            color:  black;\n",
       "            font-weight:  400;\n",
       "        }    #T_815bebe0_9f52_11ea_9b92_38f9d35e4251row12_col4 {\n",
       "            color:  black;\n",
       "            font-weight:  400;\n",
       "        }    #T_815bebe0_9f52_11ea_9b92_38f9d35e4251row12_col5 {\n",
       "            color:  green;\n",
       "            font-weight:  700;\n",
       "        }    #T_815bebe0_9f52_11ea_9b92_38f9d35e4251row13_col0 {\n",
       "            color:  black;\n",
       "            font-weight:  400;\n",
       "        }    #T_815bebe0_9f52_11ea_9b92_38f9d35e4251row13_col1 {\n",
       "            color:  green;\n",
       "            font-weight:  700;\n",
       "        }    #T_815bebe0_9f52_11ea_9b92_38f9d35e4251row13_col2 {\n",
       "            color:  green;\n",
       "            font-weight:  700;\n",
       "        }    #T_815bebe0_9f52_11ea_9b92_38f9d35e4251row13_col3 {\n",
       "            color:  black;\n",
       "            font-weight:  400;\n",
       "        }    #T_815bebe0_9f52_11ea_9b92_38f9d35e4251row13_col4 {\n",
       "            color:  black;\n",
       "            font-weight:  400;\n",
       "        }    #T_815bebe0_9f52_11ea_9b92_38f9d35e4251row13_col5 {\n",
       "            color:  green;\n",
       "            font-weight:  700;\n",
       "        }    #T_815bebe0_9f52_11ea_9b92_38f9d35e4251row14_col0 {\n",
       "            color:  black;\n",
       "            font-weight:  400;\n",
       "        }    #T_815bebe0_9f52_11ea_9b92_38f9d35e4251row14_col1 {\n",
       "            color:  black;\n",
       "            font-weight:  400;\n",
       "        }    #T_815bebe0_9f52_11ea_9b92_38f9d35e4251row14_col2 {\n",
       "            color:  black;\n",
       "            font-weight:  400;\n",
       "        }    #T_815bebe0_9f52_11ea_9b92_38f9d35e4251row14_col3 {\n",
       "            color:  green;\n",
       "            font-weight:  700;\n",
       "        }    #T_815bebe0_9f52_11ea_9b92_38f9d35e4251row14_col4 {\n",
       "            color:  green;\n",
       "            font-weight:  700;\n",
       "        }    #T_815bebe0_9f52_11ea_9b92_38f9d35e4251row14_col5 {\n",
       "            color:  green;\n",
       "            font-weight:  700;\n",
       "        }</style><table id=\"T_815bebe0_9f52_11ea_9b92_38f9d35e4251\" ><thead>    <tr>        <th class=\"blank level0\" ></th>        <th class=\"col_heading level0 col0\" >Topic0</th>        <th class=\"col_heading level0 col1\" >Topic1</th>        <th class=\"col_heading level0 col2\" >Topic2</th>        <th class=\"col_heading level0 col3\" >Topic3</th>        <th class=\"col_heading level0 col4\" >Topic4</th>        <th class=\"col_heading level0 col5\" >dominant_topic</th>    </tr>    <tr>        <th class=\"index_name level0\" >name</th>        <th class=\"blank\" ></th>        <th class=\"blank\" ></th>        <th class=\"blank\" ></th>        <th class=\"blank\" ></th>        <th class=\"blank\" ></th>        <th class=\"blank\" ></th>    </tr></thead><tbody>\n",
       "                <tr>\n",
       "                        <th id=\"T_815bebe0_9f52_11ea_9b92_38f9d35e4251level0_row0\" class=\"row_heading level0 row0\" >R12.pdf</th>\n",
       "                        <td id=\"T_815bebe0_9f52_11ea_9b92_38f9d35e4251row0_col0\" class=\"data row0 col0\" >0.010000</td>\n",
       "                        <td id=\"T_815bebe0_9f52_11ea_9b92_38f9d35e4251row0_col1\" class=\"data row0 col1\" >0.010000</td>\n",
       "                        <td id=\"T_815bebe0_9f52_11ea_9b92_38f9d35e4251row0_col2\" class=\"data row0 col2\" >0.950000</td>\n",
       "                        <td id=\"T_815bebe0_9f52_11ea_9b92_38f9d35e4251row0_col3\" class=\"data row0 col3\" >0.010000</td>\n",
       "                        <td id=\"T_815bebe0_9f52_11ea_9b92_38f9d35e4251row0_col4\" class=\"data row0 col4\" >0.010000</td>\n",
       "                        <td id=\"T_815bebe0_9f52_11ea_9b92_38f9d35e4251row0_col5\" class=\"data row0 col5\" >2</td>\n",
       "            </tr>\n",
       "            <tr>\n",
       "                        <th id=\"T_815bebe0_9f52_11ea_9b92_38f9d35e4251level0_row1\" class=\"row_heading level0 row1\" >R13.pdf</th>\n",
       "                        <td id=\"T_815bebe0_9f52_11ea_9b92_38f9d35e4251row1_col0\" class=\"data row1 col0\" >0.010000</td>\n",
       "                        <td id=\"T_815bebe0_9f52_11ea_9b92_38f9d35e4251row1_col1\" class=\"data row1 col1\" >0.010000</td>\n",
       "                        <td id=\"T_815bebe0_9f52_11ea_9b92_38f9d35e4251row1_col2\" class=\"data row1 col2\" >0.950000</td>\n",
       "                        <td id=\"T_815bebe0_9f52_11ea_9b92_38f9d35e4251row1_col3\" class=\"data row1 col3\" >0.010000</td>\n",
       "                        <td id=\"T_815bebe0_9f52_11ea_9b92_38f9d35e4251row1_col4\" class=\"data row1 col4\" >0.010000</td>\n",
       "                        <td id=\"T_815bebe0_9f52_11ea_9b92_38f9d35e4251row1_col5\" class=\"data row1 col5\" >2</td>\n",
       "            </tr>\n",
       "            <tr>\n",
       "                        <th id=\"T_815bebe0_9f52_11ea_9b92_38f9d35e4251level0_row2\" class=\"row_heading level0 row2\" >R39.pdf</th>\n",
       "                        <td id=\"T_815bebe0_9f52_11ea_9b92_38f9d35e4251row2_col0\" class=\"data row2 col0\" >0.010000</td>\n",
       "                        <td id=\"T_815bebe0_9f52_11ea_9b92_38f9d35e4251row2_col1\" class=\"data row2 col1\" >0.010000</td>\n",
       "                        <td id=\"T_815bebe0_9f52_11ea_9b92_38f9d35e4251row2_col2\" class=\"data row2 col2\" >0.950000</td>\n",
       "                        <td id=\"T_815bebe0_9f52_11ea_9b92_38f9d35e4251row2_col3\" class=\"data row2 col3\" >0.010000</td>\n",
       "                        <td id=\"T_815bebe0_9f52_11ea_9b92_38f9d35e4251row2_col4\" class=\"data row2 col4\" >0.010000</td>\n",
       "                        <td id=\"T_815bebe0_9f52_11ea_9b92_38f9d35e4251row2_col5\" class=\"data row2 col5\" >2</td>\n",
       "            </tr>\n",
       "            <tr>\n",
       "                        <th id=\"T_815bebe0_9f52_11ea_9b92_38f9d35e4251level0_row3\" class=\"row_heading level0 row3\" >R11.pdf</th>\n",
       "                        <td id=\"T_815bebe0_9f52_11ea_9b92_38f9d35e4251row3_col0\" class=\"data row3 col0\" >0.940000</td>\n",
       "                        <td id=\"T_815bebe0_9f52_11ea_9b92_38f9d35e4251row3_col1\" class=\"data row3 col1\" >0.010000</td>\n",
       "                        <td id=\"T_815bebe0_9f52_11ea_9b92_38f9d35e4251row3_col2\" class=\"data row3 col2\" >0.010000</td>\n",
       "                        <td id=\"T_815bebe0_9f52_11ea_9b92_38f9d35e4251row3_col3\" class=\"data row3 col3\" >0.010000</td>\n",
       "                        <td id=\"T_815bebe0_9f52_11ea_9b92_38f9d35e4251row3_col4\" class=\"data row3 col4\" >0.010000</td>\n",
       "                        <td id=\"T_815bebe0_9f52_11ea_9b92_38f9d35e4251row3_col5\" class=\"data row3 col5\" >0</td>\n",
       "            </tr>\n",
       "            <tr>\n",
       "                        <th id=\"T_815bebe0_9f52_11ea_9b92_38f9d35e4251level0_row4\" class=\"row_heading level0 row4\" >R10.pdf</th>\n",
       "                        <td id=\"T_815bebe0_9f52_11ea_9b92_38f9d35e4251row4_col0\" class=\"data row4 col0\" >0.550000</td>\n",
       "                        <td id=\"T_815bebe0_9f52_11ea_9b92_38f9d35e4251row4_col1\" class=\"data row4 col1\" >0.420000</td>\n",
       "                        <td id=\"T_815bebe0_9f52_11ea_9b92_38f9d35e4251row4_col2\" class=\"data row4 col2\" >0.010000</td>\n",
       "                        <td id=\"T_815bebe0_9f52_11ea_9b92_38f9d35e4251row4_col3\" class=\"data row4 col3\" >0.010000</td>\n",
       "                        <td id=\"T_815bebe0_9f52_11ea_9b92_38f9d35e4251row4_col4\" class=\"data row4 col4\" >0.010000</td>\n",
       "                        <td id=\"T_815bebe0_9f52_11ea_9b92_38f9d35e4251row4_col5\" class=\"data row4 col5\" >0</td>\n",
       "            </tr>\n",
       "            <tr>\n",
       "                        <th id=\"T_815bebe0_9f52_11ea_9b92_38f9d35e4251level0_row5\" class=\"row_heading level0 row5\" >R38.pdf</th>\n",
       "                        <td id=\"T_815bebe0_9f52_11ea_9b92_38f9d35e4251row5_col0\" class=\"data row5 col0\" >0.020000</td>\n",
       "                        <td id=\"T_815bebe0_9f52_11ea_9b92_38f9d35e4251row5_col1\" class=\"data row5 col1\" >0.020000</td>\n",
       "                        <td id=\"T_815bebe0_9f52_11ea_9b92_38f9d35e4251row5_col2\" class=\"data row5 col2\" >0.930000</td>\n",
       "                        <td id=\"T_815bebe0_9f52_11ea_9b92_38f9d35e4251row5_col3\" class=\"data row5 col3\" >0.020000</td>\n",
       "                        <td id=\"T_815bebe0_9f52_11ea_9b92_38f9d35e4251row5_col4\" class=\"data row5 col4\" >0.020000</td>\n",
       "                        <td id=\"T_815bebe0_9f52_11ea_9b92_38f9d35e4251row5_col5\" class=\"data row5 col5\" >2</td>\n",
       "            </tr>\n",
       "            <tr>\n",
       "                        <th id=\"T_815bebe0_9f52_11ea_9b92_38f9d35e4251level0_row6\" class=\"row_heading level0 row6\" >R14.pdf</th>\n",
       "                        <td id=\"T_815bebe0_9f52_11ea_9b92_38f9d35e4251row6_col0\" class=\"data row6 col0\" >0.010000</td>\n",
       "                        <td id=\"T_815bebe0_9f52_11ea_9b92_38f9d35e4251row6_col1\" class=\"data row6 col1\" >0.120000</td>\n",
       "                        <td id=\"T_815bebe0_9f52_11ea_9b92_38f9d35e4251row6_col2\" class=\"data row6 col2\" >0.760000</td>\n",
       "                        <td id=\"T_815bebe0_9f52_11ea_9b92_38f9d35e4251row6_col3\" class=\"data row6 col3\" >0.100000</td>\n",
       "                        <td id=\"T_815bebe0_9f52_11ea_9b92_38f9d35e4251row6_col4\" class=\"data row6 col4\" >0.010000</td>\n",
       "                        <td id=\"T_815bebe0_9f52_11ea_9b92_38f9d35e4251row6_col5\" class=\"data row6 col5\" >2</td>\n",
       "            </tr>\n",
       "            <tr>\n",
       "                        <th id=\"T_815bebe0_9f52_11ea_9b92_38f9d35e4251level0_row7\" class=\"row_heading level0 row7\" >R28.pdf</th>\n",
       "                        <td id=\"T_815bebe0_9f52_11ea_9b92_38f9d35e4251row7_col0\" class=\"data row7 col0\" >0.580000</td>\n",
       "                        <td id=\"T_815bebe0_9f52_11ea_9b92_38f9d35e4251row7_col1\" class=\"data row7 col1\" >0.210000</td>\n",
       "                        <td id=\"T_815bebe0_9f52_11ea_9b92_38f9d35e4251row7_col2\" class=\"data row7 col2\" >0.190000</td>\n",
       "                        <td id=\"T_815bebe0_9f52_11ea_9b92_38f9d35e4251row7_col3\" class=\"data row7 col3\" >0.010000</td>\n",
       "                        <td id=\"T_815bebe0_9f52_11ea_9b92_38f9d35e4251row7_col4\" class=\"data row7 col4\" >0.010000</td>\n",
       "                        <td id=\"T_815bebe0_9f52_11ea_9b92_38f9d35e4251row7_col5\" class=\"data row7 col5\" >0</td>\n",
       "            </tr>\n",
       "            <tr>\n",
       "                        <th id=\"T_815bebe0_9f52_11ea_9b92_38f9d35e4251level0_row8\" class=\"row_heading level0 row8\" >R29.pdf</th>\n",
       "                        <td id=\"T_815bebe0_9f52_11ea_9b92_38f9d35e4251row8_col0\" class=\"data row8 col0\" >0.800000</td>\n",
       "                        <td id=\"T_815bebe0_9f52_11ea_9b92_38f9d35e4251row8_col1\" class=\"data row8 col1\" >0.010000</td>\n",
       "                        <td id=\"T_815bebe0_9f52_11ea_9b92_38f9d35e4251row8_col2\" class=\"data row8 col2\" >0.010000</td>\n",
       "                        <td id=\"T_815bebe0_9f52_11ea_9b92_38f9d35e4251row8_col3\" class=\"data row8 col3\" >0.170000</td>\n",
       "                        <td id=\"T_815bebe0_9f52_11ea_9b92_38f9d35e4251row8_col4\" class=\"data row8 col4\" >0.010000</td>\n",
       "                        <td id=\"T_815bebe0_9f52_11ea_9b92_38f9d35e4251row8_col5\" class=\"data row8 col5\" >0</td>\n",
       "            </tr>\n",
       "            <tr>\n",
       "                        <th id=\"T_815bebe0_9f52_11ea_9b92_38f9d35e4251level0_row9\" class=\"row_heading level0 row9\" >R15.pdf</th>\n",
       "                        <td id=\"T_815bebe0_9f52_11ea_9b92_38f9d35e4251row9_col0\" class=\"data row9 col0\" >0.020000</td>\n",
       "                        <td id=\"T_815bebe0_9f52_11ea_9b92_38f9d35e4251row9_col1\" class=\"data row9 col1\" >0.950000</td>\n",
       "                        <td id=\"T_815bebe0_9f52_11ea_9b92_38f9d35e4251row9_col2\" class=\"data row9 col2\" >0.010000</td>\n",
       "                        <td id=\"T_815bebe0_9f52_11ea_9b92_38f9d35e4251row9_col3\" class=\"data row9 col3\" >0.010000</td>\n",
       "                        <td id=\"T_815bebe0_9f52_11ea_9b92_38f9d35e4251row9_col4\" class=\"data row9 col4\" >0.010000</td>\n",
       "                        <td id=\"T_815bebe0_9f52_11ea_9b92_38f9d35e4251row9_col5\" class=\"data row9 col5\" >1</td>\n",
       "            </tr>\n",
       "            <tr>\n",
       "                        <th id=\"T_815bebe0_9f52_11ea_9b92_38f9d35e4251level0_row10\" class=\"row_heading level0 row10\" >R17.pdf</th>\n",
       "                        <td id=\"T_815bebe0_9f52_11ea_9b92_38f9d35e4251row10_col0\" class=\"data row10 col0\" >0.010000</td>\n",
       "                        <td id=\"T_815bebe0_9f52_11ea_9b92_38f9d35e4251row10_col1\" class=\"data row10 col1\" >0.970000</td>\n",
       "                        <td id=\"T_815bebe0_9f52_11ea_9b92_38f9d35e4251row10_col2\" class=\"data row10 col2\" >0.010000</td>\n",
       "                        <td id=\"T_815bebe0_9f52_11ea_9b92_38f9d35e4251row10_col3\" class=\"data row10 col3\" >0.010000</td>\n",
       "                        <td id=\"T_815bebe0_9f52_11ea_9b92_38f9d35e4251row10_col4\" class=\"data row10 col4\" >0.010000</td>\n",
       "                        <td id=\"T_815bebe0_9f52_11ea_9b92_38f9d35e4251row10_col5\" class=\"data row10 col5\" >1</td>\n",
       "            </tr>\n",
       "            <tr>\n",
       "                        <th id=\"T_815bebe0_9f52_11ea_9b92_38f9d35e4251level0_row11\" class=\"row_heading level0 row11\" >R16.pdf</th>\n",
       "                        <td id=\"T_815bebe0_9f52_11ea_9b92_38f9d35e4251row11_col0\" class=\"data row11 col0\" >0.020000</td>\n",
       "                        <td id=\"T_815bebe0_9f52_11ea_9b92_38f9d35e4251row11_col1\" class=\"data row11 col1\" >0.020000</td>\n",
       "                        <td id=\"T_815bebe0_9f52_11ea_9b92_38f9d35e4251row11_col2\" class=\"data row11 col2\" >0.940000</td>\n",
       "                        <td id=\"T_815bebe0_9f52_11ea_9b92_38f9d35e4251row11_col3\" class=\"data row11 col3\" >0.020000</td>\n",
       "                        <td id=\"T_815bebe0_9f52_11ea_9b92_38f9d35e4251row11_col4\" class=\"data row11 col4\" >0.010000</td>\n",
       "                        <td id=\"T_815bebe0_9f52_11ea_9b92_38f9d35e4251row11_col5\" class=\"data row11 col5\" >2</td>\n",
       "            </tr>\n",
       "            <tr>\n",
       "                        <th id=\"T_815bebe0_9f52_11ea_9b92_38f9d35e4251level0_row12\" class=\"row_heading level0 row12\" >R59.pdf</th>\n",
       "                        <td id=\"T_815bebe0_9f52_11ea_9b92_38f9d35e4251row12_col0\" class=\"data row12 col0\" >0.020000</td>\n",
       "                        <td id=\"T_815bebe0_9f52_11ea_9b92_38f9d35e4251row12_col1\" class=\"data row12 col1\" >0.020000</td>\n",
       "                        <td id=\"T_815bebe0_9f52_11ea_9b92_38f9d35e4251row12_col2\" class=\"data row12 col2\" >0.910000</td>\n",
       "                        <td id=\"T_815bebe0_9f52_11ea_9b92_38f9d35e4251row12_col3\" class=\"data row12 col3\" >0.020000</td>\n",
       "                        <td id=\"T_815bebe0_9f52_11ea_9b92_38f9d35e4251row12_col4\" class=\"data row12 col4\" >0.020000</td>\n",
       "                        <td id=\"T_815bebe0_9f52_11ea_9b92_38f9d35e4251row12_col5\" class=\"data row12 col5\" >2</td>\n",
       "            </tr>\n",
       "            <tr>\n",
       "                        <th id=\"T_815bebe0_9f52_11ea_9b92_38f9d35e4251level0_row13\" class=\"row_heading level0 row13\" >R65.pdf</th>\n",
       "                        <td id=\"T_815bebe0_9f52_11ea_9b92_38f9d35e4251row13_col0\" class=\"data row13 col0\" >0.010000</td>\n",
       "                        <td id=\"T_815bebe0_9f52_11ea_9b92_38f9d35e4251row13_col1\" class=\"data row13 col1\" >0.280000</td>\n",
       "                        <td id=\"T_815bebe0_9f52_11ea_9b92_38f9d35e4251row13_col2\" class=\"data row13 col2\" >0.690000</td>\n",
       "                        <td id=\"T_815bebe0_9f52_11ea_9b92_38f9d35e4251row13_col3\" class=\"data row13 col3\" >0.010000</td>\n",
       "                        <td id=\"T_815bebe0_9f52_11ea_9b92_38f9d35e4251row13_col4\" class=\"data row13 col4\" >0.010000</td>\n",
       "                        <td id=\"T_815bebe0_9f52_11ea_9b92_38f9d35e4251row13_col5\" class=\"data row13 col5\" >2</td>\n",
       "            </tr>\n",
       "            <tr>\n",
       "                        <th id=\"T_815bebe0_9f52_11ea_9b92_38f9d35e4251level0_row14\" class=\"row_heading level0 row14\" >R71.pdf</th>\n",
       "                        <td id=\"T_815bebe0_9f52_11ea_9b92_38f9d35e4251row14_col0\" class=\"data row14 col0\" >0.090000</td>\n",
       "                        <td id=\"T_815bebe0_9f52_11ea_9b92_38f9d35e4251row14_col1\" class=\"data row14 col1\" >0.010000</td>\n",
       "                        <td id=\"T_815bebe0_9f52_11ea_9b92_38f9d35e4251row14_col2\" class=\"data row14 col2\" >0.010000</td>\n",
       "                        <td id=\"T_815bebe0_9f52_11ea_9b92_38f9d35e4251row14_col3\" class=\"data row14 col3\" >0.600000</td>\n",
       "                        <td id=\"T_815bebe0_9f52_11ea_9b92_38f9d35e4251row14_col4\" class=\"data row14 col4\" >0.280000</td>\n",
       "                        <td id=\"T_815bebe0_9f52_11ea_9b92_38f9d35e4251row14_col5\" class=\"data row14 col5\" >3</td>\n",
       "            </tr>\n",
       "    </tbody></table>"
      ],
      "text/plain": [
       "<pandas.io.formats.style.Styler at 0x12f6d9400>"
      ]
     },
     "execution_count": 86,
     "metadata": {},
     "output_type": "execute_result"
    }
   ],
   "source": [
    "# Create Document - Topic Matrix\n",
    "lda_output = best_lda_model.transform(td_idfs_lemm)\n",
    "\n",
    "# column names\n",
    "topicnames = [\"Topic\" + str(i) for i in range(best_lda_model.n_components)]\n",
    "\n",
    "# index names\n",
    "docnames = lemmatized_dataset[\"name\"]\n",
    "print(docnames)\n",
    "#print(docnames)\n",
    "\n",
    "# Make the pandas dataframe\n",
    "df_document_topic = pd.DataFrame(np.round(lda_output, 2), columns=topicnames, index=docnames)\n",
    "\n",
    "# Get dominant topic for each document\n",
    "dominant_topic = np.argmax(df_document_topic.values, axis=1)\n",
    "df_document_topic['dominant_topic'] = dominant_topic\n",
    "\n",
    "# Styling\n",
    "def color_green(val):\n",
    "    color = 'green' if val > .1 else 'black'\n",
    "    return 'color: {col}'.format(col=color)\n",
    "\n",
    "def make_bold(val):\n",
    "    weight = 700 if val > .1 else 400\n",
    "    return 'font-weight: {weight}'.format(weight=weight)\n",
    "\n",
    "# Apply Style\n",
    "df_document_topics = df_document_topic.head(15).style.applymap(color_green).applymap(make_bold)\n",
    "df_document_topics"
   ]
  },
  {
   "cell_type": "markdown",
   "metadata": {},
   "source": [
    "## Review topic distribution across documents"
   ]
  },
  {
   "cell_type": "code",
   "execution_count": 87,
   "metadata": {},
   "outputs": [
    {
     "data": {
      "text/html": [
       "<div>\n",
       "<style scoped>\n",
       "    .dataframe tbody tr th:only-of-type {\n",
       "        vertical-align: middle;\n",
       "    }\n",
       "\n",
       "    .dataframe tbody tr th {\n",
       "        vertical-align: top;\n",
       "    }\n",
       "\n",
       "    .dataframe thead th {\n",
       "        text-align: right;\n",
       "    }\n",
       "</style>\n",
       "<table border=\"1\" class=\"dataframe\">\n",
       "  <thead>\n",
       "    <tr style=\"text-align: right;\">\n",
       "      <th></th>\n",
       "      <th>Topic Num</th>\n",
       "      <th>Num Documents</th>\n",
       "    </tr>\n",
       "  </thead>\n",
       "  <tbody>\n",
       "    <tr>\n",
       "      <th>0</th>\n",
       "      <td>2</td>\n",
       "      <td>46</td>\n",
       "    </tr>\n",
       "    <tr>\n",
       "      <th>1</th>\n",
       "      <td>1</td>\n",
       "      <td>17</td>\n",
       "    </tr>\n",
       "    <tr>\n",
       "      <th>2</th>\n",
       "      <td>0</td>\n",
       "      <td>17</td>\n",
       "    </tr>\n",
       "    <tr>\n",
       "      <th>3</th>\n",
       "      <td>4</td>\n",
       "      <td>8</td>\n",
       "    </tr>\n",
       "    <tr>\n",
       "      <th>4</th>\n",
       "      <td>3</td>\n",
       "      <td>7</td>\n",
       "    </tr>\n",
       "  </tbody>\n",
       "</table>\n",
       "</div>"
      ],
      "text/plain": [
       "   Topic Num  Num Documents\n",
       "0          2             46\n",
       "1          1             17\n",
       "2          0             17\n",
       "3          4              8\n",
       "4          3              7"
      ]
     },
     "execution_count": 87,
     "metadata": {},
     "output_type": "execute_result"
    }
   ],
   "source": [
    "df_topic_distribution = df_document_topic['dominant_topic'].value_counts().reset_index(name=\"Num Documents\")\n",
    "df_topic_distribution.columns = ['Topic Num', 'Num Documents']\n",
    "df_topic_distribution"
   ]
  },
  {
   "cell_type": "markdown",
   "metadata": {},
   "source": [
    "## Try with Gensim Library"
   ]
  },
  {
   "cell_type": "code",
   "execution_count": 29,
   "metadata": {},
   "outputs": [],
   "source": [
    "lemmatized_dataset = lemmatized_dataset[~lemmatized_dataset['text'].isnull()]"
   ]
  },
  {
   "cell_type": "code",
   "execution_count": 30,
   "metadata": {},
   "outputs": [
    {
     "data": {
      "text/plain": [
       "\"with open('dataset.csv') as f:\\n    for line in f:\\n        tokens = prepare_text_for_lda(line)\\n        if random.random() > .99:\\n            print(tokens)\\n            text_data.append(tokens)\""
      ]
     },
     "execution_count": 30,
     "metadata": {},
     "output_type": "execute_result"
    }
   ],
   "source": [
    "text_data = []\n",
    "for text in lemmatized_dataset['text']:\n",
    "    tokens = text.split(\" \")\n",
    "    #print(len(tokens))\n",
    "    new_tokens=[]\n",
    "    for token in tokens:\n",
    "        if len(token)>=4 :#and token not in ['technology', 'artificial', 'intelligence', 'datum']:\n",
    "            new_tokens.append(token)\n",
    "    text_data.append(new_tokens)\n",
    "\"\"\"with open('dataset.csv') as f:\n",
    "    for line in f:\n",
    "        tokens = prepare_text_for_lda(line)\n",
    "        if random.random() > .99:\n",
    "            print(tokens)\n",
    "            text_data.append(tokens)\"\"\""
   ]
  },
  {
   "cell_type": "code",
   "execution_count": 31,
   "metadata": {},
   "outputs": [],
   "source": [
    "dictionary = corpora.Dictionary(text_data)\n",
    "corpus = [dictionary.doc2bow(text) for text in text_data]"
   ]
  },
  {
   "cell_type": "code",
   "execution_count": 48,
   "metadata": {},
   "outputs": [],
   "source": [
    "#tfidf = models.TfidfModel(corpus, id2word=dictionary)\n",
    "\n",
    "#low_value = 0.0005\n",
    "#low_value_words = []\n",
    "#all_words = 0\n",
    "#for bow in corpus:\n",
    "#    print(bow)\n",
    "    #low_value_words += [id for id, value in tfidf[bow] if value < low_value]\n",
    "#print(len(low_value_words))\n",
    "#print(all_words)\n"
   ]
  },
  {
   "cell_type": "code",
   "execution_count": 240,
   "metadata": {},
   "outputs": [],
   "source": [
    "#dictionary.filter_tokens(bad_ids=low_value_words)\n",
    "#new_corpus = [dictionary.doc2bow(text) for text in text_data]"
   ]
  },
  {
   "cell_type": "code",
   "execution_count": 32,
   "metadata": {},
   "outputs": [],
   "source": [
    "pickle.dump(corpus, open('corpus.pkl', 'wb'))\n",
    "dictionary.save('dictionary.gensim')\n",
    "#corpus=new_corpus"
   ]
  },
  {
   "cell_type": "code",
   "execution_count": 33,
   "metadata": {},
   "outputs": [],
   "source": [
    "NUM_TOPICS = 10\n",
    "ldamodel = gensim.models.ldamodel.LdaModel(corpus, num_topics = NUM_TOPICS,id2word=dictionary, passes=15)\n",
    "#ldamodel.save('model15.gensim')\n",
    "topics = ldamodel.print_topics(num_words=10)"
   ]
  },
  {
   "cell_type": "code",
   "execution_count": 34,
   "metadata": {},
   "outputs": [
    {
     "name": "stdout",
     "output_type": "stream",
     "text": [
      "\n",
      "Coherence Score:  0.41809030223806465\n"
     ]
    }
   ],
   "source": [
    "# Compute Perplexity\n",
    "#print('\\nPerplexity: ', ldamodel.log_perplexity(corpus))  # a measure of how good the model is. lower the better.\n",
    "\n",
    "# Compute Coherence Score\n",
    "coherence_model_lda = CoherenceModel(model=ldamodel, texts=text_data, dictionary=dictionary, coherence='c_v')\n",
    "coherence_lda = coherence_model_lda.get_coherence()\n",
    "print('\\nCoherence Score: ', coherence_lda)\n"
   ]
  },
  {
   "cell_type": "code",
   "execution_count": 35,
   "metadata": {},
   "outputs": [
    {
     "data": {
      "text/html": [
       "\n",
       "<link rel=\"stylesheet\" type=\"text/css\" href=\"https://cdn.rawgit.com/bmabey/pyLDAvis/files/ldavis.v1.0.0.css\">\n",
       "\n",
       "\n",
       "<div id=\"ldavis_el103152559776646207511322\"></div>\n",
       "<script type=\"text/javascript\">\n",
       "\n",
       "var ldavis_el103152559776646207511322_data = {\"mdsDat\": {\"x\": [0.0067362441169250735, 0.048383175254807814, 0.08044351606090214, 0.0675898880133542, 0.035428694904862695, 0.035152614316683276, 0.024917421305391107, 0.03064956367504336, 0.0172321393348131, -0.3465332569827826], \"y\": [0.03307327995915887, 0.0426623834706035, -0.015209451464876409, 0.06965171092430539, -0.08073679173575748, -0.05356952557286982, 0.053179857173916184, -0.10211696392898252, 0.05268786919591196, 0.0003776319785905739], \"topics\": [1, 2, 3, 4, 5, 6, 7, 8, 9, 10], \"cluster\": [1, 1, 1, 1, 1, 1, 1, 1, 1, 1], \"Freq\": [26.33074188232422, 13.95160961151123, 13.035629272460938, 9.90369701385498, 8.991975784301758, 8.891938209533691, 7.593389511108398, 6.363603591918945, 4.936253070831299, 0.0011653299443423748]}, \"tinfo\": {\"Term\": [\"robot\", \"datum\", \"human\", \"healthcare\", \"right\", \"technology\", \"robotic\", \"decision\", \"machine\", \"patient\", \"australian\", \"health\", \"model\", \"submission\", \"ethical\", \"learning\", \"care\", \"license\", \"organisation\", \"principle\", \"intelligence\", \"artificial\", \"rights\", \"australia\", \"system\", \"government\", \"social\", \"child\", \"skill\", \"research\", \"noncommercial\", \"lmic\", \"attribution\", \"colonialism\", \"sidewalk\", \"intercultural\", \"immigrant\", \"license\", \"\\ufb01eld\", \"nudging\", \"scienti\\ufb01c\", \"scherer\", \"latinx\", \"pillars\", \"palantir\", \"malle\", \"webster\", \"greene\", \"arkin\", \"walkout\", \"scheutz\", \"artifact\", \"aadhaar\", \"ubuntu\", \"mijente\", \"\\ufb01rst\", \"affective\", \"organizing\", \"fossil\", \"hansson\", \"commons\", \"rekognition\", \"creative\", \"resources\", \"personhood\", \"ieee\", \"creator\", \"uber\", \"classical\", \"systems\", \"stoa\", \"intelligent\", \"winfield\", \"nudge\", \"norm\", \"autonomous\", \"amazon\", \"initiative\", \"united\", \"effectiveness\", \"global\", \"worker\", \"ethics\", \"states\", \"november\", \"ethic\", \"facial\", \"york\", \"tech\", \"well\", \"work\", \"legal\", \"system\", \"ethical\", \"issue\", \"design\", \"university\", \"human\", \"technology\", \"community\", \"social\", \"available\", \"development\", \"research\", \"also\", \"include\", \"intelligence\", \"information\", \"datum\", \"artificial\", \"public\", \"echr\", \"actualisation\", \"oviedo\", \"rtificial\", \"rithms\", \"telia\", \"tiger\", \"royakkers\", \"substitutes\", \"ecthr\", \"softbot\", \"montpellier\", \"latam\", \"lille\", \"pluralist\", \"hybridisation\", \"treaties\", \"telef\\u00f3nica\", \"pok\\u00e9mon\", \"tractor\", \"homo\", \"korff\", \"pokemon\", \"primacy\", \"cnil\", \"cial\", \"tice\", \"underline\", \"veen\", \"robotised\", \"principled\", \"upper\", \"informational\", \"tension\", \"personalisation\", \"ministers\", \"rathenau\", \"instituut\", \"governing\", \"interference\", \"charter\", \"theme\", \"principle\", \"expression\", \"freedom\", \"document\", \"right\", \"fundamental\", \"convention\", \"debate\", \"tion\", \"declaration\", \"union\", \"algorithm\", \"respect\", \"european\", \"human\", \"dignity\", \"algorithms\", \"article\", \"europe\", \"protection\", \"call\", \"discrimination\", \"hand\", \"system\", \"privacy\", \"artificial\", \"intelligence\", \"different\", \"ethical\", \"datum\", \"technology\", \"public\", \"society\", \"also\", \"ensure\", \"impact\", \"decision\", \"make\", \"data\", \"risk\", \"individual\", \"development\", \"example\", \"include\", \"people\", \"machine\", \"social\", \"suade\", \"alvey\", \"lighthill\", \"ocado\", \"denham\", \"dpia\", \"mortgage\", \"susskind\", \"cmselect\", \"stationery\", \"pesenti\", \"cukier\", \"mcowan\", \"caldicott\", \"cujo\", \"greencoat\", \"jennie\", \"kriti\", \"norwegian\", \"esprit\", \"charities\", \"sharma\", \"dyson\", \"recital\", \"bunz\", \"mastercard\", \"astronomy\", \"ofcom\", \"henley\", \"perceptron\", \"burbidge\", \"thereaux\", \"lord\", \"autumn\", \"witness\", \"councils\", \"willing\", \"paragraph\", \"britain\", \"write\", \"ready\", \"analytic\", \"tell\", \"datum\", \"learning\", \"machine\", \"spin\", \"organisation\", \"learn\", \"gdpr\", \"notice\", \"royal\", \"processing\", \"anonymise\", \"promise\", \"version\", \"evidence\", \"data\", \"customer\", \"personal\", \"able\", \"programme\", \"access\", \"protection\", \"example\", \"business\", \"professor\", \"computer\", \"privacy\", \"make\", \"model\", \"need\", \"algorithm\", \"information\", \"sector\", \"system\", \"intelligence\", \"risk\", \"could\", \"artificial\", \"research\", \"also\", \"public\", \"decision\", \"individual\", \"ensure\", \"process\", \"people\", \"technology\", \"castan\", \"crpd\", \"suzor\", \"intopia\", \"weatherall\", \"vromen\", \"northraine\", \"swinburne\", \"wcag\", \"kingsford\", \"allens\", \"sess\", \"dobson\", \"remi\", \"australian\", \"ottawa\", \"csiro\", \"vermont\", \"nichols\", \"webkeyit\", \"mann\", \"daly\", \"harpur\", \"rizzi\", \"alrc\", \"ndis\", \"queensland\", \"paterson\", \"esafety\", \"victorian\", \"submission\", \"australia\", \"sydney\", \"commonwealth\", \"melbourne\", \"stakeholders\", \"disability\", \"sandbox\", \"broadcasting\", \"accessibility\", \"lexisnexis\", \"commissioner\", \"rights\", \"fostering\", \"kpmg\", \"consultation\", \"regulatory\", \"decision\", \"inform\", \"right\", \"commission\", \"discussion\", \"centre\", \"making\", \"human\", \"technology\", \"framework\", \"paper\", \"government\", \"consumer\", \"stakeholder\", \"body\", \"make\", \"design\", \"product\", \"accessible\", \"digital\", \"include\", \"people\", \"example\", \"system\", \"regulation\", \"ethical\", \"industry\", \"development\", \"also\", \"impact\", \"process\", \"intelligence\", \"artificial\", \"datum\", \"vibrancy\", \"eurocontrol\", \"sesar\", \"runway\", \"airspace\", \"installations\", \"atco\", \"consortiums\", \"scaled\", \"quid\", \"superglue\", \"capita\", \"glue\", \"capiq\", \"omniglot\", \"coursera\", \"skywise\", \"squad\", \"scopus\", \"percentile\", \"complementarity\", \"taulbee\", \"leaderboard\", \"eurocae\", \"anticipating\", \"dinsic\", \"crunchbase\", \"posting\", \"graph\", \"easa\", \"aviation\", \"citation\", \"index\", \"penetration\", \"enrollment\", \"landing\", \"flight\", \"linkedin\", \"airport\", \"total\", \"patent\", \"appendix\", \"return\", \"imagenet\", \"trajectory\", \"figure\", \"number\", \"country\", \"skill\", \"french\", \"aircraft\", \"france\", \"report\", \"european\", \"traffic\", \"performance\", \"artificial\", \"intelligence\", \"datum\", \"year\", \"paper\", \"conference\", \"time\", \"development\", \"base\", \"sector\", \"research\", \"could\", \"public\", \"global\", \"data\", \"level\", \"technical\", \"chapter\", \"system\", \"also\", \"provide\", \"digital\", \"learning\", \"need\", \"include\", \"make\", \"ictai\", \"pendix\", \"curity\", \"ictais\", \"naval\", \"naim\", \"ference\", \"prairie\", \"samasource\", \"phishing\", \"deployable\", \"espionage\", \"pradesh\", \"navy\", \"roff\", \"domains\", \"unclassified\", \"isis\", \"moonshot\", \"jaic\", \"lakh\", \"aeronautics\", \"ndaa\", \"infeasible\", \"insecure\", \"ransomware\", \"rategic\", \"enario\", \"mlai\", \"leveraging\", \"ally\", \"nstc\", \"subcommittee\", \"spear\", \"nitrd\", \"archetype\", \"federally\", \"intel\", \"defense\", \"sony\", \"nasa\", \"attacker\", \"marketplace\", \"transformational\", \"attack\", \"ostp\", \"darpa\", \"semiconductor\", \"hardware\", \"malicious\", \"india\", \"strategic\", \"security\", \"american\", \"annotation\", \"server\", \"federal\", \"national\", \"leverage\", \"quantum\", \"talent\", \"cybersecurity\", \"vulnerability\", \"research\", \"capability\", \"investment\", \"military\", \"strategy\", \"government\", \"cyber\", \"technology\", \"plan\", \"system\", \"intelligence\", \"development\", \"enable\", \"agency\", \"challenge\", \"program\", \"artificial\", \"develop\", \"need\", \"application\", \"include\", \"datum\", \"increase\", \"industry\", \"also\", \"human\", \"learning\", \"make\", \"could\", \"policy\", \"example\", \"information\", \"provide\", \"drukteradar\", \"vcio\", \"observables\", \"justifiability\", \"implementer\", \"supplemental\", \"aarons\", \"kahneman\", \"leslie\", \"krafft\", \"datapunt\", \"crowdedness\", \"tversky\", \"rudin\", \"bertelsmann\", \"munro\", \"glaberson\", \"interpretive\", \"bywaters\", \"permissibility\", \"hubig\", \"hla\\u010da\", \"stiftung\", \"powell\", \"answerability\", \"humanly\", \"hustedt\", \"carla\", \"fitzgerald\", \"parasuraman\", \"retrieve\", \"municipality\", \"interpretable\", \"maltreatment\", \"kitchin\", \"zafar\", \"observable\", \"interpretability\", \"amsterdam\", \"child\", \"orbit\", \"rating\", \"variable\", \"disparate\", \"family\", \"justifiable\", \"explanatory\", \"model\", \"neglect\", \"outcome\", \"explanation\", \"implementation\", \"fairness\", \"project\", \"care\", \"social\", \"algorithmic\", \"team\", \"system\", \"understanding\", \"value\", \"decision\", \"practice\", \"assessment\", \"datum\", \"ethics\", \"feature\", \"ethical\", \"process\", \"risk\", \"ethic\", \"make\", \"data\", \"design\", \"impact\", \"case\", \"machine\", \"also\", \"human\", \"need\", \"individual\", \"work\", \"information\", \"jetro\", \"reimbursement\", \"sinai\", \"cardiac\", \"clinically\", \"physicians\", \"ping\", \"sheba\", \"digitality\", \"pancreas\", \"midwife\", \"koski\", \"mika\", \"hospitals\", \"maliranta\", \"triage\", \"finnish\", \"mindstep\", \"mujin\", \"mediktor\", \"payor\", \"qventus\", \"midpoint\", \"dispatcher\", \"tomography\", \"ibsc\", \"mufg\", \"vinge\", \"olli\", \"osmo\", \"nurse\", \"transforming\", \"pharma\", \"clinical\", \"physician\", \"healthcare\", \"japan\", \"clinician\", \"interviewee\", \"patient\", \"hospital\", \"chronic\", \"tokyo\", \"radiologist\", \"wellness\", \"practitioner\", \"blood\", \"health\", \"radiology\", \"symptom\", \"percent\", \"care\", \"medical\", \"workforce\", \"exhibit\", \"mckinsey\", \"diagnostic\", \"startup\", \"japanese\", \"skill\", \"solution\", \"labour\", \"disease\", \"artificial\", \"intelligence\", \"transform\", \"organisation\", \"work\", \"market\", \"time\", \"europe\", \"need\", \"impact\", \"employment\", \"professional\", \"change\", \"also\", \"datum\", \"company\", \"european\", \"technology\", \"business\", \"system\", \"support\", \"could\", \"develop\", \"digital\", \"comest\", \"nano\", \"balson\", \"icrc\", \"roboticist\", \"creature\", \"ahuja\", \"cdao\", \"operto\", \"jsai\", \"chuo\", \"swierstra\", \"flores\", \"exoskeleton\", \"bringsjord\", \"norio\", \"murakami\", \"kyoto\", \"manipulator\", \"milk\", \"koichi\", \"hayashi\", \"\\u010dapek\", \"rossum\", \"runaround\", \"norihiro\", \"takafumi\", \"retooling\", \"frankish\", \"unimate\", \"utilization\", \"dull\", \"autism\", \"combatant\", \"armed\", \"robot\", \"robotic\", \"companionship\", \"killing\", \"moor\", \"soldier\", \"asimov\", \"kill\", \"keio\", \"bekey\", \"chairperson\", \"drone\", \"accident\", \"animal\", \"moral\", \"injure\", \"civilian\", \"vehicle\", \"weapon\", \"remotely\", \"waste\", \"human\", \"behaviour\", \"elderly\", \"agent\", \"robotics\", \"ethical\", \"society\", \"technology\", \"driving\", \"issue\", \"responsibility\", \"environment\", \"cognitive\", \"safety\", \"user\", \"machine\", \"legal\", \"make\", \"consider\", \"autonomous\", \"future\", \"also\", \"control\", \"system\", \"social\", \"possible\", \"action\", \"need\", \"development\", \"develop\", \"design\", \"artificial\", \"people\", \"intelligence\", \"decision\", \"take\", \"could\", \"principle\", \"retrace\", \"aiir\", \"authentification\", \"effortly\", \"briefs\", \"adaptiveness\", \"tolan\", \"stateful\", \"suboptimal\", \"determinedly\", \"strengths\", \"modernen\", \"capitalising\", \"ausgew\\u00e4hlte\", \"univocal\", \"demetirade\", \"dittrich\", \"tradable\", \"flounder\", \"versace\", \"limp\", \"alastair\", \"fragen\", \"churchill\", \"florina\", \"englishespa\\u00f1ol\", \"maschinen\", \"movistar\", \"carelessly\", \"recklessly\", \"human\", \"datum\", \"machine\", \"system\", \"technology\", \"research\", \"development\", \"intelligence\", \"could\", \"artificial\", \"learning\", \"social\", \"decision\", \"need\", \"also\", \"example\", \"work\", \"provide\", \"intelligent\", \"include\", \"people\", \"initiative\", \"individual\", \"value\", \"united\", \"robot\", \"science\", \"public\", \"available\", \"report\", \"right\", \"data\", \"well\", \"government\"], \"Freq\": [2357.0, 9782.0, 7954.0, 1408.0, 4119.0, 6942.0, 1021.0, 4288.0, 4127.0, 912.0, 792.0, 1475.0, 2474.0, 768.0, 3954.0, 2987.0, 1125.0, 1193.0, 1600.0, 3107.0, 5421.0, 5004.0, 1047.0, 601.0, 9060.0, 2815.0, 2960.0, 774.0, 1116.0, 4264.0, 556.546142578125, 105.54052734375, 576.9410400390625, 42.292999267578125, 40.37286376953125, 35.5529670715332, 33.614017486572266, 1161.58740234375, 27.90163803100586, 26.880556106567383, 25.021076202392578, 25.00340461730957, 24.059898376464844, 24.03692626953125, 60.18223571777344, 23.083229064941406, 33.234519958496094, 22.111373901367188, 44.27760314941406, 20.221288681030273, 38.705928802490234, 28.519622802734375, 20.21036720275879, 36.828651428222656, 18.300811767578125, 18.299406051635742, 177.60415649414062, 58.66069030761719, 17.340618133544922, 17.33528709411621, 591.3713989257812, 36.52701950073242, 609.4535522460938, 192.5335235595703, 71.9964599609375, 1267.8046875, 234.11444091796875, 110.84952545166016, 140.26422119140625, 1097.94091796875, 123.77022552490234, 1031.3577880859375, 65.07522583007812, 98.177978515625, 525.2539672851562, 1419.734375, 265.6524963378906, 1175.6116943359375, 878.189208984375, 300.5113830566406, 1202.103759765625, 561.2865600585938, 1250.20458984375, 727.307861328125, 352.1337890625, 1432.511474609375, 349.0079650878906, 341.3956298828125, 397.4926452636719, 1206.736572265625, 1444.82080078125, 999.36328125, 2851.788330078125, 1420.67333984375, 1023.0592041015625, 1145.895751953125, 873.6390380859375, 1985.9888916015625, 1741.619384765625, 599.1979370117188, 968.4497680664062, 702.9230346679688, 1036.533447265625, 1055.0677490234375, 969.4949951171875, 901.106201171875, 1008.4658813476562, 850.2894897460938, 1097.1639404296875, 859.6318359375, 800.1885986328125, 43.512939453125, 19.440710067749023, 17.417186737060547, 34.678123474121094, 18.19503402709961, 15.36142349243164, 14.303823471069336, 13.3413667678833, 13.318714141845703, 12.320075035095215, 12.316658973693848, 12.312213897705078, 12.29299259185791, 10.277242660522461, 9.256612777709961, 9.256647109985352, 10.155158042907715, 30.45195960998535, 8.24287223815918, 7.222593307495117, 7.222012519836426, 7.221737861633301, 7.221675395965576, 7.183910846710205, 68.93807983398438, 7.159544467926025, 8.9552583694458, 41.349735260009766, 6.195674896240234, 6.2014994621276855, 50.040103912353516, 77.04297637939453, 31.6973876953125, 169.0419921875, 58.60885238647461, 42.61705017089844, 35.23301315307617, 33.1873664855957, 38.840187072753906, 36.69758605957031, 113.41897583007812, 149.34805297851562, 1427.6787109375, 171.099609375, 278.23516845703125, 490.8986511230469, 1583.3101806640625, 303.1889343261719, 131.9413299560547, 238.42721557617188, 74.72972106933594, 140.02569580078125, 218.6628875732422, 803.7985229492188, 334.56317138671875, 591.3927612304688, 1969.9661865234375, 187.5907745361328, 185.7104949951172, 241.7969512939453, 288.7682800292969, 522.605224609375, 307.5020751953125, 314.22998046875, 192.60260009765625, 1479.9832763671875, 607.0839233398438, 985.0499267578125, 1025.24365234375, 435.67034912109375, 724.2106323242188, 1228.5126953125, 969.60009765625, 623.2628173828125, 523.9617919921875, 673.4342041015625, 471.2964172363281, 511.6932373046875, 612.0115966796875, 604.733642578125, 552.9933471679688, 484.3807373046875, 462.7864990234375, 513.149658203125, 474.6524658203125, 468.87744140625, 423.677001953125, 462.1386413574219, 431.7818908691406, 29.253786087036133, 78.2489013671875, 15.880033493041992, 12.998387336730957, 11.90397834777832, 32.13712692260742, 14.621986389160156, 13.714067459106445, 8.181985855102539, 8.179468154907227, 44.00302505493164, 8.16536808013916, 8.148691177368164, 16.30586814880371, 7.152353286743164, 8.052961349487305, 7.144677639007568, 13.465786933898926, 17.11131477355957, 17.071399688720703, 12.509758949279785, 13.404150009155273, 7.103738784790039, 22.320945739746094, 12.429657936096191, 11.525067329406738, 6.155548095703125, 8.82235050201416, 10.604578018188477, 6.149447441101074, 13.216547012329102, 10.56417465209961, 57.7254753112793, 20.790945053100586, 134.1545867919922, 13.90681266784668, 188.34860229492188, 96.79086303710938, 48.9374885559082, 288.94012451171875, 205.93841552734375, 326.03472900390625, 164.60391235351562, 4280.30078125, 1481.2003173828125, 1872.2406005859375, 22.183727264404297, 784.2363891601562, 828.0126342773438, 247.56105041503906, 86.93280029296875, 160.483154296875, 382.83660888671875, 43.03078079223633, 187.39041137695312, 153.1339569091797, 333.0763244628906, 1134.822265625, 217.6869354248047, 517.566650390625, 411.5225830078125, 233.1249237060547, 680.3648681640625, 531.1604614257812, 782.8589477539062, 474.5528564453125, 288.20477294921875, 372.9886474609375, 588.7803344726562, 832.697021484375, 578.4880981445312, 702.39208984375, 541.9801635742188, 600.7816772460938, 430.9717102050781, 986.7708740234375, 741.2755737304688, 532.3916625976562, 553.7220458984375, 688.7723999023438, 629.96044921875, 629.7587890625, 566.15380859375, 593.8739013671875, 476.8638000488281, 466.9148864746094, 462.0541076660156, 463.492919921875, 511.1801452636719, 58.525962829589844, 55.7124137878418, 35.911827087402344, 34.97199249267578, 34.03019714355469, 34.02491760253906, 33.08422088623047, 32.139888763427734, 28.354963302612305, 23.655567169189453, 20.82630729675293, 20.823408126831055, 19.880647659301758, 18.93851661682129, 756.0963134765625, 17.031116485595703, 17.9038143157959, 111.47185516357422, 16.112119674682617, 16.11094093322754, 51.22815704345703, 52.97002410888672, 15.16790771484375, 15.167787551879883, 15.167323112487793, 15.167613983154297, 50.98002243041992, 14.225061416625977, 14.224605560302734, 14.205225944519043, 722.9811401367188, 553.706298828125, 123.79904174804688, 38.59788131713867, 67.02227020263672, 33.08944320678711, 352.8999328613281, 61.602664947509766, 28.364042282104492, 181.91883850097656, 46.423805236816406, 202.9192657470703, 577.2603759765625, 50.38855743408203, 40.385581970214844, 194.93133544921875, 331.80279541015625, 1368.3724365234375, 383.3018493652344, 1288.9171142578125, 537.677490234375, 393.3171081542969, 351.42657470703125, 347.2096862792969, 1713.21728515625, 1497.2574462890625, 581.40478515625, 404.3978576660156, 710.755615234375, 264.7079162597656, 378.720703125, 239.3173065185547, 793.153564453125, 630.892822265625, 329.2002868652344, 160.91241455078125, 459.5767517089844, 601.6939697265625, 481.3646545410156, 535.1004638671875, 746.0288696289062, 327.72332763671875, 507.60650634765625, 340.8157958984375, 443.8054504394531, 456.5621032714844, 406.0428466796875, 371.5384216308594, 383.5326843261719, 367.3045654296875, 367.0256652832031, 70.94842529296875, 35.398250579833984, 30.61666488647461, 22.977773666381836, 46.80679702758789, 24.711612701416016, 19.163440704345703, 21.865318298339844, 23.685853958129883, 46.4228515625, 20.863054275512695, 135.48992919921875, 19.929285049438477, 18.08200454711914, 17.13691520690918, 42.526119232177734, 13.44368839263916, 15.207171440124512, 19.674924850463867, 14.2159423828125, 26.728336334228516, 13.294032096862793, 12.375006675720215, 10.578351020812988, 10.56474781036377, 10.565316200256348, 19.417556762695312, 44.20637130737305, 127.21085357666016, 9.627909660339355, 300.78277587890625, 139.65919494628906, 383.36346435546875, 114.91413879394531, 68.93043518066406, 22.518306732177734, 109.70941162109375, 76.98088073730469, 58.784793853759766, 195.8688201904297, 98.41490173339844, 224.52003479003906, 121.9815444946289, 51.2034912109375, 47.5886344909668, 215.0829315185547, 538.5703735351562, 388.76873779296875, 404.9910583496094, 142.0026092529297, 71.57355499267578, 129.1698760986328, 572.3414306640625, 374.7514343261719, 110.4941635131836, 197.4302215576172, 648.04150390625, 675.5870361328125, 942.2830200195312, 262.1625671386719, 279.03167724609375, 194.3928985595703, 306.45037841796875, 474.62567138671875, 360.9106140136719, 305.81805419921875, 468.6034851074219, 376.68902587890625, 382.5285949707031, 306.9300537109375, 349.0447692871094, 269.2062072753906, 238.45550537109375, 213.3236846923828, 395.5321044921875, 323.265380859375, 281.06158447265625, 263.8443298339844, 282.7115478515625, 289.9266052246094, 274.126953125, 273.7746276855469, 52.91228485107422, 21.81575584411621, 18.857830047607422, 17.778362274169922, 11.880763053894043, 11.873425483703613, 7.98877477645874, 7.953338146209717, 6.984341144561768, 21.119874954223633, 6.9475417137146, 15.762283325195312, 6.921539783477783, 7.765222549438477, 6.010162353515625, 12.929015159606934, 5.992839813232422, 11.940094947814941, 5.981452941894531, 12.89419937133789, 5.978831768035889, 5.961216449737549, 5.898344993591309, 5.026832103729248, 5.02686071395874, 5.026249885559082, 5.025944709777832, 5.025352954864502, 5.019673824310303, 5.01815128326416, 38.725929260253906, 24.457183837890625, 27.673114776611328, 18.458993911743164, 24.721952438354492, 9.840222358703613, 13.836527824401855, 74.31412506103516, 255.4923858642578, 26.760976791381836, 13.031877517700195, 39.81254196166992, 68.49560546875, 17.469139099121094, 233.4114532470703, 19.534799575805664, 55.190738677978516, 23.348323822021484, 113.81193542480469, 100.45258331298828, 215.4376220703125, 211.31405639648438, 618.3807373046875, 222.35626220703125, 41.4859504699707, 30.657127380371094, 241.1065673828125, 629.3576049804688, 80.15827178955078, 30.996580123901367, 111.88648986816406, 93.35186767578125, 80.5658187866211, 884.2427978515625, 204.2373046875, 225.530029296875, 142.4793701171875, 337.3378601074219, 558.4859008789062, 103.60204315185547, 868.7021484375, 191.0618896484375, 919.664306640625, 618.7177734375, 493.4917907714844, 252.24562072753906, 218.30508422851562, 292.6060485839844, 208.58360290527344, 508.5639343261719, 374.1099853515625, 394.43145751953125, 303.1719055175781, 354.99249267578125, 556.4530639648438, 254.0574493408203, 249.24737548828125, 348.8173828125, 373.50579833984375, 281.1782531738281, 294.8665771484375, 266.9505920410156, 247.71153259277344, 255.24610900878906, 253.47659301757812, 249.0814971923828, 53.86088943481445, 61.258201599121094, 46.92820739746094, 32.62599563598633, 65.23440551757812, 18.31139373779297, 17.358959197998047, 14.479471206665039, 14.475278854370117, 15.367673873901367, 12.56899642944336, 12.569073677062988, 12.562287330627441, 12.560519218444824, 12.531671524047852, 11.603263854980469, 11.600556373596191, 10.639782905578613, 10.639410972595215, 10.639585494995117, 10.614543914794922, 10.569623947143555, 10.60235595703125, 8.722519874572754, 8.719992637634277, 8.696236610412598, 8.699543952941895, 8.697135925292969, 8.670528411865234, 11.253948211669922, 385.3497314453125, 63.610389709472656, 108.7583999633789, 29.051969528198242, 32.581565856933594, 12.874217987060547, 37.20767593383789, 139.462158203125, 74.87589263916016, 425.3480529785156, 31.089448928833008, 68.5340347290039, 114.9338607788086, 99.4511489868164, 165.66098022460938, 33.45006561279297, 47.18757247924805, 792.7481079101562, 34.83495330810547, 305.8171691894531, 207.92477416992188, 261.2701721191406, 296.3360595703125, 371.38775634765625, 308.7320556640625, 607.3646850585938, 281.88916015625, 169.1849365234375, 1032.979248046875, 199.39825439453125, 394.65374755859375, 565.7703857421875, 279.6525573730469, 228.06968688964844, 772.4625854492188, 314.81011962890625, 156.87318420410156, 385.1567687988281, 307.85235595703125, 322.8609313964844, 318.8260803222656, 393.0398254394531, 345.48284912109375, 304.6960144042969, 289.1188659667969, 245.18896484375, 303.3468017578125, 288.10205078125, 328.1495361328125, 263.904541015625, 249.56552124023438, 257.0188903808594, 250.64817810058594, 42.36743927001953, 16.416101455688477, 16.41054916381836, 13.488024711608887, 12.486990928649902, 11.58065128326416, 10.6547212600708, 10.653034210205078, 10.652522087097168, 10.649016380310059, 10.647603988647461, 9.69546890258789, 9.693224906921387, 9.659086227416992, 8.730996131896973, 40.28056335449219, 31.530332565307617, 7.775696754455566, 7.774841785430908, 7.772048473358154, 7.771616458892822, 7.770266532897949, 8.063743591308594, 7.706620693206787, 7.675843238830566, 6.814692497253418, 6.813150882720947, 6.812014579772949, 6.812704086303711, 6.811668872833252, 80.22689819335938, 49.439579010009766, 11.772708892822266, 295.89984130859375, 83.7328109741211, 1045.5394287109375, 383.45379638671875, 52.95271301269531, 48.232723236083984, 631.9835205078125, 190.1080780029297, 33.333045959472656, 101.01160430908203, 31.14803695678711, 24.418243408203125, 208.82383728027344, 38.1054573059082, 667.2437133789062, 66.78620910644531, 29.95343589782715, 130.0204315185547, 407.1329345703125, 287.8782043457031, 222.97357177734375, 57.14518356323242, 68.25736236572266, 58.18159103393555, 150.40687561035156, 93.7892837524414, 290.36871337890625, 281.0779113769531, 102.61186218261719, 76.56358337402344, 577.6090698242188, 599.16552734375, 93.49512481689453, 275.6075744628906, 423.1746826171875, 185.5071563720703, 259.7866516113281, 173.086669921875, 379.8638610839844, 333.133056640625, 149.97866821289062, 173.44851684570312, 233.06118774414062, 352.32342529296875, 458.84130859375, 247.15008544921875, 221.6232452392578, 347.2575988769531, 217.3084259033203, 366.176513671875, 214.9369354248047, 236.9521942138672, 232.9404754638672, 209.7808074951172, 42.471736907958984, 14.944361686706543, 9.973443984985352, 31.77936553955078, 18.037214279174805, 7.989603042602539, 7.994988918304443, 7.99084997177124, 9.747085571289062, 35.695369720458984, 7.023492813110352, 7.023410797119141, 7.003488063812256, 6.988357067108154, 6.901258945465088, 6.033729076385498, 6.033221244812012, 6.032283782958984, 6.028802871704102, 10.244978904724121, 5.04278564453125, 5.041916847229004, 5.035919189453125, 5.0360331535339355, 5.002394199371338, 4.05303430557251, 4.052795886993408, 4.0526604652404785, 4.052603244781494, 4.052701950073242, 35.60415267944336, 4.855426788330078, 12.956618309020996, 14.414310455322266, 57.54435348510742, 1560.5870361328125, 620.4947509765625, 18.36916732788086, 12.605816841125488, 13.822427749633789, 9.319104194641113, 21.035917282104492, 63.94224166870117, 13.953736305236816, 14.96059799194336, 11.986498832702637, 104.0485610961914, 96.39911651611328, 50.03403854370117, 202.06857299804688, 14.27690601348877, 39.62479782104492, 142.38592529296875, 85.43753051757812, 26.011924743652344, 32.13644790649414, 811.1019897460938, 110.60652160644531, 51.63703918457031, 125.60957336425781, 99.07193756103516, 435.07574462890625, 311.70062255859375, 582.1066284179688, 43.51604461669922, 268.487548828125, 156.02337646484375, 134.9571990966797, 66.86554718017578, 157.95262145996094, 185.0367431640625, 265.8902282714844, 187.16275024414062, 260.4668884277344, 168.2908172607422, 180.50393676757812, 165.85357666015625, 229.13084411621094, 136.84194946289062, 281.1903076171875, 182.009765625, 137.65277099609375, 130.27212524414062, 178.9132537841797, 182.2773895263672, 162.29295349121094, 160.66514587402344, 172.88392639160156, 151.51358032226562, 166.35598754882812, 159.1060333251953, 145.43463134765625, 150.19651794433594, 148.08798217773438, 0.00039963165181688964, 0.0003995971055701375, 0.00039950941572897136, 0.00039961657603271306, 0.00039944431046023965, 0.0003995306324213743, 0.00039956552791409194, 0.00039948447374626994, 0.0003995575534645468, 0.0003995863953605294, 0.00039959631976671517, 0.0003995571460109204, 0.00039950257632881403, 0.000399619631934911, 0.000399474665755406, 0.00039950470090843737, 0.00039942609146237373, 0.00039957198896445334, 0.00039950059726834297, 0.0003995005099568516, 0.0003995990555267781, 0.000399474025471136, 0.0003995455917902291, 0.00039943092269822955, 0.00039952981751412153, 0.00039940080023370683, 0.000399537238990888, 0.0003994210564997047, 0.000399518758058548, 0.0003996298764832318, 0.004321224521845579, 0.004045994020998478, 0.003244117135182023, 0.0038227136246860027, 0.003521197009831667, 0.003026357851922512, 0.0028933107387274504, 0.0031099808402359486, 0.00270185898989439, 0.002952001290395856, 0.002592130098491907, 0.0025091408751904964, 0.00271160458214581, 0.0025573614984750748, 0.002594173653051257, 0.002431585220620036, 0.0023637947160750628, 0.0022321809083223343, 0.0019135454203933477, 0.0023299665190279484, 0.0021378181409090757, 0.00195396994240582, 0.0020676124840974808, 0.0019662659615278244, 0.0017611616058275104, 0.0019451506668701768, 0.0018098196014761925, 0.0020471836905926466, 0.0018151892581954598, 0.0019317326368764043, 0.0020589556079357862, 0.00201225932687521, 0.001919361180625856, 0.001924322103150189], \"Total\": [2357.0, 9782.0, 7954.0, 1408.0, 4119.0, 6942.0, 1021.0, 4288.0, 4127.0, 912.0, 792.0, 1475.0, 2474.0, 768.0, 3954.0, 2987.0, 1125.0, 1193.0, 1600.0, 3107.0, 5421.0, 5004.0, 1047.0, 601.0, 9060.0, 2815.0, 2960.0, 774.0, 1116.0, 4264.0, 558.396728515625, 106.58528900146484, 588.2521362304688, 43.14748764038086, 41.224586486816406, 36.41304397583008, 34.487327575683594, 1193.3826904296875, 28.727079391479492, 27.748872756958008, 25.842626571655273, 25.83734703063965, 24.881240844726562, 24.8759822845459, 62.33296203613281, 23.917566299438477, 34.464847564697266, 22.94483757019043, 46.036888122558594, 21.034578323364258, 40.27564239501953, 29.678466796875, 21.03211784362793, 38.348880767822266, 19.112998962402344, 19.112106323242188, 185.60630798339844, 61.390628814697266, 18.151878356933594, 18.15047264099121, 625.3800659179688, 38.344215393066406, 662.8681030273438, 208.67564392089844, 76.7491455078125, 1464.001708984375, 264.128662109375, 122.25828552246094, 156.74606323242188, 1372.0826416015625, 137.90115356445312, 1337.7694091796875, 71.13410186767578, 110.60755157470703, 681.3248291015625, 2140.258056640625, 344.4205322265625, 1807.894775390625, 1382.4334716796875, 410.8080139160156, 2021.596435546875, 847.1481323242188, 2159.255615234375, 1178.451904296875, 509.72747802734375, 2695.8671875, 504.4834289550781, 510.1553039550781, 635.460693359375, 2747.400146484375, 3500.25830078125, 2175.305908203125, 9060.1181640625, 3954.47998046875, 2575.672119140625, 3072.260986328125, 2082.133056640625, 7954.515625, 6942.68408203125, 1236.853759765625, 2960.974853515625, 1782.885009765625, 3842.9921875, 4264.96044921875, 4270.8916015625, 3437.944580078125, 5421.080078125, 3095.838134765625, 9782.1923828125, 5004.87451171875, 3297.43896484375, 44.74947738647461, 20.26648712158203, 18.225202560424805, 36.51369857788086, 19.166046142578125, 16.18267059326172, 15.146583557128906, 14.139983177185059, 14.133526802062988, 13.118584632873535, 13.117352485656738, 13.118728637695312, 13.117621421813965, 11.075735092163086, 10.052627563476562, 10.054403305053711, 11.054729461669922, 33.35821533203125, 9.0333833694458, 8.011612892150879, 8.011553764343262, 8.01150894165039, 8.011552810668945, 7.9989399909973145, 76.95536041259766, 7.993836402893066, 9.9991455078125, 46.598350524902344, 6.9833197593688965, 6.9899983406066895, 56.565093994140625, 88.03374481201172, 36.32181167602539, 208.86737060546875, 73.7366943359375, 52.56419372558594, 43.42618942260742, 41.387367248535156, 50.225189208984375, 47.46125030517578, 168.5501251220703, 230.93544006347656, 3107.942138671875, 279.2245788574219, 501.0888671875, 1010.0819702148438, 4119.80126953125, 582.3500366210938, 223.57875061035156, 484.3055419921875, 118.05230712890625, 258.92864990234375, 457.6654052734375, 2394.111328125, 790.6555786132812, 1643.1729736328125, 7954.515625, 381.9540100097656, 380.92529296875, 541.9928588867188, 738.9959106445312, 1723.5079345703125, 827.328857421875, 867.9247436523438, 443.0169372558594, 9060.1181640625, 2408.40673828125, 5004.87451171875, 5421.080078125, 1561.1795654296875, 3954.47998046875, 9782.1923828125, 6942.68408203125, 3297.43896484375, 2484.131103515625, 4270.8916015625, 2298.601318359375, 2863.506591796875, 4288.826171875, 4403.5498046875, 3667.17138671875, 2744.850830078125, 2450.87646484375, 3842.9921875, 3189.51953125, 3437.944580078125, 2501.37060546875, 4127.04638671875, 2960.974853515625, 30.236101150512695, 82.7474594116211, 17.05198860168457, 14.020203590393066, 13.001715660095215, 35.1418342590332, 15.989755630493164, 15.016331672668457, 8.972230911254883, 8.971244812011719, 48.27942657470703, 8.964640617370605, 8.966872215270996, 18.02918243408203, 7.948697090148926, 8.950831413269043, 7.945850849151611, 15.001352310180664, 19.074724197387695, 19.032106399536133, 13.991318702697754, 14.998051643371582, 7.949675559997559, 25.039554595947266, 13.986275672912598, 12.975085258483887, 6.943935394287109, 9.952932357788086, 11.969793319702148, 6.9440083503723145, 14.987153053283691, 11.96711254119873, 68.15927124023438, 24.023681640625, 167.37867736816406, 15.985930442810059, 249.3847198486328, 125.90425872802734, 61.014251708984375, 415.3049011230469, 297.00274658203125, 518.0653686523438, 247.25845336914062, 9782.1923828125, 2987.39501953125, 4127.04638671875, 26.937145233154297, 1600.6553955078125, 1868.990478515625, 454.54144287109375, 133.86781311035156, 286.444580078125, 845.93310546875, 59.730857849121094, 360.9519958496094, 291.6156311035156, 770.7140502929688, 3667.17138671875, 465.5205078125, 1492.6158447265625, 1116.821533203125, 560.4910888671875, 2356.15380859375, 1723.5079345703125, 3189.51953125, 1569.0064697265625, 777.9263305664062, 1165.845458984375, 2408.40673828125, 4403.5498046875, 2474.926513671875, 3564.916748046875, 2394.111328125, 3095.838134765625, 1699.3048095703125, 9060.1181640625, 5421.080078125, 2744.850830078125, 3009.510986328125, 5004.87451171875, 4264.96044921875, 4270.8916015625, 3297.43896484375, 4288.826171875, 2450.87646484375, 2298.601318359375, 2440.8525390625, 2501.37060546875, 6942.68408203125, 59.42037582397461, 56.58616256713867, 36.75275802612305, 35.80999755859375, 34.865623474121094, 34.86594772338867, 33.921875, 32.976253509521484, 29.195240020751953, 24.477392196655273, 21.64434814453125, 21.6439151763916, 20.698881149291992, 19.75548553466797, 792.0667114257812, 17.857646942138672, 18.798913955688477, 117.0709457397461, 16.92205238342285, 16.921899795532227, 53.81068420410156, 55.719886779785156, 15.977397918701172, 15.977383613586426, 15.9771146774292, 15.977535247802734, 53.73146057128906, 15.033162117004395, 15.033207893371582, 15.024730682373047, 768.581298828125, 601.449951171875, 133.18655395507812, 41.47360610961914, 74.56784057617188, 35.85658264160156, 433.7433776855469, 69.93219757080078, 31.082496643066406, 249.30679321289062, 54.92701721191406, 308.7610778808594, 1047.916259765625, 63.330570220947266, 48.3955192565918, 333.1405029296875, 696.792724609375, 4288.826171875, 845.519287109375, 4119.80126953125, 1429.0302734375, 949.1735229492188, 837.94091796875, 862.132568359375, 7954.515625, 6942.68408203125, 1938.011962890625, 1205.0029296875, 2815.1611328125, 674.600830078125, 1189.925537109375, 624.3715209960938, 4403.5498046875, 3072.260986328125, 1096.3355712890625, 329.82855224609375, 2069.6962890625, 3437.944580078125, 2501.37060546875, 3189.51953125, 9060.1181640625, 1186.321044921875, 3954.47998046875, 1555.602294921875, 3842.9921875, 4270.8916015625, 2863.506591796875, 2440.8525390625, 5421.080078125, 5004.87451171875, 9782.1923828125, 72.6611557006836, 36.267154693603516, 31.48404884338379, 23.830026626586914, 48.724632263183594, 25.75364875793457, 20.003517150878906, 22.880935668945312, 24.80066680908203, 48.72093963623047, 21.928062438964844, 142.5079345703125, 20.971229553222656, 19.053619384765625, 18.096437454223633, 44.955078125, 14.262310028076172, 16.1782169342041, 20.960176467895508, 15.228636741638184, 28.651329040527344, 14.270419120788574, 13.310769081115723, 11.39213752746582, 11.39161205291748, 11.392234802246094, 20.963762283325195, 47.85203552246094, 137.86868286132812, 10.435436248779297, 331.2675476074219, 153.62440490722656, 448.3353271484375, 131.15615844726562, 79.45439910888672, 24.77851104736328, 137.00286865234375, 101.53952026367188, 74.86494445800781, 297.8243713378906, 138.15687561035156, 390.5762634277344, 192.45175170898438, 68.22638702392578, 62.337677001953125, 418.71221923828125, 1414.3720703125, 1013.60791015625, 1116.3724365234375, 276.997314453125, 112.0507583618164, 259.0662536621094, 2693.055908203125, 1643.1729736328125, 236.5758056640625, 616.1484985351562, 5004.87451171875, 5421.080078125, 9782.1923828125, 1064.867431640625, 1205.0029296875, 664.4439086914062, 1589.0205078125, 3842.9921875, 2321.819091796875, 1699.3048095703125, 4264.96044921875, 3009.510986328125, 3297.43896484375, 2021.596435546875, 3667.17138671875, 1845.529296875, 1327.08203125, 910.9523315429688, 9060.1181640625, 4270.8916015625, 2665.71044921875, 2069.6962890625, 2987.39501953125, 3564.916748046875, 3437.944580078125, 4403.5498046875, 54.2563591003418, 22.64126205444336, 19.672792434692383, 18.6684513092041, 12.740636825561523, 12.733842849731445, 8.786334037780762, 8.776515007019043, 7.790350914001465, 23.644804000854492, 7.788007736206055, 17.679948806762695, 7.784496784210205, 8.736056327819824, 6.806207656860352, 14.65849494934082, 6.803523540496826, 13.556327819824219, 6.797579765319824, 14.661881446838379, 6.798776626586914, 6.783186912536621, 6.798205375671387, 5.816858768463135, 5.8171796798706055, 5.816991806030273, 5.817127227783203, 5.816836357116699, 5.815652847290039, 5.814474582672119, 45.17589569091797, 28.533679962158203, 32.3336296081543, 21.637144088745117, 29.41720962524414, 11.623169898986816, 16.60778045654297, 95.69186401367188, 352.32794189453125, 33.24363708496094, 15.636868476867676, 51.9889030456543, 95.09806823730469, 21.559505462646484, 376.8230285644531, 24.48297882080078, 79.66957092285156, 30.346452713012695, 183.89369201660156, 161.53623962402344, 396.06256103515625, 394.74542236328125, 1474.3656005859375, 450.4173278808594, 60.55607986450195, 42.072147369384766, 546.7199096679688, 1944.599853515625, 145.29945373535156, 43.45545196533203, 235.37344360351562, 187.7193603515625, 155.46585083007812, 4264.96044921875, 587.6605224609375, 681.7725219726562, 356.1371154785156, 1288.2142333984375, 2815.1611328125, 246.17213439941406, 6942.68408203125, 665.4459838867188, 9060.1181640625, 5421.080078125, 3842.9921875, 1195.2628173828125, 933.315673828125, 1646.8968505859375, 892.32275390625, 5004.87451171875, 2793.859375, 3564.916748046875, 2207.480224609375, 3437.944580078125, 9782.1923828125, 1627.2459716796875, 1555.602294921875, 4270.8916015625, 7954.515625, 2987.39501953125, 4403.5498046875, 3009.510986328125, 2185.68994140625, 3189.51953125, 3095.838134765625, 2665.71044921875, 54.71943283081055, 62.41199493408203, 47.985408782958984, 33.5539665222168, 68.13526916503906, 19.139232635498047, 18.181371688842773, 15.295218467712402, 15.296514511108398, 16.254596710205078, 13.370330810546875, 13.370460510253906, 13.372618675231934, 13.372092247009277, 13.368932723999023, 12.41119384765625, 12.411088943481445, 11.449222564697266, 11.448992729187012, 11.449197769165039, 11.446772575378418, 11.439072608947754, 11.524218559265137, 9.52595043182373, 9.52565860748291, 9.503704071044922, 9.523892402648926, 9.523504257202148, 9.50096607208252, 12.351940155029297, 465.8804016113281, 73.96344757080078, 129.4893798828125, 33.49613571166992, 38.430381774902344, 14.35733699798584, 45.24894714355469, 196.61843872070312, 104.66218566894531, 774.58984375, 39.707801818847656, 101.21248626708984, 194.59454345703125, 164.3892059326172, 311.6461486816406, 45.232887268066406, 69.75935363769531, 2474.926513671875, 51.07993698120117, 891.9519653320312, 537.388916015625, 779.6227416992188, 976.6555786132812, 1369.616943359375, 1125.5430908203125, 2960.974853515625, 1021.457763671875, 537.779541015625, 9060.1181640625, 735.358642578125, 2241.04833984375, 4288.826171875, 1450.194580078125, 1028.8800048828125, 9782.1923828125, 2159.255615234375, 537.0319213867188, 3954.47998046875, 2440.8525390625, 2744.850830078125, 2695.8671875, 4403.5498046875, 3667.17138671875, 3072.260986328125, 2863.506591796875, 1889.5120849609375, 4127.04638671875, 4270.8916015625, 7954.515625, 3564.916748046875, 2450.87646484375, 3500.25830078125, 3095.838134765625, 43.229820251464844, 17.23710060119629, 17.23758316040039, 14.344720840454102, 13.370529174804688, 12.421021461486816, 11.461577415466309, 11.461539268493652, 11.462063789367676, 11.459954261779785, 11.460379600524902, 10.499309539794922, 10.499046325683594, 10.494861602783203, 9.536334037780762, 44.16392517089844, 34.60313034057617, 8.572574615478516, 8.572741508483887, 8.573552131652832, 8.573442459106445, 8.573535919189453, 8.898271560668945, 8.565788269042969, 8.564071655273438, 7.609828472137451, 7.6096601486206055, 7.609925746917725, 7.611118793487549, 7.610707759857178, 92.37483215332031, 56.607330322265625, 13.295613288879395, 359.4840087890625, 100.96324920654297, 1408.736083984375, 513.4537963867188, 64.55921173095703, 58.5934944152832, 912.2509155273438, 257.4791564941406, 40.332645416259766, 136.49560546875, 38.340179443359375, 29.686058044433594, 348.000244140625, 51.073646545410156, 1475.4403076171875, 103.75617218017578, 41.372772216796875, 262.4886779785156, 1125.5430908203125, 727.1576538085938, 536.7122192382812, 94.16178894042969, 120.47962188720703, 98.5810775756836, 358.0120544433594, 190.6088104248047, 1116.3724365234375, 1080.9630126953125, 246.0523681640625, 161.3380126953125, 5004.87451171875, 5421.080078125, 228.2469482421875, 1600.6553955078125, 3500.25830078125, 826.1358642578125, 1589.0205078125, 738.9959106445312, 3564.916748046875, 2863.506591796875, 558.542724609375, 763.2359619140625, 1449.6881103515625, 4270.8916015625, 9782.1923828125, 2145.37060546875, 1643.1729736328125, 6942.68408203125, 1569.0064697265625, 9060.1181640625, 1764.1158447265625, 3009.510986328125, 2793.859375, 2069.6962890625, 44.44091796875, 15.746570587158203, 10.777398109436035, 34.48488235473633, 19.603933334350586, 8.786155700683594, 8.79410171508789, 8.794149398803711, 10.765066146850586, 39.448768615722656, 7.814762115478516, 7.814714431762695, 7.802553176879883, 7.809322834014893, 7.801078796386719, 6.823138236999512, 6.823185920715332, 6.8230767250061035, 6.821415424346924, 11.720474243164062, 5.831628799438477, 5.831425666809082, 5.8275346755981445, 5.828514575958252, 5.8160505294799805, 4.839964866638184, 4.839982509613037, 4.8398637771606445, 4.839827060699463, 4.839945316314697, 43.220523834228516, 5.801987171173096, 15.782157897949219, 17.619638442993164, 75.12371063232422, 2357.515625, 1021.9981079101562, 23.500343322753906, 15.79141902923584, 17.6068058013916, 11.618451118469238, 29.262826919555664, 108.83396911621094, 18.564071655273438, 20.5187931060791, 15.737528800964355, 226.12655639648438, 210.5558319091797, 98.9374008178711, 615.4921875, 20.559154510498047, 84.49922943115234, 550.571533203125, 264.4327392578125, 47.886783599853516, 66.16011810302734, 7954.515625, 438.0525817871094, 136.55902099609375, 536.466552734375, 374.893310546875, 3954.47998046875, 2484.131103515625, 6942.68408203125, 109.42207336425781, 2575.672119140625, 1044.309326171875, 848.1121215820312, 242.39959716796875, 1301.08251953125, 1802.7698974609375, 4127.04638671875, 2175.305908203125, 4403.5498046875, 1827.232421875, 2140.258056640625, 1829.9793701171875, 4270.8916015625, 1177.93310546875, 9060.1181640625, 2960.974853515625, 1250.1854248046875, 1142.4644775390625, 3564.916748046875, 3842.9921875, 2793.859375, 3072.260986328125, 5004.87451171875, 2501.37060546875, 5421.080078125, 4288.826171875, 1997.534912109375, 3009.510986328125, 3107.942138671875, 0.8883315920829773, 0.8918317556381226, 0.8919591307640076, 0.8929411172866821, 0.8931050300598145, 0.8944452404975891, 0.8951257467269897, 0.8949637413024902, 0.8967995047569275, 0.8977168798446655, 0.8980622887611389, 0.8980022072792053, 0.8991406559944153, 0.8994636535644531, 0.8992118835449219, 0.9003739953041077, 0.9006936550140381, 0.9026017189025879, 0.9027276039123535, 0.9037966728210449, 0.9060351252555847, 0.9063575267791748, 0.9083250164985657, 0.9080981612205505, 0.910810649394989, 0.9109742641448975, 0.9116177558898926, 0.9115228056907654, 0.9118251204490662, 0.9122483730316162, 7954.515625, 9782.1923828125, 4127.04638671875, 9060.1181640625, 6942.68408203125, 4264.96044921875, 3842.9921875, 5421.080078125, 3009.510986328125, 5004.87451171875, 2987.39501953125, 2960.974853515625, 4288.826171875, 3564.916748046875, 4270.8916015625, 3189.51953125, 3500.25830078125, 2665.71044921875, 1337.7694091796875, 3437.944580078125, 2501.37060546875, 1807.894775390625, 2450.87646484375, 2241.04833984375, 1382.4334716796875, 2357.515625, 1682.740234375, 3297.43896484375, 1782.885009765625, 2693.055908203125, 4119.80126953125, 3667.17138671875, 2747.400146484375, 2815.1611328125], \"Category\": [\"Default\", \"Default\", \"Default\", \"Default\", \"Default\", \"Default\", \"Default\", \"Default\", \"Default\", \"Default\", \"Default\", \"Default\", \"Default\", \"Default\", \"Default\", \"Default\", \"Default\", \"Default\", \"Default\", \"Default\", \"Default\", \"Default\", \"Default\", \"Default\", \"Default\", \"Default\", \"Default\", \"Default\", \"Default\", \"Default\", \"Topic1\", \"Topic1\", \"Topic1\", \"Topic1\", \"Topic1\", \"Topic1\", \"Topic1\", \"Topic1\", \"Topic1\", \"Topic1\", \"Topic1\", \"Topic1\", \"Topic1\", \"Topic1\", \"Topic1\", \"Topic1\", \"Topic1\", \"Topic1\", \"Topic1\", \"Topic1\", \"Topic1\", \"Topic1\", \"Topic1\", \"Topic1\", \"Topic1\", \"Topic1\", \"Topic1\", \"Topic1\", \"Topic1\", \"Topic1\", \"Topic1\", \"Topic1\", \"Topic1\", \"Topic1\", \"Topic1\", \"Topic1\", \"Topic1\", \"Topic1\", \"Topic1\", \"Topic1\", \"Topic1\", \"Topic1\", \"Topic1\", \"Topic1\", \"Topic1\", \"Topic1\", \"Topic1\", \"Topic1\", \"Topic1\", \"Topic1\", \"Topic1\", \"Topic1\", \"Topic1\", \"Topic1\", \"Topic1\", \"Topic1\", \"Topic1\", \"Topic1\", \"Topic1\", \"Topic1\", \"Topic1\", \"Topic1\", \"Topic1\", \"Topic1\", \"Topic1\", \"Topic1\", \"Topic1\", \"Topic1\", \"Topic1\", \"Topic1\", \"Topic1\", \"Topic1\", \"Topic1\", \"Topic1\", \"Topic1\", \"Topic1\", \"Topic1\", \"Topic1\", \"Topic1\", \"Topic1\", \"Topic1\", \"Topic2\", \"Topic2\", \"Topic2\", \"Topic2\", \"Topic2\", \"Topic2\", \"Topic2\", \"Topic2\", \"Topic2\", \"Topic2\", \"Topic2\", \"Topic2\", \"Topic2\", \"Topic2\", \"Topic2\", \"Topic2\", \"Topic2\", \"Topic2\", \"Topic2\", \"Topic2\", \"Topic2\", \"Topic2\", \"Topic2\", \"Topic2\", \"Topic2\", \"Topic2\", \"Topic2\", \"Topic2\", \"Topic2\", \"Topic2\", \"Topic2\", \"Topic2\", \"Topic2\", \"Topic2\", \"Topic2\", \"Topic2\", \"Topic2\", \"Topic2\", \"Topic2\", \"Topic2\", \"Topic2\", \"Topic2\", \"Topic2\", \"Topic2\", \"Topic2\", \"Topic2\", \"Topic2\", \"Topic2\", \"Topic2\", \"Topic2\", \"Topic2\", \"Topic2\", \"Topic2\", \"Topic2\", \"Topic2\", \"Topic2\", \"Topic2\", \"Topic2\", \"Topic2\", \"Topic2\", \"Topic2\", \"Topic2\", \"Topic2\", \"Topic2\", \"Topic2\", \"Topic2\", \"Topic2\", \"Topic2\", \"Topic2\", \"Topic2\", \"Topic2\", \"Topic2\", \"Topic2\", \"Topic2\", \"Topic2\", \"Topic2\", \"Topic2\", \"Topic2\", \"Topic2\", \"Topic2\", \"Topic2\", \"Topic2\", \"Topic2\", \"Topic2\", \"Topic2\", \"Topic2\", \"Topic2\", \"Topic2\", \"Topic2\", \"Topic3\", \"Topic3\", \"Topic3\", \"Topic3\", \"Topic3\", \"Topic3\", \"Topic3\", \"Topic3\", \"Topic3\", \"Topic3\", \"Topic3\", \"Topic3\", \"Topic3\", \"Topic3\", \"Topic3\", \"Topic3\", \"Topic3\", \"Topic3\", \"Topic3\", \"Topic3\", \"Topic3\", \"Topic3\", \"Topic3\", \"Topic3\", \"Topic3\", \"Topic3\", \"Topic3\", \"Topic3\", \"Topic3\", \"Topic3\", \"Topic3\", \"Topic3\", \"Topic3\", \"Topic3\", \"Topic3\", \"Topic3\", \"Topic3\", \"Topic3\", \"Topic3\", \"Topic3\", \"Topic3\", \"Topic3\", \"Topic3\", \"Topic3\", \"Topic3\", \"Topic3\", \"Topic3\", \"Topic3\", \"Topic3\", \"Topic3\", \"Topic3\", \"Topic3\", \"Topic3\", \"Topic3\", \"Topic3\", \"Topic3\", \"Topic3\", \"Topic3\", \"Topic3\", \"Topic3\", \"Topic3\", \"Topic3\", \"Topic3\", \"Topic3\", \"Topic3\", \"Topic3\", \"Topic3\", \"Topic3\", \"Topic3\", \"Topic3\", \"Topic3\", \"Topic3\", \"Topic3\", \"Topic3\", \"Topic3\", \"Topic3\", \"Topic3\", \"Topic3\", \"Topic3\", \"Topic3\", \"Topic3\", \"Topic3\", \"Topic3\", \"Topic3\", \"Topic3\", \"Topic3\", \"Topic3\", \"Topic3\", \"Topic3\", \"Topic4\", \"Topic4\", \"Topic4\", \"Topic4\", \"Topic4\", \"Topic4\", \"Topic4\", \"Topic4\", \"Topic4\", \"Topic4\", \"Topic4\", \"Topic4\", \"Topic4\", \"Topic4\", \"Topic4\", \"Topic4\", \"Topic4\", \"Topic4\", \"Topic4\", \"Topic4\", \"Topic4\", \"Topic4\", \"Topic4\", \"Topic4\", \"Topic4\", \"Topic4\", \"Topic4\", \"Topic4\", \"Topic4\", \"Topic4\", \"Topic4\", \"Topic4\", \"Topic4\", \"Topic4\", \"Topic4\", \"Topic4\", \"Topic4\", \"Topic4\", \"Topic4\", \"Topic4\", \"Topic4\", \"Topic4\", \"Topic4\", \"Topic4\", \"Topic4\", \"Topic4\", \"Topic4\", \"Topic4\", \"Topic4\", \"Topic4\", \"Topic4\", \"Topic4\", \"Topic4\", \"Topic4\", \"Topic4\", \"Topic4\", \"Topic4\", \"Topic4\", \"Topic4\", \"Topic4\", \"Topic4\", \"Topic4\", \"Topic4\", \"Topic4\", \"Topic4\", \"Topic4\", \"Topic4\", \"Topic4\", \"Topic4\", \"Topic4\", \"Topic4\", \"Topic4\", \"Topic4\", \"Topic4\", \"Topic4\", \"Topic4\", \"Topic4\", \"Topic4\", \"Topic4\", \"Topic4\", \"Topic4\", \"Topic5\", \"Topic5\", \"Topic5\", \"Topic5\", \"Topic5\", \"Topic5\", \"Topic5\", \"Topic5\", \"Topic5\", \"Topic5\", \"Topic5\", \"Topic5\", \"Topic5\", \"Topic5\", \"Topic5\", \"Topic5\", \"Topic5\", \"Topic5\", \"Topic5\", \"Topic5\", \"Topic5\", \"Topic5\", \"Topic5\", \"Topic5\", \"Topic5\", \"Topic5\", \"Topic5\", \"Topic5\", \"Topic5\", \"Topic5\", \"Topic5\", \"Topic5\", \"Topic5\", \"Topic5\", \"Topic5\", \"Topic5\", \"Topic5\", \"Topic5\", \"Topic5\", \"Topic5\", \"Topic5\", \"Topic5\", \"Topic5\", \"Topic5\", \"Topic5\", \"Topic5\", \"Topic5\", \"Topic5\", \"Topic5\", \"Topic5\", \"Topic5\", \"Topic5\", \"Topic5\", \"Topic5\", \"Topic5\", \"Topic5\", \"Topic5\", \"Topic5\", \"Topic5\", \"Topic5\", \"Topic5\", \"Topic5\", \"Topic5\", \"Topic5\", \"Topic5\", \"Topic5\", \"Topic5\", \"Topic5\", \"Topic5\", \"Topic5\", \"Topic5\", \"Topic5\", \"Topic5\", \"Topic5\", \"Topic5\", \"Topic5\", \"Topic5\", \"Topic5\", \"Topic5\", \"Topic5\", \"Topic5\", \"Topic5\", \"Topic6\", \"Topic6\", \"Topic6\", \"Topic6\", \"Topic6\", \"Topic6\", \"Topic6\", \"Topic6\", \"Topic6\", \"Topic6\", \"Topic6\", \"Topic6\", \"Topic6\", \"Topic6\", \"Topic6\", \"Topic6\", \"Topic6\", \"Topic6\", \"Topic6\", \"Topic6\", \"Topic6\", \"Topic6\", \"Topic6\", \"Topic6\", \"Topic6\", \"Topic6\", \"Topic6\", \"Topic6\", \"Topic6\", \"Topic6\", \"Topic6\", \"Topic6\", \"Topic6\", \"Topic6\", \"Topic6\", \"Topic6\", \"Topic6\", \"Topic6\", \"Topic6\", \"Topic6\", \"Topic6\", \"Topic6\", \"Topic6\", \"Topic6\", \"Topic6\", \"Topic6\", \"Topic6\", \"Topic6\", \"Topic6\", \"Topic6\", \"Topic6\", \"Topic6\", \"Topic6\", \"Topic6\", \"Topic6\", \"Topic6\", \"Topic6\", \"Topic6\", \"Topic6\", \"Topic6\", \"Topic6\", \"Topic6\", \"Topic6\", \"Topic6\", \"Topic6\", \"Topic6\", \"Topic6\", \"Topic6\", \"Topic6\", \"Topic6\", \"Topic6\", \"Topic6\", \"Topic6\", \"Topic6\", \"Topic6\", \"Topic6\", \"Topic6\", \"Topic6\", \"Topic6\", \"Topic6\", \"Topic6\", \"Topic6\", \"Topic6\", \"Topic6\", \"Topic6\", \"Topic6\", \"Topic6\", \"Topic6\", \"Topic6\", \"Topic6\", \"Topic6\", \"Topic6\", \"Topic6\", \"Topic6\", \"Topic6\", \"Topic6\", \"Topic7\", \"Topic7\", \"Topic7\", \"Topic7\", \"Topic7\", \"Topic7\", \"Topic7\", \"Topic7\", \"Topic7\", \"Topic7\", \"Topic7\", \"Topic7\", \"Topic7\", \"Topic7\", \"Topic7\", \"Topic7\", \"Topic7\", \"Topic7\", \"Topic7\", \"Topic7\", \"Topic7\", \"Topic7\", \"Topic7\", \"Topic7\", \"Topic7\", \"Topic7\", \"Topic7\", \"Topic7\", \"Topic7\", \"Topic7\", \"Topic7\", \"Topic7\", \"Topic7\", \"Topic7\", \"Topic7\", \"Topic7\", \"Topic7\", \"Topic7\", \"Topic7\", \"Topic7\", \"Topic7\", \"Topic7\", \"Topic7\", \"Topic7\", \"Topic7\", \"Topic7\", \"Topic7\", \"Topic7\", \"Topic7\", \"Topic7\", \"Topic7\", \"Topic7\", \"Topic7\", \"Topic7\", \"Topic7\", \"Topic7\", \"Topic7\", \"Topic7\", \"Topic7\", \"Topic7\", \"Topic7\", \"Topic7\", \"Topic7\", \"Topic7\", \"Topic7\", \"Topic7\", \"Topic7\", \"Topic7\", \"Topic7\", \"Topic7\", \"Topic7\", \"Topic7\", \"Topic7\", \"Topic7\", \"Topic7\", \"Topic7\", \"Topic7\", \"Topic7\", \"Topic7\", \"Topic7\", \"Topic7\", \"Topic7\", \"Topic7\", \"Topic8\", \"Topic8\", \"Topic8\", \"Topic8\", \"Topic8\", \"Topic8\", \"Topic8\", \"Topic8\", \"Topic8\", \"Topic8\", \"Topic8\", \"Topic8\", \"Topic8\", \"Topic8\", \"Topic8\", \"Topic8\", \"Topic8\", \"Topic8\", \"Topic8\", \"Topic8\", \"Topic8\", \"Topic8\", \"Topic8\", \"Topic8\", \"Topic8\", \"Topic8\", \"Topic8\", \"Topic8\", \"Topic8\", \"Topic8\", \"Topic8\", \"Topic8\", \"Topic8\", \"Topic8\", \"Topic8\", \"Topic8\", \"Topic8\", \"Topic8\", \"Topic8\", \"Topic8\", \"Topic8\", \"Topic8\", \"Topic8\", \"Topic8\", \"Topic8\", \"Topic8\", \"Topic8\", \"Topic8\", \"Topic8\", \"Topic8\", \"Topic8\", \"Topic8\", \"Topic8\", \"Topic8\", \"Topic8\", \"Topic8\", \"Topic8\", \"Topic8\", \"Topic8\", \"Topic8\", \"Topic8\", \"Topic8\", \"Topic8\", \"Topic8\", \"Topic8\", \"Topic8\", \"Topic8\", \"Topic8\", \"Topic8\", \"Topic8\", \"Topic8\", \"Topic8\", \"Topic8\", \"Topic8\", \"Topic8\", \"Topic8\", \"Topic8\", \"Topic8\", \"Topic8\", \"Topic8\", \"Topic8\", \"Topic8\", \"Topic8\", \"Topic8\", \"Topic8\", \"Topic8\", \"Topic8\", \"Topic9\", \"Topic9\", \"Topic9\", \"Topic9\", \"Topic9\", \"Topic9\", \"Topic9\", \"Topic9\", \"Topic9\", \"Topic9\", \"Topic9\", \"Topic9\", \"Topic9\", \"Topic9\", \"Topic9\", \"Topic9\", \"Topic9\", \"Topic9\", \"Topic9\", \"Topic9\", \"Topic9\", \"Topic9\", \"Topic9\", \"Topic9\", \"Topic9\", \"Topic9\", \"Topic9\", \"Topic9\", \"Topic9\", \"Topic9\", \"Topic9\", \"Topic9\", \"Topic9\", \"Topic9\", \"Topic9\", \"Topic9\", \"Topic9\", \"Topic9\", \"Topic9\", \"Topic9\", \"Topic9\", \"Topic9\", \"Topic9\", \"Topic9\", \"Topic9\", \"Topic9\", \"Topic9\", \"Topic9\", \"Topic9\", \"Topic9\", \"Topic9\", \"Topic9\", \"Topic9\", \"Topic9\", \"Topic9\", \"Topic9\", \"Topic9\", \"Topic9\", \"Topic9\", \"Topic9\", \"Topic9\", \"Topic9\", \"Topic9\", \"Topic9\", \"Topic9\", \"Topic9\", \"Topic9\", \"Topic9\", \"Topic9\", \"Topic9\", \"Topic9\", \"Topic9\", \"Topic9\", \"Topic9\", \"Topic9\", \"Topic9\", \"Topic9\", \"Topic9\", \"Topic9\", \"Topic9\", \"Topic9\", \"Topic9\", \"Topic9\", \"Topic9\", \"Topic9\", \"Topic9\", \"Topic9\", \"Topic9\", \"Topic9\", \"Topic9\", \"Topic9\", \"Topic9\", \"Topic9\", \"Topic9\", \"Topic10\", \"Topic10\", \"Topic10\", \"Topic10\", \"Topic10\", \"Topic10\", \"Topic10\", \"Topic10\", \"Topic10\", \"Topic10\", \"Topic10\", \"Topic10\", \"Topic10\", \"Topic10\", \"Topic10\", \"Topic10\", \"Topic10\", \"Topic10\", \"Topic10\", \"Topic10\", \"Topic10\", \"Topic10\", \"Topic10\", \"Topic10\", \"Topic10\", \"Topic10\", \"Topic10\", \"Topic10\", \"Topic10\", \"Topic10\", \"Topic10\", \"Topic10\", \"Topic10\", \"Topic10\", \"Topic10\", \"Topic10\", \"Topic10\", \"Topic10\", \"Topic10\", \"Topic10\", \"Topic10\", \"Topic10\", \"Topic10\", \"Topic10\", \"Topic10\", \"Topic10\", \"Topic10\", \"Topic10\", \"Topic10\", \"Topic10\", \"Topic10\", \"Topic10\", \"Topic10\", \"Topic10\", \"Topic10\", \"Topic10\", \"Topic10\", \"Topic10\", \"Topic10\", \"Topic10\", \"Topic10\", \"Topic10\", \"Topic10\", \"Topic10\"], \"logprob\": [30.0, 29.0, 28.0, 27.0, 26.0, 25.0, 24.0, 23.0, 22.0, 21.0, 20.0, 19.0, 18.0, 17.0, 16.0, 15.0, 14.0, 13.0, 12.0, 11.0, 10.0, 9.0, 8.0, 7.0, 6.0, 5.0, 4.0, 3.0, 2.0, 1.0, -6.173600196838379, -7.836299896240234, -6.137599945068359, -8.750699996948242, -8.797200202941895, -8.924300193786621, -8.980400085449219, -5.43779993057251, -9.16670036315918, -9.204000473022461, -9.275699615478516, -9.276399612426758, -9.314800262451172, -9.315799713134766, -8.39799976348877, -9.356300354003906, -8.991800308227539, -9.399299621582031, -8.704899787902832, -9.48859977722168, -8.839400291442871, -9.144800186157227, -9.4891996383667, -8.889100074768066, -9.588399887084961, -9.588500022888184, -7.315800189971924, -8.423600196838379, -9.64229965209961, -9.642600059509277, -6.1128997802734375, -8.897299766540527, -6.082799911499023, -7.235099792480469, -8.218799591064453, -5.350299835205078, -7.039599895477295, -7.787199974060059, -7.551799774169922, -5.494200229644775, -7.6768999099731445, -5.556700229644775, -8.31980037689209, -7.908599853515625, -6.231500148773193, -5.237100124359131, -6.9131999015808105, -5.42579984664917, -5.71750020980835, -6.789899826049805, -5.403500080108643, -6.16510009765625, -5.364299774169922, -5.906000137329102, -6.631400108337402, -5.2281999588012695, -6.6402997970581055, -6.662300109863281, -6.510200023651123, -5.399700164794922, -5.219600200653076, -5.5883002281188965, -4.539700031280518, -5.236499786376953, -5.564799785614014, -5.451399803161621, -5.722700119018555, -4.901500225067139, -5.032800197601318, -6.099800109863281, -5.619699954986572, -5.940100193023682, -5.551700115203857, -5.533999919891357, -5.618599891662598, -5.691699981689453, -5.57919979095459, -5.749800205230713, -5.494900226593018, -5.738900184631348, -5.810500144958496, -8.087200164794922, -8.892900466918945, -9.002799987792969, -8.31410026550293, -8.959099769592285, -9.128399848937988, -9.199700355529785, -9.269399642944336, -9.271100044250488, -9.348999977111816, -9.349300384521484, -9.349599838256836, -9.351200103759766, -9.53030014038086, -9.634900093078613, -9.634900093078613, -9.542200088500977, -8.444100379943848, -9.750900268554688, -9.883000373840332, -9.883099555969238, -9.883099555969238, -9.883099555969238, -9.888400077819824, -7.626999855041504, -9.891799926757812, -9.668000221252441, -8.138199806213379, -10.036399841308594, -10.035400390625, -7.947400093078613, -7.515900135040283, -8.404000282287598, -6.730100154876709, -7.789299964904785, -8.107999801635742, -8.298199653625488, -8.358099937438965, -8.200799942016602, -8.257499694824219, -7.1290998458862305, -6.853899955749512, -4.596399784088135, -6.7179999351501465, -6.231800079345703, -5.664000034332275, -4.493000030517578, -6.145899772644043, -6.97790002822876, -6.386199951171875, -7.54640007019043, -6.918399810791016, -6.472700119018555, -5.170899868011475, -6.047399997711182, -5.477700233459473, -4.274499893188477, -6.625999927520752, -6.636000156402588, -6.372099876403809, -6.1946001052856445, -5.601399898529053, -6.131700038909912, -6.110099792480469, -6.599599838256836, -4.560400009155273, -5.451600074768066, -4.96750020980835, -4.927499771118164, -5.783299922943115, -5.275100231170654, -4.746699810028076, -4.98330020904541, -5.425300121307373, -5.598800182342529, -5.347799777984619, -5.704699993133545, -5.622499942779541, -5.44350004196167, -5.455399990081787, -5.544899940490723, -5.6774001121521, -5.7230000495910645, -5.619699954986572, -5.6975998878479, -5.70989990234375, -5.811299800872803, -5.724400043487549, -5.792300224304199, -8.416299819946289, -7.432400226593018, -9.027299880981445, -9.227499961853027, -9.315400123596191, -8.32229995727539, -9.109800338745117, -9.17389965057373, -9.690400123596191, -9.690699577331543, -8.008099555969238, -9.692399978637695, -9.694499969482422, -9.000800132751465, -9.824899673461914, -9.706299781799316, -9.826000213623047, -9.19219970703125, -8.95259952545166, -8.954899787902832, -9.265800476074219, -9.196800231933594, -9.831700325012207, -8.686800003051758, -9.272199630737305, -9.347800254821777, -9.975000381469727, -9.614999771118164, -9.430999755859375, -9.97599983215332, -9.21090030670166, -9.434900283813477, -7.736599922180176, -8.757800102233887, -6.8933000564575195, -9.159899711608887, -6.553999900817871, -7.219799995422363, -7.901800155639648, -6.126100063323975, -6.464700222015381, -6.005300045013428, -6.688799858093262, -3.430500030517578, -4.491700172424316, -4.257400035858154, -8.692999839782715, -5.127600193023682, -5.073299884796143, -6.280700206756592, -7.327199935913086, -6.714099884033203, -5.844699859619141, -8.030400276184082, -6.559100151062012, -6.761000156402588, -5.98390007019043, -4.7581000328063965, -6.409299850463867, -5.5432000160217285, -5.772500038146973, -6.340700149536133, -5.269700050354004, -5.517300128936768, -5.12939977645874, -5.629899978637695, -6.128600120544434, -5.870800018310547, -5.414299964904785, -5.067699909210205, -5.4319000244140625, -5.237800121307373, -5.497099876403809, -5.394100189208984, -5.72629976272583, -4.897900104522705, -5.183899879455566, -5.514900207519531, -5.4756999015808105, -5.257400035858154, -5.346700191497803, -5.3470001220703125, -5.453499794006348, -5.405700206756592, -5.625100135803223, -5.646200180053711, -5.656599998474121, -5.653500080108643, -5.555600166320801, -7.4481000900268555, -7.497300148010254, -7.936500072479248, -7.9629998207092285, -7.990300178527832, -7.9903998374938965, -8.018500328063965, -8.04740047454834, -8.172699928283691, -8.353899955749512, -8.481300354003906, -8.481499671936035, -8.527799606323242, -8.576299667358398, -4.889400005340576, -8.682499885559082, -8.632499694824219, -6.803800106048584, -8.73799991607666, -8.73799991607666, -7.581299781799316, -7.547800064086914, -8.798399925231934, -8.798399925231934, -8.798399925231934, -8.798399925231934, -7.586100101470947, -8.862500190734863, -8.862600326538086, -8.863900184631348, -4.934199810028076, -5.200900077819824, -6.69890022277832, -7.864299774169922, -7.3125, -8.01830005645752, -5.651400089263916, -7.3968000411987305, -8.17240047454834, -6.314000129699707, -7.679699897766113, -6.204699993133545, -5.159200191497803, -7.597799777984619, -7.8190999031066895, -6.244900226593018, -5.7129998207092285, -4.296199798583984, -5.568699836730957, -4.355999946594238, -5.230299949645996, -5.542900085449219, -5.6554999351501465, -5.667600154876709, -4.071400165557861, -4.206200122833252, -5.152100086212158, -5.515100002288818, -4.951200008392334, -5.938899993896484, -5.580699920654297, -6.03980016708374, -4.8414998054504395, -5.070400238037109, -5.720900058746338, -6.436699867248535, -5.387199878692627, -5.117800235748291, -5.34089994430542, -5.235099792480469, -4.9028000831604, -5.725399971008301, -5.287799835205078, -5.686200141906738, -5.4222002029418945, -5.393799781799316, -5.511099815368652, -5.599899768829346, -5.5680999755859375, -5.611400127410889, -5.612100124359131, -7.158999919891357, -7.854300022125244, -7.9994001388549805, -8.286399841308594, -7.574900150299072, -8.213700294494629, -8.468000411987305, -8.336099624633789, -8.256099700927734, -7.583199977874756, -8.383000373840332, -6.5121002197265625, -8.428799629211426, -8.526000022888184, -8.579700469970703, -7.67080020904541, -8.822500228881836, -8.699199676513672, -8.44159984588623, -8.766599655151367, -8.135199546813965, -8.833700180053711, -8.90530014038086, -9.062199592590332, -9.063400268554688, -9.063400268554688, -8.45479965209961, -7.6321001052856445, -6.575099945068359, -9.156299591064453, -5.714600086212158, -6.481800079345703, -5.4720001220703125, -6.676799774169922, -7.187900066375732, -8.306599617004395, -6.723100185394287, -7.077400207519531, -7.347099781036377, -6.143499851226807, -6.8317999839782715, -6.006999969482422, -6.617099761962891, -7.485199928283691, -7.5584001541137695, -6.049900054931641, -5.131999969482422, -5.458000183105469, -5.417099952697754, -6.465099811553955, -7.150199890136719, -6.559800148010254, -5.071199893951416, -5.494699954986572, -6.716000080108643, -6.1356000900268555, -4.947000026702881, -4.905399799346924, -4.572700023651123, -5.8520002365112305, -5.789599895477295, -6.151100158691406, -5.695899963378906, -5.258399963378906, -5.532299995422363, -5.697999954223633, -5.271200180053711, -5.489500045776367, -5.4741997718811035, -5.694300174713135, -5.565800189971924, -5.825500011444092, -5.946800231933594, -6.058199882507324, -5.440700054168701, -5.642499923706055, -5.782400131225586, -5.845600128173828, -5.776500225067139, -5.751299858093262, -5.807400226593018, -5.808700084686279, -7.441100120544434, -8.327099800109863, -8.472900390625, -8.531800270080566, -8.934900283813477, -8.935500144958496, -9.331700325012207, -9.336199760437012, -9.466099739074707, -8.359600067138672, -9.471400260925293, -8.652199745178223, -9.475099563598633, -9.360099792480469, -9.616299629211426, -8.850299835205078, -9.619199752807617, -8.929900169372559, -9.621100425720215, -8.852999687194824, -9.621600151062012, -9.624500274658203, -9.635100364685059, -9.795000076293945, -9.795000076293945, -9.795100212097168, -9.79520034790039, -9.795299530029297, -9.79640007019043, -9.796699523925781, -7.753300189971924, -8.212900161743164, -8.089300155639648, -8.494199752807617, -8.202099800109863, -9.123299598693848, -8.782500267028809, -7.101500034332275, -5.866600036621094, -8.12279987335205, -8.842399597167969, -7.725599765777588, -7.183000087738037, -8.549300193786621, -5.956999778747559, -8.437600135803223, -7.39900016784668, -8.259300231933594, -6.67519998550415, -6.800099849700928, -6.037099838256836, -6.056399822235107, -4.982699871063232, -6.005499839782715, -7.6844000816345215, -7.9868998527526855, -5.924499988555908, -4.965099811553955, -7.0258002281188965, -7.975900173187256, -6.692299842834473, -6.8734002113342285, -7.020699977874756, -4.625, -6.0904998779296875, -5.991300106048584, -6.4506001472473145, -5.588699817657471, -5.084499835968018, -6.769199848175049, -4.6427998542785645, -6.157199859619141, -4.5858001708984375, -4.982100009918213, -5.2083001136779785, -5.87939977645874, -6.023900032043457, -5.730999946594238, -6.069399833679199, -5.178199768066406, -5.485199928283691, -5.432300090789795, -5.695499897003174, -5.537700176239014, -5.088200092315674, -5.872200012207031, -5.891300201416016, -5.555200099945068, -5.486800193786621, -5.7708001136779785, -5.723299980163574, -5.822700023651123, -5.897500038146973, -5.867599964141846, -5.874499797821045, -5.892000198364258, -7.265500068664551, -7.1367998123168945, -7.403299808502197, -7.7667999267578125, -7.07390022277832, -8.344400405883789, -8.39780044555664, -8.57919979095459, -8.579500198364258, -8.519599914550781, -8.72070026397705, -8.72070026397705, -8.721199989318848, -8.721400260925293, -8.723699569702148, -8.800600051879883, -8.80090045928955, -8.887299537658691, -8.887299537658691, -8.887299537658691, -8.889699935913086, -8.893899917602539, -8.890800476074219, -9.086000442504883, -9.086299896240234, -9.08899974822998, -9.088600158691406, -9.088899612426758, -9.092000007629395, -8.831199645996094, -5.297800064086914, -7.099100112915039, -6.56279993057251, -7.882800102233887, -7.768199920654297, -8.696700096130371, -7.63539981842041, -6.3140997886657715, -6.936100006103516, -5.198999881744385, -7.815000057220459, -7.024600028991699, -6.507599830627441, -6.652200222015381, -6.142000198364258, -7.7418999671936035, -7.397799968719482, -4.576399803161621, -7.701300144195557, -5.528900146484375, -5.914700031280518, -5.686399936676025, -5.560400009155273, -5.334700107574463, -5.519400119781494, -4.842800140380859, -5.610400199890137, -6.1209001541137695, -4.311699867248535, -5.956600189208984, -5.273900032043457, -4.913700103759766, -5.6184000968933105, -5.822299957275391, -4.60230016708374, -5.499899864196777, -6.196499824523926, -5.298299789428711, -5.522299766540527, -5.474699974060059, -5.487299919128418, -5.2779998779296875, -5.4070000648498535, -5.532599925994873, -5.585100173950195, -5.749899864196777, -5.5370001792907715, -5.588600158691406, -5.458399772644043, -5.676300048828125, -5.7322001457214355, -5.7027997970581055, -5.72790002822876, -7.328800201416016, -8.277000427246094, -8.277299880981445, -8.473400115966797, -8.55049991607666, -8.625900268554688, -8.709199905395508, -8.709400177001953, -8.709400177001953, -8.709799766540527, -8.70989990234375, -8.803600311279297, -8.803799629211426, -8.807299613952637, -8.908300399780273, -7.37939977645874, -7.624300003051758, -9.024200439453125, -9.024299621582031, -9.024700164794922, -9.024800300598145, -9.024900436401367, -8.987799644470215, -9.033100128173828, -9.037199974060059, -9.156100273132324, -9.156399726867676, -9.156499862670898, -9.156399726867676, -9.156599998474121, -6.690400123596191, -7.174499988555908, -8.609399795532227, -5.385200023651123, -6.647600173950195, -4.122900009155273, -5.125999927520752, -7.105800151824951, -7.19920015335083, -4.626399993896484, -5.827600002288818, -7.568699836730957, -6.460000038146973, -7.636499881744385, -7.879899978637695, -5.733699798583984, -7.434899806976318, -4.5721001625061035, -6.873700141906738, -7.675600051879883, -6.207499980926514, -5.066100120544434, -5.412700176239014, -5.6682000160217285, -7.029600143432617, -6.851900100708008, -7.01170015335083, -6.0619001388549805, -6.534200191497803, -5.404099941253662, -5.436600208282471, -6.444300174713135, -6.737100124359131, -4.716300010681152, -4.679699897766113, -6.537300109863281, -5.456299781799316, -5.027400016784668, -5.852099895477295, -5.515399932861328, -5.92140007019043, -5.13539981842041, -5.26669979095459, -6.064700126647949, -5.919300079345703, -5.623899936676025, -5.210700035095215, -4.946499824523926, -5.565199851989746, -5.674200057983398, -5.225200176239014, -5.693900108337402, -5.172100067138672, -5.704899787902832, -5.607399940490723, -5.6244001388549805, -5.7291998863220215, -7.072400093078613, -8.116900444030762, -8.521300315856934, -7.362400054931641, -7.928800106048584, -8.7431001663208, -8.742400169372559, -8.742899894714355, -8.544300079345703, -7.246200084686279, -8.871999740600586, -8.871999740600586, -8.874799728393555, -8.876999855041504, -8.88949966430664, -9.023900032043457, -9.02400016784668, -9.024100303649902, -9.024700164794922, -8.494500160217285, -9.203300476074219, -9.203499794006348, -9.20460033416748, -9.20460033416748, -9.211299896240234, -9.421799659729004, -9.421799659729004, -9.421899795532227, -9.421899795532227, -9.421899795532227, -7.248799800872803, -9.241100311279297, -8.259599685668945, -8.152999877929688, -6.768700122833252, -3.468400001525879, -4.390699863433838, -7.910600185394287, -8.287099838256836, -8.194899559020996, -8.589200019836426, -7.775000095367432, -6.663300037384033, -8.185500144958496, -8.115799903869629, -8.337499618530273, -6.176400184631348, -6.252699851989746, -6.9085001945495605, -5.512599945068359, -8.162599563598633, -7.1417999267578125, -5.86269998550415, -6.373499870300293, -7.562699794769287, -7.351200103759766, -4.122799873352051, -6.115300178527832, -6.876999855041504, -5.988100051879883, -6.225399971008301, -4.745699882507324, -5.07919979095459, -4.454599857330322, -7.048099994659424, -5.228400230407715, -5.771200180053711, -5.916299819946289, -6.618599891662598, -5.758900165557861, -5.6006999015808105, -5.2382001876831055, -5.589300155639648, -5.258800029754639, -5.695499897003174, -5.625500202178955, -5.710100173950195, -5.386899948120117, -5.902400016784668, -5.182199954986572, -5.617199897766113, -5.896500110626221, -5.951600074768066, -5.634300231933594, -5.615699768066406, -5.731800079345703, -5.7418999671936035, -5.668600082397461, -5.800600051879883, -5.707099914550781, -5.751699924468994, -5.8414998054504395, -5.809299945831299, -5.823400020599365, -10.2947998046875, -10.294899940490723, -10.29520034790039, -10.294899940490723, -10.295299530029297, -10.295100212097168, -10.295000076293945, -10.29520034790039, -10.295000076293945, -10.295000076293945, -10.294899940490723, -10.295000076293945, -10.29520034790039, -10.294899940490723, -10.29520034790039, -10.29520034790039, -10.29539966583252, -10.295000076293945, -10.29520034790039, -10.29520034790039, -10.294899940490723, -10.29520034790039, -10.295100212097168, -10.29539966583252, -10.295100212097168, -10.29539966583252, -10.295100212097168, -10.29539966583252, -10.295100212097168, -10.294899940490723, -7.914100170135498, -7.979899883270264, -8.200799942016602, -8.036700248718262, -8.118800163269043, -8.270299911499023, -8.315199851989746, -8.243000030517578, -8.383700370788574, -8.29520034790039, -8.425200462341309, -8.4576997756958, -8.38010025024414, -8.438699722290039, -8.424400329589844, -8.489100456237793, -8.517399787902832, -8.574700355529785, -8.728699684143066, -8.531800270080566, -8.617899894714355, -8.707799911499023, -8.651200294494629, -8.701499938964844, -8.811699867248535, -8.712300300598145, -8.78439998626709, -8.661199569702148, -8.781399726867676, -8.719200134277344, -8.655400276184082, -8.678400039672852, -8.725600242614746, -8.723099708557129], \"loglift\": [30.0, 29.0, 28.0, 27.0, 26.0, 25.0, 24.0, 23.0, 22.0, 21.0, 20.0, 19.0, 18.0, 17.0, 16.0, 15.0, 14.0, 13.0, 12.0, 11.0, 10.0, 9.0, 8.0, 7.0, 6.0, 5.0, 4.0, 3.0, 2.0, 1.0, 1.3310999870300293, 1.3245999813079834, 1.315000057220459, 1.3143999576568604, 1.313599944114685, 1.3105000257492065, 1.3087999820709229, 1.3073999881744385, 1.305299997329712, 1.3026000261306763, 1.3020999431610107, 1.3015999794006348, 1.3008999824523926, 1.3000999689102173, 1.299299955368042, 1.2989000082015991, 1.2980999946594238, 1.2973999977111816, 1.2955000400543213, 1.2949999570846558, 1.294700026512146, 1.294600009918213, 1.294600009918213, 1.2940000295639038, 1.2910000085830688, 1.2910000085830688, 1.2904000282287598, 1.2889000177383423, 1.288699984550476, 1.2884999513626099, 1.278499960899353, 1.2858999967575073, 1.2503999471664429, 1.2539000511169434, 1.2704999446868896, 1.190500020980835, 1.2137999534606934, 1.2365000247955322, 1.2232999801635742, 1.1115000247955322, 1.2263000011444092, 1.0743000507354736, 1.2453999519348145, 1.2151999473571777, 1.0743000507354736, 0.9240000247955322, 1.0748000144958496, 0.9041000008583069, 0.8806999921798706, 1.0218000411987305, 0.8145999908447266, 0.9228000044822693, 0.7879999876022339, 0.8518000245094299, 0.9646000266075134, 0.7020999789237976, 0.9660000205039978, 0.9327999949455261, 0.8652999997138977, 0.5116999745368958, 0.4496000111103058, 0.5565999746322632, 0.1784999966621399, 0.310699999332428, 0.41110000014305115, 0.3481999933719635, 0.4659999907016754, -0.053199999034404755, -0.04839999973773956, 0.6097000241279602, 0.21690000593662262, 0.40369999408721924, 0.02410000003874302, -0.06239999830722809, -0.14839999377727509, -0.004600000102072954, -0.3474000096321106, 0.0421999990940094, -0.8533999919891357, -0.42719998955726624, -0.08160000294446945, 1.94159996509552, 1.9279999732971191, 1.9242000579833984, 1.9179999828338623, 1.9176000356674194, 1.9175000190734863, 1.9122999906539917, 1.9113999605178833, 1.9101999998092651, 1.9068000316619873, 1.906599998474121, 1.9061000347137451, 1.9046000242233276, 1.8947999477386475, 1.8870999813079834, 1.8868999481201172, 1.8846999406814575, 1.8783999681472778, 1.878000020980835, 1.8659000396728516, 1.8658000230789185, 1.8658000230789185, 1.8658000230789185, 1.8621000051498413, 1.8595999479293823, 1.8594000339508057, 1.8593000173568726, 1.850100040435791, 1.8499000072479248, 1.8499000072479248, 1.847000002861023, 1.8361999988555908, 1.833400011062622, 1.7580000162124634, 1.7400000095367432, 1.7597999572753906, 1.7604999542236328, 1.7488000392913818, 1.712499976158142, 1.712399959564209, 1.5734000205993652, 1.5336999893188477, 1.1916999816894531, 1.4797999858856201, 1.3812999725341797, 1.2480000257492065, 1.0132999420166016, 1.3169000148773193, 1.442199945449829, 1.2609000205993652, 1.5123000144958496, 1.3547999858856201, 1.2309999465942383, 0.8781999945640564, 1.1095000505447388, 0.947700023651123, 0.5738999843597412, 1.2584999799728394, 1.2511999607086182, 1.1624000072479248, 1.0298999547958374, 0.7763000130653381, 0.9799000024795532, 0.9535999894142151, 1.1366000175476074, 0.15770000219345093, 0.5914999842643738, 0.3440999984741211, 0.3041999936103821, 0.6933000087738037, 0.2721000015735626, -0.10520000010728836, 0.0010000000474974513, 0.303600013256073, 0.4133000075817108, 0.12240000069141388, 0.38499999046325684, 0.2475000023841858, 0.022600000724196434, -0.015799999237060547, 0.07769999653100967, 0.23499999940395355, 0.3025999963283539, -0.04390000179409981, 0.06449999660253525, -0.022700000554323196, 0.1940000057220459, -0.2198999971151352, 0.044199999421834946, 2.004499912261963, 1.981600046157837, 1.9663000106811523, 1.9617999792099, 1.9493000507354736, 1.948099970817566, 1.948099970817566, 1.9467999935150146, 1.9452999830245972, 1.945099949836731, 1.944700002670288, 1.944100022315979, 1.9417999982833862, 1.937000036239624, 1.9319000244140625, 1.9318000078201294, 1.9312000274658203, 1.9294999837875366, 1.9289000034332275, 1.9287999868392944, 1.9256000518798828, 1.9250999689102173, 1.9249999523162842, 1.9226000308990479, 1.9194999933242798, 1.9190000295639038, 1.9170000553131104, 1.9169000387191772, 1.9163999557495117, 1.9160000085830688, 1.9118000268936157, 1.9127999544143677, 1.8712999820709229, 1.8930000066757202, 1.8162000179290771, 1.8982000350952148, 1.7568000555038452, 1.7745000123977661, 1.8169000148773193, 1.6747000217437744, 1.6713000535964966, 1.5743999481201172, 1.6305999755859375, 1.2108999490737915, 1.3358999490737915, 1.2470999956130981, 1.8432999849319458, 1.3240000009536743, 1.2233999967575073, 1.429900050163269, 1.6058000326156616, 1.4580999612808228, 1.2446999549865723, 1.7095999717712402, 1.3818999528884888, 1.393399953842163, 1.1985000371932983, 0.8644999861717224, 1.277400016784668, 0.9782999753952026, 1.0391000509262085, 1.1601999998092651, 0.7953000068664551, 0.8604000210762024, 0.6327999830245972, 0.84170001745224, 1.0444999933242798, 0.8978000283241272, 0.6287999749183655, 0.3720000088214874, 0.583899974822998, 0.413100004196167, 0.5519000291824341, 0.3978999853134155, 0.6656000018119812, -0.17970000207424164, 0.04780000075697899, 0.39739999175071716, 0.34459999203681946, 0.05420000106096268, 0.125, 0.12319999933242798, 0.2754000127315521, 0.06040000170469284, 0.40049999952316284, 0.44359999895095825, 0.37310001254081726, 0.3517000079154968, -0.5712000131607056, 2.297100067138672, 2.2967000007629395, 2.289099931716919, 2.288599967956543, 2.2880001068115234, 2.2878000736236572, 2.2873001098632812, 2.286600112915039, 2.283099889755249, 2.27810001373291, 2.273699998855591, 2.2736001014709473, 2.271899938583374, 2.2699999809265137, 2.2657999992370605, 2.264899969100952, 2.2634999752044678, 2.2632999420166016, 2.263200044631958, 2.263200044631958, 2.2630999088287354, 2.261699914932251, 2.2602999210357666, 2.2602999210357666, 2.260200023651123, 2.260200023651123, 2.259700059890747, 2.256999969482422, 2.256999969482422, 2.256200075149536, 2.2511000633239746, 2.229599952697754, 2.2392001152038574, 2.2404000759124756, 2.2056000232696533, 2.2318999767303467, 2.1059999465942383, 2.1854000091552734, 2.2207000255584717, 1.9970999956130981, 2.1440999507904053, 1.8925000429153442, 1.715999960899353, 2.083699941635132, 2.1312999725341797, 1.7762999534606934, 1.5702999830245972, 1.1698999404907227, 1.5211000442504883, 1.1503000259399414, 1.3348000049591064, 1.4313000440597534, 1.4433000087738037, 1.4027999639511108, 0.7768999934196472, 0.7781999707221985, 1.108299970626831, 1.2203999757766724, 0.9358000159263611, 1.3767999410629272, 1.1674000024795532, 1.3532999753952026, 0.5981000065803528, 0.729200005531311, 1.1092000007629395, 1.594499945640564, 0.8073999881744385, 0.5694000124931335, 0.6643000245094299, 0.5271000266075134, -0.18459999561309814, 1.0257999897003174, 0.25940001010894775, 0.7940000295639038, 0.15360000729560852, 0.07639999687671661, 0.3589000105857849, 0.42980000376701355, -0.33640000224113464, -0.299699991941452, -0.9706000089645386, 2.384999990463257, 2.3845999240875244, 2.3808999061584473, 2.3724000453948975, 2.3687000274658203, 2.367500066757202, 2.3659000396728516, 2.3633999824523926, 2.362799882888794, 2.3605000972747803, 2.359100103378296, 2.358299970626831, 2.3578999042510986, 2.3564999103546143, 2.3543999195098877, 2.353300094604492, 2.3496999740600586, 2.34689998626709, 2.345599889755249, 2.3399999141693115, 2.339400053024292, 2.3380000591278076, 2.335900068283081, 2.334700107574463, 2.3334999084472656, 2.3334999084472656, 2.332200050354004, 2.3296000957489014, 2.328399896621704, 2.3282999992370605, 2.312299966812134, 2.313499927520752, 2.2523000240325928, 2.276599884033203, 2.2667999267578125, 2.313199996948242, 2.1867001056671143, 2.1319000720977783, 2.1670000553131104, 1.989799976348877, 2.0696001052856445, 1.8552000522613525, 1.9529000520706177, 2.121799945831299, 2.1389000415802, 1.7426999807357788, 1.4433000087738037, 1.450600028038025, 1.3948999643325806, 1.7407000064849854, 1.9606000185012817, 1.7129000425338745, 0.8600999712944031, 0.9307000041007996, 1.6475000381469727, 1.2706999778747559, 0.3646000027656555, 0.3264000117778778, 0.06880000233650208, 1.007200002670288, 0.945900022983551, 1.179800033569336, 0.7630000114440918, 0.3174000084400177, 0.5473999977111816, 0.6938999891281128, 0.2003999948501587, 0.33070001006126404, 0.2547000050544739, 0.5238000154495239, 0.05689999833703041, 0.4837999939918518, 0.692300021648407, 0.9571999907493591, -0.722599983215332, -0.17229999601840973, 0.15919999778270721, 0.3490000069141388, 0.051100000739097595, -0.10040000081062317, -0.12020000070333481, -0.36899998784065247, 2.39490008354187, 2.3828999996185303, 2.377700090408325, 2.3712000846862793, 2.350100040435791, 2.350100040435791, 2.324899911880493, 2.321500062942505, 2.310800075531006, 2.3071000576019287, 2.305799961090088, 2.3052000999450684, 2.302500009536743, 2.3022000789642334, 2.295599937438965, 2.2945001125335693, 2.2932000160217285, 2.293100118637085, 2.292099952697754, 2.291599988937378, 2.2915000915527344, 2.2908999919891357, 2.2780001163482666, 2.2741000652313232, 2.2739999294281006, 2.273900032043457, 2.2737998962402344, 2.2737998962402344, 2.2727999687194824, 2.272700071334839, 2.2660000324249268, 2.265899896621704, 2.264400005340576, 2.261199951171875, 2.2460999488830566, 2.253499984741211, 2.237499952316284, 2.1672000885009766, 2.0987000465393066, 2.2030999660491943, 2.237799882888794, 2.1531999111175537, 2.091900110244751, 2.2095999717712402, 1.941100001335144, 2.194200038909912, 2.0529000759124756, 2.157900094985962, 1.9401999711990356, 1.9450000524520874, 1.8111000061035156, 1.7950999736785889, 1.5511000156402588, 1.7141000032424927, 2.041800022125244, 2.1034998893737793, 1.6013000011444092, 1.2919000387191772, 1.8251999616622925, 2.082200050354004, 1.676300048828125, 1.721500039100647, 1.7626999616622925, 0.8465999960899353, 1.3631999492645264, 1.3137999773025513, 1.5039000511169434, 1.0801000595092773, 0.8025000095367432, 1.5546000003814697, 0.3416000008583069, 1.1721999645233154, 0.1324000060558319, 0.24959999322891235, 0.3675000071525574, 0.864300012588501, 0.967199981212616, 0.6922000050544739, 0.9664999842643738, 0.13339999318122864, 0.40939998626708984, 0.21860000491142273, 0.43470001220703125, 0.14949999749660492, -0.44670000672340393, 0.5629000067710876, 0.5889000296592712, -0.08500000089406967, -0.6384999752044678, 0.05689999833703041, -0.28360000252723694, -0.002400000113993883, 0.2425999939441681, -0.10540000349283218, -0.08250000327825546, 0.04960000142455101, 2.5620999336242676, 2.5592000484466553, 2.5555999279022217, 2.549799919128418, 2.53439998626709, 2.5336999893188477, 2.531599998474121, 2.523099899291992, 2.522700071334839, 2.5218000411987305, 2.5160999298095703, 2.5160999298095703, 2.515399932861328, 2.5153000354766846, 2.513200044631958, 2.5106000900268555, 2.5104000568389893, 2.5046000480651855, 2.5046000480651855, 2.5046000480651855, 2.5023999214172363, 2.498800039291382, 2.494499921798706, 2.489799976348877, 2.489500045776367, 2.4890999794006348, 2.4874000549316406, 2.4870998859405518, 2.4863998889923096, 2.484800100326538, 2.3880999088287354, 2.4270999431610107, 2.40339994430542, 2.435499906539917, 2.4128000736236572, 2.468899965286255, 2.382200002670288, 2.2344000339508057, 2.243000030517578, 1.9785000085830688, 2.333199977874756, 2.187999963760376, 2.051300048828125, 2.0752999782562256, 1.9459999799728394, 2.276099920272827, 2.187000036239624, 1.4393999576568604, 2.1951000690460205, 1.5075000524520874, 1.6282999515533447, 1.4845999479293823, 1.3853000402450562, 1.2728999853134155, 1.2842999696731567, 0.9937000274658203, 1.2904000282287598, 1.4213999509811401, 0.4065000116825104, 1.2727999687194824, 0.8411999940872192, 0.552299976348877, 0.9319999814033508, 1.0713000297546387, 0.03920000046491623, 0.6523000001907349, 1.3473000526428223, 0.24889999628067017, 0.5073999762535095, 0.4375999867916107, 0.4431000053882599, 0.1615999937057495, 0.21570000052452087, 0.2669999897480011, 0.2849000096321106, 0.5357999801635742, -0.032499998807907104, -0.11840000003576279, -0.6100999712944031, -0.02539999969303608, 0.29339998960494995, -0.03359999880194664, 0.0640999972820282, 2.7344000339508057, 2.7058000564575195, 2.705399990081787, 2.693000078201294, 2.686199903488159, 2.684499979019165, 2.6816000938415527, 2.6814000606536865, 2.681299924850464, 2.6812000274658203, 2.680999994277954, 2.6749000549316406, 2.6747000217437744, 2.671600103378296, 2.666300058364868, 2.6624999046325684, 2.661600112915039, 2.6570000648498535, 2.656899929046631, 2.656399965286255, 2.656399965286255, 2.6561999320983887, 2.656100034713745, 2.648900032043457, 2.6451001167297363, 2.644200086593628, 2.6440000534057617, 2.6438000202178955, 2.6438000202178955, 2.643699884414673, 2.613600015640259, 2.6191999912261963, 2.6328999996185303, 2.5599000453948975, 2.5673999786376953, 2.456399917602539, 2.462599992752075, 2.5564000606536865, 2.559999942779541, 2.387500047683716, 2.451200008392334, 2.563999891281128, 2.4535000324249268, 2.546799898147583, 2.5592000484466553, 2.2439000606536865, 2.461699962615967, 1.9609999656677246, 2.313999891281128, 2.4316000938415527, 2.0520999431610107, 1.7376999855041504, 1.8279999494552612, 1.8761999607086182, 2.255199909210205, 2.1863999366760254, 2.227299928665161, 1.8874000310897827, 2.0453999042510986, 1.4078999757766724, 1.4076000452041626, 1.8799999952316284, 2.009200096130371, 0.595300018787384, 0.5521000027656555, 1.8621000051498413, 0.9954000115394592, 0.6417999863624573, 1.2609000205993652, 0.9435999989509583, 1.3030999898910522, 0.515500009059906, 0.6032999753952026, 1.4397000074386597, 1.2728999853134155, 0.926800012588501, 0.25949999690055847, -0.3050000071525574, 0.593500018119812, 0.7512000203132629, -0.24079999327659607, 0.7777000069618225, -0.453900009393692, 0.6495000123977661, 0.21289999783039093, 0.2702000141143799, 0.46549999713897705, 2.963200092315674, 2.9563000202178955, 2.930999994277954, 2.9268999099731445, 2.925299882888794, 2.9135000705718994, 2.913300037384033, 2.9128000736236572, 2.9091999530792236, 2.908600091934204, 2.9017999172210693, 2.9017999172210693, 2.9005000591278076, 2.8975000381469727, 2.885999917984009, 2.8856000900268555, 2.885499954223633, 2.8854000568389893, 2.884999990463257, 2.874000072479248, 2.8631999492645264, 2.863100051879883, 2.862600088119507, 2.8624000549316406, 2.8578999042510986, 2.8310999870300293, 2.8310999870300293, 2.8310999870300293, 2.8310000896453857, 2.8310000896453857, 2.81469988822937, 2.8304998874664307, 2.811300039291382, 2.807800054550171, 2.742000102996826, 2.5959999561309814, 2.5095999240875244, 2.762200117111206, 2.7832999229431152, 2.7665998935699463, 2.7880001068115234, 2.678499937057495, 2.4767000675201416, 2.723099946975708, 2.6926000118255615, 2.736299991607666, 2.232300043106079, 2.227299928665161, 2.3268001079559326, 1.894700050354004, 2.643899917602539, 2.251300096511841, 1.6561000347137451, 1.8788000345230103, 2.3982999324798584, 2.2864999771118164, 0.7254999876022339, 1.632200002670288, 2.0360000133514404, 1.5566999912261963, 1.6778000593185425, 0.8015000224113464, 0.9329000115394592, 0.5297999978065491, 2.0864999294281006, 0.7475000023841858, 1.1074999570846558, 1.1705000400543213, 1.7207000255584717, 0.8999000191688538, 0.7319999933242798, 0.2662999927997589, 0.5555999875068665, 0.1808999925851822, 0.6237000226974487, 0.5356000065803528, 0.6075999736785889, 0.08330000191926956, 0.85589998960495, -0.46399998664855957, 0.21940000355243683, 0.802299976348877, 0.8371999859809875, 0.016599999740719795, -0.039900001138448715, 0.16279999911785126, 0.05770000070333481, -0.3569999933242798, 0.2046000063419342, -0.47540000081062317, -0.2856000065803528, 0.3885999917984009, 0.010999999940395355, -0.03530000150203705, 3.65339994430542, 3.6493000984191895, 3.6489999294281006, 3.648200035095215, 3.6475000381469727, 3.6463000774383545, 3.6456000804901123, 3.6456000804901123, 3.643699884414673, 3.642699956893921, 3.642400026321411, 3.642400026321411, 3.640899896621704, 3.640899896621704, 3.6407999992370605, 3.6396000385284424, 3.6389999389648438, 3.6373000144958496, 3.63700008392334, 3.6357998847961426, 3.633500099182129, 3.6328999996185303, 3.6308999061584473, 3.6308999061584473, 3.6280999183654785, 3.6275999546051025, 3.6273000240325928, 3.6270999908447266, 3.627000093460083, 3.626800060272217, -3.0657999515533447, -3.338399887084961, -2.6963000297546387, -3.31850004196167, -3.134500026702881, -2.7987000942230225, -2.7393999099731445, -3.0113000869750977, -2.5634000301361084, -2.9835000038146973, -2.5975000858306885, -2.6212000846862793, -2.914099931716919, -2.7878000736236572, -2.9540998935699463, -2.726900100708008, -2.8482000827789307, -2.6331000328063965, -2.097599983215332, -2.844599962234497, -2.612600088119507, -2.3778998851776123, -2.6256000995635986, -2.586400032043457, -2.2135000228881836, -2.647900104522705, -2.3828001022338867, -2.932300090789795, -2.4375998973846436, -2.7878000736236572, -3.149199962615967, -3.055799961090088, -2.814300060272217, -2.8359999656677246]}, \"token.table\": {\"Topic\": [1, 7, 1, 2, 3, 4, 5, 6, 7, 8, 9, 1, 2, 3, 4, 5, 6, 7, 8, 9, 1, 2, 3, 4, 5, 6, 7, 1, 2, 3, 4, 5, 6, 7, 8, 1, 2, 3, 4, 5, 6, 7, 8, 9, 1, 2, 3, 4, 5, 6, 7, 8, 9, 2, 6, 1, 2, 9, 1, 2, 3, 4, 5, 6, 7, 8, 9, 1, 2, 3, 4, 5, 6, 7, 8, 9, 9, 1, 2, 3, 4, 5, 6, 8, 9, 1, 3, 5, 6, 5, 6, 1, 2, 3, 4, 5, 6, 7, 8, 9, 1, 2, 3, 4, 5, 6, 7, 8, 1, 2, 3, 4, 5, 6, 7, 8, 4, 1, 5, 6, 4, 1, 2, 3, 4, 5, 6, 7, 8, 9, 1, 3, 1, 2, 3, 4, 5, 6, 8, 1, 2, 3, 4, 5, 6, 7, 8, 9, 1, 2, 3, 4, 5, 7, 1, 2, 3, 4, 5, 6, 7, 8, 9, 1, 2, 5, 6, 7, 9, 1, 5, 6, 7, 2, 3, 4, 7, 8, 7, 5, 1, 2, 3, 4, 5, 6, 8, 9, 1, 2, 3, 4, 5, 6, 7, 8, 9, 6, 7, 1, 6, 1, 2, 3, 6, 9, 1, 2, 3, 4, 5, 6, 7, 8, 9, 1, 1, 2, 3, 4, 5, 6, 7, 8, 9, 1, 4, 9, 1, 2, 3, 4, 5, 6, 7, 8, 9, 3, 5, 1, 2, 3, 4, 5, 6, 7, 8, 9, 1, 5, 6, 7, 9, 1, 2, 3, 4, 6, 7, 1, 2, 4, 5, 7, 9, 1, 2, 3, 4, 5, 6, 7, 8, 2, 9, 1, 2, 3, 4, 5, 6, 7, 8, 9, 1, 3, 7, 1, 2, 3, 4, 5, 6, 7, 8, 9, 1, 2, 4, 5, 6, 7, 9, 9, 1, 2, 3, 4, 5, 6, 7, 8, 9, 1, 2, 3, 4, 5, 6, 7, 8, 9, 1, 9, 7, 1, 2, 3, 5, 7, 8, 9, 1, 2, 3, 4, 5, 6, 7, 8, 9, 9, 1, 3, 5, 7, 9, 1, 4, 1, 3, 1, 3, 1, 2, 3, 4, 5, 6, 7, 8, 9, 7, 1, 3, 1, 2, 3, 4, 5, 6, 7, 8, 9, 1, 2, 3, 4, 5, 6, 7, 8, 9, 5, 1, 2, 5, 8, 8, 1, 2, 3, 4, 5, 6, 7, 8, 9, 7, 1, 2, 3, 4, 5, 6, 7, 8, 9, 4, 9, 1, 2, 3, 4, 5, 6, 7, 8, 9, 2, 8, 9, 1, 2, 3, 4, 5, 6, 7, 8, 9, 1, 2, 3, 4, 5, 6, 7, 8, 9, 1, 2, 3, 4, 5, 6, 7, 8, 9, 1, 3, 1, 2, 3, 4, 5, 6, 9, 1, 2, 3, 4, 5, 6, 7, 8, 9, 1, 4, 6, 8, 9, 9, 2, 2, 3, 5, 6, 8, 1, 2, 3, 4, 5, 6, 9, 1, 2, 5, 9, 1, 2, 3, 4, 5, 6, 7, 8, 9, 8, 1, 3, 7, 8, 9, 3, 1, 2, 5, 1, 2, 3, 4, 5, 6, 7, 8, 9, 1, 1, 9, 7, 9, 1, 2, 3, 4, 5, 6, 7, 8, 9, 1, 2, 3, 4, 5, 6, 7, 8, 1, 2, 3, 4, 5, 6, 7, 1, 4, 1, 2, 3, 4, 5, 6, 7, 8, 9, 1, 9, 1, 2, 3, 4, 5, 6, 7, 8, 9, 2, 5, 1, 2, 3, 4, 5, 6, 7, 8, 9, 1, 2, 3, 4, 5, 6, 7, 8, 9, 1, 2, 3, 4, 5, 6, 7, 8, 9, 5, 1, 2, 3, 4, 5, 6, 7, 8, 9, 1, 2, 3, 4, 5, 6, 7, 8, 9, 1, 2, 3, 4, 5, 6, 7, 8, 9, 1, 2, 3, 4, 5, 6, 7, 8, 9, 1, 2, 3, 4, 5, 6, 7, 8, 9, 1, 3, 6, 1, 2, 3, 4, 5, 6, 7, 8, 9, 2, 5, 1, 2, 3, 4, 5, 6, 7, 8, 9, 1, 2, 3, 4, 5, 6, 7, 8, 9, 9, 7, 4, 5, 8, 4, 3, 3, 6, 1, 2, 3, 4, 5, 6, 7, 8, 9, 1, 2, 3, 4, 5, 6, 7, 8, 9, 1, 2, 3, 4, 5, 6, 7, 8, 1, 2, 4, 1, 3, 5, 6, 1, 2, 3, 4, 5, 6, 7, 8, 9, 7, 1, 2, 3, 4, 5, 6, 7, 8, 9, 1, 2, 3, 4, 5, 6, 7, 8, 9, 1, 2, 3, 4, 5, 6, 7, 8, 9, 1, 2, 3, 4, 5, 6, 7, 8, 9, 1, 2, 3, 5, 6, 7, 3, 6, 1, 2, 3, 4, 5, 6, 7, 8, 9, 1, 2, 3, 4, 5, 6, 7, 8, 9, 1, 2, 3, 4, 5, 6, 7, 8, 9, 1, 2, 3, 4, 5, 6, 7, 8, 1, 2, 3, 4, 5, 6, 7, 8, 9, 1, 2, 3, 4, 5, 6, 7, 8, 9, 8, 1, 2, 3, 4, 6, 7, 8, 9, 5, 1, 2, 4, 8, 9, 1, 2, 3, 4, 5, 6, 7, 8, 9, 1, 2, 3, 4, 5, 6, 7, 8, 9, 1, 2, 3, 4, 5, 6, 7, 8, 9, 1, 2, 3, 4, 6, 7, 9, 8, 4, 1, 2, 3, 4, 5, 6, 7, 8, 9, 6, 7, 1, 3, 1, 2, 3, 4, 5, 6, 9, 1, 2, 3, 4, 5, 6, 9, 7, 9, 3, 5, 2, 2, 1, 2, 3, 4, 5, 6, 7, 8, 9, 1, 2, 7, 8, 9, 1, 2, 3, 4, 5, 6, 7, 8, 9, 1, 2, 3, 4, 5, 6, 7, 8, 9, 6, 1, 2, 5, 6, 8, 1, 2, 3, 4, 5, 6, 7, 8, 9, 1, 2, 3, 4, 5, 6, 7, 8, 9, 4, 6, 9, 1, 3, 1, 2, 3, 4, 5, 6, 7, 8, 9, 1, 2, 3, 4, 5, 6, 7, 8, 9, 1, 2, 3, 4, 5, 6, 7, 8, 9, 5, 5, 1, 2, 3, 4, 5, 6, 7, 8, 9, 1, 2, 3, 4, 5, 6, 7, 8, 9, 1, 2, 3, 4, 5, 6, 7, 8, 9, 1, 2, 3, 4, 5, 6, 7, 8, 9, 1, 2, 3, 4, 5, 6, 7, 8, 9, 9, 1, 2, 3, 4, 5, 6, 7, 8, 9, 1, 2, 3, 4, 6, 7, 8, 1, 2, 3, 4, 5, 6, 7, 9, 1, 2, 3, 4, 5, 6, 7, 8, 9, 1, 2, 3, 4, 5, 6, 7, 8, 9, 1, 2, 3, 4, 5, 6, 7, 8, 9, 1, 2, 3, 4, 5, 6, 7, 8, 9, 1, 2, 3, 4, 5, 6, 7, 8, 9, 1, 6, 6, 1, 2, 3, 4, 5, 6, 7, 8, 9, 2, 8, 7, 1, 2, 5, 6, 7, 8, 9, 1, 1, 4, 5, 7, 8, 1, 2, 3, 4, 5, 6, 7, 8, 9, 1, 2, 3, 4, 5, 6, 8, 9, 9, 1, 2, 3, 4, 5, 6, 7, 8, 9, 1, 2, 3, 4, 5, 6, 7, 9, 1, 2, 3, 4, 5, 6, 7, 8, 9, 1, 2, 3, 4, 5, 6, 7, 8, 9, 1, 2, 3, 4, 5, 6, 7, 8, 7, 1, 2, 3, 4, 5, 6, 7, 8, 9, 5, 1, 2, 6, 1, 2, 3, 4, 5, 6, 7, 8, 9, 1, 2, 3, 5, 6, 7, 8, 3, 1, 1, 2, 3, 4, 5, 6, 7, 8, 9, 1, 1, 2, 3, 4, 5, 6, 7, 8, 9, 4, 9, 1, 2, 3, 4, 5, 6, 7, 8, 9, 1, 2, 3, 4, 5, 6, 7, 8, 9, 1, 3, 7, 2, 1, 2, 3, 4, 6, 7, 8, 9, 8, 7, 1, 2, 3, 4, 5, 6, 7, 8, 9, 7, 7, 2, 8, 1, 9, 5, 6, 6, 1, 2, 3, 4, 5, 6, 7, 8, 9, 1, 2, 3, 5, 6, 8, 1, 1, 2, 3, 4, 5, 6, 7, 8, 9, 1, 2, 3, 4, 5, 6, 7, 8, 9, 1, 7, 1, 2, 3, 4, 5, 6, 7, 8, 9, 1, 2, 3, 4, 5, 6, 7, 8, 9, 1, 2, 3, 4, 5, 6, 7, 8, 1, 2, 4, 5, 6, 8, 1, 2, 3, 4, 5, 6, 7, 8, 9, 1, 2, 3, 4, 5, 6, 7, 8, 9, 6, 1, 2, 3, 4, 5, 6, 7, 8, 9, 1, 2, 3, 4, 5, 6, 7, 8, 9, 1, 2, 7, 1, 2, 3, 4, 5, 6, 7, 8, 9, 1, 2, 7, 9, 6, 5, 1, 2, 9, 1, 3, 5, 6, 8, 1, 2, 3, 4, 5, 6, 7, 8, 9, 1, 2, 3, 4, 5, 6, 7, 8, 9, 1, 2, 3, 6, 7, 9, 1, 2, 3, 5, 6, 7, 1, 2, 3, 4, 5, 6, 7, 8, 7, 1, 7, 8, 4, 1, 2, 3, 4, 5, 6, 7, 8, 9, 3, 6, 1, 2, 3, 4, 5, 6, 7, 8, 9, 5, 6, 1, 2, 3, 4, 5, 6, 8, 9, 1, 2, 3, 5, 8, 9, 3, 8, 1, 2, 5, 9, 7, 1, 3, 5, 7, 9, 7, 1, 9, 1, 2, 4, 6, 9, 2, 9, 4, 1, 3, 7, 9, 2, 8, 3, 4, 5, 6, 8, 7, 1, 3, 9, 1, 2, 3, 4, 5, 6, 7, 8, 9, 6, 3, 5, 7, 2, 1, 5, 1, 2, 3, 4, 5, 6, 7, 8, 9, 1, 2, 3, 4, 5, 6, 7, 8, 9, 1, 2, 3, 4, 5, 6, 7, 8, 9, 7, 1, 2, 3, 4, 5, 6, 7, 8, 9, 1, 2, 3, 4, 5, 6, 7, 8, 6, 3, 4, 5, 1, 2, 3, 4, 5, 6, 7, 8, 9, 3, 2, 1, 2, 3, 5, 8, 1, 1, 3, 4, 7, 1, 2, 3, 4, 5, 6, 7, 8, 9, 1, 2, 3, 4, 5, 6, 7, 8, 9, 1, 2, 3, 4, 5, 6, 7, 8, 9, 1, 2, 3, 4, 5, 6, 7, 8, 1, 1, 4, 7, 9, 1, 2, 4, 1, 2, 3, 4, 5, 6, 7, 8, 9, 1, 2, 3, 4, 5, 6, 3, 7, 1, 3, 5, 6, 7, 8, 9, 3, 1, 2, 3, 4, 5, 6, 7, 8, 9, 8, 1, 4, 5, 7, 8, 8, 1, 8, 1, 2, 3, 4, 5, 6, 7, 9, 4, 9, 8, 1, 2, 3, 4, 8, 9, 6, 1, 2, 3, 4, 5, 6, 7, 8, 9, 2, 6, 1, 9, 1, 2, 3, 4, 5, 6, 7, 8, 9, 1, 3, 8, 8, 1, 2, 5, 7, 7, 9, 6, 9, 5, 6, 1, 2, 3, 4, 5, 6, 7, 8, 9, 6, 6, 6, 4, 1, 2, 3, 4, 5, 6, 7, 8, 9, 1, 2, 5, 7, 4, 1, 6, 1, 9, 9, 1, 2, 3, 4, 5, 6, 7, 8, 9, 4, 2, 3, 1, 2, 3, 4, 6, 8, 9, 1, 2, 3, 4, 5, 6, 7, 8, 9, 2, 3, 6, 7, 1, 2, 6, 7, 8, 9, 1, 1, 2, 3, 4, 5, 6, 7, 8, 9, 1, 6, 8, 1, 2, 3, 7, 7, 3, 3, 8, 5, 9, 3, 7, 1, 2, 3, 4, 5, 6, 7, 8, 9, 1, 5, 8, 1, 2, 6, 7, 4, 1, 2, 3, 4, 5, 6, 7, 8, 9, 2, 1, 5, 8, 1, 2, 3, 4, 5, 6, 7, 8, 9, 1, 2, 3, 5, 9, 7, 1, 2, 5, 6, 8, 9, 4, 1, 2, 3, 4, 5, 6, 7, 8, 9, 8, 6, 1, 2, 5, 6, 7, 9, 1, 2, 3, 4, 5, 6, 7, 8, 9, 1, 2, 3, 4, 5, 6, 8, 5, 3, 1, 2, 3, 4, 5, 6, 7, 8, 9, 7, 1, 2, 3, 4, 5, 6, 7, 8, 9, 2, 3, 4, 7, 8, 1, 3, 4, 7, 1, 3, 5, 8, 3, 6, 1, 5, 6, 7, 8, 8, 1, 8, 1, 2, 3, 4, 5, 6, 7, 8, 9, 2, 2, 2, 1, 2, 3, 4, 5, 6, 7, 8, 9, 1, 2, 3, 4, 5, 6, 7, 8, 9, 3, 5, 7, 1, 2, 3, 4, 5, 6, 7, 8, 9, 1, 2, 3, 4, 6, 7, 8, 6, 6, 2, 1, 2, 3, 4, 5, 6, 7, 8, 9, 1, 2, 4, 1, 2, 3, 4, 5, 6, 7, 8, 9, 1, 2, 3, 4, 5, 6, 7, 8, 9, 1, 2, 3, 4, 5, 6, 7, 8, 9, 1, 2, 3, 4, 5, 6, 7, 8, 9, 1, 2, 3, 4, 5, 6, 7, 8, 9, 1, 2, 3, 4, 5, 6, 7, 8, 9, 1, 2, 3, 4, 5, 6, 7, 8, 9, 1, 2, 3, 4, 5, 6, 7, 8, 9, 1, 2, 3, 4, 5, 6, 7, 8, 9, 1, 2, 3, 4, 5, 6, 7, 8, 9, 1, 2, 3, 4, 5, 6, 7, 8, 9, 1, 2, 3, 4, 5, 6, 7, 8, 9, 1, 2, 3, 4, 5, 6, 7, 8, 9, 1, 2, 3, 5, 6, 8, 1, 4, 7, 5, 7, 8, 1, 4, 8, 1, 4, 8, 6, 6, 1, 2, 9, 1, 2, 3, 4, 5, 6, 7, 8, 1, 2, 3, 4, 5, 6, 7, 8, 9, 1, 3, 1, 2, 3, 4, 5, 6, 7, 8, 9, 1, 2, 3, 4, 5, 6, 7, 8, 9, 8, 1, 6, 4, 1, 2, 4, 5, 6, 8, 9, 1, 2, 3, 4, 5, 6, 7, 8, 9, 1, 2, 3, 4, 5, 6, 7, 8, 9, 1, 3, 5, 6, 7, 8, 1, 2, 3, 4, 5, 6, 7, 8, 9, 1, 2, 3, 4, 5, 6, 7, 8, 9, 9, 1, 2, 3, 4, 5, 6, 7, 8, 9, 1, 2, 3, 4, 5, 6, 7, 8, 9, 1, 2, 3, 4, 5, 6, 7, 8, 9, 1, 2, 3, 4, 5, 6, 7, 8, 9, 1, 2, 3, 4, 5, 6, 7, 8, 9, 2, 4, 1, 2, 3, 4, 5, 6, 7, 8, 9, 1, 2, 3, 4, 5, 6, 7, 8, 9, 1, 9, 1, 2, 3, 4, 5, 6, 7, 8, 9, 2, 6, 9, 2, 1, 2, 3, 4, 5, 6, 7, 8, 9, 1, 2, 7, 9, 5, 1, 2, 3, 4, 5, 6, 7, 8, 9, 6, 4, 5, 9, 5, 1, 1, 2, 1, 2, 3, 4, 5, 6, 7, 8, 9, 1, 5, 1, 2, 3, 4, 5, 6, 7, 8, 9, 1, 2, 3, 4, 5, 6, 7, 8, 9, 1, 5, 6, 9, 1, 3, 5, 6, 7, 8, 5, 4, 1, 3, 8, 1, 8, 1, 2, 3, 4, 5, 6, 7, 8, 9, 5, 1, 2, 3, 4, 5, 6, 7, 8, 9, 1, 2, 3, 4, 5, 6, 7, 8, 9, 2, 1, 9, 1, 2, 3, 4, 5, 6, 7, 8, 9, 1, 4, 5, 6, 3, 5, 6, 1, 3, 5, 1, 2, 3, 4, 5, 6, 7, 8, 9, 2, 4, 5, 1, 2, 3, 4, 5, 6, 8, 1, 2, 3, 4, 5, 6, 7, 8, 9, 3, 7, 1, 2, 9, 1, 2, 3, 4, 5, 6, 7, 8, 9, 1, 2, 3, 4, 5, 6, 7, 8, 9, 3, 1, 4, 6, 1, 2, 3, 4, 5, 6, 7, 9, 2, 5, 7, 1, 2, 3, 4, 5, 6, 7, 8, 9, 1, 3, 4, 9, 4, 1, 4, 1, 3, 5, 8, 9, 1, 2, 3, 4, 5, 6, 7, 8, 9, 1, 2, 3, 4, 5, 6, 7, 8, 9, 9, 1, 2, 3, 4, 5, 6, 7, 8, 9, 1, 2, 3, 4, 5, 6, 7, 8, 5, 1, 2, 3, 4, 5, 6, 7, 8, 9, 1, 2, 3, 4, 5, 6, 7, 8, 1, 2, 3, 4, 5, 6, 7, 8, 9, 1, 2, 3, 4, 5, 6, 7, 8, 9, 1, 2, 2, 1, 2, 3, 4, 5, 6, 7, 8, 9, 1, 2, 3, 4, 6, 7, 9, 1, 2, 3, 4, 5, 6, 7, 8, 9, 1, 3, 2, 2, 1, 2, 3, 4, 5, 6, 7, 8, 9, 1, 2, 5, 6, 7, 8, 9, 1, 8, 9, 8, 1, 2, 3, 4, 5, 6, 7, 8, 9, 2, 1, 2, 3, 4, 5, 6, 7, 9, 1, 2, 5, 6, 7, 9, 1, 2, 3, 4, 5, 6, 7, 8, 9, 2, 6, 8, 1, 5, 7, 8, 2, 7, 8, 7, 1, 2, 3, 5, 9, 1, 2, 6, 2, 5, 6, 9, 1, 2, 3, 4, 5, 6, 7, 8, 9, 9, 1, 2, 3, 4, 5, 6, 7, 8, 9, 1, 2, 3, 4, 5, 6, 7, 8, 9, 1, 2, 3, 4, 5, 6, 7, 8, 9, 1, 2, 3, 5, 1, 2, 3, 4, 5, 6, 7, 8, 9, 1, 5, 8, 9, 1, 2, 3, 4, 5, 6, 7, 8, 9, 1, 2, 3, 4, 5, 6, 7, 8, 9, 7, 2, 1, 2, 3, 4, 5, 6, 7, 8, 9, 1, 4, 1, 2, 3, 4, 5, 6, 7, 8, 9, 2, 5, 4, 8, 4, 1, 2, 4, 5, 6, 7, 9, 1, 1, 5, 6, 7, 8, 9, 4, 1, 2, 3, 4, 5, 6, 7, 9, 4, 4, 1, 1, 2, 3, 4, 5, 6, 7, 8, 9, 1, 5, 6, 8, 1, 2, 3, 4, 5, 6, 7, 8, 1, 2, 9, 1, 2, 3, 4, 5, 6, 7, 1, 2, 3, 4, 5, 6, 7, 8, 9, 1, 2, 3, 4, 5, 6, 7, 8, 9, 1, 2, 3, 4, 5, 6, 7, 8, 9, 1, 2, 3, 4, 5, 6, 7, 8, 9, 1, 2, 3, 4, 5, 6, 7, 8, 9, 1, 2, 3, 4, 5, 6, 7, 8, 9, 2, 7, 9, 1, 1], \"Freq\": [0.9509266018867493, 0.9350229501724243, 0.15848548710346222, 0.10834318399429321, 0.3689040541648865, 0.06088707968592644, 0.0904352217912674, 0.0411883182823658, 0.07879504561424255, 0.0411883182823658, 0.05282849445939064, 0.2707802951335907, 0.11586680263280869, 0.2886059582233429, 0.10568070411682129, 0.061965394765138626, 0.0636630728840828, 0.035651322454214096, 0.04753509536385536, 0.010186091996729374, 0.11231142282485962, 0.020055610686540604, 0.028077855706214905, 0.7300242185592651, 0.04412234202027321, 0.04011122137308121, 0.020055610686540604, 0.20313583314418793, 0.051541928201913834, 0.06063756346702576, 0.48813238739967346, 0.036382537335157394, 0.021223148331046104, 0.09398822486400604, 0.04244629666209221, 0.3182053864002228, 0.05224267393350601, 0.01424800232052803, 0.009498667903244495, 0.0474933423101902, 0.07124001532793045, 0.01899733580648899, 0.01424800232052803, 0.455936074256897, 0.3133576512336731, 0.10416078567504883, 0.07965236902236938, 0.12341740727424622, 0.08840537816286087, 0.07264996320009232, 0.06739815324544907, 0.03676263242959976, 0.11378909647464752, 0.9375082850456238, 0.8845399618148804, 0.959019124507904, 0.005387748125940561, 0.032326485961675644, 0.4221508502960205, 0.05678679049015045, 0.013928835280239582, 0.0953589454293251, 0.04821519926190376, 0.23357585072517395, 0.03750070929527283, 0.03857215866446495, 0.05250099301338196, 0.5051572918891907, 0.031688835471868515, 0.08761031180620193, 0.0037280982360243797, 0.014912392944097519, 0.046601228415966034, 0.04846527799963951, 0.02796073630452156, 0.23487018048763275, 0.9097006320953369, 0.05354716256260872, 0.00892452709376812, 0.04462263360619545, 0.00892452709376812, 0.642565906047821, 0.0892452672123909, 0.00892452709376812, 0.14279243350028992, 0.06678692996501923, 0.02671477384865284, 0.7880858182907104, 0.1202164813876152, 0.9646044969558716, 0.020523499697446823, 0.13449667394161224, 0.33582398295402527, 0.22638879716396332, 0.04636375978589058, 0.058059122413396835, 0.05931219458580017, 0.05471758916974068, 0.061400651931762695, 0.023390725255012512, 0.32600465416908264, 0.19188262522220612, 0.09104634821414948, 0.09006735682487488, 0.007831944152712822, 0.013705901801586151, 0.2760760188102722, 0.0029369790572673082, 0.28877052664756775, 0.488284707069397, 0.09975709021091461, 0.028877053409814835, 0.005250373389571905, 0.026251867413520813, 0.049878545105457306, 0.013125933706760406, 0.9702301621437073, 0.08854279667139053, 0.04427139833569527, 0.8632922172546387, 0.9388428330421448, 0.22688470780849457, 0.15757833421230316, 0.14751018583774567, 0.10700342059135437, 0.07562823593616486, 0.08171595633029938, 0.06743322312831879, 0.08241838961839676, 0.05361878126859665, 0.0483398512005806, 0.9426271319389343, 0.7723116874694824, 0.09000624716281891, 0.03774455562233925, 0.04355141147971153, 0.02613084577023983, 0.023227419704198837, 0.011613709852099419, 0.264199435710907, 0.042183101177215576, 0.00888065341860056, 0.015541142784059048, 0.10434767603874207, 0.49287623167037964, 0.02220163308084011, 0.03996293991804123, 0.006660489831119776, 0.05732729658484459, 0.16242733597755432, 0.009554549120366573, 0.009554549120366573, 0.03821819648146629, 0.7165911793708801, 0.04825645685195923, 0.009651292115449905, 0.629264235496521, 0.01930258423089981, 0.025093358010053635, 0.0328143909573555, 0.19495609402656555, 0.03860516846179962, 0.001930258353240788, 0.3638664484024048, 0.0909666121006012, 0.020214801654219627, 0.010107400827109814, 0.010107400827109814, 0.5053700804710388, 0.03302723541855812, 0.19816341996192932, 0.6770583391189575, 0.08256809413433075, 0.016741765663027763, 0.7198958992958069, 0.08370882272720337, 0.016741765663027763, 0.15067589282989502, 0.9448165893554688, 0.9656227827072144, 0.025603193789720535, 0.08705086261034012, 0.11521437764167786, 0.030723832547664642, 0.5760718584060669, 0.10241277515888214, 0.05120638757944107, 0.010241277515888214, 0.1780310422182083, 0.13997860252857208, 0.20022828876972198, 0.06342072784900665, 0.0756518691778183, 0.1372605711221695, 0.10690922290086746, 0.08244694769382477, 0.016308186575770378, 0.860350489616394, 0.08603505045175552, 0.9557552933692932, 0.02172171138226986, 0.039934128522872925, 0.026622753590345383, 0.013311376795172691, 0.14642514288425446, 0.7720598578453064, 0.12361786514520645, 0.44650036096572876, 0.22878530621528625, 0.057196326553821564, 0.08118188381195068, 0.012915299274027348, 0.022140512242913246, 0.022140512242913246, 0.007380171213299036, 0.977139413356781, 0.17183248698711395, 0.1968081295490265, 0.137665793299675, 0.07332850992679596, 0.12947377562522888, 0.10170084983110428, 0.0393616259098053, 0.11548741161823273, 0.034566301852464676, 0.20503829419612885, 0.06834609806537628, 0.7176340222358704, 0.21382473409175873, 0.11954747140407562, 0.148705393075943, 0.17105978727340698, 0.03693336248397827, 0.03596143424510956, 0.22160018980503082, 0.018466681241989136, 0.034989502280950546, 0.8640633225440979, 0.9498329758644104, 0.11941945552825928, 0.037152718752622604, 0.05042154714465141, 0.0026537657249718904, 0.039806485176086426, 0.6183273792266846, 0.0849205031991005, 0.010615062899887562, 0.03449895232915878, 0.07693949341773987, 0.019234873354434967, 0.7693949341773987, 0.07693949341773987, 0.038469746708869934, 0.9808719158172607, 0.0033999027218669653, 0.0016999513609334826, 0.005099853966385126, 0.0016999513609334826, 0.006799805443733931, 0.03824092075228691, 0.006650594994425774, 0.9211074113845825, 0.029927676543593407, 0.0016626487486064434, 0.0016626487486064434, 0.025250397622585297, 0.0012625199742615223, 0.0037875596899539232, 0.9544650316238403, 0.005050079897046089, 0.0037875596899539232, 0.005050079897046089, 0.0012625199742615223, 0.12672537565231323, 0.8237149715423584, 0.6634714007377625, 0.09671730548143387, 0.019156567752361298, 0.018222101032733917, 0.05139567330479622, 0.05279737338423729, 0.009344667196273804, 0.005139566957950592, 0.08456923812627792, 0.04162559285759926, 0.8741374611854553, 0.08325118571519852, 0.39430472254753113, 0.13293062150478363, 0.12115195393562317, 0.028605321422219276, 0.08301152288913727, 0.07011108100414276, 0.05608886852860451, 0.0482364259660244, 0.06562397629022598, 0.036224495619535446, 0.009056123904883862, 0.015093539841473103, 0.9086310863494873, 0.012074831873178482, 0.012074831873178482, 0.006037415936589241, 0.9278677105903625, 0.1916600614786148, 0.14385272562503815, 0.12963972985744476, 0.059866853058338165, 0.15548153221607208, 0.09604538232088089, 0.09475328773260117, 0.08441656827926636, 0.045223161578178406, 0.09359607100486755, 0.2123032808303833, 0.1803436428308487, 0.0730505883693695, 0.038808126002550125, 0.009131323546171188, 0.1301213651895523, 0.011414154432713985, 0.2533942461013794, 0.24367904663085938, 0.7310371398925781, 0.9724037051200867, 0.09789784997701645, 0.0195795688778162, 0.05873870849609375, 0.0195795688778162, 0.0195795688778162, 0.7440236210823059, 0.0195795688778162, 0.16496588289737701, 0.1345352828502655, 0.10410468280315399, 0.382784903049469, 0.03523543104529381, 0.0224225465208292, 0.04644670709967613, 0.048048317432403564, 0.06086120009422302, 0.897311806678772, 0.09833768010139465, 0.8030910491943359, 0.04916884005069733, 0.01638961397111416, 0.01638961397111416, 0.06434489786624908, 0.9008285403251648, 0.07149866223335266, 0.8579839468002319, 0.06672381609678268, 0.8674095869064331, 0.1714460700750351, 0.07393213361501694, 0.30273935198783875, 0.1363920420408249, 0.09942597895860672, 0.059910524636507034, 0.0050987680442631245, 0.13830408453941345, 0.013384265825152397, 0.9607831835746765, 0.05546563118696213, 0.887450098991394, 0.216358944773674, 0.3722824454307556, 0.10515770316123962, 0.03505256772041321, 0.08702706545591354, 0.04955707862973213, 0.05922675132751465, 0.038678694516420364, 0.03626127541065216, 0.11741472780704498, 0.1412380039691925, 0.10550308972597122, 0.04083990678191185, 0.11571306735277176, 0.3471391797065735, 0.020419953390955925, 0.0663648471236229, 0.044243231415748596, 0.9447023868560791, 0.01403430663049221, 0.007017153315246105, 0.9473156929016113, 0.02105145901441574, 0.9062567353248596, 0.1412651389837265, 0.08795753866434097, 0.023988420143723488, 0.011549979448318481, 0.009773059748113155, 0.006219219882041216, 0.2745341360569, 0.3616032004356384, 0.08262678235769272, 0.9450302720069885, 0.2386859506368637, 0.1682974100112915, 0.14236479997634888, 0.06880082935094833, 0.09420421719551086, 0.06086227297782898, 0.1296631097793579, 0.053982190787792206, 0.04392668232321739, 0.9929254055023193, 0.9096956849098206, 0.11456654965877533, 0.034608643501996994, 0.18497724831104279, 0.41888394951820374, 0.034608643501996994, 0.05608987435698509, 0.06086347997188568, 0.09308531880378723, 0.001193401520140469, 0.12708476185798645, 0.06354238092899323, 0.7625085115432739, 0.16576629877090454, 0.16940951347351074, 0.15119343996047974, 0.08318675309419632, 0.10504604130983353, 0.17791035771369934, 0.06557787954807281, 0.05100501701235771, 0.030360128730535507, 0.21797792613506317, 0.07518858462572098, 0.16486304998397827, 0.06208232045173645, 0.07449878007173538, 0.08415603637695312, 0.07311917841434479, 0.1607242226600647, 0.0876050516963005, 0.18881338834762573, 0.053789861500263214, 0.2228437066078186, 0.2437010109424591, 0.23382124304771423, 0.002195504494011402, 0.012075275182723999, 0.03732357919216156, 0.005488761235028505, 0.0714728906750679, 0.9291476011276245, 0.0830613449215889, 0.670423686504364, 0.04746362566947937, 0.06526248157024384, 0.04746362566947937, 0.023731812834739685, 0.05339657887816429, 0.25174614787101746, 0.01807408221065998, 0.01420106366276741, 0.037439167499542236, 0.0051640234887599945, 0.019365087151527405, 0.5486775040626526, 0.0038730173837393522, 0.10069845616817474, 0.04958762228488922, 0.02479381114244461, 0.04958762228488922, 0.8181957602500916, 0.02479381114244461, 0.8957406282424927, 0.8756746649742126, 0.05207505822181702, 0.013018764555454254, 0.911313533782959, 0.013018764555454254, 0.006509382277727127, 0.13017870485782623, 0.03550328314304352, 0.01183442771434784, 0.02366885542869568, 0.0591721385717392, 0.2721918225288391, 0.4733771085739136, 0.8931643962860107, 0.025518981739878654, 0.06379745900630951, 0.012759490869939327, 0.08067118376493454, 0.01112705934792757, 0.02225411869585514, 0.008345294743776321, 0.005563529673963785, 0.005563529673963785, 0.03894471004605293, 0.8234024047851562, 0.008345294743776321, 0.8974962830543518, 0.0774482786655426, 0.06195862591266632, 0.01548965647816658, 0.8209517598152161, 0.01548965647816658, 0.8916400074958801, 0.05197818577289581, 0.8966236710548401, 0.03898363932967186, 0.13201342523097992, 0.07838296890258789, 0.04950503259897232, 0.02475251629948616, 0.09075922518968582, 0.08663380891084671, 0.14026425778865814, 0.1237625852227211, 0.2764030992984772, 0.9734054803848267, 0.11350970715284348, 0.7945679426193237, 0.022501785308122635, 0.9450749754905701, 0.12246066331863403, 0.2568175196647644, 0.031489886343479156, 0.3764790892601013, 0.03568853810429573, 0.07557572424411774, 0.025191908702254295, 0.03498876094818115, 0.04128674045205116, 0.0712525025010109, 0.02591000124812126, 0.22347375750541687, 0.6574662923812866, 0.0032387501560151577, 0.0032387501560151577, 0.00971625093370676, 0.006477500312030315, 0.9450253248214722, 0.0015990276588127017, 0.02398541383445263, 0.009594165720045567, 0.007995137944817543, 0.0015990276588127017, 0.009594165720045567, 0.04822343960404396, 0.9403570890426636, 0.4842933118343353, 0.04446766525506973, 0.023446587845683098, 0.17706216871738434, 0.06548874825239182, 0.10591389238834381, 0.06063772737979889, 0.02587209641933441, 0.012936048209667206, 0.17021027207374573, 0.7659462690353394, 0.2941216826438904, 0.12585237622261047, 0.2102200835943222, 0.09042726457118988, 0.07224859297275543, 0.07504530996084213, 0.009322398342192173, 0.11513162404298782, 0.007457918953150511, 0.03490239381790161, 0.9423646330833435, 0.2453155368566513, 0.08320142328739166, 0.3199394941329956, 0.030878879129886627, 0.10121410340070724, 0.10464508831501007, 0.033452119678258896, 0.03430986404418945, 0.0471760630607605, 0.2904684543609619, 0.12491648644208908, 0.04063548520207405, 0.02558530494570732, 0.2919734716415405, 0.0692308247089386, 0.10685627162456512, 0.015050179325044155, 0.0346154123544693, 0.20522840321063995, 0.1132860779762268, 0.1762227863073349, 0.17512823641300201, 0.05418029800057411, 0.057463955134153366, 0.09741508215665817, 0.029552889987826347, 0.09194232523441315, 0.9614991545677185, 0.0630364641547203, 0.1530885547399521, 0.06903994083404541, 0.5853385925292969, 0.015008682385087013, 0.0030017364770174026, 0.039022576063871384, 0.06903994083404541, 0.0030017364770174026, 0.11562392860651016, 0.14082401990890503, 0.20011834800243378, 0.3928248882293701, 0.016305938363075256, 0.03261187672615051, 0.029647162184119225, 0.062259040772914886, 0.010376506485044956, 0.28015172481536865, 0.19271042943000793, 0.14007586240768433, 0.030562007799744606, 0.0628219023346901, 0.12819063663482666, 0.03395778685808182, 0.01612994819879532, 0.11630541831254959, 0.147598996758461, 0.590395987033844, 0.0491996668279171, 0.0983993336558342, 0.008945394307374954, 0.008945394307374954, 0.026836181059479713, 0.004472697153687477, 0.06709045171737671, 0.20036478340625763, 0.14288035035133362, 0.18408305943012238, 0.10799096524715424, 0.12526951730251312, 0.08871873468160629, 0.022262753918766975, 0.07875033468008041, 0.0498419851064682, 0.06255500763654709, 0.875770092010498, 0.06255500763654709, 0.22000618278980255, 0.0641273632645607, 0.06906023621559143, 0.016771771013736725, 0.38377758860588074, 0.08780515193939209, 0.001973149599507451, 0.11542925238609314, 0.04143613949418068, 0.044488854706287384, 0.9565104246139526, 0.9187347888946533, 0.006034383084625006, 0.0045257871970534325, 0.007542978506535292, 0.016594553366303444, 0.0015085957711562514, 0.0045257871970534325, 0.01810314878821373, 0.021120339632034302, 0.8859318494796753, 0.03407430276274681, 0.0037860337179154158, 0.0037860337179154158, 0.011358100920915604, 0.015144134871661663, 0.0075720674358308315, 0.0037860337179154158, 0.03407430276274681, 0.9105233550071716, 0.9722926020622253, 0.9896412491798401, 0.9063258767127991, 0.047701362520456314, 0.9575021266937256, 0.8806474804878235, 0.8923949599266052, 0.9658008813858032, 0.12459171563386917, 0.060147725045681, 0.4682930111885071, 0.1632581204175949, 0.0300738625228405, 0.09666598588228226, 0.0021481330040842295, 0.03866639360785484, 0.017185064032673836, 0.06093297153711319, 0.04874637722969055, 0.11374154686927795, 0.024373188614845276, 0.2559184730052948, 0.4224686026573181, 0.020310990512371063, 0.004062198102474213, 0.052808575332164764, 0.07990651577711105, 0.06392521411180496, 0.12252332270145416, 0.01598130352795124, 0.19710274040699005, 0.4954203963279724, 0.01598130352795124, 0.01598130352795124, 0.017946913838386536, 0.03589382767677307, 0.9511864185333252, 0.02510368824005127, 0.11296658962965012, 0.1757258176803589, 0.6903514266014099, 0.18106599152088165, 0.15079742670059204, 0.30950284004211426, 0.08671533316373825, 0.09516871720552444, 0.04008539021015167, 0.0940779596567154, 0.03981270268559456, 0.0027268973644822836, 0.9723020195960999, 0.11214254796504974, 0.12563645839691162, 0.4375297427177429, 0.03751715272665024, 0.09629742801189423, 0.05683797597885132, 0.07891891151666641, 0.046921998262405396, 0.008075899444520473, 0.1589905470609665, 0.4914253056049347, 0.08052767813205719, 0.0640091821551323, 0.06607399135828018, 0.04129624366760254, 0.02064812183380127, 0.04955549165606499, 0.02684255875647068, 0.15365509688854218, 0.14269638061523438, 0.1384994387626648, 0.31896838545799255, 0.02494855225086212, 0.017020974308252335, 0.1319708377122879, 0.034974604845047, 0.037073079496622086, 0.2664826810359955, 0.5406894683837891, 0.015448271296918392, 0.08110342174768448, 0.015448271296918392, 0.003862067824229598, 0.04248274490237236, 0.01158620323985815, 0.0231724064797163, 0.13907498121261597, 0.0028382649179548025, 0.01135305967181921, 0.1106923297047615, 0.7237575054168701, 0.005676529835909605, 0.9229550957679749, 0.898817777633667, 0.3730151951313019, 0.12140895426273346, 0.05435736104846001, 0.2053861916065216, 0.03189833089709282, 0.04752200469374657, 0.09927541762590408, 0.015298179350793362, 0.05240440368652344, 0.21296705305576324, 0.1224113181233406, 0.14352905750274658, 0.11918996274471283, 0.09019780904054642, 0.13386499881744385, 0.03650863841176033, 0.08339717984199524, 0.057984307408332825, 0.2698418200016022, 0.133489727973938, 0.09471786022186279, 0.11553497612476349, 0.12360160797834396, 0.1282854527235031, 0.03564930334687233, 0.051522351801395416, 0.047358930110931396, 0.12172721326351166, 0.01014393474906683, 0.06086360663175583, 0.050719670951366425, 0.01014393474906683, 0.14201508462429047, 0.01014393474906683, 0.5883482098579407, 0.1287488043308258, 0.2792760133743286, 0.18255427479743958, 0.06789737939834595, 0.06661629676818848, 0.06277304887771606, 0.11209473013877869, 0.06661629676818848, 0.03330814838409424, 0.21114209294319153, 0.1517130732536316, 0.10919476300477982, 0.22225482761859894, 0.12755495309829712, 0.04879942908883095, 0.019326506182551384, 0.1014641597867012, 0.009180091321468353, 0.9596875309944153, 0.26966598629951477, 0.4922058582305908, 0.005236232653260231, 0.04974420741200447, 0.007854348979890347, 0.07330725342035294, 0.005236232653260231, 0.09948841482400894, 0.9655699729919434, 0.09452594071626663, 0.06685981154441833, 0.8138452768325806, 0.006916532292962074, 0.013833064585924149, 0.14632605016231537, 0.3617825210094452, 0.04839129373431206, 0.3007173240184784, 0.027652166783809662, 0.0069130416959524155, 0.09102171659469604, 0.0034565208479762077, 0.013826083391904831, 0.14433608949184418, 0.13274706900119781, 0.09692642837762833, 0.41404440999031067, 0.03582063689827919, 0.04319547489285469, 0.02423160709440708, 0.03371354192495346, 0.07480191439390182, 0.061981674283742905, 0.061981674283742905, 0.19214318692684174, 0.012396334670484066, 0.01859450154006481, 0.12396334856748581, 0.024792669340968132, 0.4772588908672333, 0.03718900308012962, 0.14599499106407166, 0.08516374230384827, 0.14599499106407166, 0.006083124317228794, 0.006083124317228794, 0.6022292971611023, 0.006083124317228794, 0.9339479207992554, 0.9662358164787292, 0.20097379386425018, 0.48609915375709534, 0.04455083981156349, 0.05049095302820206, 0.0940517708659172, 0.04356082156300545, 0.04455083981156349, 0.017820335924625397, 0.01881035417318344, 0.8868577480316162, 0.06821982562541962, 0.05691222473978996, 0.9105955958366394, 0.13708385825157166, 0.21019524335861206, 0.0548335425555706, 0.04569461941719055, 0.11880601197481155, 0.0274167712777853, 0.4021126627922058, 0.15920288860797882, 0.008844604715704918, 0.02211151085793972, 0.02211151085793972, 0.04422302171587944, 0.2830273509025574, 0.45991945266723633, 0.9868523478507996, 0.8617737293243408, 0.880539059638977, 0.9582732915878296, 0.983251690864563, 0.914732813835144, 0.732702374458313, 0.07059258222579956, 0.026776498183608055, 0.03651340678334236, 0.012171135284006596, 0.02921072579920292, 0.05842145159840584, 0.02434227056801319, 0.012171135284006596, 0.16842533648014069, 0.3075593113899231, 0.007322840858250856, 0.13181114196777344, 0.38078773021698, 0.2882501184940338, 0.07877642661333084, 0.12174538522958755, 0.057291947305202484, 0.08593791723251343, 0.021484479308128357, 0.014322986826300621, 0.26855599880218506, 0.06624381244182587, 0.18071340024471283, 0.09035670012235641, 0.12214887142181396, 0.09537651389837265, 0.10541614890098572, 0.21083229780197144, 0.0694407969713211, 0.09119333326816559, 0.03430207818746567, 0.8595737814903259, 0.0629291757941246, 0.01258583553135395, 0.8684226274490356, 0.0503433421254158, 0.01258583553135395, 0.19664132595062256, 0.20490722358226776, 0.20316702127456665, 0.12442348897457123, 0.042634621262550354, 0.07743839919567108, 0.07787344604730606, 0.0478551872074604, 0.02523273602128029, 0.21577335894107819, 0.10847622156143188, 0.15563979744911194, 0.05895446985960007, 0.08607352524995804, 0.10847622156143188, 0.06131264939904213, 0.047163575887680054, 0.15917706489562988, 0.9312716126441956, 0.9049800038337708, 0.05656125023961067, 0.0525427907705307, 0.8932274580001831, 0.5315544009208679, 0.09496016800403595, 0.02744942344725132, 0.09570204466581345, 0.03746475279331207, 0.017434094101190567, 0.11832927167415619, 0.02299816533923149, 0.05452790856361389, 0.35933929681777954, 0.18308348953723907, 0.060690660029649734, 0.12846189737319946, 0.022758997976779938, 0.020735975354909897, 0.09735793620347977, 0.017701443284749985, 0.1100018247961998, 0.5789031982421875, 0.07271024584770203, 0.011114941909909248, 0.11300190538167953, 0.02361925132572651, 0.008336205966770649, 0.14588360488414764, 0.022693006321787834, 0.02315612882375717, 0.9655782580375671, 0.9650605320930481, 0.08119124919176102, 0.3910711705684662, 0.023004187270998955, 0.03247649967670441, 0.21109724044799805, 0.004059562459588051, 0.009472312405705452, 0.23410142958164215, 0.012178687378764153, 0.13936451077461243, 0.3596699833869934, 0.04807771369814873, 0.04625197872519493, 0.2282169908285141, 0.0030428932514041662, 0.021908830851316452, 0.1351044625043869, 0.01825735904276371, 0.27636709809303284, 0.07006489485502243, 0.4320668578147888, 0.03243745118379593, 0.0142724784091115, 0.0376274436712265, 0.08952736854553223, 0.031139953061938286, 0.01686747558414936, 0.19313253462314606, 0.14892524480819702, 0.24549151957035065, 0.16773685812950134, 0.05831599235534668, 0.07994934916496277, 0.03197973966598511, 0.041072018444538116, 0.03354737162590027, 0.06372011452913284, 0.11682020872831345, 0.03186005726456642, 0.010620019398629665, 0.03186005726456642, 0.06372011452913284, 0.03186005726456642, 0.6053410768508911, 0.03186005726456642, 0.8963645100593567, 0.18050241470336914, 0.08187738806009293, 0.13584202527999878, 0.17119817435741425, 0.013025947846472263, 0.014886797405779362, 0.38705673813819885, 0.013025947846472263, 0.0037216993514448404, 0.014334995299577713, 0.12901495397090912, 0.028669990599155426, 0.04300498589873314, 0.08600997179746628, 0.673744797706604, 0.028669990599155426, 0.19697406888008118, 0.6124102473258972, 0.017906732857227325, 0.10744039714336395, 0.0035813467111438513, 0.014325386844575405, 0.0071626934222877026, 0.039394814521074295, 0.6917967796325684, 0.02378670871257782, 0.00792890228331089, 0.23390263319015503, 0.01585780456662178, 0.017840031534433365, 0.003964451141655445, 0.0019822255708277225, 0.003964451141655445, 0.24368877708911896, 0.2498321831226349, 0.0808882936835289, 0.07884048670530319, 0.02047804743051529, 0.015358536504209042, 0.3030751049518585, 0.007167316973209381, 0.0010239024413749576, 0.14118576049804688, 0.13155946135520935, 0.016043836250901222, 0.02887890674173832, 0.006417534779757261, 0.025670139119029045, 0.5326553583145142, 0.06738411635160446, 0.04492274299263954, 0.09496641904115677, 0.0595867745578289, 0.29234760999679565, 0.050276342779397964, 0.050276342779397964, 0.0744834691286087, 0.29234760999679565, 0.033517561852931976, 0.05213842913508415, 0.11706177145242691, 0.20851626992225647, 0.012803630903363228, 0.15364357829093933, 0.04572725296020508, 0.4408107399940491, 0.012803630903363228, 0.007316360715776682, 0.0018290901789441705, 0.12042548507452011, 0.8429784178733826, 0.9105048775672913, 0.04776550456881523, 0.06687170267105103, 0.10986065864562988, 0.019106201827526093, 0.5134791731834412, 0.13851995766162872, 0.04776550456881523, 0.04776550456881523, 0.007164825685322285, 0.05779824033379555, 0.9247718453407288, 0.9472720623016357, 0.11678587645292282, 0.014598234556615353, 0.80290287733078, 0.029196469113230705, 0.02189735136926174, 0.014598234556615353, 0.897142231464386, 0.9365422129631042, 0.15790162980556488, 0.7895081043243408, 0.015790162608027458, 0.015790162608027458, 0.015790162608027458, 0.19091729819774628, 0.12229026854038239, 0.12074229121208191, 0.29979175329208374, 0.06295111030340195, 0.053147245198488235, 0.09029871970415115, 0.017543751746416092, 0.041795406490564346, 0.11194047331809998, 0.25090107321739197, 0.011580049060285091, 0.007720032706856728, 0.49794211983680725, 0.015440065413713455, 0.09264039248228073, 0.011580049060285091, 0.8264757990837097, 0.16364362835884094, 0.5547918081283569, 0.0638609305024147, 0.1277218610048294, 0.009978270158171654, 0.01197392400354147, 0.009978270158171654, 0.009978270158171654, 0.04789569601416588, 0.07581301033496857, 0.36101433634757996, 0.003610143205150962, 0.0324912890791893, 0.5126403570175171, 0.003610143205150962, 0.003610143205150962, 0.003610143205150962, 0.14252595603466034, 0.5203056335449219, 0.04979822784662247, 0.054949767887592316, 0.04464668780565262, 0.07899029552936554, 0.020606163889169693, 0.02232334390282631, 0.06525284796953201, 0.3322441875934601, 0.12732383608818054, 0.12950965762138367, 0.04699506610631943, 0.062295783311128616, 0.10437276214361191, 0.04207697883248329, 0.06502805650234222, 0.09071140736341476, 0.1430012583732605, 0.12760113179683685, 0.5456048250198364, 0.09900087118148804, 0.030800271779298782, 0.008800077252089977, 0.017600154504179955, 0.02860025316476822, 0.966877281665802, 0.5945795774459839, 0.0687575414776802, 0.020281001925468445, 0.03561541810631752, 0.15186017751693726, 0.05738039314746857, 0.017313050106167793, 0.041056662797927856, 0.013355781324207783, 0.9536875486373901, 0.19910328090190887, 0.776502788066864, 0.019910328090190887, 0.2440357655286789, 0.037298042327165604, 0.15203392505645752, 0.2525610327720642, 0.048665065318346024, 0.19821245968341827, 0.020247509703040123, 0.029483214020729065, 0.017405753955245018, 0.02175983600318432, 0.007253278978168964, 0.014506557956337929, 0.9211664199829102, 0.014506557956337929, 0.007253278978168964, 0.007253278978168964, 0.8937717080116272, 0.9588213562965393, 0.17606550455093384, 0.43564924597740173, 0.07674650102853775, 0.038373250514268875, 0.10609075427055359, 0.031601499766111374, 0.03385875001549721, 0.060945749282836914, 0.04063050076365471, 0.9366147518157959, 0.027189621701836586, 0.03806547075510025, 0.0706930160522461, 0.032627545297145844, 0.11419641226530075, 0.6199234127998352, 0.02175169810652733, 0.048941321671009064, 0.032627545297145844, 0.9388262033462524, 0.8574232459068298, 0.20875124633312225, 0.06438755989074707, 0.0596432127058506, 0.07523178309202194, 0.02101067639887333, 0.042699117213487625, 0.0555766299366951, 0.4520684480667114, 0.021688440814614296, 0.10718828439712524, 0.041881512850522995, 0.03620266541838646, 0.004968993365764618, 0.009228129871189594, 0.023425253108143806, 0.010647842660546303, 0.7425095438957214, 0.024135109037160873, 0.08354362845420837, 0.9189799427986145, 0.9616163969039917, 0.8737381100654602, 0.09709523618221283, 0.04660571366548538, 0.04660571366548538, 0.007767619099467993, 0.015535238198935986, 0.007767619099467993, 0.737923800945282, 0.03883809596300125, 0.9528472423553467, 0.9609695672988892, 0.24966950714588165, 0.24765807390213013, 0.0481487512588501, 0.21534937620162964, 0.031051544472575188, 0.04701732099056244, 0.041234441101551056, 0.017977209761738777, 0.10195466876029968, 0.946999192237854, 0.9449917674064636, 0.8951302170753479, 0.9198630452156067, 0.05799642950296402, 0.9279428720474243, 0.01843101903796196, 0.9768440127372742, 0.9641935229301453, 0.8661192059516907, 0.04303273558616638, 0.002732237335294485, 0.03415296599268913, 0.004098355770111084, 0.015710365027189255, 0.022540956735610962, 0.0034152965527027845, 0.008196711540222168, 0.05862834304571152, 0.01465708576142788, 0.04397125542163849, 0.7475113868713379, 0.08794251084327698, 0.02931417152285576, 0.9858693480491638, 0.21512086689472198, 0.1788017600774765, 0.11908476054668427, 0.141784206032753, 0.04854188114404678, 0.038763660937547684, 0.10092520713806152, 0.11629098653793335, 0.040509771555662155, 0.23857693374156952, 0.09748304635286331, 0.032066792249679565, 0.07824297249317169, 0.0705469399690628, 0.07439495623111725, 0.334777295589447, 0.04104549437761307, 0.03334946185350418, 0.029353372752666473, 0.9539846181869507, 0.26207518577575684, 0.13641871511936188, 0.10587721318006516, 0.17510463297367096, 0.07969878613948822, 0.1032593697309494, 0.045957691967487335, 0.053811222314834595, 0.038104161620140076, 0.2316797822713852, 0.09156575053930283, 0.1530192792415619, 0.07005701959133148, 0.11184541136026382, 0.15609195828437805, 0.02765408530831337, 0.12536518275737762, 0.03318490460515022, 0.0825275108218193, 0.020074259489774704, 0.002230473328381777, 0.024535207077860832, 0.8542712926864624, 0.00669141998514533, 0.002230473328381777, 0.00669141998514533, 0.26258477568626404, 0.012624268420040607, 0.015149122104048729, 0.15906578302383423, 0.5428435206413269, 0.0025248536840081215, 0.24154624342918396, 0.18891200423240662, 0.19462424516677856, 0.14362208545207977, 0.04324983432888985, 0.04120974615216255, 0.10200432687997818, 0.020400865003466606, 0.024889055639505386, 0.20249392092227936, 0.08742594718933105, 0.12342486530542374, 0.21920770406723022, 0.12406770139932632, 0.160066619515419, 0.009642567485570908, 0.03921310603618622, 0.03407040610909462, 0.8595704436302185, 0.2258966863155365, 0.06741419434547424, 0.08870288729667664, 0.4529760777950287, 0.018923282623291016, 0.04730820655822754, 0.06859689950942993, 0.018923282623291016, 0.010644346475601196, 0.27456215023994446, 0.13760408759117126, 0.19413159787654877, 0.11305500566959381, 0.05200530216097832, 0.08172261714935303, 0.08107659220695496, 0.03617760166525841, 0.02971731685101986, 0.05506333336234093, 0.8810133337974548, 0.05506333336234093, 0.650480329990387, 0.056419212371110916, 0.03540029004216194, 0.07411935925483704, 0.06195050850510597, 0.08905385434627533, 0.009956331923604012, 0.013275109231472015, 0.009956331923604012, 0.14592039585113525, 0.09728026390075684, 0.04864013195037842, 0.6809618473052979, 0.8595230579376221, 0.9707362055778503, 0.04832392558455467, 0.7973447442054749, 0.14497177302837372, 0.09405188262462616, 0.09405188262462616, 0.010450209490954876, 0.7733154892921448, 0.010450209490954876, 0.18594080209732056, 0.18907670676708221, 0.13668863475322723, 0.07083459198474884, 0.12469840049743652, 0.11418388783931732, 0.037446413189172745, 0.11049458384513855, 0.030621204525232315, 0.7706859111785889, 0.0583060123026371, 0.02765798009932041, 0.04634580388665199, 0.012707720510661602, 0.04709331691265106, 0.008970155380666256, 0.013455233536660671, 0.01420274656265974, 0.9886566996574402, 0.7795833349227905, 0.04213963821530342, 0.04213963821530342, 0.04213963821530342, 0.08427927643060684, 0.015257978811860085, 0.06611790508031845, 0.1780097484588623, 0.020343972370028496, 0.010171986185014248, 0.7069530487060547, 0.007722640875726938, 0.030890563502907753, 0.09267169237136841, 0.007722640875726938, 0.007722640875726938, 0.007722640875726938, 0.8417678475379944, 0.007722640875726938, 0.9607639312744141, 0.01706674136221409, 0.15360066294670105, 0.8192035555839539, 0.9773806929588318, 0.1276085525751114, 0.03373559191823006, 0.11147413402795792, 0.011734118685126305, 0.2552171051502228, 0.33148887753486633, 0.008800589479506016, 0.11440765857696533, 0.005867059342563152, 0.07376629114151001, 0.8851954936981201, 0.39717787504196167, 0.13549861311912537, 0.11958044022321701, 0.07299065589904785, 0.039601314812898636, 0.03804831951856613, 0.06134321168065071, 0.031059853732585907, 0.10405050963163376, 0.06820406764745712, 0.886652946472168, 0.0584278479218483, 0.031161518767476082, 0.005842784885317087, 0.0077903796918690205, 0.0350567065179348, 0.0175283532589674, 0.7459288239479065, 0.09737974405288696, 0.2203465849161148, 0.12591233849525452, 0.02098538912832737, 0.02098538912832737, 0.49315664172172546, 0.11541964113712311, 0.8809629082679749, 0.9715515971183777, 0.025349333882331848, 0.050698667764663696, 0.025349333882331848, 0.9125760197639465, 0.9834902882575989, 0.0884312316775322, 0.02210780791938305, 0.02210780791938305, 0.7295576930046082, 0.132646843791008, 0.9153187274932861, 0.21546997129917145, 0.7541449069976807, 0.33996739983558655, 0.045941539108753204, 0.009188307449221611, 0.018376614898443222, 0.5880516767501831, 0.12665106356143951, 0.8232319355010986, 0.9804965853691101, 0.0780632346868515, 0.052042156457901, 0.8586956262588501, 0.8573933839797974, 0.8737429976463318, 0.9524435997009277, 0.08265227824449539, 0.8265228271484375, 0.020663069561123848, 0.020663069561123848, 0.020663069561123848, 0.9228158593177795, 0.06666065752506256, 0.8665885329246521, 0.8793686628341675, 0.16256701946258545, 0.223529651761055, 0.08534768223762512, 0.012192526832222939, 0.004064175300300121, 0.004064175300300121, 0.02032087743282318, 0.4186100661754608, 0.07721933722496033, 0.8825117349624634, 0.040357548743486404, 0.9282236695289612, 0.040357548743486404, 0.9147999882698059, 0.9645821452140808, 0.9015256762504578, 0.11129003018140793, 0.05136462673544884, 0.44301992654800415, 0.02140192873775959, 0.08132732659578323, 0.08988809585571289, 0.10005401074886322, 0.0593903511762619, 0.0417337603867054, 0.08435443043708801, 0.07330801337957382, 0.49574965238571167, 0.015398030169308186, 0.09473136067390442, 0.09406188130378723, 0.06259634345769882, 0.059918422251939774, 0.020084388554096222, 0.4592457413673401, 0.17514778673648834, 0.0795290470123291, 0.12366076558828354, 0.022525567561388016, 0.026203211396932602, 0.015170279890298843, 0.012412047013640404, 0.08596491813659668, 0.9152411818504333, 0.1755593866109848, 0.18043604493141174, 0.12191624194383621, 0.05364314839243889, 0.14575764536857605, 0.07694269716739655, 0.12083254754543304, 0.0845285952091217, 0.04009689763188362, 0.1307644248008728, 0.09635273367166519, 0.03441169112920761, 0.04129403084516525, 0.10323507338762283, 0.5505870580673218, 0.02752935327589512, 0.020647015422582626, 0.8599229454994202, 0.054617930203676224, 0.8374749422073364, 0.09102988243103027, 0.9737027287483215, 0.0008379541686736047, 0.005865679122507572, 0.0016759083373472095, 0.0050277248956263065, 0.0025138624478131533, 0.005865679122507572, 0.0016759083373472095, 0.004189770668745041, 0.938306987285614, 0.9028745889663696, 0.019696764647960663, 0.019696764647960663, 0.009848382323980331, 0.7583253979682922, 0.187119260430336, 0.9945087432861328, 0.07335758954286575, 0.8509480357170105, 0.04401455447077751, 0.02934303693473339, 0.13956712186336517, 0.11194446682929993, 0.4535931646823883, 0.016234369948506355, 0.056941449642181396, 0.05500301718711853, 0.07341812551021576, 0.028591876849532127, 0.0644528716802597, 0.17054422199726105, 0.1373891532421112, 0.18916556239128113, 0.18008199334144592, 0.06222252920269966, 0.0669914111495018, 0.08924618363380432, 0.04519081488251686, 0.0590432733297348, 0.15774835646152496, 0.10903195291757584, 0.11367161571979523, 0.4024903178215027, 0.023198287934064865, 0.030157774686813354, 0.08699358254671097, 0.04755648970603943, 0.030157774686813354, 0.1733357161283493, 0.09904897958040237, 0.030952807515859604, 0.006190561223775148, 0.018571684136986732, 0.6190561056137085, 0.043333929032087326, 0.9437589049339294, 0.9616363048553467, 0.08956257253885269, 0.029854189604520798, 0.8657715320587158, 0.8795828223228455, 0.018583670258522034, 0.018583670258522034, 0.9477671980857849, 0.21304002404212952, 0.12951864302158356, 0.09562591463327408, 0.048418186604976654, 0.1234663724899292, 0.11620364338159561, 0.012104546651244164, 0.22514456510543823, 0.03752409294247627, 0.14721645414829254, 0.01051546074450016, 0.03154638037085533, 0.06309276074171066, 0.02103092148900032, 0.7150513529777527, 0.9248493909835815, 0.07707078754901886, 0.09960190951824188, 0.02490047737956047, 0.18260349333286285, 0.09130174666643143, 0.016600318253040314, 0.5644108057022095, 0.008300159126520157, 0.8921728730201721, 0.2076578587293625, 0.12652002274990082, 0.06876087933778763, 0.046757400035858154, 0.015127393417060375, 0.044006962329149246, 0.022003481164574623, 0.3960626721382141, 0.07151131331920624, 0.9331021308898926, 0.026821214705705643, 0.8985106348991394, 0.053642429411411285, 0.013410607352852821, 0.8990510106086731, 0.9598286151885986, 0.9417674541473389, 0.9524674415588379, 0.30606189370155334, 0.01684744283556938, 0.0056158145889639854, 0.0056158145889639854, 0.07300558686256409, 0.3987228274345398, 0.0028079072944819927, 0.19093769788742065, 0.08532077819108963, 0.8532077670097351, 0.9332085847854614, 0.019024357199668884, 0.8180473446846008, 0.09512178599834442, 0.03804871439933777, 0.019024357199668884, 0.019024357199668884, 0.8597487211227417, 0.1369737684726715, 0.035960663110017776, 0.2335422933101654, 0.0456579215824604, 0.0864672139286995, 0.08767937123775482, 0.3204135596752167, 0.0456579215824604, 0.007676995825022459, 0.9147228002548218, 0.8826671242713928, 0.17038865387439728, 0.7951470613479614, 0.469542920589447, 0.08123579621315002, 0.001624715980142355, 0.011373012326657772, 0.004874147940427065, 0.004874147940427065, 0.09423352777957916, 0.001624715980142355, 0.3281926214694977, 0.06254003942012787, 0.9381006360054016, 0.9198833703994751, 0.9331904053688049, 0.06760095804929733, 0.027040382847189903, 0.027040382847189903, 0.8652922511100769, 0.9668691158294678, 0.8793545961380005, 0.9423706531524658, 0.9525883793830872, 0.12790285050868988, 0.8313685059547424, 0.2144400030374527, 0.08742158114910126, 0.03548287972807884, 0.13678906857967377, 0.11519079655408859, 0.3234598636627197, 0.01645582728087902, 0.04936748370528221, 0.021084029227495193, 0.9418681263923645, 0.9157450199127197, 0.882585883140564, 0.9388181567192078, 0.18205194175243378, 0.10070361196994781, 0.1969190388917923, 0.09733747690916061, 0.08134832233190536, 0.11052151769399643, 0.0740550234913826, 0.10659435391426086, 0.050211552530527115, 0.19577157497406006, 0.09788578748703003, 0.019577158614993095, 0.6852005124092102, 0.9455117583274841, 0.13597482442855835, 0.8498426675796509, 0.9974986910820007, 0.8264522552490234, 0.8793607354164124, 0.7705575823783875, 0.06751552224159241, 0.02495138719677925, 0.033757761120796204, 0.0029354572761803865, 0.06751552224159241, 0.014677287079393864, 0.0014677286380901933, 0.014677287079393864, 0.9728235602378845, 0.05242539942264557, 0.8912317752838135, 0.14193105697631836, 0.10458077490329742, 0.6498948335647583, 0.0597604438662529, 0.014940110966563225, 0.007470055483281612, 0.022410167381167412, 0.6905651092529297, 0.03335115313529968, 0.09809163212776184, 0.08632063865661621, 0.025503823533654213, 0.03138932213187218, 0.003923665266484022, 0.025503823533654213, 0.0058854976668953896, 0.035046301782131195, 0.035046301782131195, 0.8411113023757935, 0.035046301782131195, 0.8860154747962952, 0.018081948161125183, 0.018081948161125183, 0.036163896322250366, 0.009040974080562592, 0.027122922241687775, 0.9730125069618225, 0.14706172049045563, 0.09898385405540466, 0.12726496160030365, 0.0650465339422226, 0.3810878396034241, 0.054441120475530624, 0.028988128527998924, 0.06787464022636414, 0.028988128527998924, 0.07577821612358093, 0.043301839381456375, 0.8660367727279663, 0.06629988551139832, 0.044199924916028976, 0.044199924916028976, 0.81769859790802, 0.9794644117355347, 0.9272333383560181, 0.9042561054229736, 0.9197071194648743, 0.9394114017486572, 0.9289306402206421, 0.201471745967865, 0.7807030081748962, 0.014369114302098751, 0.04748054966330528, 0.4897993803024292, 0.18242527544498444, 0.012494881637394428, 0.012494881637394428, 0.06559813022613525, 0.17242936789989471, 0.0037484646309167147, 0.9610587358474731, 0.03257826343178749, 0.9197567701339722, 0.08168940246105194, 0.04084470123052597, 0.8168940544128418, 0.04084470123052597, 0.9519731402397156, 0.22086390852928162, 0.09641774743795395, 0.09417547285556793, 0.1154770702123642, 0.01793818548321724, 0.030270688235759735, 0.34306779503822327, 0.07063160836696625, 0.011211366392672062, 0.9327742457389832, 0.9625725746154785, 0.01604287698864937, 0.9598641991615295, 0.1004146933555603, 0.13858887553215027, 0.10539393126964569, 0.33526888489723206, 0.2315347045660019, 0.03900405392050743, 0.02240658365190029, 0.021576711907982826, 0.004979241173714399, 0.05559780076146126, 0.11913814395666122, 0.7704266905784607, 0.03177017346024513, 0.015885086730122566, 0.8905483484268188, 0.11581037938594818, 0.014476297423243523, 0.7093385457992554, 0.05790518969297409, 0.08685778081417084, 0.007238148711621761, 0.9312744736671448, 0.1501779854297638, 0.04165520519018173, 0.05700186267495155, 0.003288568928837776, 0.0010961896041408181, 0.0043847584165632725, 0.012058085761964321, 0.6927918791770935, 0.038366638123989105, 0.9331141114234924, 0.971677303314209, 0.06099599227309227, 0.007624499034136534, 0.8768174052238464, 0.022873496636748314, 0.015248998068273067, 0.007624499034136534, 0.26065710186958313, 0.16950707137584686, 0.18509851396083832, 0.19229458272457123, 0.00839539710432291, 0.05077216401696205, 0.03158268332481384, 0.04077764227986336, 0.060766685754060745, 0.24762973189353943, 0.0038096881471574306, 0.007619376294314861, 0.0038096881471574306, 0.11048095673322678, 0.12952940165996552, 0.49525946378707886, 0.9193206429481506, 0.864054262638092, 0.17203645408153534, 0.024344781413674355, 0.0925101637840271, 0.02759075164794922, 0.3197281062602997, 0.163921520113945, 0.1363307684659958, 0.040574632585048676, 0.024344781413674355, 0.9607660174369812, 0.21438871324062347, 0.21170885860919952, 0.3470417261123657, 0.12260355055332184, 0.020098943263292313, 0.00937950611114502, 0.010719436220824718, 0.02277880162000656, 0.04086785018444061, 0.800144374370575, 0.08137061446905136, 0.01356176845729351, 0.04068530723452568, 0.05424707382917404, 0.9381211996078491, 0.013029460795223713, 0.013029460795223713, 0.026058921590447426, 0.08285102248191833, 0.9113612771034241, 0.07521277666091919, 0.9025533199310303, 0.08458518236875534, 0.8881443738937378, 0.089141346514225, 0.019809188321232796, 0.02971378155052662, 0.019809188321232796, 0.8319858908653259, 0.9661040902137756, 0.9647859930992126, 0.9597283005714417, 0.21038521826267242, 0.042077045887708664, 0.06912656873464584, 0.054099056869745255, 0.1382531374692917, 0.2870255410671234, 0.07964583486318588, 0.09016509354114532, 0.030055031180381775, 0.8952882885932922, 0.8737382292747498, 0.8856039643287659, 0.3207225203514099, 0.1006547138094902, 0.1171254888176918, 0.1331387311220169, 0.0841839462518692, 0.113465316593647, 0.043922059237957, 0.0503273569047451, 0.0366017147898674, 0.1615760326385498, 0.2319655865430832, 0.15837650001049042, 0.03999406844377518, 0.08558730036020279, 0.06719003617763519, 0.11758255958557129, 0.027995847165584564, 0.11038362234830856, 0.041795503348112106, 0.9195011258125305, 0.9447876214981079, 0.2772041857242584, 0.10757177323102951, 0.08895357698202133, 0.1544620245695114, 0.03861550614237785, 0.052406761795282364, 0.19307753443717957, 0.058612823486328125, 0.028961630538105965, 0.1724136769771576, 0.04597697779536247, 0.040229856967926025, 0.011494244448840618, 0.028735611587762833, 0.10057464241981506, 0.6005743145942688, 0.8992232084274292, 0.9115235209465027, 0.8751159310340881, 0.17825299501419067, 0.4594680070877075, 0.08526542037725449, 0.11197119951248169, 0.015444302931427956, 0.027992799878120422, 0.0675688236951828, 0.006435126066207886, 0.047619935125112534, 0.03535749390721321, 0.8839373588562012, 0.07071498781442642, 0.20594528317451477, 0.2520338296890259, 0.24456001818180084, 0.13120707869529724, 0.007058608345687389, 0.0697556585073471, 0.04110601171851158, 0.011210731230676174, 0.036953892558813095, 0.2191857099533081, 0.1290532648563385, 0.18927812576293945, 0.1524057686328888, 0.05407946556806564, 0.053669773042201996, 0.12618541717529297, 0.05448915809392929, 0.022123416885733604, 0.047285061329603195, 0.1773189902305603, 0.4527544677257538, 0.02718891017138958, 0.10166288167238235, 0.0862952396273613, 0.08274886012077332, 0.018914025276899338, 0.0047285063192248344, 0.19975635409355164, 0.07023397088050842, 0.17512886226177216, 0.30009061098098755, 0.04104582592844963, 0.07205823063850403, 0.023715365678071976, 0.06932184100151062, 0.048342861235141754, 0.23976857960224152, 0.13102108240127563, 0.040616534650325775, 0.14543339610099792, 0.07730243355035782, 0.03013484925031662, 0.07337180525064468, 0.22666646540164948, 0.03406548127532005, 0.4062081277370453, 0.012854687869548798, 0.3702149987220764, 0.015425625257194042, 0.03470765799283981, 0.0012854688102379441, 0.007712812628597021, 0.04113500192761421, 0.11055031418800354, 0.3395632207393646, 0.05715420842170715, 0.05491286516189575, 0.07172292470932007, 0.06163689121603966, 0.23422019183635712, 0.023534085601568222, 0.05267152562737465, 0.1053430512547493, 0.11418557912111282, 0.02140979655086994, 0.4157068729400635, 0.016057347878813744, 0.22123456001281738, 0.0017841496737673879, 0.06422939151525497, 0.10704898089170456, 0.03925129398703575, 0.22269000113010406, 0.040887344628572464, 0.13580439984798431, 0.05475983768701553, 0.12996333837509155, 0.09929783642292023, 0.2708786725997925, 0.027014853432774544, 0.018253277987241745, 0.17453844845294952, 0.07757264375686646, 0.5180744528770447, 0.019393160939216614, 0.005540903192013502, 0.0803430899977684, 0.0554090291261673, 0.04709767550230026, 0.019393160939216614, 0.134609192609787, 0.30345088243484497, 0.30809256434440613, 0.12532579898834229, 0.017406361177563667, 0.028430389240384102, 0.043515902012586594, 0.015085511840879917, 0.02378869242966175, 0.21420180797576904, 0.12867113947868347, 0.1463024616241455, 0.12829600274562836, 0.1054127961397171, 0.0934084951877594, 0.09228309243917465, 0.060771793127059937, 0.030761029571294785, 0.24261252582073212, 0.18893450498580933, 0.17164836823940277, 0.10735604166984558, 0.11615074425935745, 0.06004660204052925, 0.06732497364282608, 0.023351455107331276, 0.02274492383003235, 0.02301207184791565, 0.0920482873916626, 0.0920482873916626, 0.02301207184791565, 0.7133742570877075, 0.0460241436958313, 0.01861106976866722, 0.9491645693778992, 0.01861106976866722, 0.9441525340080261, 0.02052505500614643, 0.9331039190292358, 0.13041149079799652, 0.026082297787070274, 0.8085512518882751, 0.33732932806015015, 0.009637980721890926, 0.6457447409629822, 0.8595508337020874, 0.8595308065414429, 0.046055156737565994, 0.80596524477005, 0.13816547393798828, 0.1580832600593567, 0.03952081501483917, 0.02964061126112938, 0.009880203753709793, 0.02964061126112938, 0.02964061126112938, 0.6817340850830078, 0.019760407507419586, 0.0976421982049942, 0.030302749946713448, 0.6935963034629822, 0.03366972133517265, 0.026935778558254242, 0.08417430520057678, 0.016834860667586327, 0.01010091695934534, 0.01010091695934534, 0.07987362891435623, 0.8786098957061768, 0.1643737107515335, 0.21242141723632812, 0.12644131481647491, 0.27648502588272095, 0.05479123815894127, 0.04214710742235184, 0.031188858672976494, 0.04636181890964508, 0.04551887512207031, 0.10476573556661606, 0.1033305823802948, 0.07462764531373978, 0.4764688014984131, 0.03444352746009827, 0.08610881865024567, 0.020092058926820755, 0.084673672914505, 0.017221763730049133, 0.928230345249176, 0.9649434685707092, 0.026079552248120308, 0.9617581963539124, 0.06264776736497879, 0.04176517575979233, 0.020882587879896164, 0.10441294312477112, 0.06264776736497879, 0.14617812633514404, 0.5429472923278809, 0.2651263177394867, 0.1147395446896553, 0.0764930248260498, 0.10285712778568268, 0.21239811182022095, 0.07166580110788345, 0.06201133877038956, 0.06126868724822998, 0.033047959208488464, 0.24736455082893372, 0.10082156956195831, 0.14771531522274017, 0.06705806404352188, 0.10996585339307785, 0.20727038383483887, 0.04478353261947632, 0.04619034752249718, 0.028839657083153725, 0.92488032579422, 0.009584251791238785, 0.014376378618180752, 0.02396063134074211, 0.009584251791238785, 0.014376378618180752, 0.20489326119422913, 0.4236990213394165, 0.04426706209778786, 0.12521255016326904, 0.04300228878855705, 0.021501144394278526, 0.05059092864394188, 0.015177278779447079, 0.07335684448480606, 0.30738019943237305, 0.24513809382915497, 0.0603269524872303, 0.0766056552529335, 0.027769550681114197, 0.03734525665640831, 0.05266638845205307, 0.0440482534468174, 0.14938102662563324, 0.8264695405960083, 0.10088425874710083, 0.010732368566095829, 0.008585894480347633, 0.006439420860260725, 0.017171788960695267, 0.008585894480347633, 0.8263923525810242, 0.010732368566095829, 0.010732368566095829, 0.09352993220090866, 0.036372750997543335, 0.13509880006313324, 0.005196107551455498, 0.6339251399040222, 0.031176645308732986, 0.010392215102910995, 0.04676496610045433, 0.005196107551455498, 0.14636628329753876, 0.38424184918403625, 0.06772170960903168, 0.31287917494773865, 0.014806539751589298, 0.014078348875045776, 0.025243936106562614, 0.015534729696810246, 0.018932951614260674, 0.20230624079704285, 0.21184898912906647, 0.004771373700350523, 0.5506165027618408, 0.00667992327362299, 0.0019085494568571448, 0.01335984654724598, 0.0019085494568571448, 0.007634197827428579, 0.1989179104566574, 0.17633016407489777, 0.19381745159626007, 0.12933307886123657, 0.0302384365350008, 0.06885620206594467, 0.11767487972974777, 0.045175496488809586, 0.039346400648355484, 0.9391608238220215, 0.9388270378112793, 0.17051848769187927, 0.08101749420166016, 0.016118662431836128, 0.0042417533695697784, 0.026298871263861656, 0.028843922540545464, 0.00084835069719702, 0.010180207900702953, 0.6621376872062683, 0.09882601350545883, 0.11154619604349136, 0.038160540163517, 0.008806278929114342, 0.04696681722998619, 0.06457937508821487, 0.007827803492546082, 0.015655606985092163, 0.6066547632217407, 0.05101017281413078, 0.9181830883026123, 0.5121456980705261, 0.050681084394454956, 0.02667425572872162, 0.0026674256660044193, 0.08002276718616486, 0.04801366105675697, 0.010669702664017677, 0.005334851332008839, 0.2640751302242279, 0.8583692908287048, 0.8815481662750244, 0.857851505279541, 0.9193787574768066, 0.1605895310640335, 0.05585722625255585, 0.5585722923278809, 0.11869660764932632, 0.010473229922354221, 0.0034910766407847404, 0.048875074833631516, 0.017455384135246277, 0.024437537416815758, 0.02738698199391365, 0.9585443735122681, 0.9721739888191223, 0.8596898913383484, 0.9651688933372498, 0.1567925214767456, 0.16217264533042908, 0.019983360543847084, 0.1083712950348854, 0.15371815860271454, 0.09991680085659027, 0.15141238272190094, 0.026132086291909218, 0.12143734097480774, 0.8985474705696106, 0.8865730166435242, 0.0714978277683258, 0.028599129989743233, 0.9677159190177917, 0.9675915837287903, 0.9683272242546082, 0.024828903377056122, 0.34348735213279724, 0.115288145840168, 0.13371047377586365, 0.03803320229053497, 0.06596383452415466, 0.1402474343776703, 0.06180395558476448, 0.03565612807869911, 0.06536956876516342, 0.9673939347267151, 0.9541904330253601, 0.07826729863882065, 0.1512383222579956, 0.25363314151763916, 0.11357585340738297, 0.18007363379001617, 0.11534128338098526, 0.0276583693921566, 0.07414796948432922, 0.006473235320299864, 0.1634601354598999, 0.11259079724550247, 0.09292132407426834, 0.049512822180986404, 0.038660697638988495, 0.4191633462905884, 0.03730418160557747, 0.031199859455227852, 0.054260626435279846, 0.03295278176665306, 0.1647638976573944, 0.7579139471054077, 0.03295278176665306, 0.09507477283477783, 0.023768693208694458, 0.07130607962608337, 0.7368295192718506, 0.047537386417388916, 0.023768693208694458, 0.9846255779266357, 0.970249593257904, 0.0666753277182579, 0.8667792677879333, 0.9597314596176147, 0.9702947735786438, 0.928204357624054, 0.09763766825199127, 0.05374550446867943, 0.12630192935466766, 0.019706685096025467, 0.36278215050697327, 0.0591200552880764, 0.008957584388554096, 0.2597699463367462, 0.011644859798252583, 0.9114933013916016, 0.3269193470478058, 0.14589789509773254, 0.06822077184915543, 0.08544483035802841, 0.0385008342564106, 0.03951401263475418, 0.20500005781650543, 0.028706761077046394, 0.061466243118047714, 0.3031240999698639, 0.2109389454126358, 0.13485600054264069, 0.06923950463533401, 0.023348204791545868, 0.03784019127488136, 0.060785841196775436, 0.03461975231766701, 0.12559723854064941, 0.9148187637329102, 0.1721399873495102, 0.7746299505233765, 0.08325909078121185, 0.10268621146678925, 0.17299389839172363, 0.06475707143545151, 0.1156376302242279, 0.1526416689157486, 0.0333036370575428, 0.2599533796310425, 0.013876515440642834, 0.06016188859939575, 0.06016188859939575, 0.06016188859939575, 0.812185525894165, 0.0924336388707161, 0.04621681943535805, 0.8319027423858643, 0.14849384129047394, 0.8167160749435425, 0.9271726608276367, 0.19917212426662445, 0.13950452208518982, 0.02521166205406189, 0.3185073137283325, 0.10925053060054779, 0.03613671660423279, 0.13446219265460968, 0.01932894065976143, 0.018488552421331406, 0.027888881042599678, 0.9203330874443054, 0.027888881042599678, 0.04748443514108658, 0.008379606530070305, 0.002793201943859458, 0.002793201943859458, 0.3463570475578308, 0.17038533091545105, 0.41898030042648315, 0.6169110536575317, 0.08825137466192245, 0.003394283587113023, 0.029699981212615967, 0.050914254039525986, 0.16631989181041718, 0.003394283587113023, 0.023759985342621803, 0.01781998947262764, 0.8917379975318909, 0.9545115828514099, 0.8991947770118713, 0.04350942745804787, 0.05076099559664726, 0.15452997386455536, 0.010133112780749798, 0.08106490224599838, 0.048132285475730896, 0.10639768838882446, 0.5345216989517212, 0.012666391208767891, 0.04053245112299919, 0.010133112780749798, 0.2716939449310303, 0.07917937636375427, 0.08383698761463165, 0.09936235845088959, 0.11644025892019272, 0.2616024613380432, 0.03337953984737396, 0.04579983651638031, 0.010091489180922508, 0.9591183662414551, 0.06185510382056236, 0.06185510382056236, 0.8659714460372925, 0.013010985217988491, 0.0026021969970315695, 0.003903295611962676, 0.9406942129135132, 0.03382856026291847, 0.0026021969970315695, 0.0013010984985157847, 0.0026021969970315695, 0.919798731803894, 0.9576769471168518, 0.9404765963554382, 0.1762922704219818, 0.04761591926217079, 0.16608886420726776, 0.13264435529708862, 0.11280438303947449, 0.10543525218963623, 0.11903980374336243, 0.12187407910823822, 0.01870625466108322, 0.06659416109323502, 0.9323182702064514, 0.9795183539390564, 0.895746111869812, 0.9703952670097351, 0.06006612256169319, 0.9310249090194702, 0.145022913813591, 0.0725114569067955, 0.024170486256480217, 0.7251145839691162, 0.024170486256480217, 0.3147861957550049, 0.16335327923297882, 0.10893897712230682, 0.08233888447284698, 0.043708037585020065, 0.10154393315315247, 0.11401617527008057, 0.04039682447910309, 0.031015047803521156, 0.8002433180809021, 0.058305524289608, 0.009474648162722588, 0.021864572539925575, 0.03279685974121094, 0.0349833145737648, 0.028423944488167763, 0.0087458286434412, 0.0051017333753407, 0.8264492750167847, 0.17221225798130035, 0.1747153401374817, 0.18172398209571838, 0.07208885252475739, 0.12265117466449738, 0.05907281115651131, 0.07108762115240097, 0.07459193468093872, 0.07258947193622589, 0.0977170541882515, 0.01699427142739296, 0.12745702266693115, 0.00849713571369648, 0.10196562111377716, 0.4758395850658417, 0.00849713571369648, 0.16569413244724274, 0.9109753370285034, 0.0725204199552536, 0.08181791007518768, 0.1152888759970665, 0.050206445157527924, 0.09297490119934082, 0.1152888759970665, 0.3142551779747009, 0.13388386368751526, 0.022313976660370827, 0.6247435808181763, 0.050357166677713394, 0.02675224468111992, 0.05350448936223984, 0.10858263820409775, 0.06766743957996368, 0.01416295301169157, 0.05350448936223984, 0.2313346117734909, 0.1431712508201599, 0.07987449318170547, 0.06103616580367088, 0.17934083938598633, 0.11378347128629684, 0.1574883759021759, 0.019591856747865677, 0.014317125082015991, 0.2509115934371948, 0.13971541821956635, 0.07360265403985977, 0.2156226634979248, 0.03744949400424957, 0.12516772747039795, 0.02376602403819561, 0.04998067021369934, 0.08382924646139145, 0.05995524674654007, 0.8993287086486816, 0.9269174933433533, 0.20221754908561707, 0.03235480934381485, 0.6673179268836975, 0.004044351167976856, 0.012133053503930569, 0.016177404671907425, 0.024266107007861137, 0.04044350981712341, 0.004044351167976856, 0.10532999783754349, 0.8091259002685547, 0.019150909036397934, 0.03830181807279587, 0.009575454518198967, 0.01436318177729845, 0.0047877272590994835, 0.056292787194252014, 0.6452019810676575, 0.038971930742263794, 0.07361364364624023, 0.047632358968257904, 0.01299064327031374, 0.004330214578658342, 0.10825536400079727, 0.01299064327031374, 0.08356234431266785, 0.9191858172416687, 0.9000769257545471, 0.9243008494377136, 0.1825023591518402, 0.11013073474168777, 0.10509619116783142, 0.04216434061527252, 0.1925714612007141, 0.11201868951320648, 0.03838842734694481, 0.16362281143665314, 0.054121389985084534, 0.1355331391096115, 0.6353116035461426, 0.04235410690307617, 0.025412464514374733, 0.025412464514374733, 0.04235410690307617, 0.09317903220653534, 0.029304971918463707, 0.7399505376815796, 0.2271135449409485, 0.9341350793838501, 0.08058440685272217, 0.023503785952925682, 0.060438305139541626, 0.003357683541253209, 0.6581059694290161, 0.053722936660051346, 0.033576834946870804, 0.06715366989374161, 0.020146101713180542, 0.8737316727638245, 0.1056743711233139, 0.08031252026557922, 0.10144739598035812, 0.00845395028591156, 0.4649672508239746, 0.08876647055149078, 0.03804277256131172, 0.11412832140922546, 0.08020831644535065, 0.03208332508802414, 0.7699998021125793, 0.06416665017604828, 0.03208332508802414, 0.01604166254401207, 0.10076805204153061, 0.017524877563118935, 0.12267414480447769, 0.039430975914001465, 0.08324316889047623, 0.08324316889047623, 0.07886195182800293, 0.40745341777801514, 0.061337072402238846, 0.04638325423002243, 0.7885153293609619, 0.09276650846004486, 0.0706622302532196, 0.0176655575633049, 0.0176655575633049, 0.865612268447876, 0.9045901894569397, 0.067928746342659, 0.905716598033905, 0.9721357226371765, 0.9079139232635498, 0.032717619091272354, 0.02453821338713169, 0.032717619091272354, 0.008179404772818089, 0.9648260474205017, 0.026076380163431168, 0.8818959593772888, 0.879859447479248, 0.02145998738706112, 0.06437996029853821, 0.02145998738706112, 0.20398209989070892, 0.09519165009260178, 0.16046592593193054, 0.053035344928503036, 0.053035344928503036, 0.08567248284816742, 0.2706162631511688, 0.05575510859489441, 0.02175809070467949, 0.8264555931091309, 0.214130237698555, 0.47851553559303284, 0.04588504880666733, 0.07210507988929749, 0.1005101129412651, 0.021850023418664932, 0.004370004869997501, 0.03933004289865494, 0.024035025388002396, 0.635111927986145, 0.05280543491244316, 0.005063534714281559, 0.08825017511844635, 0.055698882788419724, 0.1388855278491974, 0.003616810543462634, 0.009403707459568977, 0.010850431397557259, 0.4197618365287781, 0.07108095288276672, 0.07396261394023895, 0.14408300817012787, 0.07972593605518341, 0.08404842019081116, 0.03313909098505974, 0.03361937031149864, 0.06099514290690422, 0.05679640173912048, 0.8746646046638489, 0.011359280906617641, 0.05679640173912048, 0.230756014585495, 0.16363707184791565, 0.16197296977043152, 0.06656423211097717, 0.06434542685747147, 0.06933774799108505, 0.10705748200416565, 0.03439152240753174, 0.10261986404657364, 0.09254862368106842, 0.023137155920267105, 0.04627431184053421, 0.8329375982284546, 0.2815646529197693, 0.15394580364227295, 0.11423224955797195, 0.049084171652793884, 0.052653927356004715, 0.06514807790517807, 0.17625679075717926, 0.05443880707025528, 0.05176148936152458, 0.08736113458871841, 0.051388900727033615, 0.09250002354383469, 0.051388900727033615, 0.06166668236255646, 0.025694450363516808, 0.590972363948822, 0.020555561408400536, 0.010277780704200268, 0.9773762226104736, 0.8591902256011963, 0.1888946145772934, 0.14711984992027283, 0.06538660079240799, 0.14530354738235474, 0.0926310122013092, 0.08173324912786484, 0.009081471711397171, 0.012714060954749584, 0.2579137980937958, 0.03416731581091881, 0.9481430053710938, 0.1611710637807846, 0.11316265910863876, 0.5246632099151611, 0.027433371171355247, 0.0411500558257103, 0.024004200473427773, 0.05143757164478302, 0.02057502791285515, 0.03429171442985535, 0.013762511312961578, 0.977138340473175, 0.9317970871925354, 0.9198513031005859, 0.9751635193824768, 0.1929684281349182, 0.057890526950359344, 0.012864561751484871, 0.057890526950359344, 0.5210147500038147, 0.14151017367839813, 0.012864561751484871, 0.9508153796195984, 0.2418375313282013, 0.196492999792099, 0.015114845708012581, 0.030229691416025162, 0.015114845708012581, 0.4836750626564026, 0.9590604305267334, 0.16261224448680878, 0.07185191661119461, 0.13235880434513092, 0.011345040053129196, 0.07941527664661407, 0.211774080991745, 0.007563360035419464, 0.3214428126811981, 0.9751725792884827, 0.9455203413963318, 0.9574973583221436, 0.43932443857192993, 0.11792967468500137, 0.07534395903348923, 0.07097619026899338, 0.06151270121335983, 0.07206813246011734, 0.0713401734828949, 0.049865324050188065, 0.04112979397177696, 0.10105753690004349, 0.033685848116874695, 0.033685848116874695, 0.8084602952003479, 0.1323256641626358, 0.03608882054686546, 0.7538553476333618, 0.02004934474825859, 0.016039475798606873, 0.016039475798606873, 0.016039475798606873, 0.004009868949651718, 0.9137670993804932, 0.014057954773306847, 0.056231819093227386, 0.06571924686431885, 0.017923429608345032, 0.800579845905304, 0.017923429608345032, 0.05974476784467697, 0.01194895338267088, 0.017923429608345032, 0.41282668709754944, 0.09485014528036118, 0.12370515614748001, 0.03742580860853195, 0.047996457666158676, 0.05542448163032532, 0.07342315465211868, 0.12084822356700897, 0.033426105976104736, 0.6622218489646912, 0.024789053946733475, 0.021247759461402893, 0.033052071928977966, 0.029510777443647385, 0.05548026040196419, 0.06846500188112259, 0.056660693138837814, 0.04839767515659332, 0.16582442820072174, 0.009315979667007923, 0.027947938069701195, 0.031674329191446304, 0.05589587613940239, 0.2813425660133362, 0.007452783640474081, 0.4154926836490631, 0.005589587613940239, 0.11557773500680923, 0.05538100004196167, 0.6958742737770081, 0.038525912910699844, 0.014447216875851154, 0.031302303075790405, 0.012039347551763058, 0.014447216875851154, 0.02167082577943802, 0.2573090195655823, 0.07137038558721542, 0.10705558210611343, 0.025355268269777298, 0.24604001641273499, 0.17091329395771027, 0.012208092026412487, 0.09484748542308807, 0.014086260460317135, 0.6684238910675049, 0.0862482488155365, 0.0372435599565506, 0.02940281108021736, 0.02352224849164486, 0.04704449698328972, 0.04704449698328972, 0.013721311464905739, 0.04704449698328972, 0.069650799036026, 0.9054604172706604, 0.8579957485198975, 0.9746900796890259, 0.9418114423751831], \"Term\": [\"aadhaar\", \"aarons\", \"able\", \"able\", \"able\", \"able\", \"able\", \"able\", \"able\", \"able\", \"able\", \"access\", \"access\", \"access\", \"access\", \"access\", \"access\", \"access\", \"access\", \"access\", \"accessibility\", \"accessibility\", \"accessibility\", \"accessibility\", \"accessibility\", \"accessibility\", \"accessibility\", \"accessible\", \"accessible\", \"accessible\", \"accessible\", \"accessible\", \"accessible\", \"accessible\", \"accessible\", \"accident\", \"accident\", \"accident\", \"accident\", \"accident\", \"accident\", \"accident\", \"accident\", \"accident\", \"action\", \"action\", \"action\", \"action\", \"action\", \"action\", \"action\", \"action\", \"action\", \"actualisation\", \"aeronautics\", \"affective\", \"affective\", \"affective\", \"agency\", \"agency\", \"agency\", \"agency\", \"agency\", \"agency\", \"agency\", \"agency\", \"agency\", \"agent\", \"agent\", \"agent\", \"agent\", \"agent\", \"agent\", \"agent\", \"agent\", \"agent\", \"ahuja\", \"aircraft\", \"aircraft\", \"aircraft\", \"aircraft\", \"aircraft\", \"aircraft\", \"aircraft\", \"aircraft\", \"airport\", \"airport\", \"airport\", \"airport\", \"airspace\", \"airspace\", \"algorithm\", \"algorithm\", \"algorithm\", \"algorithm\", \"algorithm\", \"algorithm\", \"algorithm\", \"algorithm\", \"algorithm\", \"algorithmic\", \"algorithmic\", \"algorithmic\", \"algorithmic\", \"algorithmic\", \"algorithmic\", \"algorithmic\", \"algorithmic\", \"algorithms\", \"algorithms\", \"algorithms\", \"algorithms\", \"algorithms\", \"algorithms\", \"algorithms\", \"algorithms\", \"allens\", \"ally\", \"ally\", \"ally\", \"alrc\", \"also\", \"also\", \"also\", \"also\", \"also\", \"also\", \"also\", \"also\", \"also\", \"alvey\", \"alvey\", \"amazon\", \"amazon\", \"amazon\", \"amazon\", \"amazon\", \"amazon\", \"amazon\", \"american\", \"american\", \"american\", \"american\", \"american\", \"american\", \"american\", \"american\", \"american\", \"amsterdam\", \"amsterdam\", \"amsterdam\", \"amsterdam\", \"amsterdam\", \"amsterdam\", \"analytic\", \"analytic\", \"analytic\", \"analytic\", \"analytic\", \"analytic\", \"analytic\", \"analytic\", \"analytic\", \"animal\", \"animal\", \"animal\", \"animal\", \"animal\", \"animal\", \"annotation\", \"annotation\", \"annotation\", \"annotation\", \"anonymise\", \"anonymise\", \"anonymise\", \"anonymise\", \"anonymise\", \"answerability\", \"anticipating\", \"appendix\", \"appendix\", \"appendix\", \"appendix\", \"appendix\", \"appendix\", \"appendix\", \"appendix\", \"application\", \"application\", \"application\", \"application\", \"application\", \"application\", \"application\", \"application\", \"application\", \"archetype\", \"archetype\", \"arkin\", \"arkin\", \"armed\", \"armed\", \"armed\", \"armed\", \"armed\", \"article\", \"article\", \"article\", \"article\", \"article\", \"article\", \"article\", \"article\", \"article\", \"artifact\", \"artificial\", \"artificial\", \"artificial\", \"artificial\", \"artificial\", \"artificial\", \"artificial\", \"artificial\", \"artificial\", \"asimov\", \"asimov\", \"asimov\", \"assessment\", \"assessment\", \"assessment\", \"assessment\", \"assessment\", \"assessment\", \"assessment\", \"assessment\", \"assessment\", \"astronomy\", \"atco\", \"attack\", \"attack\", \"attack\", \"attack\", \"attack\", \"attack\", \"attack\", \"attack\", \"attack\", \"attacker\", \"attacker\", \"attacker\", \"attacker\", \"attacker\", \"attribution\", \"attribution\", \"attribution\", \"attribution\", \"attribution\", \"attribution\", \"australia\", \"australia\", \"australia\", \"australia\", \"australia\", \"australia\", \"australian\", \"australian\", \"australian\", \"australian\", \"australian\", \"australian\", \"australian\", \"australian\", \"autism\", \"autism\", \"autonomous\", \"autonomous\", \"autonomous\", \"autonomous\", \"autonomous\", \"autonomous\", \"autonomous\", \"autonomous\", \"autonomous\", \"autumn\", \"autumn\", \"autumn\", \"available\", \"available\", \"available\", \"available\", \"available\", \"available\", \"available\", \"available\", \"available\", \"aviation\", \"aviation\", \"aviation\", \"aviation\", \"aviation\", \"aviation\", \"aviation\", \"balson\", \"base\", \"base\", \"base\", \"base\", \"base\", \"base\", \"base\", \"base\", \"base\", \"behaviour\", \"behaviour\", \"behaviour\", \"behaviour\", \"behaviour\", \"behaviour\", \"behaviour\", \"behaviour\", \"behaviour\", \"bekey\", \"bekey\", \"bertelsmann\", \"blood\", \"blood\", \"blood\", \"blood\", \"blood\", \"blood\", \"blood\", \"body\", \"body\", \"body\", \"body\", \"body\", \"body\", \"body\", \"body\", \"body\", \"bringsjord\", \"britain\", \"britain\", \"britain\", \"britain\", \"britain\", \"broadcasting\", \"broadcasting\", \"bunz\", \"bunz\", \"burbidge\", \"burbidge\", \"business\", \"business\", \"business\", \"business\", \"business\", \"business\", \"business\", \"business\", \"business\", \"bywaters\", \"caldicott\", \"caldicott\", \"call\", \"call\", \"call\", \"call\", \"call\", \"call\", \"call\", \"call\", \"call\", \"capability\", \"capability\", \"capability\", \"capability\", \"capability\", \"capability\", \"capability\", \"capability\", \"capability\", \"capiq\", \"capita\", \"capita\", \"capita\", \"capita\", \"cardiac\", \"care\", \"care\", \"care\", \"care\", \"care\", \"care\", \"care\", \"care\", \"care\", \"carla\", \"case\", \"case\", \"case\", \"case\", \"case\", \"case\", \"case\", \"case\", \"case\", \"castan\", \"cdao\", \"centre\", \"centre\", \"centre\", \"centre\", \"centre\", \"centre\", \"centre\", \"centre\", \"centre\", \"chairperson\", \"chairperson\", \"chairperson\", \"challenge\", \"challenge\", \"challenge\", \"challenge\", \"challenge\", \"challenge\", \"challenge\", \"challenge\", \"challenge\", \"change\", \"change\", \"change\", \"change\", \"change\", \"change\", \"change\", \"change\", \"change\", \"chapter\", \"chapter\", \"chapter\", \"chapter\", \"chapter\", \"chapter\", \"chapter\", \"chapter\", \"chapter\", \"charities\", \"charities\", \"charter\", \"charter\", \"charter\", \"charter\", \"charter\", \"charter\", \"charter\", \"child\", \"child\", \"child\", \"child\", \"child\", \"child\", \"child\", \"child\", \"child\", \"chronic\", \"chronic\", \"chronic\", \"chronic\", \"chronic\", \"chuo\", \"cial\", \"citation\", \"citation\", \"citation\", \"citation\", \"citation\", \"civilian\", \"civilian\", \"civilian\", \"civilian\", \"civilian\", \"civilian\", \"civilian\", \"classical\", \"classical\", \"classical\", \"classical\", \"clinical\", \"clinical\", \"clinical\", \"clinical\", \"clinical\", \"clinical\", \"clinical\", \"clinical\", \"clinical\", \"clinically\", \"clinician\", \"clinician\", \"clinician\", \"clinician\", \"clinician\", \"cmselect\", \"cnil\", \"cnil\", \"cnil\", \"cognitive\", \"cognitive\", \"cognitive\", \"cognitive\", \"cognitive\", \"cognitive\", \"cognitive\", \"cognitive\", \"cognitive\", \"colonialism\", \"combatant\", \"combatant\", \"comest\", \"comest\", \"commission\", \"commission\", \"commission\", \"commission\", \"commission\", \"commission\", \"commission\", \"commission\", \"commission\", \"commissioner\", \"commissioner\", \"commissioner\", \"commissioner\", \"commissioner\", \"commissioner\", \"commissioner\", \"commissioner\", \"commons\", \"commons\", \"commons\", \"commons\", \"commons\", \"commons\", \"commons\", \"commonwealth\", \"commonwealth\", \"community\", \"community\", \"community\", \"community\", \"community\", \"community\", \"community\", \"community\", \"community\", \"companionship\", \"companionship\", \"company\", \"company\", \"company\", \"company\", \"company\", \"company\", \"company\", \"company\", \"company\", \"complementarity\", \"complementarity\", \"computer\", \"computer\", \"computer\", \"computer\", \"computer\", \"computer\", \"computer\", \"computer\", \"computer\", \"conference\", \"conference\", \"conference\", \"conference\", \"conference\", \"conference\", \"conference\", \"conference\", \"conference\", \"consider\", \"consider\", \"consider\", \"consider\", \"consider\", \"consider\", \"consider\", \"consider\", \"consider\", \"consortiums\", \"consultation\", \"consultation\", \"consultation\", \"consultation\", \"consultation\", \"consultation\", \"consultation\", \"consultation\", \"consultation\", \"consumer\", \"consumer\", \"consumer\", \"consumer\", \"consumer\", \"consumer\", \"consumer\", \"consumer\", \"consumer\", \"control\", \"control\", \"control\", \"control\", \"control\", \"control\", \"control\", \"control\", \"control\", \"convention\", \"convention\", \"convention\", \"convention\", \"convention\", \"convention\", \"convention\", \"convention\", \"convention\", \"could\", \"could\", \"could\", \"could\", \"could\", \"could\", \"could\", \"could\", \"could\", \"councils\", \"councils\", \"councils\", \"country\", \"country\", \"country\", \"country\", \"country\", \"country\", \"country\", \"country\", \"country\", \"coursera\", \"coursera\", \"creative\", \"creative\", \"creative\", \"creative\", \"creative\", \"creative\", \"creative\", \"creative\", \"creative\", \"creator\", \"creator\", \"creator\", \"creator\", \"creator\", \"creator\", \"creator\", \"creator\", \"creator\", \"creature\", \"crowdedness\", \"crpd\", \"crunchbase\", \"crunchbase\", \"csiro\", \"cujo\", \"cukier\", \"curity\", \"customer\", \"customer\", \"customer\", \"customer\", \"customer\", \"customer\", \"customer\", \"customer\", \"customer\", \"cyber\", \"cyber\", \"cyber\", \"cyber\", \"cyber\", \"cyber\", \"cyber\", \"cyber\", \"cyber\", \"cybersecurity\", \"cybersecurity\", \"cybersecurity\", \"cybersecurity\", \"cybersecurity\", \"cybersecurity\", \"cybersecurity\", \"cybersecurity\", \"daly\", \"daly\", \"daly\", \"darpa\", \"darpa\", \"darpa\", \"darpa\", \"data\", \"data\", \"data\", \"data\", \"data\", \"data\", \"data\", \"data\", \"data\", \"datapunt\", \"datum\", \"datum\", \"datum\", \"datum\", \"datum\", \"datum\", \"datum\", \"datum\", \"datum\", \"debate\", \"debate\", \"debate\", \"debate\", \"debate\", \"debate\", \"debate\", \"debate\", \"debate\", \"decision\", \"decision\", \"decision\", \"decision\", \"decision\", \"decision\", \"decision\", \"decision\", \"decision\", \"declaration\", \"declaration\", \"declaration\", \"declaration\", \"declaration\", \"declaration\", \"declaration\", \"declaration\", \"declaration\", \"defense\", \"defense\", \"defense\", \"defense\", \"defense\", \"defense\", \"denham\", \"deployable\", \"design\", \"design\", \"design\", \"design\", \"design\", \"design\", \"design\", \"design\", \"design\", \"develop\", \"develop\", \"develop\", \"develop\", \"develop\", \"develop\", \"develop\", \"develop\", \"develop\", \"development\", \"development\", \"development\", \"development\", \"development\", \"development\", \"development\", \"development\", \"development\", \"diagnostic\", \"diagnostic\", \"diagnostic\", \"diagnostic\", \"diagnostic\", \"diagnostic\", \"diagnostic\", \"diagnostic\", \"different\", \"different\", \"different\", \"different\", \"different\", \"different\", \"different\", \"different\", \"different\", \"digital\", \"digital\", \"digital\", \"digital\", \"digital\", \"digital\", \"digital\", \"digital\", \"digital\", \"digitality\", \"dignity\", \"dignity\", \"dignity\", \"dignity\", \"dignity\", \"dignity\", \"dignity\", \"dignity\", \"dinsic\", \"disability\", \"disability\", \"disability\", \"disability\", \"disability\", \"discrimination\", \"discrimination\", \"discrimination\", \"discrimination\", \"discrimination\", \"discrimination\", \"discrimination\", \"discrimination\", \"discrimination\", \"discussion\", \"discussion\", \"discussion\", \"discussion\", \"discussion\", \"discussion\", \"discussion\", \"discussion\", \"discussion\", \"disease\", \"disease\", \"disease\", \"disease\", \"disease\", \"disease\", \"disease\", \"disease\", \"disease\", \"disparate\", \"disparate\", \"disparate\", \"disparate\", \"disparate\", \"disparate\", \"disparate\", \"dispatcher\", \"dobson\", \"document\", \"document\", \"document\", \"document\", \"document\", \"document\", \"document\", \"document\", \"document\", \"domains\", \"domains\", \"dpia\", \"dpia\", \"driving\", \"driving\", \"driving\", \"driving\", \"driving\", \"driving\", \"driving\", \"drone\", \"drone\", \"drone\", \"drone\", \"drone\", \"drone\", \"drone\", \"drukteradar\", \"dull\", \"dyson\", \"easa\", \"echr\", \"ecthr\", \"effectiveness\", \"effectiveness\", \"effectiveness\", \"effectiveness\", \"effectiveness\", \"effectiveness\", \"effectiveness\", \"effectiveness\", \"effectiveness\", \"elderly\", \"elderly\", \"elderly\", \"elderly\", \"elderly\", \"employment\", \"employment\", \"employment\", \"employment\", \"employment\", \"employment\", \"employment\", \"employment\", \"employment\", \"enable\", \"enable\", \"enable\", \"enable\", \"enable\", \"enable\", \"enable\", \"enable\", \"enable\", \"enario\", \"enrollment\", \"enrollment\", \"enrollment\", \"enrollment\", \"enrollment\", \"ensure\", \"ensure\", \"ensure\", \"ensure\", \"ensure\", \"ensure\", \"ensure\", \"ensure\", \"ensure\", \"environment\", \"environment\", \"environment\", \"environment\", \"environment\", \"environment\", \"environment\", \"environment\", \"environment\", \"esafety\", \"espionage\", \"espionage\", \"esprit\", \"esprit\", \"ethic\", \"ethic\", \"ethic\", \"ethic\", \"ethic\", \"ethic\", \"ethic\", \"ethic\", \"ethic\", \"ethical\", \"ethical\", \"ethical\", \"ethical\", \"ethical\", \"ethical\", \"ethical\", \"ethical\", \"ethical\", \"ethics\", \"ethics\", \"ethics\", \"ethics\", \"ethics\", \"ethics\", \"ethics\", \"ethics\", \"ethics\", \"eurocae\", \"eurocontrol\", \"europe\", \"europe\", \"europe\", \"europe\", \"europe\", \"europe\", \"europe\", \"europe\", \"europe\", \"european\", \"european\", \"european\", \"european\", \"european\", \"european\", \"european\", \"european\", \"european\", \"evidence\", \"evidence\", \"evidence\", \"evidence\", \"evidence\", \"evidence\", \"evidence\", \"evidence\", \"evidence\", \"example\", \"example\", \"example\", \"example\", \"example\", \"example\", \"example\", \"example\", \"example\", \"exhibit\", \"exhibit\", \"exhibit\", \"exhibit\", \"exhibit\", \"exhibit\", \"exhibit\", \"exhibit\", \"exhibit\", \"exoskeleton\", \"explanation\", \"explanation\", \"explanation\", \"explanation\", \"explanation\", \"explanation\", \"explanation\", \"explanation\", \"explanation\", \"explanatory\", \"explanatory\", \"explanatory\", \"explanatory\", \"explanatory\", \"explanatory\", \"explanatory\", \"expression\", \"expression\", \"expression\", \"expression\", \"expression\", \"expression\", \"expression\", \"expression\", \"facial\", \"facial\", \"facial\", \"facial\", \"facial\", \"facial\", \"facial\", \"facial\", \"facial\", \"fairness\", \"fairness\", \"fairness\", \"fairness\", \"fairness\", \"fairness\", \"fairness\", \"fairness\", \"fairness\", \"family\", \"family\", \"family\", \"family\", \"family\", \"family\", \"family\", \"family\", \"family\", \"feature\", \"feature\", \"feature\", \"feature\", \"feature\", \"feature\", \"feature\", \"feature\", \"feature\", \"federal\", \"federal\", \"federal\", \"federal\", \"federal\", \"federal\", \"federal\", \"federal\", \"federal\", \"federally\", \"federally\", \"ference\", \"figure\", \"figure\", \"figure\", \"figure\", \"figure\", \"figure\", \"figure\", \"figure\", \"figure\", \"finnish\", \"finnish\", \"fitzgerald\", \"flight\", \"flight\", \"flight\", \"flight\", \"flight\", \"flight\", \"flores\", \"fossil\", \"fostering\", \"fostering\", \"fostering\", \"fostering\", \"fostering\", \"framework\", \"framework\", \"framework\", \"framework\", \"framework\", \"framework\", \"framework\", \"framework\", \"framework\", \"france\", \"france\", \"france\", \"france\", \"france\", \"france\", \"france\", \"france\", \"frankish\", \"freedom\", \"freedom\", \"freedom\", \"freedom\", \"freedom\", \"freedom\", \"freedom\", \"freedom\", \"freedom\", \"french\", \"french\", \"french\", \"french\", \"french\", \"french\", \"french\", \"french\", \"fundamental\", \"fundamental\", \"fundamental\", \"fundamental\", \"fundamental\", \"fundamental\", \"fundamental\", \"fundamental\", \"fundamental\", \"future\", \"future\", \"future\", \"future\", \"future\", \"future\", \"future\", \"future\", \"future\", \"gdpr\", \"gdpr\", \"gdpr\", \"gdpr\", \"gdpr\", \"gdpr\", \"gdpr\", \"gdpr\", \"glaberson\", \"global\", \"global\", \"global\", \"global\", \"global\", \"global\", \"global\", \"global\", \"global\", \"glue\", \"governing\", \"governing\", \"governing\", \"government\", \"government\", \"government\", \"government\", \"government\", \"government\", \"government\", \"government\", \"government\", \"graph\", \"graph\", \"graph\", \"graph\", \"graph\", \"graph\", \"graph\", \"greencoat\", \"greene\", \"hand\", \"hand\", \"hand\", \"hand\", \"hand\", \"hand\", \"hand\", \"hand\", \"hand\", \"hansson\", \"hardware\", \"hardware\", \"hardware\", \"hardware\", \"hardware\", \"hardware\", \"hardware\", \"hardware\", \"hardware\", \"harpur\", \"hayashi\", \"health\", \"health\", \"health\", \"health\", \"health\", \"health\", \"health\", \"health\", \"health\", \"healthcare\", \"healthcare\", \"healthcare\", \"healthcare\", \"healthcare\", \"healthcare\", \"healthcare\", \"healthcare\", \"healthcare\", \"henley\", \"henley\", \"hla\\u010da\", \"homo\", \"hospital\", \"hospital\", \"hospital\", \"hospital\", \"hospital\", \"hospital\", \"hospital\", \"hospital\", \"hospitals\", \"hubig\", \"human\", \"human\", \"human\", \"human\", \"human\", \"human\", \"human\", \"human\", \"human\", \"humanly\", \"hustedt\", \"hybridisation\", \"ibsc\", \"icrc\", \"icrc\", \"ictai\", \"ictai\", \"ictais\", \"ieee\", \"ieee\", \"ieee\", \"ieee\", \"ieee\", \"ieee\", \"ieee\", \"ieee\", \"ieee\", \"imagenet\", \"imagenet\", \"imagenet\", \"imagenet\", \"imagenet\", \"imagenet\", \"immigrant\", \"impact\", \"impact\", \"impact\", \"impact\", \"impact\", \"impact\", \"impact\", \"impact\", \"impact\", \"implementation\", \"implementation\", \"implementation\", \"implementation\", \"implementation\", \"implementation\", \"implementation\", \"implementation\", \"implementation\", \"implementer\", \"implementer\", \"include\", \"include\", \"include\", \"include\", \"include\", \"include\", \"include\", \"include\", \"include\", \"increase\", \"increase\", \"increase\", \"increase\", \"increase\", \"increase\", \"increase\", \"increase\", \"increase\", \"index\", \"index\", \"index\", \"index\", \"index\", \"index\", \"index\", \"index\", \"india\", \"india\", \"india\", \"india\", \"india\", \"india\", \"individual\", \"individual\", \"individual\", \"individual\", \"individual\", \"individual\", \"individual\", \"individual\", \"individual\", \"industry\", \"industry\", \"industry\", \"industry\", \"industry\", \"industry\", \"industry\", \"industry\", \"industry\", \"infeasible\", \"inform\", \"inform\", \"inform\", \"inform\", \"inform\", \"inform\", \"inform\", \"inform\", \"inform\", \"information\", \"information\", \"information\", \"information\", \"information\", \"information\", \"information\", \"information\", \"information\", \"informational\", \"informational\", \"informational\", \"initiative\", \"initiative\", \"initiative\", \"initiative\", \"initiative\", \"initiative\", \"initiative\", \"initiative\", \"initiative\", \"injure\", \"injure\", \"injure\", \"injure\", \"insecure\", \"installations\", \"instituut\", \"instituut\", \"instituut\", \"intel\", \"intel\", \"intel\", \"intel\", \"intel\", \"intelligence\", \"intelligence\", \"intelligence\", \"intelligence\", \"intelligence\", \"intelligence\", \"intelligence\", \"intelligence\", \"intelligence\", \"intelligent\", \"intelligent\", \"intelligent\", \"intelligent\", \"intelligent\", \"intelligent\", \"intelligent\", \"intelligent\", \"intelligent\", \"intercultural\", \"interference\", \"interference\", \"interference\", \"interference\", \"interference\", \"interpretability\", \"interpretability\", \"interpretability\", \"interpretability\", \"interpretability\", \"interpretability\", \"interpretable\", \"interpretable\", \"interpretable\", \"interpretable\", \"interpretable\", \"interpretable\", \"interpretable\", \"interpretable\", \"interpretive\", \"interviewee\", \"interviewee\", \"interviewee\", \"intopia\", \"investment\", \"investment\", \"investment\", \"investment\", \"investment\", \"investment\", \"investment\", \"investment\", \"investment\", \"isis\", \"isis\", \"issue\", \"issue\", \"issue\", \"issue\", \"issue\", \"issue\", \"issue\", \"issue\", \"issue\", \"jaic\", \"jaic\", \"japan\", \"japan\", \"japan\", \"japan\", \"japan\", \"japan\", \"japan\", \"japan\", \"japanese\", \"japanese\", \"japanese\", \"japanese\", \"japanese\", \"japanese\", \"jennie\", \"jetro\", \"jsai\", \"jsai\", \"jsai\", \"jsai\", \"justifiability\", \"justifiable\", \"justifiable\", \"justifiable\", \"justifiable\", \"justifiable\", \"kahneman\", \"keio\", \"keio\", \"kill\", \"kill\", \"kill\", \"kill\", \"kill\", \"killing\", \"killing\", \"kingsford\", \"kitchin\", \"kitchin\", \"kitchin\", \"koichi\", \"korff\", \"koski\", \"kpmg\", \"kpmg\", \"kpmg\", \"kpmg\", \"kpmg\", \"krafft\", \"kriti\", \"kriti\", \"kyoto\", \"labour\", \"labour\", \"labour\", \"labour\", \"labour\", \"labour\", \"labour\", \"labour\", \"labour\", \"lakh\", \"landing\", \"landing\", \"landing\", \"latam\", \"latinx\", \"leaderboard\", \"learn\", \"learn\", \"learn\", \"learn\", \"learn\", \"learn\", \"learn\", \"learn\", \"learn\", \"learning\", \"learning\", \"learning\", \"learning\", \"learning\", \"learning\", \"learning\", \"learning\", \"learning\", \"legal\", \"legal\", \"legal\", \"legal\", \"legal\", \"legal\", \"legal\", \"legal\", \"legal\", \"leslie\", \"level\", \"level\", \"level\", \"level\", \"level\", \"level\", \"level\", \"level\", \"level\", \"leverage\", \"leverage\", \"leverage\", \"leverage\", \"leverage\", \"leverage\", \"leverage\", \"leverage\", \"leveraging\", \"lexisnexis\", \"lexisnexis\", \"lexisnexis\", \"license\", \"license\", \"license\", \"license\", \"license\", \"license\", \"license\", \"license\", \"license\", \"lighthill\", \"lille\", \"linkedin\", \"linkedin\", \"linkedin\", \"linkedin\", \"linkedin\", \"lmic\", \"lord\", \"lord\", \"lord\", \"lord\", \"machine\", \"machine\", \"machine\", \"machine\", \"machine\", \"machine\", \"machine\", \"machine\", \"machine\", \"make\", \"make\", \"make\", \"make\", \"make\", \"make\", \"make\", \"make\", \"make\", \"making\", \"making\", \"making\", \"making\", \"making\", \"making\", \"making\", \"making\", \"making\", \"malicious\", \"malicious\", \"malicious\", \"malicious\", \"malicious\", \"malicious\", \"malicious\", \"maliranta\", \"malle\", \"maltreatment\", \"maltreatment\", \"maltreatment\", \"manipulator\", \"mann\", \"mann\", \"mann\", \"market\", \"market\", \"market\", \"market\", \"market\", \"market\", \"market\", \"market\", \"market\", \"marketplace\", \"marketplace\", \"marketplace\", \"marketplace\", \"marketplace\", \"marketplace\", \"mastercard\", \"mastercard\", \"mckinsey\", \"mckinsey\", \"mckinsey\", \"mckinsey\", \"mckinsey\", \"mckinsey\", \"mckinsey\", \"mcowan\", \"medical\", \"medical\", \"medical\", \"medical\", \"medical\", \"medical\", \"medical\", \"medical\", \"medical\", \"mediktor\", \"melbourne\", \"melbourne\", \"melbourne\", \"melbourne\", \"midpoint\", \"midwife\", \"mijente\", \"mika\", \"military\", \"military\", \"military\", \"military\", \"military\", \"military\", \"military\", \"military\", \"milk\", \"milk\", \"mindstep\", \"ministers\", \"ministers\", \"ministers\", \"ministers\", \"ministers\", \"ministers\", \"mlai\", \"model\", \"model\", \"model\", \"model\", \"model\", \"model\", \"model\", \"model\", \"model\", \"montpellier\", \"moonshot\", \"moor\", \"moor\", \"moral\", \"moral\", \"moral\", \"moral\", \"moral\", \"moral\", \"moral\", \"moral\", \"moral\", \"mortgage\", \"mortgage\", \"mufg\", \"mujin\", \"municipality\", \"municipality\", \"municipality\", \"municipality\", \"munro\", \"murakami\", \"naim\", \"nano\", \"nasa\", \"nasa\", \"national\", \"national\", \"national\", \"national\", \"national\", \"national\", \"national\", \"national\", \"national\", \"naval\", \"navy\", \"ndaa\", \"ndis\", \"need\", \"need\", \"need\", \"need\", \"need\", \"need\", \"need\", \"need\", \"need\", \"neglect\", \"neglect\", \"neglect\", \"neglect\", \"nichols\", \"nitrd\", \"nitrd\", \"noncommercial\", \"norihiro\", \"norio\", \"norm\", \"norm\", \"norm\", \"norm\", \"norm\", \"norm\", \"norm\", \"norm\", \"norm\", \"northraine\", \"norwegian\", \"norwegian\", \"notice\", \"notice\", \"notice\", \"notice\", \"notice\", \"notice\", \"notice\", \"november\", \"november\", \"november\", \"november\", \"november\", \"november\", \"november\", \"november\", \"november\", \"nstc\", \"nstc\", \"nstc\", \"nstc\", \"nudge\", \"nudge\", \"nudge\", \"nudge\", \"nudge\", \"nudge\", \"nudging\", \"number\", \"number\", \"number\", \"number\", \"number\", \"number\", \"number\", \"number\", \"number\", \"nurse\", \"nurse\", \"nurse\", \"observable\", \"observable\", \"observable\", \"observable\", \"observables\", \"ocado\", \"ofcom\", \"olli\", \"omniglot\", \"operto\", \"orbit\", \"orbit\", \"organisation\", \"organisation\", \"organisation\", \"organisation\", \"organisation\", \"organisation\", \"organisation\", \"organisation\", \"organisation\", \"organizing\", \"organizing\", \"osmo\", \"ostp\", \"ostp\", \"ostp\", \"ostp\", \"ottawa\", \"outcome\", \"outcome\", \"outcome\", \"outcome\", \"outcome\", \"outcome\", \"outcome\", \"outcome\", \"outcome\", \"oviedo\", \"palantir\", \"palantir\", \"pancreas\", \"paper\", \"paper\", \"paper\", \"paper\", \"paper\", \"paper\", \"paper\", \"paper\", \"paper\", \"paragraph\", \"paragraph\", \"paragraph\", \"paragraph\", \"paragraph\", \"parasuraman\", \"patent\", \"patent\", \"patent\", \"patent\", \"patent\", \"patent\", \"paterson\", \"patient\", \"patient\", \"patient\", \"patient\", \"patient\", \"patient\", \"patient\", \"patient\", \"patient\", \"payor\", \"pendix\", \"penetration\", \"penetration\", \"penetration\", \"penetration\", \"penetration\", \"penetration\", \"people\", \"people\", \"people\", \"people\", \"people\", \"people\", \"people\", \"people\", \"people\", \"percent\", \"percent\", \"percent\", \"percent\", \"percent\", \"percent\", \"percent\", \"percentile\", \"perceptron\", \"performance\", \"performance\", \"performance\", \"performance\", \"performance\", \"performance\", \"performance\", \"performance\", \"performance\", \"permissibility\", \"personal\", \"personal\", \"personal\", \"personal\", \"personal\", \"personal\", \"personal\", \"personal\", \"personal\", \"personalisation\", \"personalisation\", \"personalisation\", \"personalisation\", \"personalisation\", \"personhood\", \"personhood\", \"personhood\", \"personhood\", \"pesenti\", \"pesenti\", \"pharma\", \"pharma\", \"phishing\", \"phishing\", \"physician\", \"physician\", \"physician\", \"physician\", \"physician\", \"physicians\", \"pillars\", \"ping\", \"plan\", \"plan\", \"plan\", \"plan\", \"plan\", \"plan\", \"plan\", \"plan\", \"plan\", \"pluralist\", \"pokemon\", \"pok\\u00e9mon\", \"policy\", \"policy\", \"policy\", \"policy\", \"policy\", \"policy\", \"policy\", \"policy\", \"policy\", \"possible\", \"possible\", \"possible\", \"possible\", \"possible\", \"possible\", \"possible\", \"possible\", \"possible\", \"posting\", \"posting\", \"powell\", \"practice\", \"practice\", \"practice\", \"practice\", \"practice\", \"practice\", \"practice\", \"practice\", \"practice\", \"practitioner\", \"practitioner\", \"practitioner\", \"practitioner\", \"practitioner\", \"practitioner\", \"practitioner\", \"pradesh\", \"prairie\", \"primacy\", \"principle\", \"principle\", \"principle\", \"principle\", \"principle\", \"principle\", \"principle\", \"principle\", \"principle\", \"principled\", \"principled\", \"principled\", \"privacy\", \"privacy\", \"privacy\", \"privacy\", \"privacy\", \"privacy\", \"privacy\", \"privacy\", \"privacy\", \"process\", \"process\", \"process\", \"process\", \"process\", \"process\", \"process\", \"process\", \"process\", \"processing\", \"processing\", \"processing\", \"processing\", \"processing\", \"processing\", \"processing\", \"processing\", \"processing\", \"product\", \"product\", \"product\", \"product\", \"product\", \"product\", \"product\", \"product\", \"product\", \"professional\", \"professional\", \"professional\", \"professional\", \"professional\", \"professional\", \"professional\", \"professional\", \"professional\", \"professor\", \"professor\", \"professor\", \"professor\", \"professor\", \"professor\", \"professor\", \"professor\", \"professor\", \"program\", \"program\", \"program\", \"program\", \"program\", \"program\", \"program\", \"program\", \"program\", \"programme\", \"programme\", \"programme\", \"programme\", \"programme\", \"programme\", \"programme\", \"programme\", \"programme\", \"project\", \"project\", \"project\", \"project\", \"project\", \"project\", \"project\", \"project\", \"project\", \"promise\", \"promise\", \"promise\", \"promise\", \"promise\", \"promise\", \"promise\", \"promise\", \"promise\", \"protection\", \"protection\", \"protection\", \"protection\", \"protection\", \"protection\", \"protection\", \"protection\", \"protection\", \"provide\", \"provide\", \"provide\", \"provide\", \"provide\", \"provide\", \"provide\", \"provide\", \"provide\", \"public\", \"public\", \"public\", \"public\", \"public\", \"public\", \"public\", \"public\", \"public\", \"quantum\", \"quantum\", \"quantum\", \"quantum\", \"quantum\", \"quantum\", \"queensland\", \"queensland\", \"queensland\", \"quid\", \"quid\", \"qventus\", \"radiologist\", \"radiologist\", \"radiologist\", \"radiology\", \"radiology\", \"radiology\", \"ransomware\", \"rategic\", \"rathenau\", \"rathenau\", \"rathenau\", \"rating\", \"rating\", \"rating\", \"rating\", \"rating\", \"rating\", \"rating\", \"rating\", \"ready\", \"ready\", \"ready\", \"ready\", \"ready\", \"ready\", \"ready\", \"ready\", \"ready\", \"recital\", \"recital\", \"regulation\", \"regulation\", \"regulation\", \"regulation\", \"regulation\", \"regulation\", \"regulation\", \"regulation\", \"regulation\", \"regulatory\", \"regulatory\", \"regulatory\", \"regulatory\", \"regulatory\", \"regulatory\", \"regulatory\", \"regulatory\", \"regulatory\", \"reimbursement\", \"rekognition\", \"rekognition\", \"remi\", \"remotely\", \"remotely\", \"remotely\", \"remotely\", \"remotely\", \"remotely\", \"remotely\", \"report\", \"report\", \"report\", \"report\", \"report\", \"report\", \"report\", \"report\", \"report\", \"research\", \"research\", \"research\", \"research\", \"research\", \"research\", \"research\", \"research\", \"research\", \"resources\", \"resources\", \"resources\", \"resources\", \"resources\", \"resources\", \"respect\", \"respect\", \"respect\", \"respect\", \"respect\", \"respect\", \"respect\", \"respect\", \"respect\", \"responsibility\", \"responsibility\", \"responsibility\", \"responsibility\", \"responsibility\", \"responsibility\", \"responsibility\", \"responsibility\", \"responsibility\", \"retooling\", \"retrieve\", \"retrieve\", \"retrieve\", \"retrieve\", \"retrieve\", \"retrieve\", \"retrieve\", \"retrieve\", \"retrieve\", \"return\", \"return\", \"return\", \"return\", \"return\", \"return\", \"return\", \"return\", \"return\", \"right\", \"right\", \"right\", \"right\", \"right\", \"right\", \"right\", \"right\", \"right\", \"rights\", \"rights\", \"rights\", \"rights\", \"rights\", \"rights\", \"rights\", \"rights\", \"rights\", \"risk\", \"risk\", \"risk\", \"risk\", \"risk\", \"risk\", \"risk\", \"risk\", \"risk\", \"rithms\", \"rizzi\", \"robot\", \"robot\", \"robot\", \"robot\", \"robot\", \"robot\", \"robot\", \"robot\", \"robot\", \"robotic\", \"robotic\", \"robotic\", \"robotic\", \"robotic\", \"robotic\", \"robotic\", \"robotic\", \"robotic\", \"roboticist\", \"roboticist\", \"robotics\", \"robotics\", \"robotics\", \"robotics\", \"robotics\", \"robotics\", \"robotics\", \"robotics\", \"robotics\", \"robotised\", \"roff\", \"rossum\", \"royakkers\", \"royal\", \"royal\", \"royal\", \"royal\", \"royal\", \"royal\", \"royal\", \"royal\", \"royal\", \"rtificial\", \"rtificial\", \"rudin\", \"runaround\", \"runway\", \"safety\", \"safety\", \"safety\", \"safety\", \"safety\", \"safety\", \"safety\", \"safety\", \"safety\", \"samasource\", \"sandbox\", \"sandbox\", \"sandbox\", \"scaled\", \"scherer\", \"scheutz\", \"scheutz\", \"science\", \"science\", \"science\", \"science\", \"science\", \"science\", \"science\", \"science\", \"science\", \"scienti\\ufb01c\", \"scopus\", \"sector\", \"sector\", \"sector\", \"sector\", \"sector\", \"sector\", \"sector\", \"sector\", \"sector\", \"security\", \"security\", \"security\", \"security\", \"security\", \"security\", \"security\", \"security\", \"security\", \"semiconductor\", \"semiconductor\", \"semiconductor\", \"semiconductor\", \"server\", \"server\", \"server\", \"server\", \"server\", \"server\", \"sesar\", \"sess\", \"sharma\", \"sharma\", \"sheba\", \"sidewalk\", \"sinai\", \"skill\", \"skill\", \"skill\", \"skill\", \"skill\", \"skill\", \"skill\", \"skill\", \"skill\", \"skywise\", \"social\", \"social\", \"social\", \"social\", \"social\", \"social\", \"social\", \"social\", \"social\", \"society\", \"society\", \"society\", \"society\", \"society\", \"society\", \"society\", \"society\", \"society\", \"softbot\", \"soldier\", \"soldier\", \"solution\", \"solution\", \"solution\", \"solution\", \"solution\", \"solution\", \"solution\", \"solution\", \"solution\", \"sony\", \"sony\", \"sony\", \"sony\", \"spear\", \"spear\", \"spear\", \"spin\", \"spin\", \"squad\", \"stakeholder\", \"stakeholder\", \"stakeholder\", \"stakeholder\", \"stakeholder\", \"stakeholder\", \"stakeholder\", \"stakeholder\", \"stakeholder\", \"stakeholders\", \"stakeholders\", \"stakeholders\", \"startup\", \"startup\", \"startup\", \"startup\", \"startup\", \"startup\", \"startup\", \"states\", \"states\", \"states\", \"states\", \"states\", \"states\", \"states\", \"states\", \"states\", \"stationery\", \"stiftung\", \"stoa\", \"stoa\", \"stoa\", \"strategic\", \"strategic\", \"strategic\", \"strategic\", \"strategic\", \"strategic\", \"strategic\", \"strategic\", \"strategic\", \"strategy\", \"strategy\", \"strategy\", \"strategy\", \"strategy\", \"strategy\", \"strategy\", \"strategy\", \"strategy\", \"suade\", \"subcommittee\", \"subcommittee\", \"subcommittee\", \"submission\", \"submission\", \"submission\", \"submission\", \"submission\", \"submission\", \"submission\", \"submission\", \"substitutes\", \"superglue\", \"supplemental\", \"support\", \"support\", \"support\", \"support\", \"support\", \"support\", \"support\", \"support\", \"support\", \"susskind\", \"susskind\", \"suzor\", \"swierstra\", \"swinburne\", \"sydney\", \"sydney\", \"symptom\", \"symptom\", \"symptom\", \"symptom\", \"symptom\", \"system\", \"system\", \"system\", \"system\", \"system\", \"system\", \"system\", \"system\", \"system\", \"systems\", \"systems\", \"systems\", \"systems\", \"systems\", \"systems\", \"systems\", \"systems\", \"systems\", \"takafumi\", \"take\", \"take\", \"take\", \"take\", \"take\", \"take\", \"take\", \"take\", \"take\", \"talent\", \"talent\", \"talent\", \"talent\", \"talent\", \"talent\", \"talent\", \"talent\", \"taulbee\", \"team\", \"team\", \"team\", \"team\", \"team\", \"team\", \"team\", \"team\", \"team\", \"tech\", \"tech\", \"tech\", \"tech\", \"tech\", \"tech\", \"tech\", \"tech\", \"technical\", \"technical\", \"technical\", \"technical\", \"technical\", \"technical\", \"technical\", \"technical\", \"technical\", \"technology\", \"technology\", \"technology\", \"technology\", \"technology\", \"technology\", \"technology\", \"technology\", \"technology\", \"telef\\u00f3nica\", \"telef\\u00f3nica\", \"telia\", \"tell\", \"tell\", \"tell\", \"tell\", \"tell\", \"tell\", \"tell\", \"tell\", \"tell\", \"tension\", \"tension\", \"tension\", \"tension\", \"tension\", \"tension\", \"tension\", \"theme\", \"theme\", \"theme\", \"theme\", \"theme\", \"theme\", \"theme\", \"theme\", \"theme\", \"thereaux\", \"thereaux\", \"tice\", \"tiger\", \"time\", \"time\", \"time\", \"time\", \"time\", \"time\", \"time\", \"time\", \"time\", \"tion\", \"tion\", \"tion\", \"tion\", \"tion\", \"tion\", \"tion\", \"tokyo\", \"tokyo\", \"tokyo\", \"tomography\", \"total\", \"total\", \"total\", \"total\", \"total\", \"total\", \"total\", \"total\", \"total\", \"tractor\", \"traffic\", \"traffic\", \"traffic\", \"traffic\", \"traffic\", \"traffic\", \"traffic\", \"traffic\", \"trajectory\", \"trajectory\", \"trajectory\", \"trajectory\", \"trajectory\", \"trajectory\", \"transform\", \"transform\", \"transform\", \"transform\", \"transform\", \"transform\", \"transform\", \"transform\", \"transform\", \"transformational\", \"transformational\", \"transformational\", \"transforming\", \"transforming\", \"transforming\", \"transforming\", \"treaties\", \"triage\", \"triage\", \"tversky\", \"uber\", \"uber\", \"uber\", \"uber\", \"uber\", \"ubuntu\", \"ubuntu\", \"unclassified\", \"underline\", \"underline\", \"underline\", \"underline\", \"understanding\", \"understanding\", \"understanding\", \"understanding\", \"understanding\", \"understanding\", \"understanding\", \"understanding\", \"understanding\", \"unimate\", \"union\", \"union\", \"union\", \"union\", \"union\", \"union\", \"union\", \"union\", \"union\", \"united\", \"united\", \"united\", \"united\", \"united\", \"united\", \"united\", \"united\", \"united\", \"university\", \"university\", \"university\", \"university\", \"university\", \"university\", \"university\", \"university\", \"university\", \"upper\", \"upper\", \"upper\", \"upper\", \"user\", \"user\", \"user\", \"user\", \"user\", \"user\", \"user\", \"user\", \"user\", \"utilization\", \"utilization\", \"utilization\", \"utilization\", \"value\", \"value\", \"value\", \"value\", \"value\", \"value\", \"value\", \"value\", \"value\", \"variable\", \"variable\", \"variable\", \"variable\", \"variable\", \"variable\", \"variable\", \"variable\", \"variable\", \"vcio\", \"veen\", \"vehicle\", \"vehicle\", \"vehicle\", \"vehicle\", \"vehicle\", \"vehicle\", \"vehicle\", \"vehicle\", \"vehicle\", \"vermont\", \"vermont\", \"version\", \"version\", \"version\", \"version\", \"version\", \"version\", \"version\", \"version\", \"version\", \"vibrancy\", \"vibrancy\", \"victorian\", \"vinge\", \"vromen\", \"vulnerability\", \"vulnerability\", \"vulnerability\", \"vulnerability\", \"vulnerability\", \"vulnerability\", \"vulnerability\", \"walkout\", \"waste\", \"waste\", \"waste\", \"waste\", \"waste\", \"waste\", \"wcag\", \"weapon\", \"weapon\", \"weapon\", \"weapon\", \"weapon\", \"weapon\", \"weapon\", \"weapon\", \"weatherall\", \"webkeyit\", \"webster\", \"well\", \"well\", \"well\", \"well\", \"well\", \"well\", \"well\", \"well\", \"well\", \"wellness\", \"wellness\", \"wellness\", \"wellness\", \"willing\", \"willing\", \"willing\", \"willing\", \"willing\", \"willing\", \"willing\", \"willing\", \"winfield\", \"winfield\", \"winfield\", \"witness\", \"witness\", \"witness\", \"witness\", \"witness\", \"witness\", \"witness\", \"work\", \"work\", \"work\", \"work\", \"work\", \"work\", \"work\", \"work\", \"work\", \"worker\", \"worker\", \"worker\", \"worker\", \"worker\", \"worker\", \"worker\", \"worker\", \"worker\", \"workforce\", \"workforce\", \"workforce\", \"workforce\", \"workforce\", \"workforce\", \"workforce\", \"workforce\", \"workforce\", \"write\", \"write\", \"write\", \"write\", \"write\", \"write\", \"write\", \"write\", \"write\", \"year\", \"year\", \"year\", \"year\", \"year\", \"year\", \"year\", \"year\", \"year\", \"york\", \"york\", \"york\", \"york\", \"york\", \"york\", \"york\", \"york\", \"york\", \"zafar\", \"zafar\", \"\\u010dapek\", \"\\ufb01eld\", \"\\ufb01rst\"]}, \"R\": 30, \"lambda.step\": 0.01, \"plot.opts\": {\"xlab\": \"PC1\", \"ylab\": \"PC2\"}, \"topic.order\": [5, 6, 10, 1, 9, 2, 4, 7, 8, 3]};\n",
       "\n",
       "function LDAvis_load_lib(url, callback){\n",
       "  var s = document.createElement('script');\n",
       "  s.src = url;\n",
       "  s.async = true;\n",
       "  s.onreadystatechange = s.onload = callback;\n",
       "  s.onerror = function(){console.warn(\"failed to load library \" + url);};\n",
       "  document.getElementsByTagName(\"head\")[0].appendChild(s);\n",
       "}\n",
       "\n",
       "if(typeof(LDAvis) !== \"undefined\"){\n",
       "   // already loaded: just create the visualization\n",
       "   !function(LDAvis){\n",
       "       new LDAvis(\"#\" + \"ldavis_el103152559776646207511322\", ldavis_el103152559776646207511322_data);\n",
       "   }(LDAvis);\n",
       "}else if(typeof define === \"function\" && define.amd){\n",
       "   // require.js is available: use it to load d3/LDAvis\n",
       "   require.config({paths: {d3: \"https://cdnjs.cloudflare.com/ajax/libs/d3/3.5.5/d3.min\"}});\n",
       "   require([\"d3\"], function(d3){\n",
       "      window.d3 = d3;\n",
       "      LDAvis_load_lib(\"https://cdn.rawgit.com/bmabey/pyLDAvis/files/ldavis.v1.0.0.js\", function(){\n",
       "        new LDAvis(\"#\" + \"ldavis_el103152559776646207511322\", ldavis_el103152559776646207511322_data);\n",
       "      });\n",
       "    });\n",
       "}else{\n",
       "    // require.js not available: dynamically load d3 & LDAvis\n",
       "    LDAvis_load_lib(\"https://cdnjs.cloudflare.com/ajax/libs/d3/3.5.5/d3.min.js\", function(){\n",
       "         LDAvis_load_lib(\"https://cdn.rawgit.com/bmabey/pyLDAvis/files/ldavis.v1.0.0.js\", function(){\n",
       "                 new LDAvis(\"#\" + \"ldavis_el103152559776646207511322\", ldavis_el103152559776646207511322_data);\n",
       "            })\n",
       "         });\n",
       "}\n",
       "</script>"
      ],
      "text/plain": [
       "PreparedData(topic_coordinates=              x         y  topics  cluster       Freq\n",
       "topic                                                \n",
       "4      0.006736  0.033073       1        1  26.330742\n",
       "5      0.048383  0.042662       2        1  13.951610\n",
       "9      0.080444 -0.015209       3        1  13.035629\n",
       "0      0.067590  0.069652       4        1   9.903697\n",
       "8      0.035429 -0.080737       5        1   8.991976\n",
       "1      0.035153 -0.053570       6        1   8.891938\n",
       "3      0.024917  0.053180       7        1   7.593390\n",
       "6      0.030650 -0.102117       8        1   6.363604\n",
       "7      0.017232  0.052688       9        1   4.936253\n",
       "2     -0.346533  0.000378      10        1   0.001165, topic_info=            Term         Freq        Total Category  logprob  loglift\n",
       "652        robot  2357.000000  2357.000000  Default  30.0000  30.0000\n",
       "202        datum  9782.000000  9782.000000  Default  29.0000  29.0000\n",
       "368        human  7954.000000  7954.000000  Default  28.0000  28.0000\n",
       "1005  healthcare  1408.000000  1408.000000  Default  27.0000  27.0000\n",
       "650        right  4119.000000  4119.000000  Default  26.0000  26.0000\n",
       "...          ...          ...          ...      ...      ...      ...\n",
       "632       report     0.001932  2693.055908  Topic10  -8.7192  -2.7878\n",
       "650        right     0.002059  4119.801270  Topic10  -8.6554  -3.1492\n",
       "200         data     0.002012  3667.171387  Topic10  -8.6784  -3.0558\n",
       "811         well     0.001919  2747.400146  Topic10  -8.7256  -2.8143\n",
       "342   government     0.001924  2815.161133  Topic10  -8.7231  -2.8360\n",
       "\n",
       "[876 rows x 6 columns], token_table=       Topic      Freq     Term\n",
       "term                           \n",
       "10079      1  0.950927  aadhaar\n",
       "19116      7  0.935023   aarons\n",
       "1          1  0.158485     able\n",
       "1          2  0.108343     able\n",
       "1          3  0.368904     able\n",
       "...      ...       ...      ...\n",
       "19897      2  0.069651    zafar\n",
       "19897      7  0.905460    zafar\n",
       "6564       9  0.857996    čapek\n",
       "11957      1  0.974690     ﬁeld\n",
       "11974      1  0.941811     ﬁrst\n",
       "\n",
       "[2988 rows x 3 columns], R=30, lambda_step=0.01, plot_opts={'xlab': 'PC1', 'ylab': 'PC2'}, topic_order=[5, 6, 10, 1, 9, 2, 4, 7, 8, 3])"
      ]
     },
     "execution_count": 35,
     "metadata": {},
     "output_type": "execute_result"
    }
   ],
   "source": [
    "# Visualize the topics\n",
    "pyLDAvis.enable_notebook()\n",
    "vis = pyLDAvis.gensim.prepare(ldamodel, corpus, dictionary)\n",
    "vis"
   ]
  },
  {
   "cell_type": "markdown",
   "metadata": {},
   "source": [
    "### LDA MALLET - implementation"
   ]
  },
  {
   "cell_type": "code",
   "execution_count": 94,
   "metadata": {},
   "outputs": [],
   "source": [
    "NUM_TOPICS = 20\n",
    "# Download File: http://mallet.cs.umass.edu/dist/mallet-2.0.8.zip\n",
    "mallet_path = '/users/marion1meyers/documents/mallet-2.0.8/bin/mallet' # update this path\n",
    "ldamallet = gensim.models.wrappers.LdaMallet(mallet_path, corpus=corpus, num_topics=NUM_TOPICS,alpha=8, id2word=dictionary)"
   ]
  },
  {
   "cell_type": "code",
   "execution_count": 95,
   "metadata": {},
   "outputs": [
    {
     "name": "stdout",
     "output_type": "stream",
     "text": [
      "\n",
      "Coherence Score:  0.5647850897478291\n"
     ]
    }
   ],
   "source": [
    "\n",
    "\n",
    "# Compute Coherence Score\n",
    "coherence_model_ldamallet = CoherenceModel(model=ldamallet, texts=text_data, dictionary=dictionary, coherence='c_v')\n",
    "coherence_ldamallet = coherence_model_ldamallet.get_coherence()\n",
    "print('\\nCoherence Score: ', coherence_ldamallet)"
   ]
  },
  {
   "cell_type": "code",
   "execution_count": 96,
   "metadata": {},
   "outputs": [
    {
     "data": {
      "text/plain": [
       "[(0,\n",
       "  '0.022*\"license\" + 0.021*\"ieee\" + 0.019*\"autonomous\" + 0.019*\"ethics\" + 0.018*\"intelligent\" + 0.017*\"global\" + 0.015*\"system\" + 0.014*\"initiative\" + 0.014*\"design\" + 0.013*\"human\"'),\n",
       " (1,\n",
       "  '0.039*\"robot\" + 0.023*\"human\" + 0.014*\"technology\" + 0.013*\"robotic\" + 0.012*\"ethical\" + 0.010*\"autonomous\" + 0.010*\"issue\" + 0.008*\"artificial\" + 0.008*\"intelligence\" + 0.007*\"initiative\"'),\n",
       " (2,\n",
       "  '0.020*\"security\" + 0.019*\"system\" + 0.017*\"aviation\" + 0.014*\"attack\" + 0.013*\"safety\" + 0.008*\"datum\" + 0.008*\"base\" + 0.008*\"european\" + 0.007*\"develop\" + 0.007*\"cyber\"'),\n",
       " (3,\n",
       "  '0.021*\"technology\" + 0.015*\"research\" + 0.010*\"society\" + 0.010*\"public\" + 0.010*\"social\" + 0.009*\"impact\" + 0.008*\"human\" + 0.008*\"issue\" + 0.007*\"question\" + 0.007*\"term\"'),\n",
       " (4,\n",
       "  '0.049*\"healthcare\" + 0.031*\"health\" + 0.030*\"patient\" + 0.019*\"care\" + 0.013*\"clinical\" + 0.013*\"medical\" + 0.013*\"datum\" + 0.010*\"practitioner\" + 0.009*\"hospital\" + 0.009*\"solution\"'),\n",
       " (5,\n",
       "  '0.056*\"machine\" + 0.036*\"learn\" + 0.035*\"learning\" + 0.022*\"datum\" + 0.021*\"system\" + 0.013*\"research\" + 0.011*\"computer\" + 0.010*\"human\" + 0.009*\"make\" + 0.008*\"access\"'),\n",
       " (6,\n",
       "  '0.016*\"professor\" + 0.015*\"artificial\" + 0.015*\"evidence\" + 0.015*\"government\" + 0.015*\"intelligence\" + 0.013*\"write\" + 0.012*\"research\" + 0.011*\"public\" + 0.010*\"technology\" + 0.010*\"ready\"'),\n",
       " (7,\n",
       "  '0.011*\"worker\" + 0.011*\"company\" + 0.010*\"recognition\" + 0.010*\"report\" + 0.009*\"tech\" + 0.008*\"facial\" + 0.008*\"system\" + 0.008*\"november\" + 0.007*\"google\" + 0.007*\"technology\"'),\n",
       " (8,\n",
       "  '0.053*\"principle\" + 0.029*\"intelligence\" + 0.025*\"document\" + 0.025*\"artificial\" + 0.018*\"human\" + 0.015*\"technology\" + 0.013*\"japan\" + 0.010*\"system\" + 0.009*\"european\" + 0.009*\"theme\"'),\n",
       " (9,\n",
       "  '0.024*\"system\" + 0.013*\"human\" + 0.012*\"european\" + 0.010*\"development\" + 0.010*\"commission\" + 0.009*\"ensure\" + 0.009*\"legal\" + 0.007*\"protection\" + 0.007*\"rule\" + 0.007*\"requirement\"'),\n",
       " (10,\n",
       "  '0.019*\"model\" + 0.018*\"social\" + 0.014*\"child\" + 0.013*\"retrieve\" + 0.011*\"care\" + 0.009*\"decision\" + 0.009*\"outcome\" + 0.008*\"datum\" + 0.008*\"project\" + 0.007*\"implementation\"'),\n",
       " (11,\n",
       "  '0.106*\"datum\" + 0.039*\"data\" + 0.027*\"privacy\" + 0.022*\"protection\" + 0.017*\"personal\" + 0.014*\"information\" + 0.013*\"processing\" + 0.013*\"analytic\" + 0.011*\"individual\" + 0.010*\"access\"'),\n",
       " (12,\n",
       "  '0.021*\"intelligence\" + 0.019*\"artificial\" + 0.018*\"report\" + 0.018*\"number\" + 0.017*\"index\" + 0.016*\"country\" + 0.013*\"skill\" + 0.012*\"paper\" + 0.011*\"global\" + 0.009*\"chapter\"'),\n",
       " (13,\n",
       "  '0.023*\"system\" + 0.017*\"ethical\" + 0.011*\"decision\" + 0.010*\"impact\" + 0.010*\"risk\" + 0.010*\"datum\" + 0.010*\"human\" + 0.009*\"bias\" + 0.007*\"make\" + 0.007*\"ensure\"'),\n",
       " (14,\n",
       "  '0.042*\"ethic\" + 0.032*\"ethical\" + 0.021*\"system\" + 0.019*\"ethics\" + 0.014*\"guideline\" + 0.014*\"university\" + 0.010*\"machine\" + 0.010*\"algorithmic\" + 0.009*\"principle\" + 0.009*\"governance\"'),\n",
       " (15,\n",
       "  '0.022*\"algorithm\" + 0.016*\"datum\" + 0.013*\"public\" + 0.012*\"intelligence\" + 0.012*\"artificial\" + 0.010*\"make\" + 0.008*\"decision\" + 0.007*\"french\" + 0.007*\"digital\" + 0.007*\"hand\"'),\n",
       " (16,\n",
       "  '0.048*\"intelligence\" + 0.039*\"artificial\" + 0.024*\"work\" + 0.020*\"economic\" + 0.018*\"employment\" + 0.018*\"task\" + 0.014*\"skill\" + 0.013*\"technology\" + 0.013*\"market\" + 0.012*\"economy\"'),\n",
       " (17,\n",
       "  '0.027*\"model\" + 0.026*\"decision\" + 0.024*\"datum\" + 0.023*\"organisation\" + 0.015*\"make\" + 0.015*\"process\" + 0.012*\"governance\" + 0.011*\"system\" + 0.010*\"framework\" + 0.009*\"risk\"'),\n",
       " (18,\n",
       "  '0.016*\"research\" + 0.013*\"technology\" + 0.010*\"national\" + 0.009*\"development\" + 0.008*\"government\" + 0.007*\"business\" + 0.007*\"strategy\" + 0.007*\"datum\" + 0.006*\"support\" + 0.006*\"sector\"'),\n",
       " (19,\n",
       "  '0.039*\"human\" + 0.029*\"technology\" + 0.020*\"australian\" + 0.019*\"submission\" + 0.018*\"decision\" + 0.016*\"rights\" + 0.015*\"government\" + 0.015*\"australia\" + 0.012*\"make\" + 0.010*\"commission\"')]"
      ]
     },
     "execution_count": 96,
     "metadata": {},
     "output_type": "execute_result"
    }
   ],
   "source": [
    "# Show Topics\n",
    "ldamallet.print_topics(num_words=10)"
   ]
  },
  {
   "cell_type": "code",
   "execution_count": 97,
   "metadata": {},
   "outputs": [],
   "source": [
    "def compute_coherence_values(dictionary, corpus, texts, limit, start=2, step=3):\n",
    "    \"\"\"\n",
    "    Compute c_v coherence for various number of topics\n",
    "\n",
    "    Parameters:\n",
    "    ----------\n",
    "    dictionary : Gensim dictionary\n",
    "    corpus : Gensim corpus\n",
    "    texts : List of input texts\n",
    "    limit : Max num of topics\n",
    "\n",
    "    Returns:\n",
    "    -------\n",
    "    model_list : List of LDA topic models\n",
    "    coherence_values : Coherence values corresponding to the LDA model with respective number of topics\n",
    "    \"\"\"\n",
    "    coherence_values = []\n",
    "    model_list = []\n",
    "    for num_topics in range(start, limit, step):\n",
    "        model = gensim.models.wrappers.LdaMallet(mallet_path, corpus=corpus, num_topics=num_topics, id2word=dictionary)\n",
    "        model_list.append(model)\n",
    "        coherencemodel = CoherenceModel(model=model, texts=texts, dictionary=dictionary, coherence='c_v')\n",
    "        coherence_values.append(coherencemodel.get_coherence())\n",
    "\n",
    "    return model_list, coherence_values"
   ]
  },
  {
   "cell_type": "code",
   "execution_count": 99,
   "metadata": {},
   "outputs": [],
   "source": [
    "# Can take a long time to run.\n",
    "model_list, coherence_values = compute_coherence_values(dictionary=dictionary, corpus=corpus, texts=text_data, start=10, limit=25, step=5)"
   ]
  },
  {
   "cell_type": "code",
   "execution_count": 101,
   "metadata": {},
   "outputs": [
    {
     "data": {
      "image/png": "[encoded data removed]",
      "text/plain": [
       "<Figure size 432x288 with 1 Axes>"
      ]
     },
     "metadata": {
      "needs_background": "light"
     },
     "output_type": "display_data"
    }
   ],
   "source": [
    "# Show graph\n",
    "limit=25; start=10; step=5;\n",
    "x = range(start, limit, step)\n",
    "plt.plot(x, coherence_values)\n",
    "plt.xlabel(\"Num Topics\")\n",
    "plt.ylabel(\"Coherence score\")\n",
    "plt.legend((\"coherence_values\"), loc='best')\n",
    "plt.show()"
   ]
  },
  {
   "cell_type": "code",
   "execution_count": 102,
   "metadata": {},
   "outputs": [
    {
     "name": "stdout",
     "output_type": "stream",
     "text": [
      "Num Topics = 10  has Coherence Value of 0.5189\n",
      "Num Topics = 15  has Coherence Value of 0.5502\n",
      "Num Topics = 20  has Coherence Value of 0.5573\n"
     ]
    }
   ],
   "source": [
    "# Print the coherence scores\n",
    "for m, cv in zip(x, coherence_values):\n",
    "    print(\"Num Topics =\", m, \" has Coherence Value of\", round(cv, 4))"
   ]
  },
  {
   "cell_type": "code",
   "execution_count": 103,
   "metadata": {},
   "outputs": [
    {
     "name": "stdout",
     "output_type": "stream",
     "text": [
      "[(0,\n",
      "  '0.014*\"human\" + 0.013*\"robot\" + 0.011*\"ethical\" + 0.010*\"issue\" + '\n",
      "  '0.010*\"artificial\" + 0.010*\"intelligence\" + 0.009*\"initiative\" + '\n",
      "  '0.009*\"ethic\" + 0.008*\"future\" + 0.008*\"technology\"'),\n",
      " (1,\n",
      "  '0.106*\"datum\" + 0.036*\"data\" + 0.023*\"privacy\" + 0.022*\"protection\" + '\n",
      "  '0.018*\"personal\" + 0.014*\"information\" + 0.011*\"individual\" + '\n",
      "  '0.010*\"intelligence\" + 0.010*\"processing\" + 0.009*\"organisation\"'),\n",
      " (2,\n",
      "  '0.016*\"professor\" + 0.016*\"evidence\" + 0.016*\"government\" + '\n",
      "  '0.014*\"intelligence\" + 0.013*\"artificial\" + 0.013*\"write\" + 0.011*\"company\" '\n",
      "  '+ 0.009*\"ready\" + 0.009*\"datum\" + 0.009*\"research\"'),\n",
      " (3,\n",
      "  '0.020*\"ieee\" + 0.019*\"license\" + 0.019*\"ethics\" + 0.019*\"system\" + '\n",
      "  '0.018*\"autonomous\" + 0.016*\"intelligent\" + 0.015*\"global\" + 0.014*\"design\" '\n",
      "  '+ 0.013*\"human\" + 0.012*\"initiative\"'),\n",
      " (4,\n",
      "  '0.013*\"system\" + 0.012*\"company\" + 0.011*\"worker\" + 0.009*\"recognition\" + '\n",
      "  '0.009*\"report\" + 0.009*\"tech\" + 0.008*\"facial\" + 0.008*\"november\" + '\n",
      "  '0.006*\"google\" + 0.006*\"amazon\"'),\n",
      " (5,\n",
      "  '0.038*\"human\" + 0.026*\"technology\" + 0.019*\"australian\" + 0.018*\"decision\" '\n",
      "  '+ 0.018*\"submission\" + 0.015*\"rights\" + 0.014*\"australia\" + '\n",
      "  '0.014*\"government\" + 0.012*\"make\" + 0.010*\"commission\"'),\n",
      " (6,\n",
      "  '0.046*\"healthcare\" + 0.030*\"health\" + 0.027*\"patient\" + 0.016*\"care\" + '\n",
      "  '0.013*\"medical\" + 0.012*\"clinical\" + 0.011*\"solution\" + 0.011*\"datum\" + '\n",
      "  '0.009*\"organisation\" + 0.009*\"practitioner\"'),\n",
      " (7,\n",
      "  '0.018*\"retrieve\" + 0.017*\"system\" + 0.014*\"model\" + 0.014*\"decision\" + '\n",
      "  '0.011*\"fairness\" + 0.011*\"project\" + 0.011*\"explanation\" + 0.010*\"human\" + '\n",
      "  '0.009*\"ethics\" + 0.008*\"design\"'),\n",
      " (8,\n",
      "  '0.019*\"technology\" + 0.017*\"research\" + 0.013*\"national\" + '\n",
      "  '0.012*\"intelligence\" + 0.011*\"artificial\" + 0.011*\"development\" + '\n",
      "  '0.010*\"government\" + 0.009*\"industry\" + 0.009*\"create\" + 0.008*\"develop\"'),\n",
      " (9,\n",
      "  '0.053*\"principle\" + 0.023*\"document\" + 0.020*\"intelligence\" + '\n",
      "  '0.020*\"artificial\" + 0.019*\"human\" + 0.012*\"technology\" + 0.012*\"system\" + '\n",
      "  '0.010*\"european\" + 0.008*\"datum\" + 0.008*\"group\"'),\n",
      " (10,\n",
      "  '0.033*\"intelligence\" + 0.028*\"artificial\" + 0.026*\"japan\" + 0.014*\"india\" + '\n",
      "  '0.013*\"work\" + 0.012*\"company\" + 0.011*\"employment\" + 0.010*\"market\" + '\n",
      "  '0.010*\"startup\" + 0.009*\"economy\"'),\n",
      " (11,\n",
      "  '0.053*\"machine\" + 0.032*\"learn\" + 0.032*\"learning\" + 0.027*\"datum\" + '\n",
      "  '0.020*\"system\" + 0.011*\"computer\" + 0.010*\"human\" + 0.010*\"research\" + '\n",
      "  '0.009*\"algorithm\" + 0.009*\"make\"'),\n",
      " (12,\n",
      "  '0.022*\"system\" + 0.017*\"security\" + 0.015*\"aviation\" + 0.014*\"safety\" + '\n",
      "  '0.013*\"attack\" + 0.008*\"european\" + 0.007*\"base\" + 0.007*\"develop\" + '\n",
      "  '0.007*\"datum\" + 0.007*\"cyber\"'),\n",
      " (13,\n",
      "  '0.036*\"social\" + 0.023*\"child\" + 0.020*\"care\" + 0.017*\"datum\" + '\n",
      "  '0.014*\"model\" + 0.011*\"family\" + 0.011*\"work\" + 0.011*\"practice\" + '\n",
      "  '0.010*\"innovation\" + 0.009*\"outcome\"'),\n",
      " (14,\n",
      "  '0.018*\"report\" + 0.018*\"artificial\" + 0.017*\"intelligence\" + 0.017*\"number\" '\n",
      "  '+ 0.016*\"index\" + 0.015*\"country\" + 0.013*\"skill\" + 0.012*\"paper\" + '\n",
      "  '0.012*\"global\" + 0.009*\"conference\"'),\n",
      " (15,\n",
      "  '0.014*\"datum\" + 0.012*\"digital\" + 0.010*\"public\" + 0.009*\"european\" + '\n",
      "  '0.008*\"sector\" + 0.007*\"development\" + 0.007*\"part\" + 0.006*\"level\" + '\n",
      "  '0.006*\"make\" + 0.006*\"term\"'),\n",
      " (16,\n",
      "  '0.049*\"robot\" + 0.036*\"human\" + 0.024*\"robotic\" + 0.013*\"technology\" + '\n",
      "  '0.009*\"legal\" + 0.008*\"autonomous\" + 0.007*\"ethical\" + 0.007*\"respect\" + '\n",
      "  '0.006*\"life\" + 0.006*\"machine\"'),\n",
      " (17,\n",
      "  '0.024*\"algorithm\" + 0.019*\"decision\" + 0.019*\"human\" + 0.016*\"system\" + '\n",
      "  '0.012*\"artificial\" + 0.010*\"principle\" + 0.010*\"tool\" + 0.010*\"datum\" + '\n",
      "  '0.008*\"data\" + 0.008*\"public\"'),\n",
      " (18,\n",
      "  '0.038*\"system\" + 0.019*\"decision\" + 0.014*\"ensure\" + 0.014*\"risk\" + '\n",
      "  '0.012*\"model\" + 0.011*\"make\" + 0.011*\"framework\" + 0.010*\"process\" + '\n",
      "  '0.010*\"organisation\" + 0.009*\"include\"'),\n",
      " (19,\n",
      "  '0.025*\"ethical\" + 0.017*\"ethic\" + 0.014*\"technology\" + 0.012*\"issue\" + '\n",
      "  '0.011*\"question\" + 0.009*\"society\" + 0.009*\"social\" + 0.009*\"public\" + '\n",
      "  '0.009*\"intelligence\" + 0.008*\"research\"')]\n"
     ]
    }
   ],
   "source": [
    "# Select the model and print the topics\n",
    "optimal_model = model_list[2]\n",
    "model_topics = optimal_model.show_topics(formatted=False)\n",
    "pprint(optimal_model.print_topics(num_words=10))"
   ]
  },
  {
   "cell_type": "markdown",
   "metadata": {},
   "source": [
    "### LSI MODEL"
   ]
  },
  {
   "cell_type": "code",
   "execution_count": 62,
   "metadata": {},
   "outputs": [
    {
     "name": "stdout",
     "output_type": "stream",
     "text": [
      "\n",
      "Coherence Score:  0.5886301775914802\n"
     ]
    }
   ],
   "source": [
    "lsi_model = LsiModel(corpus, id2word=dictionary)\n",
    "lsi_model.print_topics()\n",
    "\n",
    "coherence_model= CoherenceModel(model=lsi_model, texts=text_data, dictionary=dictionary, coherence='c_v')\n",
    "coherence = coherence_model.get_coherence()\n",
    "print('\\nCoherence Score: ', coherence)"
   ]
  },
  {
   "cell_type": "code",
   "execution_count": 83,
   "metadata": {},
   "outputs": [
    {
     "data": {
      "text/plain": [
       "[(0,\n",
       "  '0.274*\"human\" + 0.231*\"datum\" + 0.227*\"technology\" + 0.224*\"system\" + 0.156*\"right\" + 0.141*\"decision\" + 0.137*\"make\" + 0.136*\"intelligence\" + 0.126*\"artificial\" + 0.119*\"also\"'),\n",
       " (1,\n",
       "  '-0.364*\"datum\" + 0.343*\"human\" + 0.309*\"right\" + 0.245*\"submission\" + 0.233*\"technology\" + 0.210*\"australian\" + -0.196*\"machine\" + 0.180*\"decision\" + 0.156*\"rights\" + -0.140*\"learning\"'),\n",
       " (2,\n",
       "  '-0.342*\"datum\" + 0.247*\"license\" + 0.224*\"ieee\" + 0.223*\"autonomous\" + 0.206*\"system\" + 0.205*\"ethics\" + 0.191*\"intelligent\" + 0.163*\"global\" + 0.146*\"initiative\" + 0.140*\"well\"'),\n",
       " (3,\n",
       "  '0.352*\"datum\" + 0.292*\"machine\" + -0.253*\"intelligence\" + -0.245*\"artificial\" + -0.189*\"report\" + -0.182*\"number\" + -0.166*\"index\" + -0.162*\"country\" + -0.157*\"skill\" + -0.140*\"healthcare\"'),\n",
       " (4,\n",
       "  '-0.536*\"healthcare\" + -0.237*\"health\" + -0.229*\"patient\" + 0.192*\"machine\" + -0.171*\"care\" + 0.163*\"artificial\" + 0.160*\"intelligence\" + 0.132*\"learning\" + -0.132*\"need\" + -0.131*\"solution\"'),\n",
       " (5,\n",
       "  '-0.475*\"machine\" + 0.459*\"datum\" + -0.291*\"learn\" + -0.261*\"learning\" + 0.216*\"principle\" + -0.170*\"robot\" + -0.137*\"example\" + 0.133*\"protection\" + 0.126*\"data\" + 0.114*\"privacy\"'),\n",
       " (6,\n",
       "  '-0.438*\"robot\" + -0.258*\"principle\" + -0.167*\"ethical\" + 0.163*\"license\" + 0.162*\"global\" + -0.161*\"robotic\" + 0.128*\"submission\" + 0.117*\"learning\" + 0.116*\"chapter\" + -0.114*\"human\"'),\n",
       " (7,\n",
       "  '0.334*\"principle\" + 0.194*\"document\" + 0.194*\"healthcare\" + 0.170*\"system\" + -0.168*\"government\" + -0.158*\"evidence\" + -0.152*\"research\" + 0.143*\"human\" + -0.139*\"professor\" + -0.138*\"write\"'),\n",
       " (8,\n",
       "  '0.453*\"robot\" + -0.291*\"system\" + -0.268*\"principle\" + 0.266*\"datum\" + 0.170*\"robotic\" + 0.165*\"human\" + -0.138*\"document\" + -0.135*\"model\" + 0.133*\"healthcare\" + 0.112*\"autonomous\"'),\n",
       " (9,\n",
       "  '-0.383*\"principle\" + 0.270*\"model\" + 0.231*\"social\" + -0.220*\"document\" + 0.188*\"child\" + -0.165*\"healthcare\" + -0.149*\"machine\" + 0.145*\"decision\" + 0.132*\"retrieve\" + -0.124*\"access\"'),\n",
       " (10,\n",
       "  '0.241*\"worker\" + 0.212*\"company\" + 0.188*\"recognition\" + 0.180*\"tech\" + 0.176*\"report\" + 0.169*\"facial\" + 0.165*\"november\" + 0.131*\"system\" + 0.121*\"privacy\" + 0.116*\"google\"'),\n",
       " (11,\n",
       "  '0.187*\"child\" + 0.186*\"evidence\" + -0.185*\"system\" + 0.168*\"social\" + 0.157*\"care\" + 0.150*\"government\" + 0.148*\"professor\" + 0.137*\"write\" + 0.132*\"artificial\" + -0.129*\"aviation\"'),\n",
       " (12,\n",
       "  '-0.398*\"system\" + 0.242*\"social\" + 0.217*\"algorithm\" + 0.165*\"public\" + -0.164*\"safety\" + 0.149*\"principle\" + 0.148*\"child\" + -0.146*\"aviation\" + 0.131*\"care\" + 0.124*\"work\"'),\n",
       " (13,\n",
       "  '0.377*\"algorithm\" + -0.251*\"robot\" + 0.216*\"ethical\" + -0.195*\"child\" + -0.185*\"social\" + 0.184*\"intelligence\" + 0.182*\"artificial\" + -0.152*\"robotic\" + -0.131*\"research\" + -0.129*\"care\"'),\n",
       " (14,\n",
       "  '-0.209*\"robot\" + -0.190*\"system\" + 0.179*\"strategy\" + 0.177*\"technology\" + -0.163*\"right\" + 0.162*\"initiative\" + 0.150*\"ethic\" + 0.148*\"india\" + 0.147*\"available\" + -0.147*\"evidence\"'),\n",
       " (15,\n",
       "  '0.186*\"system\" + -0.186*\"robot\" + 0.181*\"available\" + -0.158*\"algorithm\" + 0.158*\"european\" + 0.157*\"social\" + -0.156*\"intelligence\" + -0.156*\"project\" + -0.152*\"india\" + -0.148*\"japan\"'),\n",
       " (16,\n",
       "  '-0.256*\"human\" + -0.240*\"japan\" + -0.218*\"right\" + 0.194*\"security\" + -0.191*\"intelligence\" + -0.187*\"aviation\" + 0.160*\"research\" + -0.149*\"european\" + 0.144*\"different\" + 0.141*\"principle\"'),\n",
       " (17,\n",
       "  '0.378*\"aviation\" + 0.308*\"algorithm\" + 0.170*\"base\" + 0.157*\"report\" + -0.149*\"model\" + 0.143*\"ethical\" + 0.138*\"flight\" + -0.133*\"retrieve\" + -0.114*\"must\" + -0.105*\"right\"'),\n",
       " (18,\n",
       "  '-0.241*\"security\" + -0.223*\"right\" + -0.214*\"human\" + -0.196*\"research\" + -0.185*\"attack\" + 0.174*\"decision\" + -0.142*\"algorithm\" + -0.134*\"social\" + 0.117*\"european\" + 0.114*\"australia\"'),\n",
       " (19,\n",
       "  '-0.288*\"japan\" + 0.228*\"different\" + 0.169*\"tension\" + 0.154*\"right\" + 0.140*\"value\" + 0.139*\"technology\" + -0.137*\"system\" + -0.132*\"decision\" + 0.125*\"impact\" + 0.123*\"project\"')]"
      ]
     },
     "execution_count": 83,
     "metadata": {},
     "output_type": "execute_result"
    }
   ],
   "source": [
    "lsi_model.print_topics()"
   ]
  },
  {
   "cell_type": "markdown",
   "metadata": {},
   "source": [
    "### HSP MODEL"
   ]
  },
  {
   "cell_type": "code",
   "execution_count": 67,
   "metadata": {},
   "outputs": [
    {
     "name": "stdout",
     "output_type": "stream",
     "text": [
      "\n",
      "Coherence Score:  0.6822081125690874\n"
     ]
    }
   ],
   "source": [
    "hdp_model = HdpModel(corpus, id2word=dictionary)\n",
    "hdp_model.print_topics()\n",
    "\n",
    "coherence_model= CoherenceModel(model=hdp_model, texts=text_data, dictionary=dictionary, coherence='c_v')\n",
    "coherence = coherence_model.get_coherence()\n",
    "print('\\nCoherence Score: ', coherence)"
   ]
  },
  {
   "cell_type": "code",
   "execution_count": 68,
   "metadata": {},
   "outputs": [
    {
     "data": {
      "text/plain": [
       "[(0,\n",
       "  '0.013*human + 0.009*system + 0.009*technology + 0.008*right + 0.006*datum + 0.005*decision + 0.005*ethical + 0.005*make + 0.005*design + 0.005*intelligence'),\n",
       " (1,\n",
       "  '0.008*datum + 0.008*system + 0.008*algorithm + 0.007*social + 0.006*human + 0.006*technology + 0.006*ethical + 0.006*research + 0.005*machine + 0.005*artificial'),\n",
       " (2,\n",
       "  '0.015*principle + 0.009*intelligence + 0.009*artificial + 0.009*datum + 0.009*system + 0.008*technology + 0.007*document + 0.007*human + 0.005*research + 0.005*government'),\n",
       " (3,\n",
       "  '0.026*datum + 0.013*robot + 0.007*human + 0.006*machine + 0.006*data + 0.005*ethical + 0.005*intelligence + 0.005*technology + 0.005*protection + 0.005*artificial'),\n",
       " (4,\n",
       "  '0.010*system + 0.007*intelligence + 0.006*artificial + 0.006*datum + 0.006*technology + 0.005*data + 0.005*report + 0.005*worker + 0.005*ethical + 0.005*work'),\n",
       " (5,\n",
       "  '0.008*datum + 0.007*could + 0.006*public + 0.005*research + 0.005*make + 0.005*development + 0.005*system + 0.005*need + 0.005*technology + 0.004*digital'),\n",
       " (6,\n",
       "  '0.011*intelligence + 0.011*artificial + 0.010*report + 0.010*number + 0.009*index + 0.008*country + 0.008*skill + 0.007*datum + 0.007*paper + 0.006*global'),\n",
       " (7,\n",
       "  '0.014*human + 0.011*datum + 0.011*right + 0.010*system + 0.008*decision + 0.007*data + 0.006*make + 0.006*technology + 0.006*intelligence + 0.006*society'),\n",
       " (8,\n",
       "  '0.015*datum + 0.011*system + 0.010*model + 0.008*decision + 0.006*retrieve + 0.006*data + 0.006*intelligence + 0.006*artificial + 0.006*process + 0.005*human'),\n",
       " (9,\n",
       "  '0.025*healthcare + 0.010*health + 0.010*patient + 0.009*datum + 0.007*need + 0.007*care + 0.007*system + 0.007*organisation + 0.006*solution + 0.006*impact'),\n",
       " (10,\n",
       "  '0.013*datum + 0.011*system + 0.010*model + 0.009*aviation + 0.008*decision + 0.008*organisation + 0.006*human + 0.005*safety + 0.005*european + 0.005*base'),\n",
       " (11,\n",
       "  '0.006*system + 0.006*report + 0.005*company + 0.005*technology + 0.005*worker + 0.004*tech + 0.004*data + 0.004*recognition + 0.004*datum + 0.004*ethic'),\n",
       " (12,\n",
       "  '0.016*system + 0.005*value + 0.005*technology + 0.005*datum + 0.005*decision + 0.004*also + 0.004*application + 0.004*machine + 0.004*risk + 0.004*make'),\n",
       " (13,\n",
       "  '0.010*datum + 0.009*research + 0.007*india + 0.007*technology + 0.006*intelligence + 0.006*national + 0.006*artificial + 0.005*strategy + 0.005*sector + 0.005*government'),\n",
       " (14,\n",
       "  '0.036*machine + 0.022*learning + 0.020*learn + 0.018*datum + 0.011*example + 0.011*system + 0.007*computer + 0.006*power + 0.005*promise + 0.005*research'),\n",
       " (15,\n",
       "  '0.010*intelligence + 0.009*artificial + 0.008*work + 0.007*system + 0.007*technology + 0.006*datum + 0.006*also + 0.006*risk + 0.005*employment + 0.005*need'),\n",
       " (16,\n",
       "  '0.012*security + 0.011*system + 0.009*attack + 0.005*research + 0.004*technology + 0.004*could + 0.004*example + 0.004*malicious + 0.004*defense + 0.004*human'),\n",
       " (17,\n",
       "  '0.013*datum + 0.010*decision + 0.008*judicial + 0.007*system + 0.006*justice + 0.006*court + 0.006*judge + 0.005*european + 0.005*tool + 0.005*case'),\n",
       " (18,\n",
       "  '0.010*federal + 0.009*government + 0.008*american + 0.008*technology + 0.007*datum + 0.006*agency + 0.006*research + 0.006*united + 0.006*states + 0.006*development'),\n",
       " (19,\n",
       "  '0.025*japan + 0.012*intelligence + 0.008*business + 0.007*artificial + 0.007*tokyo + 0.007*company + 0.006*japanese + 0.006*startup + 0.004*technology + 0.004*artiﬁcial')]"
      ]
     },
     "execution_count": 68,
     "metadata": {},
     "output_type": "execute_result"
    }
   ],
   "source": [
    "hdp_model.print_topics()"
   ]
  },
  {
   "cell_type": "markdown",
   "metadata": {},
   "source": [
    "## Contextualized Topic Model"
   ]
  },
  {
   "cell_type": "markdown",
   "metadata": {},
   "source": [
    "I have not yet managed to make this one work... but it seemed promising from reading thir paper. See here: https://github.com/MilaNLProc/contextualized-topic-models"
   ]
  },
  {
   "cell_type": "code",
   "execution_count": 12,
   "metadata": {},
   "outputs": [],
   "source": [
    "with open(\"/users/marion1meyers/OneDrive/lawtechlab/ethics_ai_research/text_data_2.txt\", \"w\") as text:\n",
    "    for line in dataset[\"text\"].values:\n",
    "        text.write(str(line) + \"\\n\")\n",
    "\n",
    "with open(\"/users/marion1meyers/OneDrive/lawtechlab/ethics_ai_research/text_data_lemmatized_2.txt\", \"w\") as text:\n",
    "    for line in lemmatized_dataset[\"text\"].values:\n",
    "        text.write(str(line) + \"\\n\")\n"
   ]
  },
  {
   "cell_type": "code",
   "execution_count": 16,
   "metadata": {},
   "outputs": [],
   "source": [
    "#dataset_path = \"/users/marion1meyers/OneDrive/lawtechlab/ethics_ai_research/full_text_dataset.csv\"\n",
    "#lemmatized_dataset_path = \"/users/marion1meyers/OneDrive/lawtechlab/ethics_ai_research/lemmatized_dataset.csv\"\n",
    "#dataset, lemmatized_dataset = read_dataset(dataset_path, lemmatized_dataset_path)\n",
    "\n",
    "dictionary, corpus, text_data = convert_dataset(lemmatized_dataset)\n",
    "\n",
    "text_data_path = \"/users/marion1meyers/OneDrive/lawtechlab/ethics_ai_research/text_data_2.txt\"\n",
    "text_data_path_lemm = \"/users/marion1meyers/OneDrive/lawtechlab/ethics_ai_research/text_data_lemmatized_2.txt\""
   ]
  },
  {
   "cell_type": "markdown",
   "metadata": {},
   "source": [
    "### Load data and train model"
   ]
  },
  {
   "cell_type": "code",
   "execution_count": 18,
   "metadata": {},
   "outputs": [
    {
     "name": "stdout",
     "output_type": "stream",
     "text": [
      "start handler\n",
      "start generating Bert data\n"
     ]
    },
    {
     "ename": "FileNotFoundError",
     "evalue": "[Errno 2] No such file or directory: '/Users/marion1meyers/.cache/torch/sentence_transformers/public.ukp.informatik.tu-darmstadt.de_reimers_sentence-transformers_v0.2_bert-base-nli-mean-tokens.zip/modules.json'",
     "output_type": "error",
     "traceback": [
      "\u001b[0;31m---------------------------------------------------------------------------\u001b[0m",
      "\u001b[0;31mFileNotFoundError\u001b[0m                         Traceback (most recent call last)",
      "\u001b[0;32m<ipython-input-18-c7d5ed36d386>\u001b[0m in \u001b[0;36m<module>\u001b[0;34m\u001b[0m\n\u001b[1;32m      6\u001b[0m \u001b[0;31m# generate BERT data\u001b[0m\u001b[0;34m\u001b[0m\u001b[0;34m\u001b[0m\u001b[0;34m\u001b[0m\u001b[0m\n\u001b[1;32m      7\u001b[0m \u001b[0;31m#training_bert = bert_embeddings_from_file(text_data_path, \"distiluse-base-multilingual-cased\")\u001b[0m\u001b[0;34m\u001b[0m\u001b[0;34m\u001b[0m\u001b[0;34m\u001b[0m\u001b[0m\n\u001b[0;32m----> 8\u001b[0;31m \u001b[0mtraining_bert_2\u001b[0m \u001b[0;34m=\u001b[0m \u001b[0mbert_embeddings_from_file\u001b[0m\u001b[0;34m(\u001b[0m\u001b[0mtext_data_path_lemm\u001b[0m\u001b[0;34m,\u001b[0m \u001b[0;34m'bert-base-nli-mean-tokens'\u001b[0m\u001b[0;34m)\u001b[0m\u001b[0;34m\u001b[0m\u001b[0;34m\u001b[0m\u001b[0m\n\u001b[0m\u001b[1;32m      9\u001b[0m \u001b[0;34m\u001b[0m\u001b[0m\n\u001b[1;32m     10\u001b[0m \u001b[0mprint\u001b[0m\u001b[0;34m(\u001b[0m\u001b[0;34m'create CTM dataset'\u001b[0m\u001b[0;34m)\u001b[0m\u001b[0;34m\u001b[0m\u001b[0;34m\u001b[0m\u001b[0m\n",
      "\u001b[0;32m/Library/Frameworks/Python.framework/Versions/3.8/lib/python3.8/site-packages/contextualized_topic_models/utils/data_preparation.py\u001b[0m in \u001b[0;36mbert_embeddings_from_file\u001b[0;34m(text_file, sbert_model_to_load)\u001b[0m\n\u001b[1;32m     11\u001b[0m \u001b[0;34m\u001b[0m\u001b[0m\n\u001b[1;32m     12\u001b[0m \u001b[0;32mdef\u001b[0m \u001b[0mbert_embeddings_from_file\u001b[0m\u001b[0;34m(\u001b[0m\u001b[0mtext_file\u001b[0m\u001b[0;34m,\u001b[0m \u001b[0msbert_model_to_load\u001b[0m\u001b[0;34m)\u001b[0m\u001b[0;34m:\u001b[0m\u001b[0;34m\u001b[0m\u001b[0;34m\u001b[0m\u001b[0m\n\u001b[0;32m---> 13\u001b[0;31m     \u001b[0mmodel\u001b[0m \u001b[0;34m=\u001b[0m \u001b[0mSentenceTransformer\u001b[0m\u001b[0;34m(\u001b[0m\u001b[0msbert_model_to_load\u001b[0m\u001b[0;34m)\u001b[0m\u001b[0;34m\u001b[0m\u001b[0;34m\u001b[0m\u001b[0m\n\u001b[0m\u001b[1;32m     14\u001b[0m \u001b[0;34m\u001b[0m\u001b[0m\n\u001b[1;32m     15\u001b[0m     \u001b[0;32mwith\u001b[0m \u001b[0mopen\u001b[0m\u001b[0;34m(\u001b[0m\u001b[0mtext_file\u001b[0m\u001b[0;34m,\u001b[0m \u001b[0mencoding\u001b[0m\u001b[0;34m=\u001b[0m\u001b[0;34m\"latin\"\u001b[0m\u001b[0;34m)\u001b[0m \u001b[0;32mas\u001b[0m \u001b[0mfilino\u001b[0m\u001b[0;34m:\u001b[0m\u001b[0;34m\u001b[0m\u001b[0;34m\u001b[0m\u001b[0m\n",
      "\u001b[0;32m/Library/Frameworks/Python.framework/Versions/3.8/lib/python3.8/site-packages/sentence_transformers/SentenceTransformer.py\u001b[0m in \u001b[0;36m__init__\u001b[0;34m(self, model_name_or_path, modules, device)\u001b[0m\n\u001b[1;32m     73\u001b[0m                             \u001b[0mlogging\u001b[0m\u001b[0;34m.\u001b[0m\u001b[0mwarning\u001b[0m\u001b[0;34m(\u001b[0m\u001b[0;34m\"You try to use a model that was created with version {}, however, your version is {}. This might cause unexpected behavior or errors. In that case, try to update to the latest version.\\n\\n\\n\"\u001b[0m\u001b[0;34m.\u001b[0m\u001b[0mformat\u001b[0m\u001b[0;34m(\u001b[0m\u001b[0mconfig\u001b[0m\u001b[0;34m[\u001b[0m\u001b[0;34m'__version__'\u001b[0m\u001b[0;34m]\u001b[0m\u001b[0;34m,\u001b[0m \u001b[0m__version__\u001b[0m\u001b[0;34m)\u001b[0m\u001b[0;34m)\u001b[0m\u001b[0;34m\u001b[0m\u001b[0;34m\u001b[0m\u001b[0m\n\u001b[1;32m     74\u001b[0m \u001b[0;34m\u001b[0m\u001b[0m\n\u001b[0;32m---> 75\u001b[0;31m                 \u001b[0;32mwith\u001b[0m \u001b[0mopen\u001b[0m\u001b[0;34m(\u001b[0m\u001b[0mos\u001b[0m\u001b[0;34m.\u001b[0m\u001b[0mpath\u001b[0m\u001b[0;34m.\u001b[0m\u001b[0mjoin\u001b[0m\u001b[0;34m(\u001b[0m\u001b[0mmodel_path\u001b[0m\u001b[0;34m,\u001b[0m \u001b[0;34m'modules.json'\u001b[0m\u001b[0;34m)\u001b[0m\u001b[0;34m)\u001b[0m \u001b[0;32mas\u001b[0m \u001b[0mfIn\u001b[0m\u001b[0;34m:\u001b[0m\u001b[0;34m\u001b[0m\u001b[0;34m\u001b[0m\u001b[0m\n\u001b[0m\u001b[1;32m     76\u001b[0m                     \u001b[0mcontained_modules\u001b[0m \u001b[0;34m=\u001b[0m \u001b[0mjson\u001b[0m\u001b[0;34m.\u001b[0m\u001b[0mload\u001b[0m\u001b[0;34m(\u001b[0m\u001b[0mfIn\u001b[0m\u001b[0;34m)\u001b[0m\u001b[0;34m\u001b[0m\u001b[0;34m\u001b[0m\u001b[0m\n\u001b[1;32m     77\u001b[0m \u001b[0;34m\u001b[0m\u001b[0m\n",
      "\u001b[0;31mFileNotFoundError\u001b[0m: [Errno 2] No such file or directory: '/Users/marion1meyers/.cache/torch/sentence_transformers/public.ukp.informatik.tu-darmstadt.de_reimers_sentence-transformers_v0.2_bert-base-nli-mean-tokens.zip/modules.json'"
     ]
    }
   ],
   "source": [
    "print('start handler')\n",
    "handler = TextHandler(text_data_path_lemm)\n",
    "handler.prepare()  # create vocabulary and training data\n",
    "\n",
    "print('start generating Bert data')\n",
    "# generate BERT data\n",
    "training_bert = bert_embeddings_from_file(text_data_path, \"distiluse-base-multilingual-cased\")\n",
    "#training_bert_2 = bert_embeddings_from_file(text_data_path_lemm, 'bert-base-nli-mean-tokens')\n",
    "\n",
    "print('create CTM dataset')\n",
    "#training_dataset = CTMDataset(handler.bow, training_bert, handler.idx2token)\n",
    "training_dataset_2 = CTMDataset(handler.bow, training_bert_2, handler.idx2token)\n",
    "\n",
    "\n",
    "#npmi = CoherenceNPMI(texts=dataset['text'], topics=ctm.get_topic_lists(10))\n",
    "#npmi.score()"
   ]
  },
  {
   "cell_type": "code",
   "execution_count": 16,
   "metadata": {},
   "outputs": [
    {
     "name": "stdout",
     "output_type": "stream",
     "text": [
      "<contextualized_topic_models.datasets.dataset.CTMDataset object at 0x10c99b880>\n"
     ]
    }
   ],
   "source": [
    "print(training_dataset)"
   ]
  },
  {
   "cell_type": "code",
   "execution_count": 14,
   "metadata": {},
   "outputs": [
    {
     "name": "stdout",
     "output_type": "stream",
     "text": [
      "fit the model\n",
      "Settings: \n",
      "               N Components: 20\n",
      "               Topic Prior Mean: 0.0\n",
      "               Topic Prior Variance: 0.95\n",
      "               Model Type: prodLDA\n",
      "               Hidden Sizes: (100, 100)\n",
      "               Activation: softplus\n",
      "               Dropout: 0.2\n",
      "               Learn Priors: True\n",
      "               Learning Rate: 0.002\n",
      "               Momentum: 0.99\n",
      "               Reduce On Plateau: False\n",
      "               Save Dir: None\n"
     ]
    },
    {
     "ename": "ValueError",
     "evalue": "Expected more than 1 value per channel when training, got input size torch.Size([1, 20])",
     "output_type": "error",
     "traceback": [
      "\u001b[0;31m---------------------------------------------------------------------------\u001b[0m",
      "\u001b[0;31mValueError\u001b[0m                                Traceback (most recent call last)",
      "\u001b[0;32m<ipython-input-14-25a1147818ee>\u001b[0m in \u001b[0;36m<module>\u001b[0;34m\u001b[0m\n\u001b[1;32m      2\u001b[0m           n_components=20)\n\u001b[1;32m      3\u001b[0m \u001b[0mprint\u001b[0m\u001b[0;34m(\u001b[0m\u001b[0;34m'fit the model'\u001b[0m\u001b[0;34m)\u001b[0m\u001b[0;34m\u001b[0m\u001b[0;34m\u001b[0m\u001b[0m\n\u001b[0;32m----> 4\u001b[0;31m \u001b[0mctm\u001b[0m\u001b[0;34m.\u001b[0m\u001b[0mfit\u001b[0m\u001b[0;34m(\u001b[0m\u001b[0mtraining_dataset\u001b[0m\u001b[0;34m)\u001b[0m  \u001b[0;31m# run the model\u001b[0m\u001b[0;34m\u001b[0m\u001b[0;34m\u001b[0m\u001b[0m\n\u001b[0m",
      "\u001b[0;32m/Library/Frameworks/Python.framework/Versions/3.8/lib/python3.8/site-packages/contextualized_topic_models/models/ctm.py\u001b[0m in \u001b[0;36mfit\u001b[0;34m(self, train_dataset, save_dir)\u001b[0m\n\u001b[1;32m    223\u001b[0m             \u001b[0;31m# train epoch\u001b[0m\u001b[0;34m\u001b[0m\u001b[0;34m\u001b[0m\u001b[0;34m\u001b[0m\u001b[0m\n\u001b[1;32m    224\u001b[0m             \u001b[0ms\u001b[0m \u001b[0;34m=\u001b[0m \u001b[0mdatetime\u001b[0m\u001b[0;34m.\u001b[0m\u001b[0mdatetime\u001b[0m\u001b[0;34m.\u001b[0m\u001b[0mnow\u001b[0m\u001b[0;34m(\u001b[0m\u001b[0;34m)\u001b[0m\u001b[0;34m\u001b[0m\u001b[0;34m\u001b[0m\u001b[0m\n\u001b[0;32m--> 225\u001b[0;31m             \u001b[0msp\u001b[0m\u001b[0;34m,\u001b[0m \u001b[0mtrain_loss\u001b[0m \u001b[0;34m=\u001b[0m \u001b[0mself\u001b[0m\u001b[0;34m.\u001b[0m\u001b[0m_train_epoch\u001b[0m\u001b[0;34m(\u001b[0m\u001b[0mtrain_loader\u001b[0m\u001b[0;34m)\u001b[0m\u001b[0;34m\u001b[0m\u001b[0;34m\u001b[0m\u001b[0m\n\u001b[0m\u001b[1;32m    226\u001b[0m             \u001b[0msamples_processed\u001b[0m \u001b[0;34m+=\u001b[0m \u001b[0msp\u001b[0m\u001b[0;34m\u001b[0m\u001b[0;34m\u001b[0m\u001b[0m\n\u001b[1;32m    227\u001b[0m             \u001b[0me\u001b[0m \u001b[0;34m=\u001b[0m \u001b[0mdatetime\u001b[0m\u001b[0;34m.\u001b[0m\u001b[0mdatetime\u001b[0m\u001b[0;34m.\u001b[0m\u001b[0mnow\u001b[0m\u001b[0;34m(\u001b[0m\u001b[0;34m)\u001b[0m\u001b[0;34m\u001b[0m\u001b[0;34m\u001b[0m\u001b[0m\n",
      "\u001b[0;32m/Library/Frameworks/Python.framework/Versions/3.8/lib/python3.8/site-packages/contextualized_topic_models/models/ctm.py\u001b[0m in \u001b[0;36m_train_epoch\u001b[0;34m(self, loader)\u001b[0m\n\u001b[1;32m    162\u001b[0m             \u001b[0mprior_mean\u001b[0m\u001b[0;34m,\u001b[0m \u001b[0mprior_variance\u001b[0m\u001b[0;34m,\u001b[0m\u001b[0;31m \u001b[0m\u001b[0;31m\\\u001b[0m\u001b[0;34m\u001b[0m\u001b[0;34m\u001b[0m\u001b[0m\n\u001b[1;32m    163\u001b[0m                 \u001b[0mposterior_mean\u001b[0m\u001b[0;34m,\u001b[0m \u001b[0mposterior_variance\u001b[0m\u001b[0;34m,\u001b[0m \u001b[0mposterior_log_variance\u001b[0m\u001b[0;34m,\u001b[0m\u001b[0;31m \u001b[0m\u001b[0;31m\\\u001b[0m\u001b[0;34m\u001b[0m\u001b[0;34m\u001b[0m\u001b[0m\n\u001b[0;32m--> 164\u001b[0;31m                 \u001b[0mword_dists\u001b[0m \u001b[0;34m=\u001b[0m \u001b[0mself\u001b[0m\u001b[0;34m.\u001b[0m\u001b[0mmodel\u001b[0m\u001b[0;34m(\u001b[0m\u001b[0mX\u001b[0m\u001b[0;34m,\u001b[0m \u001b[0mX_bert\u001b[0m\u001b[0;34m)\u001b[0m\u001b[0;34m\u001b[0m\u001b[0;34m\u001b[0m\u001b[0m\n\u001b[0m\u001b[1;32m    165\u001b[0m \u001b[0;34m\u001b[0m\u001b[0m\n\u001b[1;32m    166\u001b[0m             \u001b[0;31m# backward pass\u001b[0m\u001b[0;34m\u001b[0m\u001b[0;34m\u001b[0m\u001b[0;34m\u001b[0m\u001b[0m\n",
      "\u001b[0;32m/Library/Frameworks/Python.framework/Versions/3.8/lib/python3.8/site-packages/torch/nn/modules/module.py\u001b[0m in \u001b[0;36m__call__\u001b[0;34m(self, *input, **kwargs)\u001b[0m\n\u001b[1;32m    548\u001b[0m             \u001b[0mresult\u001b[0m \u001b[0;34m=\u001b[0m \u001b[0mself\u001b[0m\u001b[0;34m.\u001b[0m\u001b[0m_slow_forward\u001b[0m\u001b[0;34m(\u001b[0m\u001b[0;34m*\u001b[0m\u001b[0minput\u001b[0m\u001b[0;34m,\u001b[0m \u001b[0;34m**\u001b[0m\u001b[0mkwargs\u001b[0m\u001b[0;34m)\u001b[0m\u001b[0;34m\u001b[0m\u001b[0;34m\u001b[0m\u001b[0m\n\u001b[1;32m    549\u001b[0m         \u001b[0;32melse\u001b[0m\u001b[0;34m:\u001b[0m\u001b[0;34m\u001b[0m\u001b[0;34m\u001b[0m\u001b[0m\n\u001b[0;32m--> 550\u001b[0;31m             \u001b[0mresult\u001b[0m \u001b[0;34m=\u001b[0m \u001b[0mself\u001b[0m\u001b[0;34m.\u001b[0m\u001b[0mforward\u001b[0m\u001b[0;34m(\u001b[0m\u001b[0;34m*\u001b[0m\u001b[0minput\u001b[0m\u001b[0;34m,\u001b[0m \u001b[0;34m**\u001b[0m\u001b[0mkwargs\u001b[0m\u001b[0;34m)\u001b[0m\u001b[0;34m\u001b[0m\u001b[0;34m\u001b[0m\u001b[0m\n\u001b[0m\u001b[1;32m    551\u001b[0m         \u001b[0;32mfor\u001b[0m \u001b[0mhook\u001b[0m \u001b[0;32min\u001b[0m \u001b[0mself\u001b[0m\u001b[0;34m.\u001b[0m\u001b[0m_forward_hooks\u001b[0m\u001b[0;34m.\u001b[0m\u001b[0mvalues\u001b[0m\u001b[0;34m(\u001b[0m\u001b[0;34m)\u001b[0m\u001b[0;34m:\u001b[0m\u001b[0;34m\u001b[0m\u001b[0;34m\u001b[0m\u001b[0m\n\u001b[1;32m    552\u001b[0m             \u001b[0mhook_result\u001b[0m \u001b[0;34m=\u001b[0m \u001b[0mhook\u001b[0m\u001b[0;34m(\u001b[0m\u001b[0mself\u001b[0m\u001b[0;34m,\u001b[0m \u001b[0minput\u001b[0m\u001b[0;34m,\u001b[0m \u001b[0mresult\u001b[0m\u001b[0;34m)\u001b[0m\u001b[0;34m\u001b[0m\u001b[0;34m\u001b[0m\u001b[0m\n",
      "\u001b[0;32m/Library/Frameworks/Python.framework/Versions/3.8/lib/python3.8/site-packages/contextualized_topic_models/networks/decoding_network.py\u001b[0m in \u001b[0;36mforward\u001b[0;34m(self, x, x_bert)\u001b[0m\n\u001b[1;32m     97\u001b[0m         \u001b[0;34m\"\"\"Forward pass.\"\"\"\u001b[0m\u001b[0;34m\u001b[0m\u001b[0;34m\u001b[0m\u001b[0m\n\u001b[1;32m     98\u001b[0m         \u001b[0;31m# batch_size x n_components\u001b[0m\u001b[0;34m\u001b[0m\u001b[0;34m\u001b[0m\u001b[0;34m\u001b[0m\u001b[0m\n\u001b[0;32m---> 99\u001b[0;31m         \u001b[0mposterior_mu\u001b[0m\u001b[0;34m,\u001b[0m \u001b[0mposterior_log_sigma\u001b[0m \u001b[0;34m=\u001b[0m \u001b[0mself\u001b[0m\u001b[0;34m.\u001b[0m\u001b[0minf_net\u001b[0m\u001b[0;34m(\u001b[0m\u001b[0mx\u001b[0m\u001b[0;34m,\u001b[0m \u001b[0mx_bert\u001b[0m\u001b[0;34m)\u001b[0m\u001b[0;34m\u001b[0m\u001b[0;34m\u001b[0m\u001b[0m\n\u001b[0m\u001b[1;32m    100\u001b[0m         \u001b[0mposterior_sigma\u001b[0m \u001b[0;34m=\u001b[0m \u001b[0mtorch\u001b[0m\u001b[0;34m.\u001b[0m\u001b[0mexp\u001b[0m\u001b[0;34m(\u001b[0m\u001b[0mposterior_log_sigma\u001b[0m\u001b[0;34m)\u001b[0m\u001b[0;34m\u001b[0m\u001b[0;34m\u001b[0m\u001b[0m\n\u001b[1;32m    101\u001b[0m \u001b[0;34m\u001b[0m\u001b[0m\n",
      "\u001b[0;32m/Library/Frameworks/Python.framework/Versions/3.8/lib/python3.8/site-packages/torch/nn/modules/module.py\u001b[0m in \u001b[0;36m__call__\u001b[0;34m(self, *input, **kwargs)\u001b[0m\n\u001b[1;32m    548\u001b[0m             \u001b[0mresult\u001b[0m \u001b[0;34m=\u001b[0m \u001b[0mself\u001b[0m\u001b[0;34m.\u001b[0m\u001b[0m_slow_forward\u001b[0m\u001b[0;34m(\u001b[0m\u001b[0;34m*\u001b[0m\u001b[0minput\u001b[0m\u001b[0;34m,\u001b[0m \u001b[0;34m**\u001b[0m\u001b[0mkwargs\u001b[0m\u001b[0;34m)\u001b[0m\u001b[0;34m\u001b[0m\u001b[0;34m\u001b[0m\u001b[0m\n\u001b[1;32m    549\u001b[0m         \u001b[0;32melse\u001b[0m\u001b[0;34m:\u001b[0m\u001b[0;34m\u001b[0m\u001b[0;34m\u001b[0m\u001b[0m\n\u001b[0;32m--> 550\u001b[0;31m             \u001b[0mresult\u001b[0m \u001b[0;34m=\u001b[0m \u001b[0mself\u001b[0m\u001b[0;34m.\u001b[0m\u001b[0mforward\u001b[0m\u001b[0;34m(\u001b[0m\u001b[0;34m*\u001b[0m\u001b[0minput\u001b[0m\u001b[0;34m,\u001b[0m \u001b[0;34m**\u001b[0m\u001b[0mkwargs\u001b[0m\u001b[0;34m)\u001b[0m\u001b[0;34m\u001b[0m\u001b[0;34m\u001b[0m\u001b[0m\n\u001b[0m\u001b[1;32m    551\u001b[0m         \u001b[0;32mfor\u001b[0m \u001b[0mhook\u001b[0m \u001b[0;32min\u001b[0m \u001b[0mself\u001b[0m\u001b[0;34m.\u001b[0m\u001b[0m_forward_hooks\u001b[0m\u001b[0;34m.\u001b[0m\u001b[0mvalues\u001b[0m\u001b[0;34m(\u001b[0m\u001b[0;34m)\u001b[0m\u001b[0;34m:\u001b[0m\u001b[0;34m\u001b[0m\u001b[0;34m\u001b[0m\u001b[0m\n\u001b[1;32m    552\u001b[0m             \u001b[0mhook_result\u001b[0m \u001b[0;34m=\u001b[0m \u001b[0mhook\u001b[0m\u001b[0;34m(\u001b[0m\u001b[0mself\u001b[0m\u001b[0;34m,\u001b[0m \u001b[0minput\u001b[0m\u001b[0;34m,\u001b[0m \u001b[0mresult\u001b[0m\u001b[0;34m)\u001b[0m\u001b[0;34m\u001b[0m\u001b[0;34m\u001b[0m\u001b[0m\n",
      "\u001b[0;32m/Library/Frameworks/Python.framework/Versions/3.8/lib/python3.8/site-packages/contextualized_topic_models/networks/inference_network.py\u001b[0m in \u001b[0;36mforward\u001b[0;34m(self, x, x_bert)\u001b[0m\n\u001b[1;32m    131\u001b[0m         \u001b[0mx\u001b[0m \u001b[0;34m=\u001b[0m \u001b[0mself\u001b[0m\u001b[0;34m.\u001b[0m\u001b[0mhiddens\u001b[0m\u001b[0;34m(\u001b[0m\u001b[0mx\u001b[0m\u001b[0;34m)\u001b[0m\u001b[0;34m\u001b[0m\u001b[0;34m\u001b[0m\u001b[0m\n\u001b[1;32m    132\u001b[0m         \u001b[0mx\u001b[0m \u001b[0;34m=\u001b[0m \u001b[0mself\u001b[0m\u001b[0;34m.\u001b[0m\u001b[0mdropout_enc\u001b[0m\u001b[0;34m(\u001b[0m\u001b[0mx\u001b[0m\u001b[0;34m)\u001b[0m\u001b[0;34m\u001b[0m\u001b[0;34m\u001b[0m\u001b[0m\n\u001b[0;32m--> 133\u001b[0;31m         \u001b[0mmu\u001b[0m \u001b[0;34m=\u001b[0m \u001b[0mself\u001b[0m\u001b[0;34m.\u001b[0m\u001b[0mf_mu_batchnorm\u001b[0m\u001b[0;34m(\u001b[0m\u001b[0mself\u001b[0m\u001b[0;34m.\u001b[0m\u001b[0mf_mu\u001b[0m\u001b[0;34m(\u001b[0m\u001b[0mx\u001b[0m\u001b[0;34m)\u001b[0m\u001b[0;34m)\u001b[0m\u001b[0;34m\u001b[0m\u001b[0;34m\u001b[0m\u001b[0m\n\u001b[0m\u001b[1;32m    134\u001b[0m         \u001b[0mlog_sigma\u001b[0m \u001b[0;34m=\u001b[0m \u001b[0mself\u001b[0m\u001b[0;34m.\u001b[0m\u001b[0mf_sigma_batchnorm\u001b[0m\u001b[0;34m(\u001b[0m\u001b[0mself\u001b[0m\u001b[0;34m.\u001b[0m\u001b[0mf_sigma\u001b[0m\u001b[0;34m(\u001b[0m\u001b[0mx\u001b[0m\u001b[0;34m)\u001b[0m\u001b[0;34m)\u001b[0m\u001b[0;34m\u001b[0m\u001b[0;34m\u001b[0m\u001b[0m\n\u001b[1;32m    135\u001b[0m \u001b[0;34m\u001b[0m\u001b[0m\n",
      "\u001b[0;32m/Library/Frameworks/Python.framework/Versions/3.8/lib/python3.8/site-packages/torch/nn/modules/module.py\u001b[0m in \u001b[0;36m__call__\u001b[0;34m(self, *input, **kwargs)\u001b[0m\n\u001b[1;32m    548\u001b[0m             \u001b[0mresult\u001b[0m \u001b[0;34m=\u001b[0m \u001b[0mself\u001b[0m\u001b[0;34m.\u001b[0m\u001b[0m_slow_forward\u001b[0m\u001b[0;34m(\u001b[0m\u001b[0;34m*\u001b[0m\u001b[0minput\u001b[0m\u001b[0;34m,\u001b[0m \u001b[0;34m**\u001b[0m\u001b[0mkwargs\u001b[0m\u001b[0;34m)\u001b[0m\u001b[0;34m\u001b[0m\u001b[0;34m\u001b[0m\u001b[0m\n\u001b[1;32m    549\u001b[0m         \u001b[0;32melse\u001b[0m\u001b[0;34m:\u001b[0m\u001b[0;34m\u001b[0m\u001b[0;34m\u001b[0m\u001b[0m\n\u001b[0;32m--> 550\u001b[0;31m             \u001b[0mresult\u001b[0m \u001b[0;34m=\u001b[0m \u001b[0mself\u001b[0m\u001b[0;34m.\u001b[0m\u001b[0mforward\u001b[0m\u001b[0;34m(\u001b[0m\u001b[0;34m*\u001b[0m\u001b[0minput\u001b[0m\u001b[0;34m,\u001b[0m \u001b[0;34m**\u001b[0m\u001b[0mkwargs\u001b[0m\u001b[0;34m)\u001b[0m\u001b[0;34m\u001b[0m\u001b[0;34m\u001b[0m\u001b[0m\n\u001b[0m\u001b[1;32m    551\u001b[0m         \u001b[0;32mfor\u001b[0m \u001b[0mhook\u001b[0m \u001b[0;32min\u001b[0m \u001b[0mself\u001b[0m\u001b[0;34m.\u001b[0m\u001b[0m_forward_hooks\u001b[0m\u001b[0;34m.\u001b[0m\u001b[0mvalues\u001b[0m\u001b[0;34m(\u001b[0m\u001b[0;34m)\u001b[0m\u001b[0;34m:\u001b[0m\u001b[0;34m\u001b[0m\u001b[0;34m\u001b[0m\u001b[0m\n\u001b[1;32m    552\u001b[0m             \u001b[0mhook_result\u001b[0m \u001b[0;34m=\u001b[0m \u001b[0mhook\u001b[0m\u001b[0;34m(\u001b[0m\u001b[0mself\u001b[0m\u001b[0;34m,\u001b[0m \u001b[0minput\u001b[0m\u001b[0;34m,\u001b[0m \u001b[0mresult\u001b[0m\u001b[0;34m)\u001b[0m\u001b[0;34m\u001b[0m\u001b[0;34m\u001b[0m\u001b[0m\n",
      "\u001b[0;32m/Library/Frameworks/Python.framework/Versions/3.8/lib/python3.8/site-packages/torch/nn/modules/batchnorm.py\u001b[0m in \u001b[0;36mforward\u001b[0;34m(self, input)\u001b[0m\n\u001b[1;32m    101\u001b[0m                     \u001b[0mexponential_average_factor\u001b[0m \u001b[0;34m=\u001b[0m \u001b[0mself\u001b[0m\u001b[0;34m.\u001b[0m\u001b[0mmomentum\u001b[0m\u001b[0;34m\u001b[0m\u001b[0;34m\u001b[0m\u001b[0m\n\u001b[1;32m    102\u001b[0m \u001b[0;34m\u001b[0m\u001b[0m\n\u001b[0;32m--> 103\u001b[0;31m         return F.batch_norm(\n\u001b[0m\u001b[1;32m    104\u001b[0m             \u001b[0minput\u001b[0m\u001b[0;34m,\u001b[0m \u001b[0mself\u001b[0m\u001b[0;34m.\u001b[0m\u001b[0mrunning_mean\u001b[0m\u001b[0;34m,\u001b[0m \u001b[0mself\u001b[0m\u001b[0;34m.\u001b[0m\u001b[0mrunning_var\u001b[0m\u001b[0;34m,\u001b[0m \u001b[0mself\u001b[0m\u001b[0;34m.\u001b[0m\u001b[0mweight\u001b[0m\u001b[0;34m,\u001b[0m \u001b[0mself\u001b[0m\u001b[0;34m.\u001b[0m\u001b[0mbias\u001b[0m\u001b[0;34m,\u001b[0m\u001b[0;34m\u001b[0m\u001b[0;34m\u001b[0m\u001b[0m\n\u001b[1;32m    105\u001b[0m             \u001b[0mself\u001b[0m\u001b[0;34m.\u001b[0m\u001b[0mtraining\u001b[0m \u001b[0;32mor\u001b[0m \u001b[0;32mnot\u001b[0m \u001b[0mself\u001b[0m\u001b[0;34m.\u001b[0m\u001b[0mtrack_running_stats\u001b[0m\u001b[0;34m,\u001b[0m\u001b[0;34m\u001b[0m\u001b[0;34m\u001b[0m\u001b[0m\n",
      "\u001b[0;32m/Library/Frameworks/Python.framework/Versions/3.8/lib/python3.8/site-packages/torch/nn/functional.py\u001b[0m in \u001b[0;36mbatch_norm\u001b[0;34m(input, running_mean, running_var, weight, bias, training, momentum, eps)\u001b[0m\n\u001b[1;32m   1917\u001b[0m                 bias=bias, training=training, momentum=momentum, eps=eps)\n\u001b[1;32m   1918\u001b[0m     \u001b[0;32mif\u001b[0m \u001b[0mtraining\u001b[0m\u001b[0;34m:\u001b[0m\u001b[0;34m\u001b[0m\u001b[0;34m\u001b[0m\u001b[0m\n\u001b[0;32m-> 1919\u001b[0;31m         \u001b[0m_verify_batch_size\u001b[0m\u001b[0;34m(\u001b[0m\u001b[0minput\u001b[0m\u001b[0;34m.\u001b[0m\u001b[0msize\u001b[0m\u001b[0;34m(\u001b[0m\u001b[0;34m)\u001b[0m\u001b[0;34m)\u001b[0m\u001b[0;34m\u001b[0m\u001b[0;34m\u001b[0m\u001b[0m\n\u001b[0m\u001b[1;32m   1920\u001b[0m \u001b[0;34m\u001b[0m\u001b[0m\n\u001b[1;32m   1921\u001b[0m     return torch.batch_norm(\n",
      "\u001b[0;32m/Library/Frameworks/Python.framework/Versions/3.8/lib/python3.8/site-packages/torch/nn/functional.py\u001b[0m in \u001b[0;36m_verify_batch_size\u001b[0;34m(size)\u001b[0m\n\u001b[1;32m   1900\u001b[0m         \u001b[0msize_prods\u001b[0m \u001b[0;34m*=\u001b[0m \u001b[0msize\u001b[0m\u001b[0;34m[\u001b[0m\u001b[0mi\u001b[0m \u001b[0;34m+\u001b[0m \u001b[0;36m2\u001b[0m\u001b[0;34m]\u001b[0m\u001b[0;34m\u001b[0m\u001b[0;34m\u001b[0m\u001b[0m\n\u001b[1;32m   1901\u001b[0m     \u001b[0;32mif\u001b[0m \u001b[0msize_prods\u001b[0m \u001b[0;34m==\u001b[0m \u001b[0;36m1\u001b[0m\u001b[0;34m:\u001b[0m\u001b[0;34m\u001b[0m\u001b[0;34m\u001b[0m\u001b[0m\n\u001b[0;32m-> 1902\u001b[0;31m         \u001b[0;32mraise\u001b[0m \u001b[0mValueError\u001b[0m\u001b[0;34m(\u001b[0m\u001b[0;34m'Expected more than 1 value per channel when training, got input size {}'\u001b[0m\u001b[0;34m.\u001b[0m\u001b[0mformat\u001b[0m\u001b[0;34m(\u001b[0m\u001b[0msize\u001b[0m\u001b[0;34m)\u001b[0m\u001b[0;34m)\u001b[0m\u001b[0;34m\u001b[0m\u001b[0;34m\u001b[0m\u001b[0m\n\u001b[0m\u001b[1;32m   1903\u001b[0m \u001b[0;34m\u001b[0m\u001b[0m\n\u001b[1;32m   1904\u001b[0m \u001b[0;34m\u001b[0m\u001b[0m\n",
      "\u001b[0;31mValueError\u001b[0m: Expected more than 1 value per channel when training, got input size torch.Size([1, 20])"
     ]
    }
   ],
   "source": [
    "ctm = CTM(input_size=len(handler.vocab), bert_input_size=512, num_epochs=5, inference_type=\"combined\",\n",
    "          n_components=20)\n",
    "print('fit the model')\n",
    "ctm.fit(training_dataset)  # run the model"
   ]
  },
  {
   "cell_type": "markdown",
   "metadata": {},
   "source": [
    "### Evaluate Model"
   ]
  },
  {
   "cell_type": "code",
   "execution_count": null,
   "metadata": {},
   "outputs": [],
   "source": [
    "ctm.get_topic_lists(20)[0:10]"
   ]
  },
  {
   "cell_type": "code",
   "execution_count": null,
   "metadata": {},
   "outputs": [],
   "source": [
    "td = TopicDiversity(ctm.get_topic_lists(25))\n",
    "td.score(topk=25)"
   ]
  },
  {
   "cell_type": "code",
   "execution_count": null,
   "metadata": {},
   "outputs": [],
   "source": [
    "rbo = InvertedRBO(ctm.get_topic_lists(10))\n",
    "rbo.score()"
   ]
  }
 ],
 "metadata": {
  "kernelspec": {
   "display_name": "Python 3",
   "language": "python",
   "name": "python3"
  },
  "language_info": {
   "codemirror_mode": {
    "name": "ipython",
    "version": 3
   },
   "file_extension": ".py",
   "mimetype": "text/x-python",
   "name": "python",
   "nbconvert_exporter": "python",
   "pygments_lexer": "ipython3",
   "version": "3.8.2"
  }
 },
 "nbformat": 4,
 "nbformat_minor": 4
}
