{
 "cells": [
  {
   "cell_type": "code",
   "execution_count": 1,
   "metadata": {},
   "outputs": [],
   "source": [
    "#Import\n",
    "import pandas as pd\n",
    "import numpy as np\n",
    "import matplotlib.pyplot as plt\n",
    "import os"
   ]
  },
  {
   "cell_type": "markdown",
   "metadata": {},
   "source": [
    "## Download the data tables"
   ]
  },
  {
   "cell_type": "code",
   "execution_count": 218,
   "metadata": {},
   "outputs": [],
   "source": [
    "documents = pd.read_excel('data/documents.xlsx')\n",
    "people_db = pd.read_excel('data/people.xlsx')\n",
    "organisations_db = pd.read_excel('data/organisations.xlsx')\n",
    "funders_db = pd.read_excel('data/funders.xlsx')"
   ]
  },
  {
   "cell_type": "code",
   "execution_count": 219,
   "metadata": {},
   "outputs": [],
   "source": [
    "#delete old columns\n",
    "#I think these columns were hidden in the excel file instead of being deleted. This is why they appear here although \n",
    "#we dont use them anymore\n",
    "del documents[\"Country (of institute / organization)\"]\n",
    "del documents[\"Founders / Directors\"]\n",
    "del documents[\"Founders / Director affliliations (frequency between parentheses)\"]\n",
    "del documents['Suporters/funders']"
   ]
  },
  {
   "cell_type": "code",
   "execution_count": 220,
   "metadata": {},
   "outputs": [],
   "source": [
    "#problem in the column (indexing issues that cause this column of numbers to appear). delete\n",
    "del funders_db['Unnamed: 2']\n",
    "del documents['Unnamed: 0']"
   ]
  },
  {
   "cell_type": "markdown",
   "metadata": {},
   "source": [
    "## Helper Methods"
   ]
  },
  {
   "cell_type": "code",
   "execution_count": 221,
   "metadata": {},
   "outputs": [],
   "source": [
    "#given a dataframe and a certain column, delete all white spacees from the end of the words\n",
    "def delete_whitespace_from_column(db, col_name):\n",
    "    for index, row in db.iterrows():\n",
    "        #to ensure that empty cells are not processed\n",
    "        if type(row[col_name]).__name__ == 'str':\n",
    "            db.at[index,col_name] = row[col_name].rstrip()\n",
    "    return db"
   ]
  },
  {
   "cell_type": "code",
   "execution_count": 222,
   "metadata": {},
   "outputs": [],
   "source": [
    "#given a lsit of words, delete all whitespaces from the end of the words\n",
    "def delete_whitespace_from_list(the_list):\n",
    "    new_list=list()\n",
    "    for item in the_list:\n",
    "        item = item.rstrip()\n",
    "        new_list.append(item)\n",
    "    return new_list"
   ]
  },
  {
   "cell_type": "code",
   "execution_count": 223,
   "metadata": {},
   "outputs": [],
   "source": [
    "#given a dataframe and a column name, put all words to lowercase\n",
    "def put_col_to_lowercase(db, col_name):\n",
    "    for index, row in db.iterrows():\n",
    "        #to ensure that empty cells are not processed\n",
    "        if type(row[col_name]).__name__ == 'str':\n",
    "            db.at[index,col_name] = row[col_name].lower()\n",
    "    return db"
   ]
  },
  {
   "cell_type": "markdown",
   "metadata": {},
   "source": [
    "## Makes the column names nicer"
   ]
  },
  {
   "cell_type": "code",
   "execution_count": 224,
   "metadata": {},
   "outputs": [
    {
     "data": {
      "text/plain": [
       "Index(['File name (Rx)', 'Original Title', 'Institute / Organization', 'Year',\n",
       "       'Authors (list)',\n",
       "       'Document funding sources (if applicable) + these should also be inc. in Funders table',\n",
       "       'URL', 'Citation'],\n",
       "      dtype='object')"
      ]
     },
     "execution_count": 224,
     "metadata": {},
     "output_type": "execute_result"
    }
   ],
   "source": [
    "documents.columns"
   ]
  },
  {
   "cell_type": "code",
   "execution_count": 225,
   "metadata": {},
   "outputs": [],
   "source": [
    "documents.columns = ['File name (Rx)', \n",
    "                     'Original Title',\n",
    "                     'Organization', \n",
    "                     'Year', \n",
    "                     'Authors',\n",
    "                     'Document funding sources', \n",
    "                     'URL',\n",
    "                     'Citation']"
   ]
  },
  {
   "cell_type": "code",
   "execution_count": 226,
   "metadata": {},
   "outputs": [
    {
     "data": {
      "text/plain": [
       "Index(['Person name', 'Author (0 = no, 1 = yes)', 'Founder (0 = no, 1 = yes)',\n",
       "       'Current affiliation (list)',\n",
       "       'Past affiliation (if applicable) (list)'],\n",
       "      dtype='object')"
      ]
     },
     "execution_count": 226,
     "metadata": {},
     "output_type": "execute_result"
    }
   ],
   "source": [
    "people_db.columns"
   ]
  },
  {
   "cell_type": "code",
   "execution_count": 227,
   "metadata": {},
   "outputs": [],
   "source": [
    "people_db.columns = ['name', 'author_bool', 'founder_bool', 'current_affiliation', 'past_affiliation']"
   ]
  },
  {
   "cell_type": "code",
   "execution_count": 228,
   "metadata": {},
   "outputs": [
    {
     "data": {
      "text/plain": [
       "Index(['Funder Name', 'Funder category'], dtype='object')"
      ]
     },
     "execution_count": 228,
     "metadata": {},
     "output_type": "execute_result"
    }
   ],
   "source": [
    "funders_db.columns"
   ]
  },
  {
   "cell_type": "code",
   "execution_count": 229,
   "metadata": {},
   "outputs": [],
   "source": [
    "funders_db.columns = ['name','category']"
   ]
  },
  {
   "cell_type": "code",
   "execution_count": 230,
   "metadata": {},
   "outputs": [
    {
     "data": {
      "text/plain": [
       "Index(['Insitute/Organisation name ', 'Organisation category (list)',\n",
       "       'Country ', 'Funders/Suporters (list)',\n",
       "       'Founders (list) (if applicable)'],\n",
       "      dtype='object')"
      ]
     },
     "execution_count": 230,
     "metadata": {},
     "output_type": "execute_result"
    }
   ],
   "source": [
    "organisations_db.columns"
   ]
  },
  {
   "cell_type": "code",
   "execution_count": 231,
   "metadata": {},
   "outputs": [],
   "source": [
    "organisations_db.columns = ['name', 'category','country','funder','fouder']"
   ]
  },
  {
   "cell_type": "markdown",
   "metadata": {},
   "source": [
    "## Delete the whitespaces in the necessary columns"
   ]
  },
  {
   "cell_type": "code",
   "execution_count": 232,
   "metadata": {},
   "outputs": [],
   "source": [
    "people_db = delete_whitespace_from_column(people_db, 'name')\n",
    "organisations_db = delete_whitespace_from_column(organisations_db, 'name')\n",
    "funders_db = delete_whitespace_from_column(funders_db, 'name')"
   ]
  },
  {
   "cell_type": "markdown",
   "metadata": {},
   "source": [
    "## Visualize the tables, and analyze their shape"
   ]
  },
  {
   "cell_type": "code",
   "execution_count": 233,
   "metadata": {},
   "outputs": [
    {
     "name": "stdout",
     "output_type": "stream",
     "text": [
      "(113, 8)\n"
     ]
    }
   ],
   "source": [
    "print(documents.shape)"
   ]
  },
  {
   "cell_type": "code",
   "execution_count": 234,
   "metadata": {},
   "outputs": [
    {
     "data": {
      "text/html": [
       "<div>\n",
       "<style scoped>\n",
       "    .dataframe tbody tr th:only-of-type {\n",
       "        vertical-align: middle;\n",
       "    }\n",
       "\n",
       "    .dataframe tbody tr th {\n",
       "        vertical-align: top;\n",
       "    }\n",
       "\n",
       "    .dataframe thead th {\n",
       "        text-align: right;\n",
       "    }\n",
       "</style>\n",
       "<table border=\"1\" class=\"dataframe\">\n",
       "  <thead>\n",
       "    <tr style=\"text-align: right;\">\n",
       "      <th></th>\n",
       "      <th>File name (Rx)</th>\n",
       "      <th>Original Title</th>\n",
       "      <th>Organization</th>\n",
       "      <th>Year</th>\n",
       "      <th>Authors</th>\n",
       "      <th>Document funding sources</th>\n",
       "      <th>URL</th>\n",
       "      <th>Citation</th>\n",
       "    </tr>\n",
       "  </thead>\n",
       "  <tbody>\n",
       "    <tr>\n",
       "      <th>0</th>\n",
       "      <td>R1</td>\n",
       "      <td>AI Now 2019 Report</td>\n",
       "      <td>AI Now Institute</td>\n",
       "      <td>2019</td>\n",
       "      <td>Kate Crawford, Roel Dobbe, Theodora Dryer, Gen...</td>\n",
       "      <td>NaN</td>\n",
       "      <td>https://ainowinstitute.org/AI_Now_2019_Report.pdf</td>\n",
       "      <td>Crawford, Kate, Roel Dobbe, Theodora Dryer, Ge...</td>\n",
       "    </tr>\n",
       "    <tr>\n",
       "      <th>1</th>\n",
       "      <td>R2</td>\n",
       "      <td>Ethics Guidelines for Trustoworthy AI</td>\n",
       "      <td>High-Level Expert Group on Artificial Intellig...</td>\n",
       "      <td>2019</td>\n",
       "      <td>Pekka Ala-Pietilä,  AI Finland, Huhtamaki, San...</td>\n",
       "      <td>European Commission</td>\n",
       "      <td>https://ec.europa.eu/digital-single-market/en/...</td>\n",
       "      <td>NaN</td>\n",
       "    </tr>\n",
       "    <tr>\n",
       "      <th>2</th>\n",
       "      <td>R3</td>\n",
       "      <td>Understanding Artificial Intelligence Ethics a...</td>\n",
       "      <td>The Alan Turing Institute</td>\n",
       "      <td>2019</td>\n",
       "      <td>David Leslie</td>\n",
       "      <td>Engineering and Physical Sciences Research Cou...</td>\n",
       "      <td>https://www.turing.ac.uk/sites/default/files/2...</td>\n",
       "      <td>Leslie, D. (2019). Understanding artificial in...</td>\n",
       "    </tr>\n",
       "    <tr>\n",
       "      <th>3</th>\n",
       "      <td>R4</td>\n",
       "      <td>Artificial Intelligence: the global landscape ...</td>\n",
       "      <td>Health Ethics &amp; Policy Law</td>\n",
       "      <td>2019</td>\n",
       "      <td>Anna Jobin, Marcello Ienca , Effy Vayena</td>\n",
       "      <td>NaN</td>\n",
       "      <td>https://arxiv.org/pdf/1906.11668.pdf</td>\n",
       "      <td>NaN</td>\n",
       "    </tr>\n",
       "    <tr>\n",
       "      <th>4</th>\n",
       "      <td>R2</td>\n",
       "      <td>Draft AI R&amp;D Guidelines for International Disc...</td>\n",
       "      <td>Institute for Information and Communications P...</td>\n",
       "      <td>2017</td>\n",
       "      <td>Not disclosed</td>\n",
       "      <td>NaN</td>\n",
       "      <td>https://www.soumu.go.jp/main_content/000507517...</td>\n",
       "      <td>The Conference toward AI Network Society. Draf...</td>\n",
       "    </tr>\n",
       "  </tbody>\n",
       "</table>\n",
       "</div>"
      ],
      "text/plain": [
       "  File name (Rx)                                     Original Title  \\\n",
       "0             R1                                 AI Now 2019 Report   \n",
       "1             R2              Ethics Guidelines for Trustoworthy AI   \n",
       "2             R3  Understanding Artificial Intelligence Ethics a...   \n",
       "3             R4  Artificial Intelligence: the global landscape ...   \n",
       "4             R2  Draft AI R&D Guidelines for International Disc...   \n",
       "\n",
       "                                        Organization  Year  \\\n",
       "0                                   AI Now Institute  2019   \n",
       "1  High-Level Expert Group on Artificial Intellig...  2019   \n",
       "2                          The Alan Turing Institute  2019   \n",
       "3                         Health Ethics & Policy Law  2019   \n",
       "4  Institute for Information and Communications P...  2017   \n",
       "\n",
       "                                             Authors  \\\n",
       "0  Kate Crawford, Roel Dobbe, Theodora Dryer, Gen...   \n",
       "1  Pekka Ala-Pietilä,  AI Finland, Huhtamaki, San...   \n",
       "2                                       David Leslie   \n",
       "3           Anna Jobin, Marcello Ienca , Effy Vayena   \n",
       "4                                      Not disclosed   \n",
       "\n",
       "                            Document funding sources  \\\n",
       "0                                                NaN   \n",
       "1                                European Commission   \n",
       "2  Engineering and Physical Sciences Research Cou...   \n",
       "3                                                NaN   \n",
       "4                                                NaN   \n",
       "\n",
       "                                                 URL  \\\n",
       "0  https://ainowinstitute.org/AI_Now_2019_Report.pdf   \n",
       "1  https://ec.europa.eu/digital-single-market/en/...   \n",
       "2  https://www.turing.ac.uk/sites/default/files/2...   \n",
       "3              https://arxiv.org/pdf/1906.11668.pdf    \n",
       "4  https://www.soumu.go.jp/main_content/000507517...   \n",
       "\n",
       "                                            Citation  \n",
       "0  Crawford, Kate, Roel Dobbe, Theodora Dryer, Ge...  \n",
       "1                                                NaN  \n",
       "2  Leslie, D. (2019). Understanding artificial in...  \n",
       "3                                                NaN  \n",
       "4  The Conference toward AI Network Society. Draf...  "
      ]
     },
     "execution_count": 234,
     "metadata": {},
     "output_type": "execute_result"
    }
   ],
   "source": [
    "documents.head()"
   ]
  },
  {
   "cell_type": "code",
   "execution_count": 235,
   "metadata": {},
   "outputs": [
    {
     "name": "stdout",
     "output_type": "stream",
     "text": [
      "(296, 5)\n"
     ]
    }
   ],
   "source": [
    "print(organisations_db.shape)"
   ]
  },
  {
   "cell_type": "code",
   "execution_count": 236,
   "metadata": {},
   "outputs": [
    {
     "data": {
      "text/html": [
       "<div>\n",
       "<style scoped>\n",
       "    .dataframe tbody tr th:only-of-type {\n",
       "        vertical-align: middle;\n",
       "    }\n",
       "\n",
       "    .dataframe tbody tr th {\n",
       "        vertical-align: top;\n",
       "    }\n",
       "\n",
       "    .dataframe thead th {\n",
       "        text-align: right;\n",
       "    }\n",
       "</style>\n",
       "<table border=\"1\" class=\"dataframe\">\n",
       "  <thead>\n",
       "    <tr style=\"text-align: right;\">\n",
       "      <th></th>\n",
       "      <th>name</th>\n",
       "      <th>category</th>\n",
       "      <th>country</th>\n",
       "      <th>funder</th>\n",
       "      <th>fouder</th>\n",
       "    </tr>\n",
       "  </thead>\n",
       "  <tbody>\n",
       "    <tr>\n",
       "      <th>0</th>\n",
       "      <td>Information Commissioner's Office (ICO)</td>\n",
       "      <td>governmental agency</td>\n",
       "      <td>UK</td>\n",
       "      <td>Data Protection fees, grant-in aid</td>\n",
       "      <td>United Kingdom</td>\n",
       "    </tr>\n",
       "    <tr>\n",
       "      <th>1</th>\n",
       "      <td>Unesco</td>\n",
       "      <td>IGO</td>\n",
       "      <td>international</td>\n",
       "      <td>NaN</td>\n",
       "      <td>NaN</td>\n",
       "    </tr>\n",
       "    <tr>\n",
       "      <th>2</th>\n",
       "      <td>Microsoft</td>\n",
       "      <td>corporation</td>\n",
       "      <td>USA</td>\n",
       "      <td>NaN</td>\n",
       "      <td>NaN</td>\n",
       "    </tr>\n",
       "    <tr>\n",
       "      <th>3</th>\n",
       "      <td>Rathenau Instituut</td>\n",
       "      <td>Academic and research institute</td>\n",
       "      <td>Netherlands</td>\n",
       "      <td>Royal Netherlands Academy of Arts and Sciences</td>\n",
       "      <td>NaN</td>\n",
       "    </tr>\n",
       "    <tr>\n",
       "      <th>4</th>\n",
       "      <td>European Commission</td>\n",
       "      <td>IGO</td>\n",
       "      <td>EU</td>\n",
       "      <td>NaN</td>\n",
       "      <td>NaN</td>\n",
       "    </tr>\n",
       "  </tbody>\n",
       "</table>\n",
       "</div>"
      ],
      "text/plain": [
       "                                      name                          category  \\\n",
       "0  Information Commissioner's Office (ICO)               governmental agency   \n",
       "1                                   Unesco                               IGO   \n",
       "2                                Microsoft                       corporation   \n",
       "3                       Rathenau Instituut  Academic and research institute    \n",
       "4                      European Commission                               IGO   \n",
       "\n",
       "         country                                          funder  \\\n",
       "0             UK              Data Protection fees, grant-in aid   \n",
       "1  international                                             NaN   \n",
       "2            USA                                             NaN   \n",
       "3    Netherlands  Royal Netherlands Academy of Arts and Sciences   \n",
       "4             EU                                             NaN   \n",
       "\n",
       "            fouder  \n",
       "0  United Kingdom   \n",
       "1              NaN  \n",
       "2              NaN  \n",
       "3              NaN  \n",
       "4              NaN  "
      ]
     },
     "execution_count": 236,
     "metadata": {},
     "output_type": "execute_result"
    }
   ],
   "source": [
    "organisations_db.head()"
   ]
  },
  {
   "cell_type": "code",
   "execution_count": 237,
   "metadata": {},
   "outputs": [
    {
     "name": "stdout",
     "output_type": "stream",
     "text": [
      "(233, 2)\n"
     ]
    }
   ],
   "source": [
    "print(funders_db.shape)"
   ]
  },
  {
   "cell_type": "code",
   "execution_count": 238,
   "metadata": {},
   "outputs": [
    {
     "data": {
      "text/html": [
       "<div>\n",
       "<style scoped>\n",
       "    .dataframe tbody tr th:only-of-type {\n",
       "        vertical-align: middle;\n",
       "    }\n",
       "\n",
       "    .dataframe tbody tr th {\n",
       "        vertical-align: top;\n",
       "    }\n",
       "\n",
       "    .dataframe thead th {\n",
       "        text-align: right;\n",
       "    }\n",
       "</style>\n",
       "<table border=\"1\" class=\"dataframe\">\n",
       "  <thead>\n",
       "    <tr style=\"text-align: right;\">\n",
       "      <th></th>\n",
       "      <th>name</th>\n",
       "      <th>category</th>\n",
       "    </tr>\n",
       "  </thead>\n",
       "  <tbody>\n",
       "    <tr>\n",
       "      <th>0</th>\n",
       "      <td>Luminate</td>\n",
       "      <td>company</td>\n",
       "    </tr>\n",
       "    <tr>\n",
       "      <th>1</th>\n",
       "      <td>MacArthur Foundation</td>\n",
       "      <td>private foundation</td>\n",
       "    </tr>\n",
       "    <tr>\n",
       "      <th>2</th>\n",
       "      <td>Microsoft</td>\n",
       "      <td>company</td>\n",
       "    </tr>\n",
       "    <tr>\n",
       "      <th>3</th>\n",
       "      <td>Google</td>\n",
       "      <td>company</td>\n",
       "    </tr>\n",
       "    <tr>\n",
       "      <th>4</th>\n",
       "      <td>DeepMind</td>\n",
       "      <td>company</td>\n",
       "    </tr>\n",
       "  </tbody>\n",
       "</table>\n",
       "</div>"
      ],
      "text/plain": [
       "                   name            category\n",
       "0              Luminate             company\n",
       "1  MacArthur Foundation  private foundation\n",
       "2             Microsoft             company\n",
       "3                Google             company\n",
       "4              DeepMind             company"
      ]
     },
     "execution_count": 238,
     "metadata": {},
     "output_type": "execute_result"
    }
   ],
   "source": [
    "funders_db.head()"
   ]
  },
  {
   "cell_type": "code",
   "execution_count": 239,
   "metadata": {},
   "outputs": [
    {
     "data": {
      "text/plain": [
       "(374, 5)"
      ]
     },
     "execution_count": 239,
     "metadata": {},
     "output_type": "execute_result"
    }
   ],
   "source": [
    "people_db.shape"
   ]
  },
  {
   "cell_type": "code",
   "execution_count": 240,
   "metadata": {},
   "outputs": [
    {
     "data": {
      "text/html": [
       "<div>\n",
       "<style scoped>\n",
       "    .dataframe tbody tr th:only-of-type {\n",
       "        vertical-align: middle;\n",
       "    }\n",
       "\n",
       "    .dataframe tbody tr th {\n",
       "        vertical-align: top;\n",
       "    }\n",
       "\n",
       "    .dataframe thead th {\n",
       "        text-align: right;\n",
       "    }\n",
       "</style>\n",
       "<table border=\"1\" class=\"dataframe\">\n",
       "  <thead>\n",
       "    <tr style=\"text-align: right;\">\n",
       "      <th></th>\n",
       "      <th>name</th>\n",
       "      <th>author_bool</th>\n",
       "      <th>founder_bool</th>\n",
       "      <th>current_affiliation</th>\n",
       "      <th>past_affiliation</th>\n",
       "    </tr>\n",
       "  </thead>\n",
       "  <tbody>\n",
       "    <tr>\n",
       "      <th>0</th>\n",
       "      <td>Theodora Dryer</td>\n",
       "      <td>1</td>\n",
       "      <td>0</td>\n",
       "      <td>AI Now Institute, New York University</td>\n",
       "      <td>University of California</td>\n",
       "    </tr>\n",
       "    <tr>\n",
       "      <th>1</th>\n",
       "      <td>Ben Green</td>\n",
       "      <td>1</td>\n",
       "      <td>0</td>\n",
       "      <td>AI Now Institute, New York University</td>\n",
       "      <td>Berkman Klein Center</td>\n",
       "    </tr>\n",
       "    <tr>\n",
       "      <th>2</th>\n",
       "      <td>Amba Kak</td>\n",
       "      <td>1</td>\n",
       "      <td>0</td>\n",
       "      <td>AI Now Institute, New York University</td>\n",
       "      <td>Mozilla</td>\n",
       "    </tr>\n",
       "    <tr>\n",
       "      <th>3</th>\n",
       "      <td>Varoon Mathur</td>\n",
       "      <td>1</td>\n",
       "      <td>0</td>\n",
       "      <td>AI Now Institute, New York University</td>\n",
       "      <td>NaN</td>\n",
       "    </tr>\n",
       "    <tr>\n",
       "      <th>4</th>\n",
       "      <td>Erin McElroy</td>\n",
       "      <td>1</td>\n",
       "      <td>0</td>\n",
       "      <td>AI Now Institute, New York University</td>\n",
       "      <td>University of California Santa Cruz</td>\n",
       "    </tr>\n",
       "  </tbody>\n",
       "</table>\n",
       "</div>"
      ],
      "text/plain": [
       "             name  author_bool  founder_bool  \\\n",
       "0  Theodora Dryer            1             0   \n",
       "1       Ben Green            1             0   \n",
       "2        Amba Kak            1             0   \n",
       "3   Varoon Mathur            1             0   \n",
       "4    Erin McElroy            1             0   \n",
       "\n",
       "                     current_affiliation                     past_affiliation  \n",
       "0  AI Now Institute, New York University             University of California  \n",
       "1  AI Now Institute, New York University                 Berkman Klein Center  \n",
       "2  AI Now Institute, New York University                              Mozilla  \n",
       "3  AI Now Institute, New York University                                  NaN  \n",
       "4  AI Now Institute, New York University  University of California Santa Cruz  "
      ]
     },
     "execution_count": 240,
     "metadata": {},
     "output_type": "execute_result"
    }
   ],
   "source": [
    "people_db.head()"
   ]
  },
  {
   "cell_type": "markdown",
   "metadata": {},
   "source": [
    "## Check if the links between the tables are working properly"
   ]
  },
  {
   "cell_type": "markdown",
   "metadata": {},
   "source": [
    "## Document_author -> people"
   ]
  },
  {
   "cell_type": "code",
   "execution_count": 328,
   "metadata": {},
   "outputs": [],
   "source": [
    "#choose the rows that have authors (ie. where 'Not disclosed' is not in there)\n",
    "documents_with_authors = documents[documents['Authors'].str.contains(\"disclosed\", na=True) == False]"
   ]
  },
  {
   "cell_type": "code",
   "execution_count": 242,
   "metadata": {},
   "outputs": [
    {
     "name": "stdout",
     "output_type": "stream",
     "text": [
      "found: 370\n",
      "missing: 13\n"
     ]
    }
   ],
   "source": [
    "missing_authors = pd.DataFrame(columns=['doc_name', 'missing_author'])\n",
    "\n",
    "#this code gets the list of authors from the document table, and we can see later if they all match the names in the people table\n",
    "full_author_list_from_doc = list()\n",
    "missing=0\n",
    "found=0\n",
    "for index, document in documents_with_authors.iterrows():\n",
    "    #print(index)\n",
    "    authors_list = document.Authors\n",
    "    #print(authors_list)\n",
    "    #separate the authors by comma\n",
    "    authors = authors_list.split(',')\n",
    "    authors = [author.strip() for author in authors]\n",
    "    \n",
    "    if index != 1:\n",
    "        for author in authors:\n",
    "            author = author.rstrip()\n",
    "            #print(author)\n",
    "            if author not in people_db[\"name\"].values:\n",
    "                missing= missing+1\n",
    "                missing_authors = missing_authors.append({'doc_name':document['Original Title'], 'missing_author':author}, ignore_index=True)\n",
    "            else:\n",
    "                found = found+1\n",
    "   \n",
    "        full_author_list_from_doc.extend(authors)\n",
    "\n",
    "\n",
    "print('found: '+str(found))\n",
    "print('missing: '+str(missing))"
   ]
  },
  {
   "cell_type": "markdown",
   "metadata": {},
   "source": [
    "### Missing authors (authors whose name is in the document table but not in the People table)\n",
    "#### They all refer to 'groups of people' "
   ]
  },
  {
   "cell_type": "code",
   "execution_count": 243,
   "metadata": {},
   "outputs": [
    {
     "name": "stdout",
     "output_type": "stream",
     "text": [
      "doc_name                        Report of COMEST on robotics ethics\n",
      "missing_author    Corporate author: World Commission on the Ethi...\n",
      "Name: 0, dtype: object\n",
      "doc_name                                           AI- Our approach\n",
      "missing_author    AI Ethics and Effects in Engineering and Resea...\n",
      "Name: 1, dtype: object\n",
      "doc_name          Statement on Artificial Intelligence, Robotics...\n",
      "missing_author    European Group on Ethics in Science and New Te...\n",
      "Name: 2, dtype: object\n",
      "doc_name          Privacy and Freedom of Expression In the Age o...\n",
      "missing_author                                Privacy International\n",
      "Name: 3, dtype: object\n",
      "doc_name          Privacy and Freedom of Expression In the Age o...\n",
      "missing_author                                           Article 19\n",
      "Name: 4, dtype: object\n",
      "doc_name          Position on Robotics and Artificial Intelligence\n",
      "missing_author                        Green Working Group Robotics\n",
      "Name: 5, dtype: object\n",
      "doc_name          Declaration on ethics and data protection in A...\n",
      "missing_author    Commission Nationale de l’Informatique et des ...\n",
      "Name: 6, dtype: object\n",
      "doc_name          Declaration on ethics and data protection in A...\n",
      "missing_author    European Data Protection Supervisor (EDPS) Eur...\n",
      "Name: 7, dtype: object\n",
      "doc_name          Declaration on ethics and data protection in A...\n",
      "missing_author    Garante per la protezione dei dati personali I...\n",
      "Name: 8, dtype: object\n",
      "doc_name          Responsible bots: 10 guidelines for devel- ope...\n",
      "missing_author                                Microsoft Corporation\n",
      "Name: 9, dtype: object\n",
      "doc_name          Applied AI Ethics: Report 2019\n",
      "missing_author                      Anat Elhalal\n",
      "Name: 10, dtype: object\n",
      "doc_name          From Principles to Practice An interdisciplina...\n",
      "missing_author                                        Carla Hustedt\n",
      "Name: 11, dtype: object\n",
      "doc_name          Artificial Intelligence Final Report\n",
      "missing_author                              Mark Combs\n",
      "Name: 12, dtype: object\n"
     ]
    }
   ],
   "source": [
    "for idx, row in missing_authors.iterrows():\n",
    "    print(row)"
   ]
  },
  {
   "cell_type": "code",
   "execution_count": 244,
   "metadata": {},
   "outputs": [],
   "source": [
    "#missing_authors.to_csv('/users/marion1meyers/documents/missing_authors,csv', index=False)\n",
    "#missing_authors.to_excel('/users/marion1meyers/documents/missing_authors.xlsx') \n",
    "#missing_authors.shape"
   ]
  },
  {
   "cell_type": "code",
   "execution_count": 245,
   "metadata": {},
   "outputs": [],
   "source": [
    "#people_not_na= people_db[people_db['name'].notna()]\n",
    "#names = people_not_na[\"name\"]\n",
    "#names = np.sort(names)\n"
   ]
  },
  {
   "cell_type": "markdown",
   "metadata": {},
   "source": [
    "## Document_organization -> Organizations"
   ]
  },
  {
   "cell_type": "code",
   "execution_count": 246,
   "metadata": {},
   "outputs": [
    {
     "name": "stdout",
     "output_type": "stream",
     "text": [
      "found: 133\n",
      "missing: 1\n"
     ]
    }
   ],
   "source": [
    "#this code gets the list of authors from the document table, and we can see later if they all match the names in the people table\n",
    "missing_organisations = pd.DataFrame(columns=['doc_name', 'missing_organisation'])\n",
    "full_org_list_from_doc = list()\n",
    "missing=0\n",
    "found=0\n",
    "for index, document in documents.iterrows():\n",
    "    #print(index)\n",
    "    org_list = document.Organization\n",
    "    #separate the authors by comma\n",
    "    orgs = org_list.split(',')\n",
    "    orgs = [org.strip() for org in orgs]\n",
    "    \n",
    "    for org in orgs:\n",
    "        org = org.rstrip()\n",
    "        if org not in organisations_db['name'].values:\n",
    "            #print(org)\n",
    "            missing=missing+1\n",
    "            missing_organisations = missing_organisations.append({'doc_name':document['Original Title'], 'missing_organisation':org}, ignore_index=True)\n",
    "        else:\n",
    "            #print(org)\n",
    "            found = found +1\n",
    "        \n",
    "    #[x.strip() for x in my_string.split(',')]\n",
    "    #if index != 1:\n",
    "    full_org_list_from_doc.extend(orgs)\n",
    "print('found: '+str(found))\n",
    "print('missing: '+str(missing))"
   ]
  },
  {
   "cell_type": "code",
   "execution_count": 247,
   "metadata": {},
   "outputs": [],
   "source": [
    "#missing_organisations.shape\n",
    "#missing_organisations.to_excel(\"/users/marion1meyers/documents/missing_organisations.xlsx\", index=False)"
   ]
  },
  {
   "cell_type": "code",
   "execution_count": 248,
   "metadata": {},
   "outputs": [
    {
     "name": "stdout",
     "output_type": "stream",
     "text": [
      "Global Future Council on Human Rights 2016-2018\n"
     ]
    }
   ],
   "source": [
    "for i, org in missing_organisations.iterrows():\n",
    "    print(org['missing_organisation'])"
   ]
  },
  {
   "cell_type": "markdown",
   "metadata": {},
   "source": [
    "## Document_funding_source -> Funders"
   ]
  },
  {
   "cell_type": "code",
   "execution_count": 249,
   "metadata": {},
   "outputs": [
    {
     "name": "stdout",
     "output_type": "stream",
     "text": [
      "missing : 10\n",
      "found : 171\n"
     ]
    }
   ],
   "source": [
    "doc_with_funder = documents[documents['Document funding sources'].notna()]\n",
    "\n",
    "\n",
    "#this code gets the list of funders from the document table, and we can see later if they all match the names in the funders table\n",
    "missing_funders = pd.DataFrame(columns=['doc_name','missing_funder'])\n",
    "\n",
    "\n",
    "full_funders_list_from_doc = list()\n",
    "missing = 0 \n",
    "found = 0 \n",
    "for index, document in doc_with_funder.iterrows():\n",
    "    #print(index)\n",
    "    funder_list = document['Document funding sources']\n",
    "    #separate the authors by comma\n",
    "    funders = funder_list.split(',')\n",
    "    funders = [funder.strip() for funder in funders]\n",
    "    \n",
    "    for funder in funders:\n",
    "        funder = funder.rstrip()\n",
    "        if funder not in funders_db['name'].values:\n",
    "            #print('missing : '+str(funder))\n",
    "            missing = missing +1 \n",
    "            missing_funders = missing_funders.append({'doc_name':document['Original Title'],'missing_funder':funder}, ignore_index=True)\n",
    "        else:\n",
    "            found = found+1\n",
    "            #print('found: '+str(funder))\n",
    "        \n",
    "\n",
    "    full_funders_list_from_doc.extend(funders)\n",
    "print('missing : '+str(missing))\n",
    "print('found : '+str(found))"
   ]
  },
  {
   "cell_type": "code",
   "execution_count": 268,
   "metadata": {},
   "outputs": [
    {
     "data": {
      "text/plain": [
       "(39, 8)"
      ]
     },
     "execution_count": 268,
     "metadata": {},
     "output_type": "execute_result"
    }
   ],
   "source": [
    "doc_with_funder.shape"
   ]
  },
  {
   "cell_type": "code",
   "execution_count": 251,
   "metadata": {},
   "outputs": [],
   "source": [
    "#missing_funders.to_excel(\"/users/marion1meyers/documents/missing_funders_from_doc.xlsx\", index=False)"
   ]
  },
  {
   "cell_type": "code",
   "execution_count": 252,
   "metadata": {},
   "outputs": [
    {
     "name": "stdout",
     "output_type": "stream",
     "text": [
      "Members related tot document: Artificial Intelligence Ethics, governance and policy challenges Report of a CEPS Task Force\n",
      "Event Fees related tot document: Artificial Intelligence Ethics, governance and policy challenges Report of a CEPS Task Force\n",
      "Foundations related tot document: Artificial Intelligence Ethics, governance and policy challenges Report of a CEPS Task Force\n",
      "National Governments related tot document: Artificial Intelligence Ethics, governance and policy challenges Report of a CEPS Task Force\n",
      "EU Agencies and Private Organizations related tot document: Artificial Intelligence Ethics, governance and policy challenges Report of a CEPS Task Force\n",
      "Stockholms stad and IB related tot document: Relevance of Ethical Guidelines for Artificial Intelligence – A Survey and Evaluation\n",
      "self funded related tot document: AI- Our approach\n",
      "grant agreement no. EP/N023013/1 related tot document: AI4People—An Ethical Framework for a Good AI Society:\n",
      "Opportunities, Risks, Principles, and Recommendations\n",
      "2018-2019 Direct Grant for Research “Governing the Future: How are MajorJurisdictions Tackling the Issue of Artificial Intelligence Law and Ethics?” related tot document: Artificial Intelligence, Governance and Ethics: Global Perspectives\n",
      "Bertelsmann Stiftung related tot document: From Principles to Practice An interdisciplinary framework to operationalise AI ethics\n"
     ]
    }
   ],
   "source": [
    "for i,funder in missing_funders.iterrows():\n",
    "    print(str(funder['missing_funder'])+\" related tot document: \"+str(funder['doc_name']))"
   ]
  },
  {
   "cell_type": "markdown",
   "metadata": {},
   "source": [
    "Notes : \n",
    "The Document \"Artificial Intelligence Ethics, governance and policy challenges Report of a CEPS Task Force\" seems to be hidden in the excel sheet. I think this is probably an old document?"
   ]
  },
  {
   "cell_type": "markdown",
   "metadata": {},
   "source": [
    "## Author_affiliation -> Organizations"
   ]
  },
  {
   "cell_type": "markdown",
   "metadata": {},
   "source": [
    "### Current Affiliations"
   ]
  },
  {
   "cell_type": "code",
   "execution_count": 253,
   "metadata": {},
   "outputs": [
    {
     "name": "stdout",
     "output_type": "stream",
     "text": [
      "(359, 5)\n",
      "missing: 102\n",
      "found: 325\n"
     ]
    }
   ],
   "source": [
    "people_with_current_aff = people_db[people_db['current_affiliation'].notna()]\n",
    "print(people_with_current_aff.shape)\n",
    "\n",
    "#this code gets the list of organizations from the authors table, and we can see later if they all match the names in the organizations table\n",
    "missing_org_from_affiliation = pd.DataFrame(columns=['author','corresponding_doc', 'missing_org'])\n",
    "full_org_list_from_people = list()\n",
    "missing=0\n",
    "found=0\n",
    "for index, person in people_with_current_aff.iterrows():\n",
    "    #print(index)\n",
    "    org_list = person['current_affiliation']\n",
    "    orgs = org_list.split(',')\n",
    "    orgs = [org.strip() for org in orgs]\n",
    "    #print(person['name'])\n",
    "    for org in orgs:\n",
    "        \n",
    "        org = org.rstrip()\n",
    "        if org not in organisations_db['name'].values:\n",
    "            \n",
    "            #find the name of the corresponding document\n",
    "            #print(org)\n",
    "            missing=missing+1\n",
    "            #check if the person is an author. if it is not, we will not be able to link it to a document, as this person\n",
    "            #is the a founder. \n",
    "            \n",
    "            #i had to manually discard 2 other names because for some reason, they are not in the documents authors columns...\n",
    "            #possible guess: they were added as author at some point in the research but the document has \n",
    "            #now been discarded?\n",
    "            if person['author_bool']==1 and type(person['name']).__name__=='str' and person['name']!= 'Lynne Parker' and person['name']!= 'Jason Matheny' and type(person['name']).__name__=='str':\n",
    "                #print(org)\n",
    "                \n",
    "                \n",
    "                doc_indexes = documents_with_authors.index[documents_with_authors['Authors'].str.contains(person['name'])].tolist()\n",
    "\n",
    "                #.str.contains('ville',case=False)\n",
    "\n",
    "                corr_doc = documents.loc[doc_indexes[0]]\n",
    "\n",
    "                missing_org_from_affiliation = missing_org_from_affiliation.append({'author':person['name'],'corresponding_doc':corr_doc['Original Title'],'missing_org':org}, ignore_index=True)\n",
    "        else:\n",
    "            found = found+1\n",
    "    #[x.strip() for x in my_string.split(',')]\n",
    "    #if index != 1:\n",
    "    full_org_list_from_people.extend(orgs)\n",
    "print('missing: '+str(missing))\n",
    "print('found: '+str(found))\n",
    "\n",
    "#missing_org_from_affiliation.shape\n",
    "#missing_org_from_affiliation.to_excel(\"/users/marion1meyers/documents/missing_org_from_aff.xlsx\", index=False)"
   ]
  },
  {
   "cell_type": "code",
   "execution_count": 254,
   "metadata": {},
   "outputs": [
    {
     "name": "stdout",
     "output_type": "stream",
     "text": [
      "AUTHOR : Jason Schultz from DOCUMENT: AI Now 2019 Report, missing ORGANISATION: NYU School of Law\n",
      "AUTHOR : Drew Mitnick from DOCUMENT: The Toronto Declaration:\n",
      "Protecting the\n",
      "right to equality and\n",
      "non-discrimination in\n",
      "machine learning systems, missing ORGANISATION: Paradigm Initiative Nigeria\n",
      "AUTHOR : Boye Adegoke from DOCUMENT: The Toronto Declaration:\n",
      "Protecting the\n",
      "right to equality and\n",
      "non-discrimination in\n",
      "machine learning systems, missing ORGANISATION: Paradigm Initiative Nigeria\n",
      "AUTHOR : Malavika Jayaram from DOCUMENT: The Toronto Declaration:\n",
      "Protecting the\n",
      "right to equality and\n",
      "non-discrimination in\n",
      "machine learning systems, missing ORGANISATION: Digital Asia Hub\n",
      "AUTHOR : William Isaac from DOCUMENT: The Toronto Declaration:\n",
      "Protecting the\n",
      "right to equality and\n",
      "non-discrimination in\n",
      "machine learning systems, missing ORGANISATION: The Human Rights Data Analysis Group\n",
      "AUTHOR : Solon Barocas from DOCUMENT: The Toronto Declaration:\n",
      "Protecting the\n",
      "right to equality and\n",
      "non-discrimination in\n",
      "machine learning systems, missing ORGANISATION: Cornell University\n",
      "AUTHOR : Meredith Whittaker from DOCUMENT: AI Now 2019 Report, missing ORGANISATION: Google Open Research\n",
      "AUTHOR : Burkhard Schafer from DOCUMENT: AI4People—An Ethical Framework for a Good AI Society:\n",
      "Opportunities, Risks, Principles, and Recommendations, missing ORGANISATION: University of Edinburgh\n",
      "AUTHOR : Peggy Valcke from DOCUMENT: AI4People—An Ethical Framework for a Good AI Society:\n",
      "Opportunities, Risks, Principles, and Recommendations, missing ORGANISATION: KU Leuven\n",
      "AUTHOR : Luciano Floridi from DOCUMENT: Ethics Guidelines for Trustoworthy AI, missing ORGANISATION: Oxford Internet Institute\n",
      "AUTHOR : Josh Cowls from DOCUMENT: AI4People—An Ethical Framework for a Good AI Society:\n",
      "Opportunities, Risks, Principles, and Recommendations, missing ORGANISATION: Oxford Internet Institute\n",
      "AUTHOR : Raja Chatila from DOCUMENT: Ethics Guidelines for Trustoworthy AI, missing ORGANISATION: ISIR-CNRS\n",
      "AUTHOR : Andrea Renda from DOCUMENT: Ethics Guidelines for Trustoworthy AI, missing ORGANISATION: Centre for European Policy Studies (CEPS)\n",
      "AUTHOR : Seán Ó hÉigeartaigh from DOCUMENT: The Malicious Use of Artificial Intelligence: Forecasting, Prevention, and Mitigation, missing ORGANISATION: Centre for the Study of Existential Risk and Centre for the Future of Intelligence (University of Cambridge)\n",
      "AUTHOR : Simon Beard from DOCUMENT: The Malicious Use of Artificial Intelligence: Forecasting, Prevention, and Mitigation, missing ORGANISATION: Centre for the Study of Existential Risk (University of Cambridge)\n",
      "AUTHOR : Haydn Belfield from DOCUMENT: The Malicious Use of Artificial Intelligence: Forecasting, Prevention, and Mitigation, missing ORGANISATION: Centre for the Study of Existential Risk (University of Cambridge)\n",
      "AUTHOR : Rebecca Crootof from DOCUMENT: The Malicious Use of Artificial Intelligence: Forecasting, Prevention, and Mitigation, missing ORGANISATION: Information Society Project (Yale University)\n",
      "AUTHOR : Eileen Donahoe from DOCUMENT: White Paper: How to Prevent Discriminatory Outcomes in Machine Learning, missing ORGANISATION: Stanford University's Cyber Policy Center\n",
      "AUTHOR : Sherif Elsayed-Ali from DOCUMENT: White Paper: How to Prevent Discriminatory Outcomes in Machine Learning, missing ORGANISATION: Global Future Council on Human Rights and Technology\n",
      "AUTHOR : Samuel Gregory from DOCUMENT: White Paper: How to Prevent Discriminatory Outcomes in Machine Learning, missing ORGANISATION: WITNESS\n",
      "AUTHOR : Erica Kochi from DOCUMENT: White Paper: How to Prevent Discriminatory Outcomes in Machine Learning, missing ORGANISATION: UNICEF\n",
      "AUTHOR : Katherine Maher from DOCUMENT: White Paper: How to Prevent Discriminatory Outcomes in Machine Learning, missing ORGANISATION: Wikimedia Foundation\n",
      "AUTHOR : Esra’a Al Shafei from DOCUMENT: White Paper: How to Prevent Discriminatory Outcomes in Machine Learning, missing ORGANISATION: Wikimedia Foundation\n",
      "AUTHOR : Thilo Hagendorff from DOCUMENT: The Ethics of AI Ethics\n",
      "An Evaluation of Guidelines   , missing ORGANISATION: University of Tübingen\n",
      "AUTHOR : Berry De Bruijn from DOCUMENT: Applied AI Ethics: Report 2019, missing ORGANISATION: National Research Council\n",
      "AUTHOR : Alain Désillets from DOCUMENT: Applied AI Ethics: Report 2019, missing ORGANISATION: National Research Council\n",
      "AUTHOR : Kathleen Fraser from DOCUMENT: Applied AI Ethics: Report 2019, missing ORGANISATION: National Research Council\n",
      "AUTHOR : Svetlana Kiritchenko from DOCUMENT: Applied AI Ethics: Report 2019, missing ORGANISATION: National Research Council\n",
      "AUTHOR : Saif Mohammad from DOCUMENT: Applied AI Ethics: Report 2019, missing ORGANISATION: National Research Council\n",
      "AUTHOR : Norm Vinson from DOCUMENT: Applied AI Ethics: Report 2019, missing ORGANISATION: National Research Council\n",
      "AUTHOR : Peter Bloomfield from DOCUMENT: Applied AI Ethics: Report 2019, missing ORGANISATION: National Research Council\n",
      "AUTHOR : Hayley Brace from DOCUMENT: Applied AI Ethics: Report 2019, missing ORGANISATION: National Research Council\n",
      "AUTHOR : Katarzyna Brzoska from DOCUMENT: Applied AI Ethics: Report 2019, missing ORGANISATION: National Research Council\n",
      "AUTHOR : Anat Elhala from DOCUMENT: Applied AI Ethics: Report 2019, missing ORGANISATION: National Research Council\n",
      "AUTHOR : Katy Ho from DOCUMENT: Applied AI Ethics: Report 2019, missing ORGANISATION: National Research Council\n",
      "AUTHOR : Libby Kinsey from DOCUMENT: Applied AI Ethics: Report 2019, missing ORGANISATION: National Research Council\n",
      "AUTHOR : Ross McWhirter from DOCUMENT: Applied AI Ethics: Report 2019, missing ORGANISATION: National Research Council\n",
      "AUTHOR : Madalina Nazare from DOCUMENT: Applied AI Ethics: Report 2019, missing ORGANISATION: National Research Council\n",
      "AUTHOR : Evelyn Ofori-Kuragu from DOCUMENT: Applied AI Ethics: Report 2019, missing ORGANISATION: National Research Council\n",
      "AUTHOR : Angela Daly from DOCUMENT: Artificial Intelligence, Governance and Ethics: Global Perspectives, missing ORGANISATION: Strathclyde Law School\n",
      "AUTHOR : Li Hui from DOCUMENT: Artificial Intelligence, Governance and Ethics: Global Perspectives, missing ORGANISATION: Shanghai Institute for Science on Science\n",
      "AUTHOR : Monique Mann from DOCUMENT: Artificial Intelligence, Governance and Ethics: Global Perspectives, missing ORGANISATION: Queensland University of Technology\n",
      "AUTHOR : Vidushi Marda from DOCUMENT: Artificial Intelligence, Governance and Ethics: Global Perspectives, missing ORGANISATION: ARTICLE 19\n",
      "AUTHOR : Ben Wagner from DOCUMENT: Artificial Intelligence, Governance and Ethics: Global Perspectives, missing ORGANISATION: Vienna University of Economics and Business (WU Wien)\n",
      "AUTHOR : Wei Wang from DOCUMENT: Artificial Intelligence, Governance and Ethics: Global Perspectives, missing ORGANISATION: University of Hong Kong (HKU)\n",
      "AUTHOR : Saskia Witteborn from DOCUMENT: Artificial Intelligence, Governance and Ethics: Global Perspectives, missing ORGANISATION: University of Mannheim\n",
      "AUTHOR : Anna Jobin from DOCUMENT: Artificial Intelligence: the global landscape of ethics guidelines, missing ORGANISATION: Swiss Federal Institute of Technology (ETHZ)\n",
      "AUTHOR : Jess Whittlestone from DOCUMENT: Ethical and societal\n",
      "implications of algorithms,\n",
      "data, and artificial intelligence:\n",
      "a roadmap for research, missing ORGANISATION: The Nuffield Foundation\n",
      "AUTHOR : Rune Nyrup from DOCUMENT: Ethical and societal\n",
      "implications of algorithms,\n",
      "data, and artificial intelligence:\n",
      "a roadmap for research, missing ORGANISATION: The Nuffield Foundation\n",
      "AUTHOR : Anna Alexandrova from DOCUMENT: Ethical and societal\n",
      "implications of algorithms,\n",
      "data, and artificial intelligence:\n",
      "a roadmap for research, missing ORGANISATION: The Nuffield Foundation\n",
      "AUTHOR : Kanta Dihal from DOCUMENT: Ethical and societal\n",
      "implications of algorithms,\n",
      "data, and artificial intelligence:\n",
      "a roadmap for research, missing ORGANISATION: The Nuffield Foundation\n",
      "AUTHOR : Stephen Cave from DOCUMENT: Ethical and societal\n",
      "implications of algorithms,\n",
      "data, and artificial intelligence:\n",
      "a roadmap for research, missing ORGANISATION: The Nuffield Foundation\n",
      "AUTHOR : Guillermo García from DOCUMENT: Artificial Intelligence in Japan: Industrial Cooperation and Business Opportunities for European Companies, missing ORGANISATION: EU-Japan Centre for\n",
      "Industrial Cooperation\n",
      "AUTHOR : Eleanor Bird from DOCUMENT: The ethics of artificial intelligence: Issues and Iniatives, missing ORGANISATION: University of the West of England\n",
      "AUTHOR : Jasmin Fox-Skelly from DOCUMENT: The ethics of artificial intelligence: Issues and Iniatives, missing ORGANISATION: University of the West of England\n",
      "AUTHOR : Nicola Jenner from DOCUMENT: The ethics of artificial intelligence: Issues and Iniatives, missing ORGANISATION: University of the West of England\n",
      "AUTHOR : Ruth Larbey from DOCUMENT: The ethics of artificial intelligence: Issues and Iniatives, missing ORGANISATION: University of the West of England\n",
      "AUTHOR : Emma Weitkamp from DOCUMENT: The ethics of artificial intelligence: Issues and Iniatives, missing ORGANISATION: University of the West of England\n",
      "AUTHOR : Alan Winfield from DOCUMENT: Principles of robotics, missing ORGANISATION: University of the West of England\n",
      "AUTHOR : Sebastian Hallensleben from DOCUMENT: From Principles to Practice An interdisciplinary framework to operationalise AI ethics, missing ORGANISATION: VDE\n",
      "AUTHOR : Torsten Fleischer from DOCUMENT: From Principles to Practice An interdisciplinary framework to operationalise AI ethics, missing ORGANISATION: KIT\n",
      "AUTHOR : Paul Grunke from DOCUMENT: From Principles to Practice An interdisciplinary framework to operationalise AI ethics, missing ORGANISATION: KIT\n",
      "AUTHOR : Thilo Hagendorff from DOCUMENT: The Ethics of AI Ethics\n",
      "An Evaluation of Guidelines   , missing ORGANISATION: Universitat Tubingen\n",
      "AUTHOR : Marc Hauer from DOCUMENT: From Principles to Practice An interdisciplinary framework to operationalise AI ethics, missing ORGANISATION: Technische Universitat Kaiserslautern\n",
      "AUTHOR : Andreas Hauschke from DOCUMENT: From Principles to Practice An interdisciplinary framework to operationalise AI ethics, missing ORGANISATION: Universitat Sankt Gallen\n",
      "AUTHOR : Jessica Heesen from DOCUMENT: From Principles to Practice An interdisciplinary framework to operationalise AI ethics, missing ORGANISATION: Universitat Tubingen\n",
      "AUTHOR : Micheal Herrmann from DOCUMENT: From Principles to Practice An interdisciplinary framework to operationalise AI ethics, missing ORGANISATION: Univerisity of Edinburgh\n",
      "AUTHOR : Rafaela Hillerbrand from DOCUMENT: From Principles to Practice An interdisciplinary framework to operationalise AI ethics, missing ORGANISATION: KIT\n",
      "AUTHOR : Christoph Hubig from DOCUMENT: From Principles to Practice An interdisciplinary framework to operationalise AI ethics, missing ORGANISATION: Technische Universitat Darmstadt\n",
      "AUTHOR : Andreas Kaminski from DOCUMENT: From Principles to Practice An interdisciplinary framework to operationalise AI ethics, missing ORGANISATION: HLRS\n",
      "AUTHOR : Tobias Krafft from DOCUMENT: From Principles to Practice An interdisciplinary framework to operationalise AI ethics, missing ORGANISATION: Technische Universitat Kaiserslautern\n",
      "AUTHOR : Wulf Loh from DOCUMENT: From Principles to Practice An interdisciplinary framework to operationalise AI ethics, missing ORGANISATION: Universitat Tubingen\n",
      "AUTHOR : Philipp Otto from DOCUMENT: From Principles to Practice An interdisciplinary framework to operationalise AI ethics, missing ORGANISATION: iRights.Lab\n",
      "AUTHOR : Michael Puntschuh from DOCUMENT: From Principles to Practice An interdisciplinary framework to operationalise AI ethics, missing ORGANISATION: iRights.Lab\n",
      "AUTHOR : Jessica Vintinner from DOCUMENT: Artificial Intelligence Final Report, missing ORGANISATION: Agency of Commerce and Community Development Designee\n",
      "AUTHOR :  Mark Combs from DOCUMENT: Artificial Intelligence Final Report, missing ORGANISATION: Agency of Digital Services Designee\n",
      "AUTHOR : Christopher Herrick from DOCUMENT: Artificial Intelligence Final Report, missing ORGANISATION: Department of Public Safety Designee\n",
      "AUTHOR : Joe Segale from DOCUMENT: Artificial Intelligence Final Report, missing ORGANISATION: Agency of Transportation Designee\n",
      "AUTHOR : Jill Charbonneau from DOCUMENT: Artificial Intelligence Final Report, missing ORGANISATION: Vermont State Labor Council\n",
      "AUTHOR : James Lyall from DOCUMENT: Artificial Intelligence Final Report, missing ORGANISATION: American Civil Liberties Union of Vermont Designee\n",
      "AUTHOR : John.A Dooley from DOCUMENT: Artificial Intelligence Final Report, missing ORGANISATION: US Supreme Court Of Justice\n",
      "AUTHOR : Donna Rizzo from DOCUMENT: Artificial Intelligence Final Report, missing ORGANISATION: Post Secondary Institute Appointee of Senate Committee on Committees\n",
      "AUTHOR : Eugene Santos Jr. from DOCUMENT: Artificial Intelligence Final Report, missing ORGANISATION: Post Secondary Institute Appointee of the House of Representatives\n",
      "AUTHOR : Brian Cina from DOCUMENT: Artificial Intelligence Final Report, missing ORGANISATION: National Association of Social Workers\n",
      "AUTHOR : Brian Breslend from DOCUMENT: Artificial Intelligence Final Report, missing ORGANISATION: Vermont Society of Engineers\n",
      "AUTHOR : John Cohn from DOCUMENT: Artificial Intelligence Final Report, missing ORGANISATION: Vermont Academy of Science and Engineering\n",
      "AUTHOR : Milo Cress from DOCUMENT: Artificial Intelligence Final Report, missing ORGANISATION: Secondary/Postsecondary Appointee of Governor\n",
      "AUTHOR : Trey Dobson from DOCUMENT: Artificial Intelligence Final Report, missing ORGANISATION: Vermont Medical Society\n",
      "AUTHOR : Kayla Dewey from DOCUMENT: Artificial Intelligence Final Report, missing ORGANISATION: Legislative/Administrative Support\n",
      "AUTHOR : Ryan Flanagan from DOCUMENT: Artificial Intelligence Final Report, missing ORGANISATION: Legislative/Administrative Support\n"
     ]
    }
   ],
   "source": [
    "for i,missing_affiliation in missing_org_from_affiliation.iterrows():\n",
    "    print('AUTHOR : '+str(missing_affiliation.author) + ' from DOCUMENT: '+str(missing_affiliation['corresponding_doc']) + ', missing ORGANISATION: '+str(missing_affiliation['missing_org']))"
   ]
  },
  {
   "cell_type": "markdown",
   "metadata": {},
   "source": [
    "### Past Affiliations"
   ]
  },
  {
   "cell_type": "code",
   "execution_count": 255,
   "metadata": {},
   "outputs": [
    {
     "name": "stdout",
     "output_type": "stream",
     "text": [
      "(16, 5)\n"
     ]
    }
   ],
   "source": [
    "people_with_past_aff = people_db[people_db['past_affiliation'].notna()]\n",
    "print(people_with_past_aff.shape)\n",
    "\n",
    "#this code gets the list of organizations from the authors table, and we can see later if they all match the names in the organizations table\n",
    "missing_org_from_past_affiliation = pd.DataFrame(columns=['author','corresponding_doc','missing_org'])\n",
    "full_org_list_from_people_2 = list()\n",
    "for index, person in people_with_past_aff.iterrows():\n",
    "    #print(index)\n",
    "    org_list = person['past_affiliation']\n",
    "    orgs = org_list.split(',')\n",
    "    orgs = [org.strip() for org in orgs]\n",
    "    #print(person['name'])\n",
    "    for org in orgs:\n",
    "        #print(org)\n",
    "        org = org.rstrip()\n",
    "        if org not in organisations_db['name'].values:\n",
    "            \n",
    "            #find the name of the corresponding document\n",
    "            #print(org)\n",
    "            \n",
    "            #check if the person is an author. if it is not, we will not be able to link it to a document, as this person\n",
    "            #is the a founder. \n",
    "            if person['author_bool']==1 and person['name']!= 'Lynne Parker' and person['name']!= 'Jason Matheny' and type(person['name']).__name__=='str':\n",
    "                doc_indexes = documents_with_authors.index[documents_with_authors['Authors'].str.contains(person['name'])].tolist()\n",
    "\n",
    "                #.str.contains('ville',case=False)\n",
    "\n",
    "                corr_doc = documents.loc[doc_indexes[0]]\n",
    "\n",
    "                missing_org_from_past_affiliation = missing_org_from_past_affiliation.append({'author':person['name'],'corresponding_doc':corr_doc['Original Title'],'missing_org':org}, ignore_index=True)\n",
    "\n",
    "    #[x.strip() for x in my_string.split(',')]\n",
    "    #if index != 1:\n",
    "    full_org_list_from_people_2.extend(orgs)"
   ]
  },
  {
   "cell_type": "code",
   "execution_count": 256,
   "metadata": {},
   "outputs": [
    {
     "name": "stdout",
     "output_type": "stream",
     "text": [
      "AUTHOR : Ben Wagner from DOCUMENT: Artificial Intelligence, Governance and Ethics: Global Perspectives, missing ORGANISATION: Technical University of Berlin\n",
      "AUTHOR : Ben Wagner from DOCUMENT: Artificial Intelligence, Governance and Ethics: Global Perspectives, missing ORGANISATION: European University Viadrina\n"
     ]
    }
   ],
   "source": [
    "for i,missing_affiliation in missing_org_from_past_affiliation.iterrows():\n",
    "    print('AUTHOR : '+str(missing_affiliation.author) + ' from DOCUMENT: '+str(missing_affiliation['corresponding_doc']) + ', missing ORGANISATION: '+str(missing_affiliation['missing_org']))"
   ]
  },
  {
   "cell_type": "code",
   "execution_count": 257,
   "metadata": {},
   "outputs": [],
   "source": [
    "#missing_org_from_affiliation.to_excel('/users/marion1meyers/documents/missing_org_from_current_affiliation.xlsx', index=False)\n",
    "#missing_org_from_affiliation.shape"
   ]
  },
  {
   "cell_type": "markdown",
   "metadata": {},
   "source": [
    "## Organization_funder -> Funders"
   ]
  },
  {
   "cell_type": "code",
   "execution_count": 258,
   "metadata": {},
   "outputs": [
    {
     "name": "stdout",
     "output_type": "stream",
     "text": [
      "(30, 5)\n",
      "(10, 3)\n"
     ]
    },
    {
     "name": "stderr",
     "output_type": "stream",
     "text": [
      "/Library/Frameworks/Python.framework/Versions/3.8/lib/python3.8/site-packages/pandas/core/strings.py:1954: UserWarning: This pattern has match groups. To actually get the groups, use str.extract.\n",
      "  return func(self, *args, **kwargs)\n"
     ]
    }
   ],
   "source": [
    "organisations_with_funder= organisations_db[organisations_db['funder'].notna()]\n",
    "print(organisations_with_funder.shape)\n",
    "\n",
    "#this code gets the list of organizations from the authors table, and we can see later if they all match the names in the organizations table\n",
    "missing_funder_from_org = pd.DataFrame(columns=['organisation','corresponding_doc','missing_funder'])\n",
    "full_funder_list_from_org = list()\n",
    "for index, org in organisations_with_funder.iterrows():\n",
    "    #print(index)\n",
    "    f_list = org['funder']\n",
    "    funders = f_list.split(',')\n",
    "    funders = [funder.strip() for funder in funders]\n",
    "    #print(org['name'])\n",
    "    for funder in funders:\n",
    "        #print(funder)\n",
    "        funder = funder.rstrip()\n",
    "        if funder not in funders_db['name'].values:\n",
    "            # for some reason, this org name doesnt work.... like the two items dont match while the string seem to be the exactsame...\n",
    "            #if org['name'] !=\"Icelandic Institution for Intelligent Machines (IIIM)\" and type(org['name']).__name__=='str':\n",
    "            doc_indexes = documents.index[documents['Organization'].str.contains(org['name'])].tolist()\n",
    "\n",
    "            #.str.contains('ville',case=False)\n",
    "            if len(doc_indexes) >0:\n",
    "                #print('length: '+str(len(doc_indexes)))\n",
    "                corr_doc = documents.loc[doc_indexes[0]]\n",
    "\n",
    "                missing_funder_from_org = missing_funder_from_org.append({'organisation':org['name'],'corresponding_doc':corr_doc['Original Title'],'missing_funder':funder}, ignore_index=True)\n",
    "            else:        \n",
    "                missing_funder_from_org = missing_funder_from_org.append({'organisation':org['name'],'corresponding_doc': 0, 'missing_funder':funder}, ignore_index=True)\n",
    "           \n",
    "                \n",
    "    #[x.strip() for x in my_string.split(',')]\n",
    "    #if index != 1:\n",
    "    full_funder_list_from_org.extend(funders)\n",
    "print(missing_funder_from_org.shape)"
   ]
  },
  {
   "cell_type": "code",
   "execution_count": 259,
   "metadata": {},
   "outputs": [
    {
     "name": "stdout",
     "output_type": "stream",
     "text": [
      "Data Protection fees\n",
      "grant-in aid\n",
      "Ministry of State for Science and Technology Policy\n",
      "Ministry of Government Administration\n",
      "Reform and Church Affairs\n",
      "French Government\n",
      "Council of Europe\n",
      "Council of Europe\n",
      "Carnegie Mellon University\n",
      "\n"
     ]
    }
   ],
   "source": [
    "for i, missing_f in missing_funder_from_org.iterrows():\n",
    "    print(missing_f.missing_funder)"
   ]
  },
  {
   "cell_type": "code",
   "execution_count": 189,
   "metadata": {},
   "outputs": [],
   "source": [
    "#missing_funder_from_org.to_excel(\"/users/marion1meyers/documents/missing_funder_from_organisation.xlsx\", index=False)"
   ]
  },
  {
   "cell_type": "code",
   "execution_count": 190,
   "metadata": {},
   "outputs": [
    {
     "data": {
      "text/plain": [
       "\"org_with_funder= organisations_db[organisations_db['funder'].notna()]\\nprint(org_with_funder.shape)\\n\\n#this code gets the list of organizations from the authors table, and we can see later if they all match the names in the organizations table\\nfull_funder_list_from_org = list()\\nfor index, org in org_with_funder.iterrows():\\n    funder_list = org['funder']\\n    funders = funder_list.split(',')\\n    funders = [funder.strip() for funder in funders]\\n\\n    full_funder_list_from_org.extend(funders)\\nprint(len(full_funder_list_from_org))\""
      ]
     },
     "execution_count": 190,
     "metadata": {},
     "output_type": "execute_result"
    }
   ],
   "source": [
    "\"\"\"org_with_funder= organisations_db[organisations_db['funder'].notna()]\n",
    "print(org_with_funder.shape)\n",
    "\n",
    "#this code gets the list of organizations from the authors table, and we can see later if they all match the names in the organizations table\n",
    "full_funder_list_from_org = list()\n",
    "for index, org in org_with_funder.iterrows():\n",
    "    funder_list = org['funder']\n",
    "    funders = funder_list.split(',')\n",
    "    funders = [funder.strip() for funder in funders]\n",
    "\n",
    "    full_funder_list_from_org.extend(funders)\n",
    "print(len(full_funder_list_from_org))\"\"\""
   ]
  },
  {
   "cell_type": "code",
   "execution_count": 191,
   "metadata": {},
   "outputs": [
    {
     "data": {
      "text/plain": [
       "\"for f in full_funder_list_from_org:\\n    if f not in funders_db['name'].values:\\n        print(f)\""
      ]
     },
     "execution_count": 191,
     "metadata": {},
     "output_type": "execute_result"
    }
   ],
   "source": [
    "\"\"\"for f in full_funder_list_from_org:\n",
    "    if f not in funders_db['name'].values:\n",
    "        print(f)\"\"\""
   ]
  },
  {
   "cell_type": "markdown",
   "metadata": {},
   "source": [
    "## Research Questions to answer\n",
    "- Percentage of organizations that have at least 1 private funder\n",
    "- Average number of funders from each category per organization [can be translated to percentage]\n",
    "    - Example: organizations have on average 2 funders from the private sector, 3 from the public…\n",
    "    - Create a pie chart for organizations’ funding sources\n",
    "- For all authors (as an average), pie chart of organizations’s category\n",
    "- For all documents whose issuing organization is public, look into the authors affiliation and see what percentage of authors have a link to a private sector. \n",
    "- For all documents, Average number of authors with a link to private sector vs other sectors\n"
   ]
  },
  {
   "cell_type": "markdown",
   "metadata": {},
   "source": []
  },
  {
   "cell_type": "markdown",
   "metadata": {},
   "source": [
    "## Question 1: for all documents percentage of different affiliation categories"
   ]
  },
  {
   "cell_type": "code",
   "execution_count": 260,
   "metadata": {},
   "outputs": [
    {
     "name": "stdout",
     "output_type": "stream",
     "text": [
      "133\n",
      "1\n"
     ]
    }
   ],
   "source": [
    "#documents['Organization']\n",
    "\n",
    "#make a table with col \"document\", \"organisation\", \"category\"\n",
    "doc_org_category = pd.DataFrame(columns=['document', 'organisation', 'org_category'])\n",
    "missing=0\n",
    "found=0\n",
    "for index, document in documents.iterrows():\n",
    "                \n",
    "\n",
    "    #print(index)\n",
    "    org_list = document.Organization\n",
    "    #separate the authors by comma\n",
    "    orgs = org_list.split(',')\n",
    "    orgs = [org.strip() for org in orgs]\n",
    "    \n",
    "    for org in orgs:\n",
    "        org = org.rstrip()\n",
    "        #print(org)\n",
    "        \n",
    "        if org not in organisations_db['name'].values:\n",
    "            missing = missing +1\n",
    "        else:\n",
    "            found = found+1\n",
    "            org_row = organisations_db[organisations_db['name'] == org].iloc[0]\n",
    "            #print(org_row.iloc[0])\n",
    "            doc_org_category = doc_org_category.append({'document':document['Original Title'], 'organisation':org_row['name'], 'org_category':org_row['category']}, ignore_index=True)\n",
    "            #print(doc_org_category.shape)\n",
    "        # missing_organisations = missing_organisations.append({'doc_name':document['Original Title'], 'inserted_by':document['Inserted_by'],'missing_organisation':org}, ignore_index=True)\n",
    "print(found)       \n",
    "print(missing)\n",
    "    #[x.strip() for x in my_string.split(',')]\n",
    "    #if index != 1:\n",
    "   # full_org_list_from_doc.extend(orgs)\n",
    "    "
   ]
  },
  {
   "cell_type": "code",
   "execution_count": 261,
   "metadata": {},
   "outputs": [
    {
     "data": {
      "text/html": [
       "<div>\n",
       "<style scoped>\n",
       "    .dataframe tbody tr th:only-of-type {\n",
       "        vertical-align: middle;\n",
       "    }\n",
       "\n",
       "    .dataframe tbody tr th {\n",
       "        vertical-align: top;\n",
       "    }\n",
       "\n",
       "    .dataframe thead th {\n",
       "        text-align: right;\n",
       "    }\n",
       "</style>\n",
       "<table border=\"1\" class=\"dataframe\">\n",
       "  <thead>\n",
       "    <tr style=\"text-align: right;\">\n",
       "      <th></th>\n",
       "      <th>document</th>\n",
       "      <th>organisation</th>\n",
       "      <th>org_category</th>\n",
       "    </tr>\n",
       "  </thead>\n",
       "  <tbody>\n",
       "    <tr>\n",
       "      <th>0</th>\n",
       "      <td>AI Now 2019 Report</td>\n",
       "      <td>AI Now Institute</td>\n",
       "      <td>Academic and research institute</td>\n",
       "    </tr>\n",
       "    <tr>\n",
       "      <th>1</th>\n",
       "      <td>Ethics Guidelines for Trustoworthy AI</td>\n",
       "      <td>High-Level Expert Group on Artificial Intellig...</td>\n",
       "      <td>IGO</td>\n",
       "    </tr>\n",
       "    <tr>\n",
       "      <th>2</th>\n",
       "      <td>Understanding Artificial Intelligence Ethics a...</td>\n",
       "      <td>The Alan Turing Institute</td>\n",
       "      <td>Academic and research Institute</td>\n",
       "    </tr>\n",
       "    <tr>\n",
       "      <th>3</th>\n",
       "      <td>Artificial Intelligence: the global landscape ...</td>\n",
       "      <td>Health Ethics &amp; Policy Law</td>\n",
       "      <td>Academic and research institute</td>\n",
       "    </tr>\n",
       "    <tr>\n",
       "      <th>4</th>\n",
       "      <td>Draft AI R&amp;D Guidelines for International Disc...</td>\n",
       "      <td>Institute for Information and Communications P...</td>\n",
       "      <td>Governmental agency</td>\n",
       "    </tr>\n",
       "  </tbody>\n",
       "</table>\n",
       "</div>"
      ],
      "text/plain": [
       "                                            document  \\\n",
       "0                                 AI Now 2019 Report   \n",
       "1              Ethics Guidelines for Trustoworthy AI   \n",
       "2  Understanding Artificial Intelligence Ethics a...   \n",
       "3  Artificial Intelligence: the global landscape ...   \n",
       "4  Draft AI R&D Guidelines for International Disc...   \n",
       "\n",
       "                                        organisation  \\\n",
       "0                                   AI Now Institute   \n",
       "1  High-Level Expert Group on Artificial Intellig...   \n",
       "2                          The Alan Turing Institute   \n",
       "3                         Health Ethics & Policy Law   \n",
       "4  Institute for Information and Communications P...   \n",
       "\n",
       "                      org_category  \n",
       "0  Academic and research institute  \n",
       "1                              IGO  \n",
       "2  Academic and research Institute  \n",
       "3  Academic and research institute  \n",
       "4              Governmental agency  "
      ]
     },
     "execution_count": 261,
     "metadata": {},
     "output_type": "execute_result"
    }
   ],
   "source": [
    "doc_org_category.head()"
   ]
  },
  {
   "cell_type": "code",
   "execution_count": 292,
   "metadata": {},
   "outputs": [],
   "source": [
    "doc_org_category = delete_whitespace_from_column(doc_org_category, 'org_category')\n",
    "doc_org_category = put_col_to_lowercase(doc_org_category, 'org_category')"
   ]
  },
  {
   "cell_type": "code",
   "execution_count": 196,
   "metadata": {},
   "outputs": [
    {
     "name": "stdout",
     "output_type": "stream",
     "text": [
      "academic and research institute\n",
      "igo\n",
      "academic and research institute\n",
      "academic and research institute\n",
      "governmental agency\n",
      "governmental agency\n",
      "npo\n",
      "npo\n",
      "igo\n",
      "igo\n",
      "corporation\n",
      "academic and research institute\n",
      "academic and research institute\n",
      "igo\n",
      "npo\n",
      "npo\n",
      "npo\n",
      "ngo\n",
      "science foundation\n",
      "npo\n",
      "academic and research institute\n",
      "academic and research institute\n",
      "private sector alliance\n",
      "governmental agency\n",
      "governmental agency\n",
      "governmental agency\n",
      "political party\n",
      "academic and research institute\n",
      "igo\n",
      "npo\n",
      "academic and research institute\n",
      "governmental agency\n",
      "npo\n",
      "npo\n",
      "corporation\n",
      "governmental agency\n",
      "governmental agency\n",
      "governmental agency\n",
      "nan\n",
      "science foundation\n",
      "science foundation\n",
      "science foundation\n",
      "science foundation\n",
      "npo\n",
      "prof. association/society\n",
      "prof. association/society\n",
      "igo\n",
      "npo\n",
      "npo\n",
      "academic and research institute\n",
      "academic and research institute\n",
      "governmental agency\n",
      "npo\n",
      "corporation\n",
      "igo\n",
      "igo\n",
      "corporation\n",
      "non-partisan consultancy\n",
      "company\n",
      "npo\n",
      "company\n",
      "corporation\n",
      "ngo\n",
      "igo\n",
      "other (organisation)\n",
      "company\n",
      "academic\n",
      "governmental agency\n",
      "governmental agency\n",
      "company\n",
      "corporation\n",
      "igo\n",
      "npo\n",
      "igo\n",
      "academic and research institute\n",
      "governmental agency\n",
      "governmental agency\n",
      "mixed (coalition of ngos, icos etc.)\n",
      "igo/supra-na- tional\n",
      "company\n",
      "corporation\n",
      "academic and research institute\n",
      "npo\n",
      "governmental agency\n",
      "governmental agency\n",
      "company\n",
      "company\n",
      "company\n",
      "corporation\n",
      "company\n",
      "private sector alliance\n",
      "company\n",
      "academic and research institute\n",
      "company\n",
      "governmental agency\n",
      "npo\n",
      "npo\n",
      "governmental agencies/organizations\n",
      "npo\n",
      "academic and research institute\n",
      "academic and research institute\n",
      "academic and research institute\n",
      "npo\n",
      "npo\n",
      "npo\n",
      "federation/union\n",
      "npo\n",
      "academic and research institute\n",
      "governmental agency\n",
      "igp\n",
      "governmental agency\n",
      "research institute\n",
      "governmental agency\n",
      "academic and research institute\n",
      "governmental agency\n",
      "corporation\n",
      "research institute\n",
      "igo\n",
      "other (charitable trust)\n",
      "npo\n",
      "governmental agency\n",
      "company\n",
      "company, academic and research institute\n",
      "igo\n",
      "governmental agency\n",
      "company\n",
      "igo\n",
      "igo\n",
      "company\n",
      "governmental agency\n",
      "other (foundation)\n",
      "research institute\n",
      "company\n"
     ]
    }
   ],
   "source": [
    "for cat in doc_org_category.org_category:\n",
    "    print(cat)"
   ]
  },
  {
   "cell_type": "code",
   "execution_count": 197,
   "metadata": {},
   "outputs": [
    {
     "data": {
      "text/plain": [
       "array(['academic and research institute', 'igo', 'governmental agency',\n",
       "       'npo', 'corporation', 'ngo', 'science foundation',\n",
       "       'private sector alliance', 'political party', nan,\n",
       "       'prof. association/society', 'non-partisan consultancy', 'company',\n",
       "       'other (organisation)', 'academic',\n",
       "       'mixed (coalition of ngos, icos etc.)', 'igo/supra-na- tional',\n",
       "       'governmental agencies/organizations', 'federation/union', 'igp',\n",
       "       'research institute', 'other (charitable trust)',\n",
       "       'company, academic and research institute', 'other (foundation)'],\n",
       "      dtype=object)"
      ]
     },
     "execution_count": 197,
     "metadata": {},
     "output_type": "execute_result"
    }
   ],
   "source": [
    "doc_org_category.org_category.unique()"
   ]
  },
  {
   "cell_type": "code",
   "execution_count": 198,
   "metadata": {},
   "outputs": [
    {
     "data": {
      "text/plain": [
       "<matplotlib.axes._subplots.AxesSubplot at 0x119f20760>"
      ]
     },
     "execution_count": 198,
     "metadata": {},
     "output_type": "execute_result"
    },
    {
     "data": {
      "image/png": "[encoded data removed]",
      "text/plain": [
       "<Figure size 432x288 with 1 Axes>"
      ]
     },
     "metadata": {
      "needs_background": "light"
     },
     "output_type": "display_data"
    }
   ],
   "source": [
    "doc_org_category['org_category'].value_counts().plot(kind='bar')"
   ]
  },
  {
   "cell_type": "markdown",
   "metadata": {},
   "source": [
    "## Question 2: for all author percentage of different affiliation categories"
   ]
  },
  {
   "cell_type": "code",
   "execution_count": 199,
   "metadata": {},
   "outputs": [],
   "source": [
    "authors = people_db[people_db['author_bool']==1]"
   ]
  },
  {
   "cell_type": "code",
   "execution_count": 200,
   "metadata": {},
   "outputs": [
    {
     "name": "stdout",
     "output_type": "stream",
     "text": [
      "(350, 5)\n",
      "missing org from authors : 93\n",
      "found orgs from authors : 325\n"
     ]
    }
   ],
   "source": [
    "authors_with_current_aff = authors[authors['current_affiliation'].notna()]\n",
    "print(authors_with_current_aff.shape)\n",
    "\n",
    "#this code gets the list of organizations from the authors table, and we can see later if they all match the names in the organizations table\n",
    "author_org_category = pd.DataFrame(columns=['author', 'organisation', 'org_category'])\n",
    "missing=0\n",
    "found=0\n",
    "for index, author in authors_with_current_aff.iterrows():\n",
    "    #print(index)\n",
    "    org_list = author['current_affiliation']\n",
    "    orgs = org_list.split(',')\n",
    "    orgs = [org.strip() for org in orgs]\n",
    "    for org in orgs:\n",
    "        #print(org)\n",
    "        org = org.rstrip()\n",
    "        if org not in organisations_db['name'].values:\n",
    "            missing = missing +1\n",
    "        else:\n",
    "            found = found +1 \n",
    "            org_row = organisations_db[organisations_db['name'] == org].iloc[0]\n",
    "            #print(org_row.iloc[0])\n",
    "            author_org_category = author_org_category.append({'author':author['name'], 'organisation':org_row['name'], 'org_category':org_row['category']}, ignore_index=True)\n",
    "            #print(author_org_category.shape)\n",
    "print('missing org from authors : '+str(missing))\n",
    "print('found orgs from authors : '+str(found))"
   ]
  },
  {
   "cell_type": "code",
   "execution_count": 201,
   "metadata": {},
   "outputs": [],
   "source": [
    "author_org_category = delete_whitespace_from_column(author_org_category, 'org_category')\n",
    "author_org_category = put_col_to_lowercase(author_org_category, 'org_category')"
   ]
  },
  {
   "cell_type": "code",
   "execution_count": 202,
   "metadata": {},
   "outputs": [
    {
     "data": {
      "text/plain": [
       "<matplotlib.axes._subplots.AxesSubplot at 0x11a942100>"
      ]
     },
     "execution_count": 202,
     "metadata": {},
     "output_type": "execute_result"
    },
    {
     "data": {
      "image/png": "[encoded data removed]",
      "text/plain": [
       "<Figure size 432x288 with 1 Axes>"
      ]
     },
     "metadata": {
      "needs_background": "light"
     },
     "output_type": "display_data"
    }
   ],
   "source": [
    "author_org_category['org_category'].value_counts().plot(kind='bar')"
   ]
  },
  {
   "cell_type": "code",
   "execution_count": 204,
   "metadata": {},
   "outputs": [],
   "source": [
    "#for cat in author_org_category.org_category:\n",
    "  #  print(cat)"
   ]
  },
  {
   "cell_type": "markdown",
   "metadata": {},
   "source": [
    "## Question 3: for all documents, percentage of different funders categories"
   ]
  },
  {
   "cell_type": "code",
   "execution_count": 267,
   "metadata": {},
   "outputs": [
    {
     "data": {
      "text/plain": [
       "(10, 2)"
      ]
     },
     "execution_count": 267,
     "metadata": {},
     "output_type": "execute_result"
    }
   ],
   "source": [
    "missing_funders.shape"
   ]
  },
  {
   "cell_type": "code",
   "execution_count": 270,
   "metadata": {},
   "outputs": [
    {
     "name": "stdout",
     "output_type": "stream",
     "text": [
      "(39, 8)\n",
      "missing funder from doc : 10\n",
      "found funder from doc : 171\n"
     ]
    }
   ],
   "source": [
    "documents_with_funders = documents[documents['Document funding sources'].notna()]\n",
    "print(documents_with_funders.shape)\n",
    "\n",
    "#this code gets the list of organizations from the authors table, and we can see later if they all match the names in the organizations table\n",
    "doc_funder_category = pd.DataFrame(columns=['doc', 'funder', 'funder_category'])\n",
    "missing=0\n",
    "found=0\n",
    "for index, doc in documents_with_funders.iterrows():\n",
    "    #print(index)\n",
    "    f_list = doc['Document funding sources']\n",
    "    \n",
    "    funders = f_list.split(',')\n",
    "    funders = [funder.strip() for funder in funders]\n",
    "    \n",
    "    \n",
    "    for funder in funders:\n",
    "        #print(org)\n",
    "        funder = funder.rstrip()\n",
    "        #print(funder)\n",
    "        if funder not in funders_db['name'].values:\n",
    "            missing = missing +1\n",
    "        else:\n",
    "            found = found +1 \n",
    "            funder_row = funders_db[funders_db['name'] == funder].iloc[0]\n",
    "            #print(org_row.iloc[0])\n",
    "            doc_funder_category = doc_funder_category.append({'doc':document['Original Title'], 'funder':funder_row['name'], 'funder_category':funder_row['category']}, ignore_index=True)\n",
    "            #print(doc_funder_category.shape)\n",
    "print('missing funder from doc : '+str(missing))\n",
    "print('found funder from doc : '+str(found))"
   ]
  },
  {
   "cell_type": "code",
   "execution_count": 271,
   "metadata": {},
   "outputs": [
    {
     "data": {
      "text/html": [
       "<div>\n",
       "<style scoped>\n",
       "    .dataframe tbody tr th:only-of-type {\n",
       "        vertical-align: middle;\n",
       "    }\n",
       "\n",
       "    .dataframe tbody tr th {\n",
       "        vertical-align: top;\n",
       "    }\n",
       "\n",
       "    .dataframe thead th {\n",
       "        text-align: right;\n",
       "    }\n",
       "</style>\n",
       "<table border=\"1\" class=\"dataframe\">\n",
       "  <thead>\n",
       "    <tr style=\"text-align: right;\">\n",
       "      <th></th>\n",
       "      <th>doc</th>\n",
       "      <th>funder</th>\n",
       "      <th>funder_category</th>\n",
       "    </tr>\n",
       "  </thead>\n",
       "  <tbody>\n",
       "    <tr>\n",
       "      <th>0</th>\n",
       "      <td>Ethics Review of Machine Learning in Children'...</td>\n",
       "      <td>European Commission</td>\n",
       "      <td>IGO</td>\n",
       "    </tr>\n",
       "    <tr>\n",
       "      <th>1</th>\n",
       "      <td>Ethics Review of Machine Learning in Children'...</td>\n",
       "      <td>Engineering and Physical Sciences Research Coucil</td>\n",
       "      <td>NGO</td>\n",
       "    </tr>\n",
       "    <tr>\n",
       "      <th>2</th>\n",
       "      <td>Ethics Review of Machine Learning in Children'...</td>\n",
       "      <td>Arts and Humanities Research Council</td>\n",
       "      <td>NGO</td>\n",
       "    </tr>\n",
       "    <tr>\n",
       "      <th>3</th>\n",
       "      <td>Ethics Review of Machine Learning in Children'...</td>\n",
       "      <td>European Commission</td>\n",
       "      <td>IGO</td>\n",
       "    </tr>\n",
       "    <tr>\n",
       "      <th>4</th>\n",
       "      <td>Ethics Review of Machine Learning in Children'...</td>\n",
       "      <td>European Parliament</td>\n",
       "      <td>IGO</td>\n",
       "    </tr>\n",
       "  </tbody>\n",
       "</table>\n",
       "</div>"
      ],
      "text/plain": [
       "                                                 doc  \\\n",
       "0  Ethics Review of Machine Learning in Children'...   \n",
       "1  Ethics Review of Machine Learning in Children'...   \n",
       "2  Ethics Review of Machine Learning in Children'...   \n",
       "3  Ethics Review of Machine Learning in Children'...   \n",
       "4  Ethics Review of Machine Learning in Children'...   \n",
       "\n",
       "                                              funder funder_category  \n",
       "0                                European Commission             IGO  \n",
       "1  Engineering and Physical Sciences Research Coucil             NGO  \n",
       "2               Arts and Humanities Research Council             NGO  \n",
       "3                                European Commission             IGO  \n",
       "4                                European Parliament             IGO  "
      ]
     },
     "execution_count": 271,
     "metadata": {},
     "output_type": "execute_result"
    }
   ],
   "source": [
    "doc_funder_category.head()"
   ]
  },
  {
   "cell_type": "code",
   "execution_count": 273,
   "metadata": {},
   "outputs": [],
   "source": [
    "doc_funder_category = delete_whitespace_from_column(doc_funder_category, 'funder_category')\n",
    "doc_funder_category = put_col_to_lowercase(doc_funder_category, 'funder_category')"
   ]
  },
  {
   "cell_type": "code",
   "execution_count": 274,
   "metadata": {},
   "outputs": [
    {
     "data": {
      "text/plain": [
       "<matplotlib.axes._subplots.AxesSubplot at 0x11a736bb0>"
      ]
     },
     "execution_count": 274,
     "metadata": {},
     "output_type": "execute_result"
    },
    {
     "data": {
      "image/png": "[encoded data removed]",
      "text/plain": [
       "<Figure size 432x288 with 1 Axes>"
      ]
     },
     "metadata": {
      "needs_background": "light"
     },
     "output_type": "display_data"
    }
   ],
   "source": [
    "doc_funder_category['funder_category'].value_counts().plot(kind='bar')"
   ]
  },
  {
   "cell_type": "markdown",
   "metadata": {},
   "source": [
    "## create dataframe of author affiliation per document"
   ]
  },
  {
   "cell_type": "code",
   "execution_count": 330,
   "metadata": {},
   "outputs": [
    {
     "name": "stdout",
     "output_type": "stream",
     "text": [
      "(59, 8)\n",
      "AI Now 2019 Report\n",
      "0\n",
      "perc academic: 1.0\n",
      "perc npo: 0.0\n",
      "perc company: 0.0\n",
      "perc gov: 0\n",
      "Ethics Guidelines for Trustoworthy AI\n",
      "1\n",
      "Understanding Artificial Intelligence Ethics and safety\n",
      "2\n",
      "perc academic: 1.0\n",
      "perc npo: 0.0\n",
      "perc company: 0.0\n",
      "perc gov: 0\n",
      "Artificial Intelligence: the global landscape of ethics guidelines\n",
      "3\n",
      "perc academic: 1.0\n",
      "perc npo: 0.0\n",
      "perc company: 0.0\n",
      "perc gov: 0\n",
      "Artificial Intelligence Ethics, governance and policy challenges Report of a CEPS Task Force\n",
      "6\n",
      "perc academic: 0\n",
      "perc npo: 0\n",
      "perc company: 0\n",
      "perc gov: 0\n",
      "Relevance of Ethical Guidelines for Artificial Intelligence – A Survey and Evaluation\n",
      "7\n",
      "perc academic: 0.6666666666666666\n",
      "perc npo: 0.3333333333333333\n",
      "perc company: 0.0\n",
      "perc gov: 0\n",
      "Report of COMEST on robotics ethics\n",
      "8\n",
      "perc academic: 0\n",
      "perc npo: 0\n",
      "perc company: 0\n",
      "perc gov: 0\n",
      "AI- Our approach\n",
      "9\n",
      "perc academic: 0\n",
      "perc npo: 0\n",
      "perc company: 0\n",
      "perc gov: 0\n",
      "Human Rights in the Robot Age\n",
      "10\n",
      "perc academic: 1.0\n",
      "perc npo: 0.0\n",
      "perc company: 0.0\n",
      "perc gov: 0\n",
      "AI Now 2017 Report\n",
      "11\n",
      "perc academic: 1.0\n",
      "perc npo: 0.0\n",
      "perc company: 0.0\n",
      "perc gov: 0\n",
      "Statement on Artificial Intelligence, Robotics and 'Autonomous system' System \n",
      "12\n",
      "perc academic: 0\n",
      "perc npo: 0\n",
      "perc company: 0\n",
      "perc gov: 0\n",
      "Privacy and Freedom of Expression In the Age of Artificial Intelligence\n",
      "13\n",
      "perc academic: 0\n",
      "perc npo: 0\n",
      "perc company: 0\n",
      "perc gov: 0\n",
      "The Toronto Declaration:\n",
      "Protecting the\n",
      "right to equality and\n",
      "non-discrimination in\n",
      "machine learning systems\n",
      "14\n",
      "perc academic: 0.0\n",
      "perc npo: 0.5714285714285714\n",
      "perc company: 0.0\n",
      "perc gov: 0\n",
      "Principles of robotics\n",
      "15\n",
      "perc academic: 0.9230769230769231\n",
      "perc npo: 0.0\n",
      "perc company: 0.15384615384615385\n",
      "perc gov: 0\n",
      "Unified Ethical Frame for Big Data Analysis. IAF Big Data Ethics Initiative, Part A\n",
      "16\n",
      "perc academic: 0.2727272727272727\n",
      "perc npo: 0.2727272727272727\n",
      "perc company: 0.36363636363636365\n",
      "perc gov: 0\n",
      "The AI Now Report. The Social and Economic Implications of Artificial Intelligence Technologies in the Near-Term\n",
      "18\n",
      "perc academic: 0.75\n",
      "perc npo: 0.0\n",
      "perc company: 0.0\n",
      "perc gov: 0\n",
      "Preparing for the future of Artificial Intelligence\n",
      "21\n",
      "perc academic: 1.0\n",
      "perc npo: 0.0\n",
      "perc company: 0.0\n",
      "perc gov: 0\n",
      "The National Artificial Intelligence Research and Development Strategic Plan\n",
      "22\n",
      "perc academic: 0.09090909090909091\n",
      "perc npo: 0.0\n",
      "perc company: 0.0\n",
      "perc gov: 0\n",
      "Position on Robotics and Artificial Intelligence\n",
      "23\n",
      "perc academic: 0\n",
      "perc npo: 0\n",
      "perc company: 0\n",
      "perc gov: 0\n",
      "Report with recommendations to the Comission on Civil Law Rules on Robotics\n",
      "25\n",
      "perc academic: 0.0\n",
      "perc npo: 0.0\n",
      "perc company: 0.0\n",
      "perc gov: 0\n",
      "AI Principles \n",
      "26\n",
      "perc academic: 0.375\n",
      "perc npo: 0.125\n",
      "perc company: 0.625\n",
      "perc gov: 0\n",
      "Artificial Intelligence and Machine Learning: Policy Paper\n",
      "29\n",
      "perc academic: 0.0\n",
      "perc npo: 1.0\n",
      "perc company: 0.0\n",
      "perc gov: 0\n",
      "Machine learning: the power and promoise of computers that learn by example\n",
      "30\n",
      "perc academic: 0.7857142857142857\n",
      "perc npo: 0.0\n",
      "perc company: 0.35714285714285715\n",
      "perc gov: 0\n",
      "Principles for Ac- countable Algorithms and a Social Impact Statement for Algo- rithms\n",
      "34\n",
      "perc academic: 0.8461538461538461\n",
      "perc npo: 0.0\n",
      "perc company: 0.07692307692307693\n",
      "perc gov: 0\n",
      "Ethics of AI in Radiology: European and North American Multisociety Statement\n",
      "35\n",
      "perc academic: 0.5555555555555556\n",
      "perc npo: 0.16666666666666666\n",
      "perc company: 0.1111111111111111\n",
      "perc gov: 0\n",
      "European ethical Charter on the use of Artificial Intelligence in Judicial Systels and their environment\n",
      "36\n",
      "perc academic: 0.375\n",
      "perc npo: 0.0\n",
      "perc company: 0.0\n",
      "perc gov: 0\n",
      "Artificial Intelligence. Australia's Ethtics Framework. A discussion Paper\n",
      "39\n",
      "perc academic: 0.0\n",
      "perc npo: 0.0\n",
      "perc company: 0.0\n",
      "perc gov: 1\n",
      "Governing Artificial Intelligence. Upholding Human Rights & Dignity\n",
      "40\n",
      "perc academic: 1.0\n",
      "perc npo: 1.0\n",
      "perc company: 1.0\n",
      "perc gov: 0\n",
      "Intel’s AI Privacy Policy White Paper. Protecting individuals’ privacy and data in the artificial intelligence world\n",
      "43\n",
      "perc academic: 0.0\n",
      "perc npo: 0.0\n",
      "perc company: 0.0\n",
      "perc gov: 0\n",
      "Ethical, social, and political challenges of Artificial Intelligence in Health\n",
      "44\n",
      "perc academic: 0.0\n",
      "perc npo: 0.0\n",
      "perc company: 0.0\n",
      "perc gov: 0\n",
      "The responsible AI framework\n",
      "45\n",
      "perc academic: 0.0\n",
      "perc npo: 0.0\n",
      "perc company: 1.0\n",
      "perc gov: 0\n",
      "Artificial Intelligence: open questions about gender inclusion\n",
      "51\n",
      "perc academic: 0.0\n",
      "perc npo: 0.0\n",
      "perc company: 0.0\n",
      "perc gov: 0\n",
      "Everyday Ethics for Artificial Intelligence\n",
      "52\n",
      "perc academic: 0.0\n",
      "perc npo: 0.0\n",
      "perc company: 1.0\n",
      "perc gov: 0\n",
      "Work in the age of\n",
      "artificial intelligence. Four perspectives on the economy,\n",
      "employment, skills and ethics\n",
      "55\n",
      "perc academic: 0.0\n",
      "perc npo: 0.0\n",
      "perc company: 0.0\n",
      "perc gov: 0\n",
      "10 Principles of Responsible AI\n",
      "60\n",
      "perc academic: 0.0\n",
      "perc npo: 0.0\n",
      "perc company: 0.0\n",
      "perc gov: 0\n",
      "AI4People—An Ethical Framework for a Good AI Society:\n",
      "Opportunities, Risks, Principles, and Recommendations\n",
      "61\n",
      "perc academic: 1.0\n",
      "perc npo: 0.0\n",
      "perc company: 0.23076923076923078\n",
      "perc gov: 0\n",
      "Declaration on ethics and data protection in Artificial Intelligence\n",
      "65\n",
      "perc academic: 0\n",
      "perc npo: 0\n",
      "perc company: 0\n",
      "perc gov: 0\n",
      "Responsible bots: 10 guidelines for devel- opers of conversa- tional AI\n",
      "67\n",
      "perc academic: 0\n",
      "perc npo: 0\n",
      "perc company: 0\n",
      "perc gov: 0\n",
      "AI Now 2018 Report\n",
      "68\n",
      "perc academic: 1.0\n",
      "perc npo: 0.0\n",
      "perc company: 0.0\n",
      "perc gov: 0\n",
      "AI in the UK:\n",
      "ready, willing and\n",
      "able?\n",
      "70\n",
      "perc academic: 0.0\n",
      "perc npo: 0.0\n",
      "perc company: 0.0\n",
      "perc gov: 0\n",
      "How can humans keep the upper hand? Re- port on the ethical matters raised by AI algorithms (only sec- tion \"From principles to policy recommen- dations\")\n",
      "83\n",
      "perc academic: 0\n",
      "perc npo: 0\n",
      "perc company: 0\n",
      "perc gov: 0\n",
      "The Malicious Use of Artificial Intelligence: Forecasting, Prevention, and Mitigation\n",
      "84\n",
      "perc academic: 0.36363636363636365\n",
      "perc npo: 0.6363636363636364\n",
      "perc company: 0.09090909090909091\n",
      "perc gov: 0\n",
      "White Paper: How to Prevent Discriminatory Outcomes in Machine Learning\n",
      "86\n",
      "perc academic: 0.2857142857142857\n",
      "perc npo: 0.14285714285714285\n",
      "perc company: 0.42857142857142855\n",
      "perc gov: 0\n",
      "For a meaningful Artificial Intelligence. Towards a French and European Strategy\n",
      "88\n",
      "perc academic: 0.0\n",
      "perc npo: 0.0\n",
      "perc company: 0.0\n",
      "perc gov: 0\n",
      "EU guidelines on ethics\n",
      "in artificial intelligence:\n",
      "Context and implementation\n",
      "89\n",
      "perc academic: 0.0\n",
      "perc npo: 0.0\n",
      "perc company: 0.0\n",
      "perc gov: 0\n",
      "The Ethics of AI Ethics\n",
      "An Evaluation of Guidelines   \n",
      "91\n",
      "perc academic: 0\n",
      "perc npo: 0\n",
      "perc company: 0\n",
      "perc gov: 0\n",
      "Applied AI Ethics: Report 2019\n",
      "92\n",
      "perc academic: 0\n",
      "perc npo: 0\n",
      "perc company: 0\n",
      "perc gov: 0\n",
      "Artificial Intelligence, Governance and Ethics: Global Perspectives\n",
      "93\n",
      "perc academic: 0\n",
      "perc npo: 0\n",
      "perc company: 0\n",
      "perc gov: 0\n",
      "AI: Ethics into practice\n",
      "Steps to navigate emerging ethical issues\n",
      "95\n",
      "perc academic: 0.0\n",
      "perc npo: 0.0\n",
      "perc company: 0.0\n",
      "perc gov: 0\n",
      "Understanding Artificial Intelligence Ethics and Safety\n",
      "96\n",
      "perc academic: 1.0\n",
      "perc npo: 0.0\n",
      "perc company: 0.0\n",
      "perc gov: 0\n",
      "Ethics of AI Report\n",
      "97\n",
      "perc academic: 0.0\n",
      "perc npo: 0.0\n",
      "perc company: 0.0\n",
      "perc gov: 0\n",
      "Ethical and societal\n",
      "implications of algorithms,\n",
      "data, and artificial intelligence:\n",
      "a roadmap for research\n",
      "98\n",
      "perc academic: 0\n",
      "perc npo: 0\n",
      "perc company: 0\n",
      "perc gov: 0\n",
      "Artificial Intelligence in Japan: Industrial Cooperation and Business Opportunities for European Companies\n",
      "99\n",
      "perc academic: 0\n",
      "perc npo: 0\n",
      "perc company: 0\n",
      "perc gov: 0\n",
      "Human Rights and Technology: Discussion Paper\n",
      "100\n",
      "perc academic: 0.0\n",
      "perc npo: 0.0\n",
      "perc company: 0.0\n",
      "perc gov: 0\n",
      "Transforming healthcare with AI: The impact on the workforce and organisations\n",
      "102\n",
      "perc academic: 0.0\n",
      "perc npo: 0.0\n",
      "perc company: 0.0\n",
      "perc gov: 0\n",
      "Advancing AI ethics beyond compliance: From principles to practice\n",
      "105\n",
      "perc academic: 0.3333333333333333\n",
      "perc npo: 0.0\n",
      "perc company: 1.0\n",
      "perc gov: 0\n",
      "The ethics of artificial intelligence: Issues and Iniatives\n",
      "106\n",
      "perc academic: 1.0\n",
      "perc npo: 0.0\n",
      "perc company: 0.0\n",
      "perc gov: 0\n",
      "From Principles to Practice An interdisciplinary framework to operationalise AI ethics\n",
      "110\n",
      "perc academic: 0.0\n",
      "perc npo: 0.0\n",
      "perc company: 0.0\n",
      "perc gov: 0\n",
      "Artificial Intelligence Final Report\n",
      "111\n",
      "perc academic: 0\n",
      "perc npo: 0\n",
      "perc company: 0\n",
      "perc gov: 0\n"
     ]
    }
   ],
   "source": [
    "\"\"\"Create a table where each row is a document. \n",
    "Then, the percentage of authors that are affiliated to npo, governemental agency company, and academic are 4 columns of that table.\n",
    "We only display the documents who have multiple authors\"\"\"\n",
    "\n",
    "print(documents_with_authors.shape)\n",
    "doc_author_affiliations = pd.DataFrame(columns=['document', 'nb_authors', 'author_names', 'perc_academic', 'perc_gov', 'perc_npo', 'perc_company'])\n",
    "\n",
    "missing=0\n",
    "found=0\n",
    "for index, document in documents_with_authors.iterrows():\n",
    "    print(document['Original Title'])\n",
    "    #get the authors percentages\n",
    "    author_list = document[\"Authors\"]\n",
    "    authors = author_list.split(',')\n",
    "    authors = [author.strip() for author in authors]\n",
    "    \n",
    "    perc_academic = 0 \n",
    "    perc_npo=0\n",
    "    perc_company=0\n",
    "    perc_gov=0\n",
    "    print(index)\n",
    "    if index != 1:\n",
    "        author_length = len(authors)\n",
    "        for author in authors:\n",
    "            #print(author)\n",
    "        #retrieve the corresponding row in the authors table\n",
    "            author = author.rstrip()\n",
    "            if author in author_org_category[\"author\"].values:\n",
    "                #author_row = people_db[people_db['name'] == author].iloc[0]\n",
    "                #retrieve corresponding affiliation \n",
    "                author_aff = author_org_category[author_org_category['author'] == author]\n",
    "                academic_count=0\n",
    "                npo_count=0\n",
    "                company_count=0\n",
    "                gov_count=0\n",
    "                for i,aff_row in author_aff.iterrows():\n",
    "                    #print(author_aff)\n",
    "                    aff = aff_row['org_category']\n",
    "                    if aff == 'academic and research institute':\n",
    "                        academic_count = academic_count+1\n",
    "                    elif aff==\"npo\":\n",
    "                        npo_count=npo_count+1\n",
    "                    elif aff == \"company\":\n",
    "                        company_count= company_count+1\n",
    "                    elif aff =='governmental agency':\n",
    "                        gov_count = gov_count+1\n",
    "                        \n",
    "                #if the author has at least one affiliation from a certain category, add a 1 \n",
    "                if academic_count > 0:\n",
    "                    perc_academic =  perc_academic+1\n",
    "                if npo_count > 0 :\n",
    "                    perc_npo=perc_npo+1\n",
    "                if company_count >0:\n",
    "                    perc_company=perc_company+1\n",
    "                if gov_count>1:\n",
    "                    perc_gov = perc_gov +1\n",
    "                #print('perc academic: '+str(perc_academic))\n",
    "                #print('perc npo: '+str(perc_npo))\n",
    "                #print('perc company: '+str(perc_company))\n",
    "            \n",
    "            else:\n",
    "                author_length = author_length -1\n",
    "            \n",
    "        if author_length>=1:\n",
    "            perc_academic =  perc_academic/author_length\n",
    "            perc_npo=perc_npo/author_length\n",
    "            perc_company=perc_company/author_length\n",
    "            perc_goc = perc_gov/author_length\n",
    "\n",
    "            doc_author_affiliations = doc_author_affiliations.append({'document':document['Original Title'], \n",
    "                                                 'nb_authors':len(authors), \n",
    "                                                 'author_names':author_list,\n",
    "                                                 'perc_academic':perc_academic, \n",
    "                                                 'perc_gov':perc_gov,\n",
    "                                                 'perc_npo':perc_npo, \n",
    "                                                 'perc_company':perc_company}, ignore_index=True)\n",
    "        else:\n",
    "            doc_author_affiliations = doc_author_affiliations.append({'document':document['Original Title'], \n",
    "                                                 'nb_authors':len(authors), \n",
    "                                                 'author_names':author_list,\n",
    "                                                 'perc_academic':perc_academic, \n",
    "                                                 'perc_gov':perc_gov,\n",
    "                                                 'perc_npo':perc_npo, \n",
    "                                                 'perc_company':perc_company}, ignore_index=True)\n",
    "\n",
    "            #else:\n",
    "             #   perc_academic = 0\n",
    "              #  perc_npo=0\n",
    "               # perc_company=0\n",
    "        \n",
    "        #doc_author_affiliations = doc_author_affiliations.append({'document':document['Original Title'], \n",
    "         #                                                'nb_authors':len(authors), \n",
    "          #                                               'author_names':author_list,\n",
    "           #                                              'perc_academic':perc_academic, \n",
    "            #                                             'perc_npo':perc_npo, \n",
    "             #                                            'perc_company':perc_company}, ignore_index=True)\n",
    "\n",
    "        \n",
    "        print('perc academic: '+str(perc_academic))\n",
    "        print('perc npo: '+str(perc_npo))\n",
    "        print('perc company: '+str(perc_company))\n",
    "        print('perc gov: '+str(perc_gov))\n",
    "        \n",
    "        \n",
    "                "
   ]
  },
  {
   "cell_type": "code",
   "execution_count": 332,
   "metadata": {},
   "outputs": [
    {
     "name": "stdout",
     "output_type": "stream",
     "text": [
      "perc academic: 0.30385323488771765\n",
      "perc npo: 0.07324787281683834\n",
      "perc company: 0.11099843642947092\n",
      "perc gov : 0.017241379310344827\n"
     ]
    }
   ],
   "source": [
    "perc_academic_mean = doc_author_affiliations['perc_academic'].mean()\n",
    "perc_npo_mean = doc_author_affiliations['perc_npo'].mean()\n",
    "perc_company_mean = doc_author_affiliations['perc_company'].mean()\n",
    "perc_gov_mean = doc_author_affiliations['perc_gov'].mean()\n",
    "\n",
    "print('perc academic: '+str(perc_academic_mean))\n",
    "print('perc npo: '+str(perc_npo_mean))\n",
    "print('perc company: '+str(perc_company_mean))\n",
    "print('perc gov : '+str(perc_gov_mean))"
   ]
  },
  {
   "cell_type": "code",
   "execution_count": 333,
   "metadata": {},
   "outputs": [
    {
     "data": {
      "text/plain": [
       "<BarContainer object of 4 artists>"
      ]
     },
     "execution_count": 333,
     "metadata": {},
     "output_type": "execute_result"
    },
    {
     "data": {
      "image/png": "[encoded data removed]",
      "text/plain": [
       "<Figure size 432x288 with 1 Axes>"
      ]
     },
     "metadata": {
      "needs_background": "light"
     },
     "output_type": "display_data"
    }
   ],
   "source": [
    "#df.plot(x=\"X\", y=[\"A\", \"B\", \"C\"], kind=\"bar\")\n",
    "plt.bar(x=['perc_academic','perc_npo','perc_company', 'perc_gov'],height=[perc_academic_mean,perc_npo_mean ,perc_company_mean, perc_gov_mean])\n"
   ]
  },
  {
   "cell_type": "code",
   "execution_count": 302,
   "metadata": {},
   "outputs": [
    {
     "data": {
      "text/html": [
       "<div>\n",
       "<style scoped>\n",
       "    .dataframe tbody tr th:only-of-type {\n",
       "        vertical-align: middle;\n",
       "    }\n",
       "\n",
       "    .dataframe tbody tr th {\n",
       "        vertical-align: top;\n",
       "    }\n",
       "\n",
       "    .dataframe thead th {\n",
       "        text-align: right;\n",
       "    }\n",
       "</style>\n",
       "<table border=\"1\" class=\"dataframe\">\n",
       "  <thead>\n",
       "    <tr style=\"text-align: right;\">\n",
       "      <th></th>\n",
       "      <th>document</th>\n",
       "      <th>nb_authors</th>\n",
       "      <th>author_names</th>\n",
       "      <th>perc_academic</th>\n",
       "      <th>perc_gov</th>\n",
       "      <th>perc_npo</th>\n",
       "      <th>perc_company</th>\n",
       "    </tr>\n",
       "  </thead>\n",
       "  <tbody>\n",
       "    <tr>\n",
       "      <th>0</th>\n",
       "      <td>AI Now 2019 Report</td>\n",
       "      <td>16</td>\n",
       "      <td>Kate Crawford, Roel Dobbe, Theodora Dryer, Gen...</td>\n",
       "      <td>1.000000</td>\n",
       "      <td>0</td>\n",
       "      <td>0.000000</td>\n",
       "      <td>0.0</td>\n",
       "    </tr>\n",
       "    <tr>\n",
       "      <th>1</th>\n",
       "      <td>Understanding Artificial Intelligence Ethics a...</td>\n",
       "      <td>1</td>\n",
       "      <td>David Leslie</td>\n",
       "      <td>1.000000</td>\n",
       "      <td>0</td>\n",
       "      <td>0.000000</td>\n",
       "      <td>0.0</td>\n",
       "    </tr>\n",
       "    <tr>\n",
       "      <th>2</th>\n",
       "      <td>Artificial Intelligence: the global landscape ...</td>\n",
       "      <td>3</td>\n",
       "      <td>Anna Jobin, Marcello Ienca , Effy Vayena</td>\n",
       "      <td>1.000000</td>\n",
       "      <td>0</td>\n",
       "      <td>0.000000</td>\n",
       "      <td>0.0</td>\n",
       "    </tr>\n",
       "    <tr>\n",
       "      <th>3</th>\n",
       "      <td>Artificial Intelligence Ethics, governance and...</td>\n",
       "      <td>1</td>\n",
       "      <td>Andrea Renda</td>\n",
       "      <td>0.000000</td>\n",
       "      <td>0</td>\n",
       "      <td>0.000000</td>\n",
       "      <td>0.0</td>\n",
       "    </tr>\n",
       "    <tr>\n",
       "      <th>4</th>\n",
       "      <td>Relevance of Ethical Guidelines for Artificial...</td>\n",
       "      <td>3</td>\n",
       "      <td>Lea Rothenberger, Benjamin Fabian, Elmar Arunov</td>\n",
       "      <td>0.666667</td>\n",
       "      <td>0</td>\n",
       "      <td>0.333333</td>\n",
       "      <td>0.0</td>\n",
       "    </tr>\n",
       "  </tbody>\n",
       "</table>\n",
       "</div>"
      ],
      "text/plain": [
       "                                            document nb_authors  \\\n",
       "0                                 AI Now 2019 Report         16   \n",
       "1  Understanding Artificial Intelligence Ethics a...          1   \n",
       "2  Artificial Intelligence: the global landscape ...          3   \n",
       "3  Artificial Intelligence Ethics, governance and...          1   \n",
       "4  Relevance of Ethical Guidelines for Artificial...          3   \n",
       "\n",
       "                                        author_names  perc_academic perc_gov  \\\n",
       "0  Kate Crawford, Roel Dobbe, Theodora Dryer, Gen...       1.000000        0   \n",
       "1                                       David Leslie       1.000000        0   \n",
       "2           Anna Jobin, Marcello Ienca , Effy Vayena       1.000000        0   \n",
       "3                                      Andrea Renda        0.000000        0   \n",
       "4   Lea Rothenberger, Benjamin Fabian, Elmar Arunov        0.666667        0   \n",
       "\n",
       "   perc_npo  perc_company  \n",
       "0  0.000000           0.0  \n",
       "1  0.000000           0.0  \n",
       "2  0.000000           0.0  \n",
       "3  0.000000           0.0  \n",
       "4  0.333333           0.0  "
      ]
     },
     "execution_count": 302,
     "metadata": {},
     "output_type": "execute_result"
    }
   ],
   "source": [
    "doc_author_affiliations.head()"
   ]
  },
  {
   "cell_type": "markdown",
   "metadata": {},
   "source": [
    "## Question 4: For all documents whose issuing organization is public, look into the authors affiliation and see what percentage of authors have a link to a private sector."
   ]
  },
  {
   "cell_type": "markdown",
   "metadata": {},
   "source": [
    "## see my logic here under, important to read before looking at the numbers etc!"
   ]
  },
  {
   "cell_type": "markdown",
   "metadata": {},
   "source": [
    "there could be multiples instances of the same document. Indeed, there will be as many documentswith the same title as number of issuing organizations it has. In order not to bias our number, we consider a document to be issued by the public sector if at least one of its issuing organizations is from a public organisation (gov or academic), and none from a private organization"
   ]
  },
  {
   "cell_type": "code",
   "execution_count": 313,
   "metadata": {},
   "outputs": [
    {
     "data": {
      "text/html": [
       "<div>\n",
       "<style scoped>\n",
       "    .dataframe tbody tr th:only-of-type {\n",
       "        vertical-align: middle;\n",
       "    }\n",
       "\n",
       "    .dataframe tbody tr th {\n",
       "        vertical-align: top;\n",
       "    }\n",
       "\n",
       "    .dataframe thead th {\n",
       "        text-align: right;\n",
       "    }\n",
       "</style>\n",
       "<table border=\"1\" class=\"dataframe\">\n",
       "  <thead>\n",
       "    <tr style=\"text-align: right;\">\n",
       "      <th></th>\n",
       "      <th>document</th>\n",
       "      <th>organisation</th>\n",
       "      <th>org_category</th>\n",
       "    </tr>\n",
       "  </thead>\n",
       "  <tbody>\n",
       "    <tr>\n",
       "      <th>0</th>\n",
       "      <td>AI Now 2019 Report</td>\n",
       "      <td>AI Now Institute</td>\n",
       "      <td>academic and research institute</td>\n",
       "    </tr>\n",
       "    <tr>\n",
       "      <th>1</th>\n",
       "      <td>Ethics Guidelines for Trustoworthy AI</td>\n",
       "      <td>High-Level Expert Group on Artificial Intellig...</td>\n",
       "      <td>igo</td>\n",
       "    </tr>\n",
       "    <tr>\n",
       "      <th>2</th>\n",
       "      <td>Understanding Artificial Intelligence Ethics a...</td>\n",
       "      <td>The Alan Turing Institute</td>\n",
       "      <td>academic and research institute</td>\n",
       "    </tr>\n",
       "    <tr>\n",
       "      <th>3</th>\n",
       "      <td>Artificial Intelligence: the global landscape ...</td>\n",
       "      <td>Health Ethics &amp; Policy Law</td>\n",
       "      <td>academic and research institute</td>\n",
       "    </tr>\n",
       "    <tr>\n",
       "      <th>4</th>\n",
       "      <td>Draft AI R&amp;D Guidelines for International Disc...</td>\n",
       "      <td>Institute for Information and Communications P...</td>\n",
       "      <td>governmental agency</td>\n",
       "    </tr>\n",
       "  </tbody>\n",
       "</table>\n",
       "</div>"
      ],
      "text/plain": [
       "                                            document  \\\n",
       "0                                 AI Now 2019 Report   \n",
       "1              Ethics Guidelines for Trustoworthy AI   \n",
       "2  Understanding Artificial Intelligence Ethics a...   \n",
       "3  Artificial Intelligence: the global landscape ...   \n",
       "4  Draft AI R&D Guidelines for International Disc...   \n",
       "\n",
       "                                        organisation  \\\n",
       "0                                   AI Now Institute   \n",
       "1  High-Level Expert Group on Artificial Intellig...   \n",
       "2                          The Alan Turing Institute   \n",
       "3                         Health Ethics & Policy Law   \n",
       "4  Institute for Information and Communications P...   \n",
       "\n",
       "                      org_category  \n",
       "0  academic and research institute  \n",
       "1                              igo  \n",
       "2  academic and research institute  \n",
       "3  academic and research institute  \n",
       "4              governmental agency  "
      ]
     },
     "execution_count": 313,
     "metadata": {},
     "output_type": "execute_result"
    }
   ],
   "source": [
    "doc_org_category.head()"
   ]
  },
  {
   "cell_type": "code",
   "execution_count": 322,
   "metadata": {},
   "outputs": [
    {
     "name": "stdout",
     "output_type": "stream",
     "text": [
      "(67, 3)\n",
      "['The responsible AI framework', 'Responsible AI and robotics. An ethical framework', 'Everyday Ethics for Artificial Intelligence', \"SAP's Guiding Principles for Artificial Intelligence\", 'AI Principles of Telefónica', 'Artificial Intelligence at Google: Our Principles', 'Introducing Unity’s Guiding Principles for Ethical AI', 'Ethical Principles for Artificial Intelligence and Data Analytics', 'DeepMind Ethics &\\nSociety Principles', 'AI Guidelines', \"IBM's Principles for Trust and Transparency\", 'Artificial Intelligence in financial services', 'Advancing AI ethics beyond compliance: From principles to practice', 'Living in an AI World 2020 Achievement and Challenges of Artificial Intelligence Across Five industries', \"Ethics Review of Machine Learning in Children's Social Care\"]\n",
      "(67, 3)\n"
     ]
    }
   ],
   "source": [
    "#make sure that the column has be set to lower case already! (otherwise this will not work)\n",
    "doc_from_public = doc_org_category.loc[doc_org_category[\"org_category\"].isin(['academic and research institute','npo', 'governmental agency'])]\n",
    "print(doc_from_public.shape)\n",
    "#delete any of these documents if there is also a row in the table where they were linked to an issuing organizartion that is a company\n",
    "private_titles = list(doc_org_category[doc_org_category['org_category'] == 'company'].document.values)\n",
    "print(private_titles)\n",
    "doc_from_public = doc_from_public[~doc_from_public['document'].isin(private_titles)]\n",
    "print(doc_from_public.shape)"
   ]
  },
  {
   "cell_type": "code",
   "execution_count": 324,
   "metadata": {},
   "outputs": [
    {
     "name": "stdout",
     "output_type": "stream",
     "text": [
      "(56, 3)\n"
     ]
    }
   ],
   "source": [
    "doc_from_public = doc_from_public.drop_duplicates(subset='document', keep='first')\n",
    "print(doc_from_public.shape)"
   ]
  },
  {
   "cell_type": "code",
   "execution_count": 336,
   "metadata": {},
   "outputs": [
    {
     "name": "stdout",
     "output_type": "stream",
     "text": [
      "found: 30\n",
      "no authors (non disclosed): 26\n",
      "perc acc 0.4381974506974507\n",
      "perc npo: 0.1416125541125541\n",
      "perc company: 0.10690466940466939\n",
      "perc gov: 0.03333333333333333\n"
     ]
    }
   ],
   "source": [
    "perc_ac_list=list()\n",
    "perc_npo_list=list()\n",
    "perc_company_list=list()\n",
    "perc_gov_list=list()\n",
    "\n",
    "found=0\n",
    "missing=0 \n",
    "\n",
    "perc_ac =0\n",
    "perc_npo=0\n",
    "perc_company=0\n",
    "perc_gov = 0\n",
    "\n",
    "for i, doc in doc_from_public.iterrows():\n",
    "    #print(doc['document'])\n",
    "\n",
    "    if doc['document'] in doc_author_affiliations['document'].values:\n",
    "        found =found+1\n",
    "        #find that document in the doc_author_affiliation table\n",
    "        doc_author_row = doc_author_affiliations[doc_author_affiliations['document'] == doc['document']].iloc[0]\n",
    "        perc_ac =perc_ac+doc_author_row['perc_academic']\n",
    "        perc_npo= perc_npo + doc_author_row['perc_npo']\n",
    "        perc_company=  perc_company + doc_author_row['perc_company']\n",
    "        perc_gov = perc_gov + doc_author_row['perc_gov']\n",
    "    else:\n",
    "        #print(doc['document'])\n",
    "        #this happens because the document didnt have authors\n",
    "        missing = missing +1\n",
    "print('found: '+str(found))\n",
    "print('no authors (non disclosed): '+str(missing))\n",
    "\n",
    "perc_ac =perc_ac/found\n",
    "perc_npo=perc_npo/found\n",
    "perc_company=perc_company/found\n",
    "perc_gov = perc_gov/found\n",
    "\n",
    "print('perc acc '+str(perc_ac))\n",
    "print('perc npo: '+str(perc_npo))\n",
    "print('perc company: '+str(perc_company))\n",
    "print('perc gov: '+str(perc_gov))"
   ]
  },
  {
   "cell_type": "code",
   "execution_count": 337,
   "metadata": {},
   "outputs": [
    {
     "data": {
      "text/plain": [
       "<BarContainer object of 3 artists>"
      ]
     },
     "execution_count": 337,
     "metadata": {},
     "output_type": "execute_result"
    },
    {
     "data": {
      "image/png": "[encoded data removed]",
      "text/plain": [
       "<Figure size 432x288 with 1 Axes>"
      ]
     },
     "metadata": {
      "needs_background": "light"
     },
     "output_type": "display_data"
    }
   ],
   "source": [
    "plt.bar(x=['perc_academic','perc_npo','perc_company'],height=[perc_ac,perc_npo ,perc_company])\n"
   ]
  },
  {
   "cell_type": "code",
   "execution_count": null,
   "metadata": {},
   "outputs": [],
   "source": []
  }
 ],
 "metadata": {
  "kernelspec": {
   "display_name": "Python 3",
   "language": "python",
   "name": "python3"
  },
  "language_info": {
   "codemirror_mode": {
    "name": "ipython",
    "version": 3
   },
   "file_extension": ".py",
   "mimetype": "text/x-python",
   "name": "python",
   "nbconvert_exporter": "python",
   "pygments_lexer": "ipython3",
   "version": "3.8.2"
  }
 },
 "nbformat": 4,
 "nbformat_minor": 4
}
